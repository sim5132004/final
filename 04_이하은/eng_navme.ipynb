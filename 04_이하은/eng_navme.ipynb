{
 "cells": [
  {
   "cell_type": "code",
   "execution_count": 115,
   "id": "3ba46314",
   "metadata": {
    "ExecuteTime": {
     "end_time": "2023-08-23T08:55:06.935646Z",
     "start_time": "2023-08-23T08:55:06.918663Z"
    }
   },
   "outputs": [],
   "source": [
    "from selenium import webdriver\n",
    "import pandas as pd"
   ]
  },
  {
   "cell_type": "code",
   "execution_count": 116,
   "id": "dd2ed885",
   "metadata": {
    "ExecuteTime": {
     "end_time": "2023-08-23T08:55:07.446936Z",
     "start_time": "2023-08-23T08:55:07.429703Z"
    }
   },
   "outputs": [],
   "source": [
    "from selenium.webdriver.common.by import By"
   ]
  },
  {
   "cell_type": "code",
   "execution_count": 117,
   "id": "6bf69afb",
   "metadata": {
    "ExecuteTime": {
     "end_time": "2023-08-23T08:55:08.128766Z",
     "start_time": "2023-08-23T08:55:08.109691Z"
    }
   },
   "outputs": [],
   "source": [
    "from selenium.webdriver.common.keys import Keys\n",
    "import time\n",
    "from selenium.webdriver.support.ui import WebDriverWait"
   ]
  },
  {
   "cell_type": "code",
   "execution_count": 118,
   "id": "f11ada46",
   "metadata": {
    "ExecuteTime": {
     "end_time": "2023-08-23T08:55:34.082734Z",
     "start_time": "2023-08-23T08:55:08.782591Z"
    }
   },
   "outputs": [],
   "source": [
    "# 크롤링할 페이지 URL (인터파크)\n",
    "driver = webdriver.Chrome()\n",
    "url = 'http://ticket.interpark.com/TiKi/Special/TPRegionReserve.asp?Region=42011&RegionName=%C0%CE%C3%B5'\n",
    "driver.get(url)"
   ]
  },
  {
   "cell_type": "code",
   "execution_count": 119,
   "id": "e490f1f4",
   "metadata": {
    "ExecuteTime": {
     "end_time": "2023-08-23T08:55:34.097690Z",
     "start_time": "2023-08-23T08:55:34.085721Z"
    }
   },
   "outputs": [],
   "source": [
    "# for option_value in [\"Option1\", \"Option2\", \"Option3\"]:\n",
    "#     # 옵션을 클릭 (옵션은 웹 페이지에 따라 다를 수 있음)\n",
    "#     option_element = driver.find_element_by_xpath(\"//select[@id='dropdown']/option[@value='\" + option_value + \"']\")\n",
    "#     option_element.click()"
   ]
  },
  {
   "cell_type": "code",
   "execution_count": 120,
   "id": "a34cab61",
   "metadata": {
    "ExecuteTime": {
     "end_time": "2023-08-23T08:55:34.113647Z",
     "start_time": "2023-08-23T08:55:34.100682Z"
    }
   },
   "outputs": [],
   "source": [
    "xx=f'//*[@id=\"wrapBody\"]/div[2]/div[2]/div[2]/div/div[2]/div[3]/div[{i}]/dl/dd[1]/a/img'"
   ]
  },
  {
   "cell_type": "code",
   "execution_count": 121,
   "id": "cf2b1ff9",
   "metadata": {
    "ExecuteTime": {
     "end_time": "2023-08-23T08:55:34.144919Z",
     "start_time": "2023-08-23T08:55:34.116638Z"
    }
   },
   "outputs": [],
   "source": [
    "elements = driver.find_elements(By.XPATH, xx)"
   ]
  },
  {
   "cell_type": "code",
   "execution_count": 122,
   "id": "d25cf441",
   "metadata": {
    "ExecuteTime": {
     "end_time": "2023-08-23T08:55:34.160843Z",
     "start_time": "2023-08-23T08:55:34.147878Z"
    }
   },
   "outputs": [
    {
     "data": {
      "text/plain": [
       "[]"
      ]
     },
     "execution_count": 122,
     "metadata": {},
     "output_type": "execute_result"
    }
   ],
   "source": [
    "elements"
   ]
  },
  {
   "cell_type": "code",
   "execution_count": 125,
   "id": "bd96816c",
   "metadata": {
    "ExecuteTime": {
     "end_time": "2023-08-23T08:55:56.046127Z",
     "start_time": "2023-08-23T08:55:55.967382Z"
    }
   },
   "outputs": [
    {
     "ename": "NoSuchElementException",
     "evalue": "Message: no such element: Unable to locate element: {\"method\":\"xpath\",\"selector\":\"//*[@id=\"wrapBody\"]/div[2]/div[2]/div[2]/div/div[2]/div[3]/div[1]/dl/dd[1]/a/img\"}\n  (Session info: chrome=116.0.5845.111); For documentation on this error, please visit: https://www.selenium.dev/documentation/webdriver/troubleshooting/errors#no-such-element-exception\nStacktrace:\n\tGetHandleVerifier [0x00007FF7C3B852A2+57122]\n\t(No symbol) [0x00007FF7C3AFEA92]\n\t(No symbol) [0x00007FF7C39CE3AB]\n\t(No symbol) [0x00007FF7C3A07D3E]\n\t(No symbol) [0x00007FF7C3A07E2C]\n\t(No symbol) [0x00007FF7C3A40B67]\n\t(No symbol) [0x00007FF7C3A2701F]\n\t(No symbol) [0x00007FF7C3A3EB82]\n\t(No symbol) [0x00007FF7C3A26DB3]\n\t(No symbol) [0x00007FF7C39FD2B1]\n\t(No symbol) [0x00007FF7C39FE494]\n\tGetHandleVerifier [0x00007FF7C3E2EF82+2849794]\n\tGetHandleVerifier [0x00007FF7C3E81D24+3189156]\n\tGetHandleVerifier [0x00007FF7C3E7ACAF+3160367]\n\tGetHandleVerifier [0x00007FF7C3C16D06+653702]\n\t(No symbol) [0x00007FF7C3B0A208]\n\t(No symbol) [0x00007FF7C3B062C4]\n\t(No symbol) [0x00007FF7C3B063F6]\n\t(No symbol) [0x00007FF7C3AF67A3]\n\tBaseThreadInitThunk [0x00007FFD7FBE7614+20]\n\tRtlUserThreadStart [0x00007FFD805626B1+33]\n",
     "output_type": "error",
     "traceback": [
      "\u001b[1;31m---------------------------------------------------------------------------\u001b[0m",
      "\u001b[1;31mNoSuchElementException\u001b[0m                    Traceback (most recent call last)",
      "Cell \u001b[1;32mIn[125], line 3\u001b[0m\n\u001b[0;32m      1\u001b[0m \u001b[38;5;28;01mfor\u001b[39;00m i \u001b[38;5;129;01min\u001b[39;00m \u001b[38;5;28mrange\u001b[39m(\u001b[38;5;241m10\u001b[39m):\n\u001b[0;32m      2\u001b[0m     xx\u001b[38;5;241m=\u001b[39m\u001b[38;5;124mf\u001b[39m\u001b[38;5;124m'\u001b[39m\u001b[38;5;124m//*[@id=\u001b[39m\u001b[38;5;124m\"\u001b[39m\u001b[38;5;124mwrapBody\u001b[39m\u001b[38;5;124m\"\u001b[39m\u001b[38;5;124m]/div[2]/div[2]/div[2]/div/div[2]/div[3]/div[\u001b[39m\u001b[38;5;132;01m{\u001b[39;00mi\u001b[38;5;241m+\u001b[39m\u001b[38;5;241m1\u001b[39m\u001b[38;5;132;01m}\u001b[39;00m\u001b[38;5;124m]/dl/dd[1]/a/img\u001b[39m\u001b[38;5;124m'\u001b[39m\n\u001b[1;32m----> 3\u001b[0m     \u001b[43mdriver\u001b[49m\u001b[38;5;241;43m.\u001b[39;49m\u001b[43mfind_element\u001b[49m\u001b[43m(\u001b[49m\u001b[43mBy\u001b[49m\u001b[38;5;241;43m.\u001b[39;49m\u001b[43mXPATH\u001b[49m\u001b[43m,\u001b[49m\u001b[43m \u001b[49m\u001b[43mxx\u001b[49m\u001b[43m)\u001b[49m\u001b[38;5;241m.\u001b[39mclick()\n",
      "File \u001b[1;32m~\\anaconda3\\lib\\site-packages\\selenium\\webdriver\\remote\\webdriver.py:739\u001b[0m, in \u001b[0;36mWebDriver.find_element\u001b[1;34m(self, by, value)\u001b[0m\n\u001b[0;32m    736\u001b[0m     by \u001b[38;5;241m=\u001b[39m By\u001b[38;5;241m.\u001b[39mCSS_SELECTOR\n\u001b[0;32m    737\u001b[0m     value \u001b[38;5;241m=\u001b[39m \u001b[38;5;124mf\u001b[39m\u001b[38;5;124m'\u001b[39m\u001b[38;5;124m[name=\u001b[39m\u001b[38;5;124m\"\u001b[39m\u001b[38;5;132;01m{\u001b[39;00mvalue\u001b[38;5;132;01m}\u001b[39;00m\u001b[38;5;124m\"\u001b[39m\u001b[38;5;124m]\u001b[39m\u001b[38;5;124m'\u001b[39m\n\u001b[1;32m--> 739\u001b[0m \u001b[38;5;28;01mreturn\u001b[39;00m \u001b[38;5;28;43mself\u001b[39;49m\u001b[38;5;241;43m.\u001b[39;49m\u001b[43mexecute\u001b[49m\u001b[43m(\u001b[49m\u001b[43mCommand\u001b[49m\u001b[38;5;241;43m.\u001b[39;49m\u001b[43mFIND_ELEMENT\u001b[49m\u001b[43m,\u001b[49m\u001b[43m \u001b[49m\u001b[43m{\u001b[49m\u001b[38;5;124;43m\"\u001b[39;49m\u001b[38;5;124;43musing\u001b[39;49m\u001b[38;5;124;43m\"\u001b[39;49m\u001b[43m:\u001b[49m\u001b[43m \u001b[49m\u001b[43mby\u001b[49m\u001b[43m,\u001b[49m\u001b[43m \u001b[49m\u001b[38;5;124;43m\"\u001b[39;49m\u001b[38;5;124;43mvalue\u001b[39;49m\u001b[38;5;124;43m\"\u001b[39;49m\u001b[43m:\u001b[49m\u001b[43m \u001b[49m\u001b[43mvalue\u001b[49m\u001b[43m}\u001b[49m\u001b[43m)\u001b[49m[\u001b[38;5;124m\"\u001b[39m\u001b[38;5;124mvalue\u001b[39m\u001b[38;5;124m\"\u001b[39m]\n",
      "File \u001b[1;32m~\\anaconda3\\lib\\site-packages\\selenium\\webdriver\\remote\\webdriver.py:345\u001b[0m, in \u001b[0;36mWebDriver.execute\u001b[1;34m(self, driver_command, params)\u001b[0m\n\u001b[0;32m    343\u001b[0m response \u001b[38;5;241m=\u001b[39m \u001b[38;5;28mself\u001b[39m\u001b[38;5;241m.\u001b[39mcommand_executor\u001b[38;5;241m.\u001b[39mexecute(driver_command, params)\n\u001b[0;32m    344\u001b[0m \u001b[38;5;28;01mif\u001b[39;00m response:\n\u001b[1;32m--> 345\u001b[0m     \u001b[38;5;28;43mself\u001b[39;49m\u001b[38;5;241;43m.\u001b[39;49m\u001b[43merror_handler\u001b[49m\u001b[38;5;241;43m.\u001b[39;49m\u001b[43mcheck_response\u001b[49m\u001b[43m(\u001b[49m\u001b[43mresponse\u001b[49m\u001b[43m)\u001b[49m\n\u001b[0;32m    346\u001b[0m     response[\u001b[38;5;124m\"\u001b[39m\u001b[38;5;124mvalue\u001b[39m\u001b[38;5;124m\"\u001b[39m] \u001b[38;5;241m=\u001b[39m \u001b[38;5;28mself\u001b[39m\u001b[38;5;241m.\u001b[39m_unwrap_value(response\u001b[38;5;241m.\u001b[39mget(\u001b[38;5;124m\"\u001b[39m\u001b[38;5;124mvalue\u001b[39m\u001b[38;5;124m\"\u001b[39m, \u001b[38;5;28;01mNone\u001b[39;00m))\n\u001b[0;32m    347\u001b[0m     \u001b[38;5;28;01mreturn\u001b[39;00m response\n",
      "File \u001b[1;32m~\\anaconda3\\lib\\site-packages\\selenium\\webdriver\\remote\\errorhandler.py:229\u001b[0m, in \u001b[0;36mErrorHandler.check_response\u001b[1;34m(self, response)\u001b[0m\n\u001b[0;32m    227\u001b[0m         alert_text \u001b[38;5;241m=\u001b[39m value[\u001b[38;5;124m\"\u001b[39m\u001b[38;5;124malert\u001b[39m\u001b[38;5;124m\"\u001b[39m]\u001b[38;5;241m.\u001b[39mget(\u001b[38;5;124m\"\u001b[39m\u001b[38;5;124mtext\u001b[39m\u001b[38;5;124m\"\u001b[39m)\n\u001b[0;32m    228\u001b[0m     \u001b[38;5;28;01mraise\u001b[39;00m exception_class(message, screen, stacktrace, alert_text)  \u001b[38;5;66;03m# type: ignore[call-arg]  # mypy is not smart enough here\u001b[39;00m\n\u001b[1;32m--> 229\u001b[0m \u001b[38;5;28;01mraise\u001b[39;00m exception_class(message, screen, stacktrace)\n",
      "\u001b[1;31mNoSuchElementException\u001b[0m: Message: no such element: Unable to locate element: {\"method\":\"xpath\",\"selector\":\"//*[@id=\"wrapBody\"]/div[2]/div[2]/div[2]/div/div[2]/div[3]/div[1]/dl/dd[1]/a/img\"}\n  (Session info: chrome=116.0.5845.111); For documentation on this error, please visit: https://www.selenium.dev/documentation/webdriver/troubleshooting/errors#no-such-element-exception\nStacktrace:\n\tGetHandleVerifier [0x00007FF7C3B852A2+57122]\n\t(No symbol) [0x00007FF7C3AFEA92]\n\t(No symbol) [0x00007FF7C39CE3AB]\n\t(No symbol) [0x00007FF7C3A07D3E]\n\t(No symbol) [0x00007FF7C3A07E2C]\n\t(No symbol) [0x00007FF7C3A40B67]\n\t(No symbol) [0x00007FF7C3A2701F]\n\t(No symbol) [0x00007FF7C3A3EB82]\n\t(No symbol) [0x00007FF7C3A26DB3]\n\t(No symbol) [0x00007FF7C39FD2B1]\n\t(No symbol) [0x00007FF7C39FE494]\n\tGetHandleVerifier [0x00007FF7C3E2EF82+2849794]\n\tGetHandleVerifier [0x00007FF7C3E81D24+3189156]\n\tGetHandleVerifier [0x00007FF7C3E7ACAF+3160367]\n\tGetHandleVerifier [0x00007FF7C3C16D06+653702]\n\t(No symbol) [0x00007FF7C3B0A208]\n\t(No symbol) [0x00007FF7C3B062C4]\n\t(No symbol) [0x00007FF7C3B063F6]\n\t(No symbol) [0x00007FF7C3AF67A3]\n\tBaseThreadInitThunk [0x00007FFD7FBE7614+20]\n\tRtlUserThreadStart [0x00007FFD805626B1+33]\n"
     ]
    }
   ],
   "source": [
    "for i in range(10):\n",
    "    xx=f'//*[@id=\"wrapBody\"]/div[2]/div[2]/div[2]/div/div[2]/div[3]/div[{i+1}]/dl/dd[1]/a/img'\n",
    "    driver.find_element(By.XPATH, xx).click()"
   ]
  },
  {
   "cell_type": "code",
   "execution_count": 126,
   "id": "97f2d706",
   "metadata": {
    "ExecuteTime": {
     "end_time": "2023-08-23T08:56:00.992595Z",
     "start_time": "2023-08-23T08:56:00.974617Z"
    }
   },
   "outputs": [],
   "source": [
    "img_x='//*[@id=\"container\"]/div[5]/div[1]/div[2]/div[1]/div/div[2]/div/div[1]/img'"
   ]
  },
  {
   "cell_type": "code",
   "execution_count": null,
   "id": "ffd5c37e",
   "metadata": {
    "ExecuteTime": {
     "end_time": "2023-08-23T08:55:34.772927Z",
     "start_time": "2023-08-23T08:55:34.772927Z"
    }
   },
   "outputs": [],
   "source": [
    "img_element = driver.find_elements(By.XPATH, img_x)"
   ]
  },
  {
   "cell_type": "code",
   "execution_count": 57,
   "id": "933deaf3",
   "metadata": {
    "ExecuteTime": {
     "end_time": "2023-08-23T07:05:09.338399Z",
     "start_time": "2023-08-23T07:05:09.330422Z"
    }
   },
   "outputs": [
    {
     "data": {
      "text/plain": [
       "<selenium.webdriver.remote.webelement.WebElement (session=\"0306644ecd0a26d4f94e3cf83b2b055d\", element=\"966CFCB73A6211EBB3BA8F89CAFDFB65_element_13\")>"
      ]
     },
     "execution_count": 57,
     "metadata": {},
     "output_type": "execute_result"
    }
   ],
   "source": [
    "img_element[0]"
   ]
  },
  {
   "cell_type": "code",
   "execution_count": 64,
   "id": "9b9d01b4",
   "metadata": {
    "ExecuteTime": {
     "end_time": "2023-08-23T07:08:40.219644Z",
     "start_time": "2023-08-23T07:08:40.203282Z"
    }
   },
   "outputs": [],
   "source": [
    "text_src = '//*[@id=\"container\"]/div[5]/div[1]/div[2]/div[1]/div'"
   ]
  },
  {
   "cell_type": "code",
   "execution_count": 65,
   "id": "62c99eed",
   "metadata": {
    "ExecuteTime": {
     "end_time": "2023-08-23T07:08:40.917268Z",
     "start_time": "2023-08-23T07:08:40.890285Z"
    }
   },
   "outputs": [],
   "source": [
    "text_src_element=driver.find_elements(By.XPATH, text_src)"
   ]
  },
  {
   "cell_type": "code",
   "execution_count": 66,
   "id": "d6bffce9",
   "metadata": {
    "ExecuteTime": {
     "end_time": "2023-08-23T07:08:41.551862Z",
     "start_time": "2023-08-23T07:08:41.498396Z"
    }
   },
   "outputs": [
    {
     "data": {
      "text/plain": [
       "'예매대기\\n\\n\\n\\n\\n\\n\\n\\n\\n\\n\\n\\n\\n\\n\\n\\n뮤지컬\\n2023 가족마술콘서트〈익스트림매직쇼〉 - 인천\\n마술쇼\\n티켓캐스트\\n\\n1\\n페이스북 공유\\n트위터 공유\\n장소인천문화예술회관 소공연장(자세히)\\n공연기간\\n2023.09.09\\n공연시간\\n60분\\n관람연령\\n24개월이상 관람가능\\n가격\\n전체가격보기 (자세히)\\n전석\\n35,000원\\n혜택무이자할부(자세히)\\n\\n놀포인트 NOL카드로 최대 7만원 혜택 받기\\n토핑 가입하고 중복할인 쿠폰받기\\n[AD] SKT 고객전용 특별할인! 12,000원 쿠폰받기\\n[AD] 티켓할인쿠폰 마감임박! 11,000원 쿠폰받기\\n[AD] 티켓 10,000원 할인쿠폰! 예매전 즉시 할인받기\\n[AD] 티켓 3천원 할인쿠폰 + 편의점 6천원 증정\\n// 쿠폰 다운로드 리스트 : 기획 확인 필요 // promotion api > 프로모션은 장르별 노출, 테스트 시 참고'"
      ]
     },
     "execution_count": 66,
     "metadata": {},
     "output_type": "execute_result"
    }
   ],
   "source": [
    "text_src_element[0].text"
   ]
  },
  {
   "cell_type": "code",
   "execution_count": 67,
   "id": "6b307e66",
   "metadata": {
    "ExecuteTime": {
     "end_time": "2023-08-23T07:08:46.245900Z",
     "start_time": "2023-08-23T07:08:46.226978Z"
    }
   },
   "outputs": [
    {
     "ename": "SyntaxError",
     "evalue": "invalid syntax (3220236241.py, line 1)",
     "output_type": "error",
     "traceback": [
      "\u001b[1;36m  Cell \u001b[1;32mIn[67], line 1\u001b[1;36m\u001b[0m\n\u001b[1;33m    df=\u001b[0m\n\u001b[1;37m       ^\u001b[0m\n\u001b[1;31mSyntaxError\u001b[0m\u001b[1;31m:\u001b[0m invalid syntax\n"
     ]
    }
   ],
   "source": [
    "# df={'제목':[2023 가족마술콘서트〈익스트림매직쇼],\n",
    "#    '장소':[인천문화예술회관 소공연장]}"
   ]
  },
  {
   "cell_type": "code",
   "execution_count": 45,
   "id": "6384affe",
   "metadata": {
    "ExecuteTime": {
     "end_time": "2023-08-23T06:56:23.295056Z",
     "start_time": "2023-08-23T06:56:23.266071Z"
    }
   },
   "outputs": [
    {
     "ename": "AttributeError",
     "evalue": "'list' object has no attribute 'to_csv'",
     "output_type": "error",
     "traceback": [
      "\u001b[1;31m---------------------------------------------------------------------------\u001b[0m",
      "\u001b[1;31mAttributeError\u001b[0m                            Traceback (most recent call last)",
      "Cell \u001b[1;32mIn[45], line 1\u001b[0m\n\u001b[1;32m----> 1\u001b[0m \u001b[43mtext_src_element\u001b[49m\u001b[38;5;241;43m.\u001b[39;49m\u001b[43mto_csv\u001b[49m(\u001b[38;5;124m\"\u001b[39m\u001b[38;5;124m테스트용.csv\u001b[39m\u001b[38;5;124m\"\u001b[39m, encoding\u001b[38;5;241m=\u001b[39m\u001b[38;5;124m'\u001b[39m\u001b[38;5;124mutf-8-sig\u001b[39m\u001b[38;5;124m'\u001b[39m)\n",
      "\u001b[1;31mAttributeError\u001b[0m: 'list' object has no attribute 'to_csv'"
     ]
    }
   ],
   "source": [
    "text_src_element.to_csv(\"테스트용.csv\", encoding='utf-8-sig')"
   ]
  },
  {
   "cell_type": "code",
   "execution_count": null,
   "id": "0fb6b6ed",
   "metadata": {},
   "outputs": [],
   "source": []
  }
 ],
 "metadata": {
  "kernelspec": {
   "display_name": "Python 3 (ipykernel)",
   "language": "python",
   "name": "python3"
  },
  "language_info": {
   "codemirror_mode": {
    "name": "ipython",
    "version": 3
   },
   "file_extension": ".py",
   "mimetype": "text/x-python",
   "name": "python",
   "nbconvert_exporter": "python",
   "pygments_lexer": "ipython3",
   "version": "3.10.11"
  }
 },
 "nbformat": 4,
 "nbformat_minor": 5
}
