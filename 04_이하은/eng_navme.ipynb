{
 "cells": [
  {
   "cell_type": "code",
   "execution_count": 46,
   "id": "3ba46314",
   "metadata": {
    "ExecuteTime": {
     "end_time": "2023-08-23T07:04:48.718270Z",
     "start_time": "2023-08-23T07:04:45.884431Z"
    }
   },
   "outputs": [],
   "source": [
    "from selenium import webdriver\n",
    "import pandas as pd"
   ]
  },
  {
   "cell_type": "code",
   "execution_count": 47,
   "id": "dd2ed885",
   "metadata": {
    "ExecuteTime": {
     "end_time": "2023-08-23T07:04:48.734229Z",
     "start_time": "2023-08-23T07:04:48.721265Z"
    }
   },
   "outputs": [],
   "source": [
    "from selenium.webdriver.common.by import By"
   ]
  },
  {
   "cell_type": "code",
   "execution_count": 48,
   "id": "6bf69afb",
   "metadata": {
    "ExecuteTime": {
     "end_time": "2023-08-23T07:04:48.750267Z",
     "start_time": "2023-08-23T07:04:48.737222Z"
    }
   },
   "outputs": [],
   "source": [
    "from selenium.webdriver.common.keys import Keys\n",
    "import time\n",
    "from selenium.webdriver.support.ui import WebDriverWait"
   ]
  },
  {
   "cell_type": "code",
   "execution_count": 49,
   "id": "f11ada46",
   "metadata": {
    "ExecuteTime": {
     "end_time": "2023-08-23T07:04:53.166486Z",
     "start_time": "2023-08-23T07:04:48.753249Z"
    }
   },
   "outputs": [],
   "source": [
    "# 크롤링할 페이지 URL (인터파크)\n",
    "driver = webdriver.Chrome()\n",
    "url = 'http://ticket.interpark.com/TiKi/Special/TPRegionReserve.asp?Region=42011&RegionName=%C0%CE%C3%B5'\n",
    "driver.get(url)"
   ]
  },
  {
   "cell_type": "code",
   "execution_count": 50,
   "id": "e490f1f4",
   "metadata": {
    "ExecuteTime": {
     "end_time": "2023-08-23T07:04:53.182484Z",
     "start_time": "2023-08-23T07:04:53.170476Z"
    }
   },
   "outputs": [],
   "source": [
    "# for option_value in [\"Option1\", \"Option2\", \"Option3\"]:\n",
    "#     # 옵션을 클릭 (옵션은 웹 페이지에 따라 다를 수 있음)\n",
    "#     option_element = driver.find_element_by_xpath(\"//select[@id='dropdown']/option[@value='\" + option_value + \"']\")\n",
    "#     option_element.click()"
   ]
  },
  {
   "cell_type": "code",
   "execution_count": 51,
   "id": "a34cab61",
   "metadata": {
    "ExecuteTime": {
     "end_time": "2023-08-23T07:04:53.198494Z",
     "start_time": "2023-08-23T07:04:53.184479Z"
    }
   },
   "outputs": [],
   "source": [
    "xx='//*[@id=\"wrapBody\"]/div[2]/div[2]/div[2]/div/div[2]/div[3]/div[1]/dl/dd[1]/a/img'"
   ]
  },
  {
   "cell_type": "code",
   "execution_count": 52,
   "id": "cf2b1ff9",
   "metadata": {
    "ExecuteTime": {
     "end_time": "2023-08-23T07:04:53.245386Z",
     "start_time": "2023-08-23T07:04:53.202480Z"
    }
   },
   "outputs": [],
   "source": [
    "elements = driver.find_elements(By.XPATH, xx)"
   ]
  },
  {
   "cell_type": "code",
   "execution_count": 53,
   "id": "d25cf441",
   "metadata": {
    "ExecuteTime": {
     "end_time": "2023-08-23T07:04:53.260375Z",
     "start_time": "2023-08-23T07:04:53.248384Z"
    }
   },
   "outputs": [
    {
     "data": {
      "text/plain": [
       "[<selenium.webdriver.remote.webelement.WebElement (session=\"0306644ecd0a26d4f94e3cf83b2b055d\", element=\"7D7E9BEC99B1D956A2577F95AECDA422_element_91\")>]"
      ]
     },
     "execution_count": 53,
     "metadata": {},
     "output_type": "execute_result"
    }
   ],
   "source": [
    "elements"
   ]
  },
  {
   "cell_type": "code",
   "execution_count": 54,
   "id": "bd96816c",
   "metadata": {
    "ExecuteTime": {
     "end_time": "2023-08-23T07:05:02.560714Z",
     "start_time": "2023-08-23T07:05:00.762269Z"
    }
   },
   "outputs": [],
   "source": [
    "driver.find_element(By.XPATH, xx).click()"
   ]
  },
  {
   "cell_type": "code",
   "execution_count": 55,
   "id": "97f2d706",
   "metadata": {
    "ExecuteTime": {
     "end_time": "2023-08-23T07:05:03.233039Z",
     "start_time": "2023-08-23T07:05:03.228052Z"
    }
   },
   "outputs": [],
   "source": [
    "img_x='//*[@id=\"container\"]/div[5]/div[1]/div[2]/div[1]/div/div[2]/div/div[1]/img'"
   ]
  },
  {
   "cell_type": "code",
   "execution_count": 56,
   "id": "ffd5c37e",
   "metadata": {
    "ExecuteTime": {
     "end_time": "2023-08-23T07:05:06.043115Z",
     "start_time": "2023-08-23T07:05:06.010174Z"
    }
   },
   "outputs": [],
   "source": [
    "img_element = driver.find_elements(By.XPATH, img_x)"
   ]
  },
  {
   "cell_type": "code",
   "execution_count": 57,
   "id": "933deaf3",
   "metadata": {
    "ExecuteTime": {
     "end_time": "2023-08-23T07:05:09.338399Z",
     "start_time": "2023-08-23T07:05:09.330422Z"
    }
   },
   "outputs": [
    {
     "data": {
      "text/plain": [
       "<selenium.webdriver.remote.webelement.WebElement (session=\"0306644ecd0a26d4f94e3cf83b2b055d\", element=\"966CFCB73A6211EBB3BA8F89CAFDFB65_element_13\")>"
      ]
     },
     "execution_count": 57,
     "metadata": {},
     "output_type": "execute_result"
    }
   ],
   "source": [
    "img_element[0]"
   ]
  },
  {
   "cell_type": "code",
   "execution_count": 64,
   "id": "9b9d01b4",
   "metadata": {
    "ExecuteTime": {
     "end_time": "2023-08-23T07:08:40.219644Z",
     "start_time": "2023-08-23T07:08:40.203282Z"
    }
   },
   "outputs": [],
   "source": [
    "text_src = '//*[@id=\"container\"]/div[5]/div[1]/div[2]/div[1]/div'"
   ]
  },
  {
   "cell_type": "code",
   "execution_count": 65,
   "id": "62c99eed",
   "metadata": {
    "ExecuteTime": {
     "end_time": "2023-08-23T07:08:40.917268Z",
     "start_time": "2023-08-23T07:08:40.890285Z"
    }
   },
   "outputs": [],
   "source": [
    "text_src_element=driver.find_elements(By.XPATH, text_src)"
   ]
  },
  {
   "cell_type": "code",
   "execution_count": 66,
   "id": "d6bffce9",
   "metadata": {
    "ExecuteTime": {
     "end_time": "2023-08-23T07:08:41.551862Z",
     "start_time": "2023-08-23T07:08:41.498396Z"
    }
   },
   "outputs": [
    {
     "data": {
      "text/plain": [
       "'예매대기\\n\\n\\n\\n\\n\\n\\n\\n\\n\\n\\n\\n\\n\\n\\n\\n뮤지컬\\n2023 가족마술콘서트〈익스트림매직쇼〉 - 인천\\n마술쇼\\n티켓캐스트\\n\\n1\\n페이스북 공유\\n트위터 공유\\n장소인천문화예술회관 소공연장(자세히)\\n공연기간\\n2023.09.09\\n공연시간\\n60분\\n관람연령\\n24개월이상 관람가능\\n가격\\n전체가격보기 (자세히)\\n전석\\n35,000원\\n혜택무이자할부(자세히)\\n\\n놀포인트 NOL카드로 최대 7만원 혜택 받기\\n토핑 가입하고 중복할인 쿠폰받기\\n[AD] SKT 고객전용 특별할인! 12,000원 쿠폰받기\\n[AD] 티켓할인쿠폰 마감임박! 11,000원 쿠폰받기\\n[AD] 티켓 10,000원 할인쿠폰! 예매전 즉시 할인받기\\n[AD] 티켓 3천원 할인쿠폰 + 편의점 6천원 증정\\n// 쿠폰 다운로드 리스트 : 기획 확인 필요 // promotion api > 프로모션은 장르별 노출, 테스트 시 참고'"
      ]
     },
     "execution_count": 66,
     "metadata": {},
     "output_type": "execute_result"
    }
   ],
   "source": [
    "text_src_element[0].text"
   ]
  },
  {
   "cell_type": "code",
   "execution_count": 67,
   "id": "6b307e66",
   "metadata": {
    "ExecuteTime": {
     "end_time": "2023-08-23T07:08:46.245900Z",
     "start_time": "2023-08-23T07:08:46.226978Z"
    }
   },
   "outputs": [
    {
     "ename": "SyntaxError",
     "evalue": "invalid syntax (3220236241.py, line 1)",
     "output_type": "error",
     "traceback": [
      "\u001B[1;36m  Cell \u001B[1;32mIn[67], line 1\u001B[1;36m\u001B[0m\n\u001B[1;33m    df=\u001B[0m\n\u001B[1;37m       ^\u001B[0m\n\u001B[1;31mSyntaxError\u001B[0m\u001B[1;31m:\u001B[0m invalid syntax\n"
     ]
    }
   ],
   "source": [
    "# df={'제목':[2023 가족마술콘서트〈익스트림매직쇼],\n",
    "#    '장소':[인천문화예술회관 소공연장]}"
   ]
  },
  {
   "cell_type": "code",
   "execution_count": 45,
   "id": "6384affe",
   "metadata": {
    "ExecuteTime": {
     "end_time": "2023-08-23T06:56:23.295056Z",
     "start_time": "2023-08-23T06:56:23.266071Z"
    }
   },
   "outputs": [
    {
     "ename": "AttributeError",
     "evalue": "'list' object has no attribute 'to_csv'",
     "output_type": "error",
     "traceback": [
      "\u001B[1;31m---------------------------------------------------------------------------\u001B[0m",
      "\u001B[1;31mAttributeError\u001B[0m                            Traceback (most recent call last)",
      "Cell \u001B[1;32mIn[45], line 1\u001B[0m\n\u001B[1;32m----> 1\u001B[0m \u001B[43mtext_src_element\u001B[49m\u001B[38;5;241;43m.\u001B[39;49m\u001B[43mto_csv\u001B[49m(\u001B[38;5;124m\"\u001B[39m\u001B[38;5;124m테스트용.csv\u001B[39m\u001B[38;5;124m\"\u001B[39m, encoding\u001B[38;5;241m=\u001B[39m\u001B[38;5;124m'\u001B[39m\u001B[38;5;124mutf-8-sig\u001B[39m\u001B[38;5;124m'\u001B[39m)\n",
      "\u001B[1;31mAttributeError\u001B[0m: 'list' object has no attribute 'to_csv'"
     ]
    }
   ],
   "source": [
    "text_src_element.to_csv(\"테스트용.csv\", encoding='utf-8-sig')"
   ]
  },
  {
   "cell_type": "code",
   "execution_count": null,
   "id": "0fb6b6ed",
   "metadata": {},
   "outputs": [],
   "source": []
  }
 ],
 "metadata": {
  "kernelspec": {
   "display_name": "Python 3 (ipykernel)",
   "language": "python",
   "name": "python3"
  },
  "language_info": {
   "codemirror_mode": {
    "name": "ipython",
    "version": 3
   },
   "file_extension": ".py",
   "mimetype": "text/x-python",
   "name": "python",
   "nbconvert_exporter": "python",
   "pygments_lexer": "ipython3",
   "version": "3.10.11"
  }
 },
 "nbformat": 4,
 "nbformat_minor": 5
}
