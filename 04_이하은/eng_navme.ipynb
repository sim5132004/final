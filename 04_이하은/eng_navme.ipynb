{
 "cells": [
  {
   "cell_type": "code",
   "execution_count": 1,
   "id": "3ba46314",
   "metadata": {
    "ExecuteTime": {
     "end_time": "2023-08-24T09:30:29.935486Z",
     "start_time": "2023-08-24T09:30:29.078309Z"
    }
   },
   "outputs": [],
   "source": [
    "from selenium import webdriver\n",
    "import pandas as pd"
   ]
  },
  {
   "cell_type": "code",
   "execution_count": 2,
   "id": "dd2ed885",
   "metadata": {
    "ExecuteTime": {
     "end_time": "2023-08-24T09:30:29.945310Z",
     "start_time": "2023-08-24T09:30:29.938663Z"
    }
   },
   "outputs": [],
   "source": [
    "from selenium.webdriver.common.by import By"
   ]
  },
  {
   "cell_type": "code",
   "execution_count": 3,
   "id": "6bf69afb",
   "metadata": {
    "ExecuteTime": {
     "end_time": "2023-08-24T09:30:30.639756Z",
     "start_time": "2023-08-24T09:30:30.628201Z"
    }
   },
   "outputs": [],
   "source": [
    "from selenium.webdriver.common.keys import Keys\n",
    "import time\n",
    "from selenium.webdriver.support.ui import WebDriverWait"
   ]
  },
  {
   "cell_type": "code",
   "execution_count": 4,
   "id": "f11ada46",
   "metadata": {
    "ExecuteTime": {
     "end_time": "2023-08-24T09:30:35.655768Z",
     "start_time": "2023-08-24T09:30:31.395135Z"
    }
   },
   "outputs": [],
   "source": [
    "# 크롤링할 페이지 URL (인터파크)\n",
    "# driver = webdriver.Chrome()\n",
    "# url = 'http://ticket.interpark.com/TiKi/Special/TPRegionReserve.asp?Region=42011&RegionName=%C0%CE%C3%B5'\n",
    "# driver.get(url)"
   ]
  },
  {
   "cell_type": "code",
   "execution_count": 27,
   "id": "3eddf65b",
   "metadata": {
    "ExecuteTime": {
     "end_time": "2023-08-24T10:12:08.363554Z",
     "start_time": "2023-08-24T10:10:19.371566Z"
    }
   },
   "outputs": [
    {
     "ename": "NoSuchElementException",
     "evalue": "Message: no such element: Unable to locate element: {\"method\":\"xpath\",\"selector\":\"//*[@id=\"wrapBody\"]/div[2]/div[2]/div[2]/div/div[2]/div[3]/div[17]/dl/dd[1]/a/img\"}\n  (Session info: chrome=116.0.5845.111); For documentation on this error, please visit: https://www.selenium.dev/documentation/webdriver/troubleshooting/errors#no-such-element-exception\nStacktrace:\n\tGetHandleVerifier [0x00007FF60A8A52A2+57122]\n\t(No symbol) [0x00007FF60A81EA92]\n\t(No symbol) [0x00007FF60A6EE3AB]\n\t(No symbol) [0x00007FF60A727D3E]\n\t(No symbol) [0x00007FF60A727E2C]\n\t(No symbol) [0x00007FF60A760B67]\n\t(No symbol) [0x00007FF60A74701F]\n\t(No symbol) [0x00007FF60A75EB82]\n\t(No symbol) [0x00007FF60A746DB3]\n\t(No symbol) [0x00007FF60A71D2B1]\n\t(No symbol) [0x00007FF60A71E494]\n\tGetHandleVerifier [0x00007FF60AB4EF82+2849794]\n\tGetHandleVerifier [0x00007FF60ABA1D24+3189156]\n\tGetHandleVerifier [0x00007FF60AB9ACAF+3160367]\n\tGetHandleVerifier [0x00007FF60A936D06+653702]\n\t(No symbol) [0x00007FF60A82A208]\n\t(No symbol) [0x00007FF60A8262C4]\n\t(No symbol) [0x00007FF60A8263F6]\n\t(No symbol) [0x00007FF60A8167A3]\n\tBaseThreadInitThunk [0x00007FF872B07614+20]\n\tRtlUserThreadStart [0x00007FF8745A26B1+33]\n",
     "output_type": "error",
     "traceback": [
      "\u001b[1;31m---------------------------------------------------------------------------\u001b[0m",
      "\u001b[1;31mNoSuchElementException\u001b[0m                    Traceback (most recent call last)",
      "Cell \u001b[1;32mIn[27], line 9\u001b[0m\n\u001b[0;32m      7\u001b[0m     xx\u001b[38;5;241m=\u001b[39m\u001b[38;5;124mf\u001b[39m\u001b[38;5;124m'\u001b[39m\u001b[38;5;124m//*[@id=\u001b[39m\u001b[38;5;124m\"\u001b[39m\u001b[38;5;124mwrapBody\u001b[39m\u001b[38;5;124m\"\u001b[39m\u001b[38;5;124m]/div[2]/div[2]/div[2]/div/div[2]/div[3]/div[\u001b[39m\u001b[38;5;132;01m{\u001b[39;00mi\u001b[38;5;241m+\u001b[39m\u001b[38;5;241m1\u001b[39m\u001b[38;5;132;01m}\u001b[39;00m\u001b[38;5;124m]/dl/dd[1]/a/img\u001b[39m\u001b[38;5;124m'\u001b[39m\n\u001b[0;32m      8\u001b[0m     img_x\u001b[38;5;241m=\u001b[39m\u001b[38;5;124m'\u001b[39m\u001b[38;5;124m//*[@id=\u001b[39m\u001b[38;5;124m\"\u001b[39m\u001b[38;5;124mcontainer\u001b[39m\u001b[38;5;124m\"\u001b[39m\u001b[38;5;124m]/div[5]/div[1]/div[2]/div[1]/div/div[2]/div/div[1]/img\u001b[39m\u001b[38;5;124m'\u001b[39m\n\u001b[1;32m----> 9\u001b[0m     \u001b[43mdriver\u001b[49m\u001b[38;5;241;43m.\u001b[39;49m\u001b[43mfind_element\u001b[49m\u001b[43m(\u001b[49m\u001b[43mBy\u001b[49m\u001b[38;5;241;43m.\u001b[39;49m\u001b[43mXPATH\u001b[49m\u001b[43m,\u001b[49m\u001b[43m \u001b[49m\u001b[43mxx\u001b[49m\u001b[43m)\u001b[49m\u001b[38;5;241m.\u001b[39mclick()\n\u001b[0;32m     10\u001b[0m \u001b[38;5;66;03m#     elements = driver.find_elements(By.XPATH, xx)\u001b[39;00m\n\u001b[0;32m     11\u001b[0m \u001b[38;5;66;03m#     img_element = driver.find_elements(By.XPATH, img_x)\u001b[39;00m\n",
      "File \u001b[1;32m~\\anaconda3\\lib\\site-packages\\selenium\\webdriver\\remote\\webdriver.py:739\u001b[0m, in \u001b[0;36mWebDriver.find_element\u001b[1;34m(self, by, value)\u001b[0m\n\u001b[0;32m    736\u001b[0m     by \u001b[38;5;241m=\u001b[39m By\u001b[38;5;241m.\u001b[39mCSS_SELECTOR\n\u001b[0;32m    737\u001b[0m     value \u001b[38;5;241m=\u001b[39m \u001b[38;5;124mf\u001b[39m\u001b[38;5;124m'\u001b[39m\u001b[38;5;124m[name=\u001b[39m\u001b[38;5;124m\"\u001b[39m\u001b[38;5;132;01m{\u001b[39;00mvalue\u001b[38;5;132;01m}\u001b[39;00m\u001b[38;5;124m\"\u001b[39m\u001b[38;5;124m]\u001b[39m\u001b[38;5;124m'\u001b[39m\n\u001b[1;32m--> 739\u001b[0m \u001b[38;5;28;01mreturn\u001b[39;00m \u001b[38;5;28;43mself\u001b[39;49m\u001b[38;5;241;43m.\u001b[39;49m\u001b[43mexecute\u001b[49m\u001b[43m(\u001b[49m\u001b[43mCommand\u001b[49m\u001b[38;5;241;43m.\u001b[39;49m\u001b[43mFIND_ELEMENT\u001b[49m\u001b[43m,\u001b[49m\u001b[43m \u001b[49m\u001b[43m{\u001b[49m\u001b[38;5;124;43m\"\u001b[39;49m\u001b[38;5;124;43musing\u001b[39;49m\u001b[38;5;124;43m\"\u001b[39;49m\u001b[43m:\u001b[49m\u001b[43m \u001b[49m\u001b[43mby\u001b[49m\u001b[43m,\u001b[49m\u001b[43m \u001b[49m\u001b[38;5;124;43m\"\u001b[39;49m\u001b[38;5;124;43mvalue\u001b[39;49m\u001b[38;5;124;43m\"\u001b[39;49m\u001b[43m:\u001b[49m\u001b[43m \u001b[49m\u001b[43mvalue\u001b[49m\u001b[43m}\u001b[49m\u001b[43m)\u001b[49m[\u001b[38;5;124m\"\u001b[39m\u001b[38;5;124mvalue\u001b[39m\u001b[38;5;124m\"\u001b[39m]\n",
      "File \u001b[1;32m~\\anaconda3\\lib\\site-packages\\selenium\\webdriver\\remote\\webdriver.py:345\u001b[0m, in \u001b[0;36mWebDriver.execute\u001b[1;34m(self, driver_command, params)\u001b[0m\n\u001b[0;32m    343\u001b[0m response \u001b[38;5;241m=\u001b[39m \u001b[38;5;28mself\u001b[39m\u001b[38;5;241m.\u001b[39mcommand_executor\u001b[38;5;241m.\u001b[39mexecute(driver_command, params)\n\u001b[0;32m    344\u001b[0m \u001b[38;5;28;01mif\u001b[39;00m response:\n\u001b[1;32m--> 345\u001b[0m     \u001b[38;5;28;43mself\u001b[39;49m\u001b[38;5;241;43m.\u001b[39;49m\u001b[43merror_handler\u001b[49m\u001b[38;5;241;43m.\u001b[39;49m\u001b[43mcheck_response\u001b[49m\u001b[43m(\u001b[49m\u001b[43mresponse\u001b[49m\u001b[43m)\u001b[49m\n\u001b[0;32m    346\u001b[0m     response[\u001b[38;5;124m\"\u001b[39m\u001b[38;5;124mvalue\u001b[39m\u001b[38;5;124m\"\u001b[39m] \u001b[38;5;241m=\u001b[39m \u001b[38;5;28mself\u001b[39m\u001b[38;5;241m.\u001b[39m_unwrap_value(response\u001b[38;5;241m.\u001b[39mget(\u001b[38;5;124m\"\u001b[39m\u001b[38;5;124mvalue\u001b[39m\u001b[38;5;124m\"\u001b[39m, \u001b[38;5;28;01mNone\u001b[39;00m))\n\u001b[0;32m    347\u001b[0m     \u001b[38;5;28;01mreturn\u001b[39;00m response\n",
      "File \u001b[1;32m~\\anaconda3\\lib\\site-packages\\selenium\\webdriver\\remote\\errorhandler.py:229\u001b[0m, in \u001b[0;36mErrorHandler.check_response\u001b[1;34m(self, response)\u001b[0m\n\u001b[0;32m    227\u001b[0m         alert_text \u001b[38;5;241m=\u001b[39m value[\u001b[38;5;124m\"\u001b[39m\u001b[38;5;124malert\u001b[39m\u001b[38;5;124m\"\u001b[39m]\u001b[38;5;241m.\u001b[39mget(\u001b[38;5;124m\"\u001b[39m\u001b[38;5;124mtext\u001b[39m\u001b[38;5;124m\"\u001b[39m)\n\u001b[0;32m    228\u001b[0m     \u001b[38;5;28;01mraise\u001b[39;00m exception_class(message, screen, stacktrace, alert_text)  \u001b[38;5;66;03m# type: ignore[call-arg]  # mypy is not smart enough here\u001b[39;00m\n\u001b[1;32m--> 229\u001b[0m \u001b[38;5;28;01mraise\u001b[39;00m exception_class(message, screen, stacktrace)\n",
      "\u001b[1;31mNoSuchElementException\u001b[0m: Message: no such element: Unable to locate element: {\"method\":\"xpath\",\"selector\":\"//*[@id=\"wrapBody\"]/div[2]/div[2]/div[2]/div/div[2]/div[3]/div[17]/dl/dd[1]/a/img\"}\n  (Session info: chrome=116.0.5845.111); For documentation on this error, please visit: https://www.selenium.dev/documentation/webdriver/troubleshooting/errors#no-such-element-exception\nStacktrace:\n\tGetHandleVerifier [0x00007FF60A8A52A2+57122]\n\t(No symbol) [0x00007FF60A81EA92]\n\t(No symbol) [0x00007FF60A6EE3AB]\n\t(No symbol) [0x00007FF60A727D3E]\n\t(No symbol) [0x00007FF60A727E2C]\n\t(No symbol) [0x00007FF60A760B67]\n\t(No symbol) [0x00007FF60A74701F]\n\t(No symbol) [0x00007FF60A75EB82]\n\t(No symbol) [0x00007FF60A746DB3]\n\t(No symbol) [0x00007FF60A71D2B1]\n\t(No symbol) [0x00007FF60A71E494]\n\tGetHandleVerifier [0x00007FF60AB4EF82+2849794]\n\tGetHandleVerifier [0x00007FF60ABA1D24+3189156]\n\tGetHandleVerifier [0x00007FF60AB9ACAF+3160367]\n\tGetHandleVerifier [0x00007FF60A936D06+653702]\n\t(No symbol) [0x00007FF60A82A208]\n\t(No symbol) [0x00007FF60A8262C4]\n\t(No symbol) [0x00007FF60A8263F6]\n\t(No symbol) [0x00007FF60A8167A3]\n\tBaseThreadInitThunk [0x00007FF872B07614+20]\n\tRtlUserThreadStart [0x00007FF8745A26B1+33]\n"
     ]
    }
   ],
   "source": [
    "# nan2_list=[]\n",
    "for i in range(1,114):\n",
    "    driver = webdriver.Chrome()\n",
    "    url = 'http://ticket.interpark.com/TiKi/Special/TPRegionReserve.asp?Region=42011&RegionName=%C0%CE%C3%B5'\n",
    "    driver.get(url)\n",
    "#     driver.get(url)\n",
    "    xx=f'//*[@id=\"wrapBody\"]/div[2]/div[2]/div[2]/div/div[2]/div[3]/div[{i+1}]/dl/dd[1]/a/img'\n",
    "    img_x='//*[@id=\"container\"]/div[5]/div[1]/div[2]/div[1]/div/div[2]/div/div[1]/img'\n",
    "    driver.find_element(By.XPATH, xx).click()\n",
    "#     elements = driver.find_elements(By.XPATH, xx)\n",
    "#     img_element = driver.find_elements(By.XPATH, img_x)"
   ]
  },
  {
   "cell_type": "code",
   "execution_count": 28,
   "id": "9594bbf2",
   "metadata": {
    "ExecuteTime": {
     "end_time": "2023-08-24T10:15:43.474410Z",
     "start_time": "2023-08-24T10:15:41.347207Z"
    }
   },
   "outputs": [],
   "source": [
    "elements = driver.find_elements(By.XPATH, xx)\n",
    "img_element = driver.find_elements(By.XPATH, img_x)"
   ]
  },
  {
   "cell_type": "code",
   "execution_count": 19,
   "id": "a34cab61",
   "metadata": {
    "ExecuteTime": {
     "end_time": "2023-08-24T09:39:55.573250Z",
     "start_time": "2023-08-24T09:39:55.541305Z"
    }
   },
   "outputs": [
    {
     "ename": "NameError",
     "evalue": "name 'i' is not defined",
     "output_type": "error",
     "traceback": [
      "\u001b[1;31m---------------------------------------------------------------------------\u001b[0m",
      "\u001b[1;31mNameError\u001b[0m                                 Traceback (most recent call last)",
      "Cell \u001b[1;32mIn[19], line 1\u001b[0m\n\u001b[1;32m----> 1\u001b[0m xx\u001b[38;5;241m=\u001b[39m\u001b[38;5;124mf\u001b[39m\u001b[38;5;124m'\u001b[39m\u001b[38;5;124m//*[@id=\u001b[39m\u001b[38;5;124m\"\u001b[39m\u001b[38;5;124mwrapBody\u001b[39m\u001b[38;5;124m\"\u001b[39m\u001b[38;5;124m]/div[2]/div[2]/div[2]/div/div[2]/div[3]/div[\u001b[39m\u001b[38;5;132;01m{\u001b[39;00m\u001b[43mi\u001b[49m\u001b[38;5;132;01m}\u001b[39;00m\u001b[38;5;124m]/dl/dd[1]/a/img\u001b[39m\u001b[38;5;124m'\u001b[39m\n",
      "\u001b[1;31mNameError\u001b[0m: name 'i' is not defined"
     ]
    }
   ],
   "source": [
    "# xx=f'//*[@id=\"wrapBody\"]/div[2]/div[2]/div[2]/div/div[2]/div[3]/div[{i}]/dl/dd[1]/a/img'"
   ]
  },
  {
   "cell_type": "code",
   "execution_count": 20,
   "id": "cf2b1ff9",
   "metadata": {
    "ExecuteTime": {
     "end_time": "2023-08-24T09:39:59.338481Z",
     "start_time": "2023-08-24T09:39:59.307274Z"
    }
   },
   "outputs": [
    {
     "ename": "NameError",
     "evalue": "name 'xx' is not defined",
     "output_type": "error",
     "traceback": [
      "\u001b[1;31m---------------------------------------------------------------------------\u001b[0m",
      "\u001b[1;31mNameError\u001b[0m                                 Traceback (most recent call last)",
      "Cell \u001b[1;32mIn[20], line 1\u001b[0m\n\u001b[1;32m----> 1\u001b[0m elements \u001b[38;5;241m=\u001b[39m driver\u001b[38;5;241m.\u001b[39mfind_elements(By\u001b[38;5;241m.\u001b[39mXPATH, \u001b[43mxx\u001b[49m)\n",
      "\u001b[1;31mNameError\u001b[0m: name 'xx' is not defined"
     ]
    }
   ],
   "source": [
    "# elements = driver.find_elements(By.XPATH, xx)"
   ]
  },
  {
   "cell_type": "code",
   "execution_count": 26,
   "id": "d25cf441",
   "metadata": {
    "ExecuteTime": {
     "end_time": "2023-08-24T10:09:52.392559Z",
     "start_time": "2023-08-24T10:09:52.378571Z"
    }
   },
   "outputs": [
    {
     "data": {
      "text/plain": [
       "[]"
      ]
     },
     "execution_count": 26,
     "metadata": {},
     "output_type": "execute_result"
    }
   ],
   "source": [
    "elements"
   ]
  },
  {
   "cell_type": "code",
   "execution_count": null,
   "id": "bd96816c",
   "metadata": {
    "ExecuteTime": {
     "end_time": "2023-08-24T09:30:36.454413Z",
     "start_time": "2023-08-24T09:30:36.454413Z"
    }
   },
   "outputs": [],
   "source": [
    "# nan2_list[]\n",
    "# for i in range(10):\n",
    "    \n",
    "#     xx=f'//*[@id=\"wrapBody\"]/div[2]/div[2]/div[2]/div/div[2]/div[3]/div[{i+1}]/dl/dd[1]/a/img'\n",
    "#     driver.find_element(By.XPATH, xx).click()"
   ]
  },
  {
   "cell_type": "code",
   "execution_count": null,
   "id": "97f2d706",
   "metadata": {
    "ExecuteTime": {
     "end_time": "2023-08-24T10:00:21.412684Z",
     "start_time": "2023-08-24T10:00:21.412684Z"
    }
   },
   "outputs": [],
   "source": [
    "img_x='//*[@id=\"container\"]/div[5]/div[1]/div[2]/div[1]/div/div[2]/div/div[1]/img'"
   ]
  },
  {
   "cell_type": "code",
   "execution_count": null,
   "id": "ffd5c37e",
   "metadata": {
    "ExecuteTime": {
     "end_time": "2023-08-24T10:00:21.414678Z",
     "start_time": "2023-08-24T10:00:21.414678Z"
    }
   },
   "outputs": [],
   "source": [
    "img_element = driver.find_elements(By.XPATH, img_x)"
   ]
  },
  {
   "cell_type": "code",
   "execution_count": null,
   "id": "933deaf3",
   "metadata": {
    "ExecuteTime": {
     "end_time": "2023-08-24T10:00:21.417671Z",
     "start_time": "2023-08-24T10:00:21.417671Z"
    }
   },
   "outputs": [],
   "source": [
    "img_element[0]"
   ]
  },
  {
   "cell_type": "code",
   "execution_count": null,
   "id": "9b9d01b4",
   "metadata": {
    "ExecuteTime": {
     "end_time": "2023-08-24T10:00:21.419664Z",
     "start_time": "2023-08-24T10:00:21.419664Z"
    }
   },
   "outputs": [],
   "source": [
    "text_src = '//*[@id=\"container\"]/div[5]/div[1]/div[2]/div[1]/div'"
   ]
  },
  {
   "cell_type": "code",
   "execution_count": null,
   "id": "62c99eed",
   "metadata": {
    "ExecuteTime": {
     "end_time": "2023-08-24T10:00:21.423655Z",
     "start_time": "2023-08-24T10:00:21.423655Z"
    }
   },
   "outputs": [],
   "source": [
    "text_src_element=driver.find_elements(By.XPATH, text_src)"
   ]
  },
  {
   "cell_type": "code",
   "execution_count": null,
   "id": "d6bffce9",
   "metadata": {
    "ExecuteTime": {
     "end_time": "2023-08-24T10:00:21.426646Z",
     "start_time": "2023-08-24T10:00:21.426646Z"
    }
   },
   "outputs": [],
   "source": [
    "text_src_element[0].text"
   ]
  },
  {
   "cell_type": "code",
   "execution_count": null,
   "id": "6b307e66",
   "metadata": {
    "ExecuteTime": {
     "end_time": "2023-08-24T10:00:21.429639Z",
     "start_time": "2023-08-24T10:00:21.429639Z"
    }
   },
   "outputs": [],
   "source": [
    "# df={'제목':[2023 가족마술콘서트〈익스트림매직쇼],\n",
    "#    '장소':[인천문화예술회관 소공연장]}"
   ]
  },
  {
   "cell_type": "code",
   "execution_count": null,
   "id": "6384affe",
   "metadata": {
    "ExecuteTime": {
     "end_time": "2023-08-24T10:00:21.433628Z",
     "start_time": "2023-08-24T10:00:21.433628Z"
    }
   },
   "outputs": [],
   "source": [
    "text_src_element.to_csv(\"테스트용.csv\", encoding='utf-8-sig')"
   ]
  },
  {
   "cell_type": "code",
   "execution_count": null,
   "id": "0fb6b6ed",
   "metadata": {},
   "outputs": [],
   "source": []
  }
 ],
 "metadata": {
  "kernelspec": {
   "display_name": "Python 3 (ipykernel)",
   "language": "python",
   "name": "python3"
  },
  "language_info": {
   "codemirror_mode": {
    "name": "ipython",
    "version": 3
   },
   "file_extension": ".py",
   "mimetype": "text/x-python",
   "name": "python",
   "nbconvert_exporter": "python",
   "pygments_lexer": "ipython3",
   "version": "3.10.11"
  }
 },
 "nbformat": 4,
 "nbformat_minor": 5
}
