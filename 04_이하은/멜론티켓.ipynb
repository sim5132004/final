{
 "cells": [
  {
   "cell_type": "code",
   "execution_count": 1,
   "id": "641c8886",
   "metadata": {
    "ExecuteTime": {
     "end_time": "2023-08-12T06:50:36.675801Z",
     "start_time": "2023-08-12T06:50:36.251674Z"
    }
   },
   "outputs": [],
   "source": [
    "from webdriver_manager.chrome import ChromeDriverManager\n",
    "from selenium.webdriver.chrome.service import Service\n",
    "from selenium import webdriver\n",
    "from bs4 import BeautifulSoup\n",
    "\n",
    "from selenium.webdriver.common.by import By\n",
    "import os"
   ]
  },
  {
   "cell_type": "code",
   "execution_count": 3,
   "id": "67094f3c",
   "metadata": {
    "ExecuteTime": {
     "end_time": "2023-08-12T06:52:54.123818Z",
     "start_time": "2023-08-12T06:52:50.580024Z"
    }
   },
   "outputs": [],
   "source": [
    "url = 'https://ticket.melon.com/performance/index.htm?prodId=208459'\n",
    "driver = webdriver.Chrome()\n",
    "driver.implicitly_wait(3) "
   ]
  },
  {
   "cell_type": "code",
   "execution_count": 4,
   "id": "579b3899",
   "metadata": {
    "ExecuteTime": {
     "end_time": "2023-08-12T06:53:03.393694Z",
     "start_time": "2023-08-12T06:53:02.667966Z"
    }
   },
   "outputs": [],
   "source": [
    "driver.get(url)"
   ]
  },
  {
   "cell_type": "code",
   "execution_count": 6,
   "id": "76276af1",
   "metadata": {
    "ExecuteTime": {
     "end_time": "2023-08-12T06:56:06.895389Z",
     "start_time": "2023-08-12T06:56:06.837439Z"
    }
   },
   "outputs": [
    {
     "name": "stdout",
     "output_type": "stream",
     "text": [
      "['공연플래너 담기\\n2023 한탄강 지오 페스티벌\\n\\n공연기간 2023.08.26 - 2023.08.27 관람시간 360분 장르 콘서트\\n공연장 포천 한탄강 비둘기낭 폭포 일원  바로가기 관람등급 전체관람가 할인혜택 무이자\\n페이스북 트위터']\n"
     ]
    }
   ],
   "source": [
    "test= driver.find_elements(By.CSS_SELECTOR, '#conts > div > div.wrap_consert_product > div.wrap_consert_cont')\n",
    "contents = [element.text for element in test]\n",
    "print(contents)"
   ]
  },
  {
   "cell_type": "code",
   "execution_count": 7,
   "id": "209267a4",
   "metadata": {
    "ExecuteTime": {
     "end_time": "2023-08-12T06:56:51.736705Z",
     "start_time": "2023-08-12T06:56:51.724738Z"
    }
   },
   "outputs": [
    {
     "data": {
      "text/plain": [
       "'한탄강 지오 페스티벌::공연기간 2023.08.26 - 2023.08.27 관람시간 360분 장르 콘서트:공연장 포천 한탄강 비둘기낭 폭포 일원  관람등급 전체관람가'"
      ]
     },
     "execution_count": 7,
     "metadata": {},
     "output_type": "execute_result"
    }
   ],
   "source": [
    "contents='한탄강 지오 페스티벌\\n\\n공연기간 2023.08.26 - 2023.08.27 관람시간 360분 장르 콘서트\\n공연장 포천 한탄강 비둘기낭 폭포 일원  관람등급 전체관람가'\n",
    "contents.replace('\\n',':')\n"
   ]
  },
  {
   "cell_type": "code",
   "execution_count": null,
   "id": "c6936a69",
   "metadata": {},
   "outputs": [],
   "source": []
  }
 ],
 "metadata": {
  "kernelspec": {
   "display_name": "Python 3 (ipykernel)",
   "language": "python",
   "name": "python3"
  },
  "language_info": {
   "codemirror_mode": {
    "name": "ipython",
    "version": 3
   },
   "file_extension": ".py",
   "mimetype": "text/x-python",
   "name": "python",
   "nbconvert_exporter": "python",
   "pygments_lexer": "ipython3",
   "version": "3.10.11"
  }
 },
 "nbformat": 4,
 "nbformat_minor": 5
}
