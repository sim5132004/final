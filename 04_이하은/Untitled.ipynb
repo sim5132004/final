{
 "cells": [
  {
   "cell_type": "code",
<<<<<<< Updated upstream
   "execution_count": null,
   "id": "a22a1ff6",
=======
   "execution_count": 22,
   "id": "ebef9dbc",
   "metadata": {
    "ExecuteTime": {
     "end_time": "2023-08-11T08:14:31.972053Z",
     "start_time": "2023-08-11T08:14:31.935577Z"
    }
   },
   "outputs": [],
   "source": [
    "from bs4 import BeautifulSoup\n",
    "import selenium\n",
    "import urllib.request\n",
    "import os\n",
    "import pandas as pd"
   ]
  },
  {
   "cell_type": "code",
   "execution_count": 23,
   "id": "316d50c8",
   "metadata": {
    "ExecuteTime": {
     "end_time": "2023-08-11T08:14:32.517798Z",
     "start_time": "2023-08-11T08:14:32.509818Z"
    }
   },
   "outputs": [],
   "source": [
    "# Callable 관련 에러가 나면 추가해야 되는 코드\n",
    "import collections\n",
    "if not hasattr(collections, 'Callable'):\n",
    "    collections.Callable = collections.abc.Callable\n"
   ]
  },
  {
   "cell_type": "code",
   "execution_count": 24,
   "id": "3db65dc8",
   "metadata": {
    "ExecuteTime": {
     "end_time": "2023-08-11T08:14:33.498526Z",
     "start_time": "2023-08-11T08:14:32.951504Z"
    }
   },
   "outputs": [],
   "source": [
    "# 네이버에서 '공연정보' 검색한 URL\n",
    "html = urllib.request.urlopen('https://search.naver.com/search.naver?where=nexearch&sm=tab_etc&mra=bkkw&pkid=269&os=31951562&qvt=0&query=%EC%BD%94%ED%94%BC%EB%85%B8%20%EC%95%84%EC%9D%B4')\n",
    "soup = BeautifulSoup(html, 'html.parser')"
   ]
  },
  {
   "cell_type": "code",
   "execution_count": 25,
   "id": "db8367a2",
   "metadata": {
    "ExecuteTime": {
     "end_time": "2023-08-11T08:14:33.513597Z",
     "start_time": "2023-08-11T08:14:33.501557Z"
    }
   },
   "outputs": [],
   "source": [
    "# html 태그가 언제 바뀔지 모르니 스크래핑에 사용했던 기술을 기억하기 위해서 html을 저장하는 습관을 들이자.\n",
    "file_path = '공연정보.html'\n",
    "if not os.path.exists(file_path):\n",
    "    with open(file_path, 'w', encoding='utf-8') as file:\n",
    "        file.write(str(soup))\n",
    "        print(\"HTML 파일이 저장되었습니다.\")"
   ]
  },
  {
   "cell_type": "code",
   "execution_count": 17,
   "id": "2677afd4",
   "metadata": {
    "ExecuteTime": {
     "end_time": "2023-08-11T06:11:27.411689Z",
     "start_time": "2023-08-11T06:11:27.389728Z"
    }
   },
   "outputs": [
    {
     "name": "stdout",
     "output_type": "stream",
     "text": [
      "<div class=\"detail_info _default_info\"> <span class=\"thumb\"><img alt=\"코피노 아이 - 인천\" height=\"121\" onerror=\"this.onerror=null;this.src='data:image/gif;base64,R0lGODlhAQABAIAAAAAAAP///yH5BAEAAAAALAAAAAABAAEAAAIBRAA7';this.className='bg_nimg2'\" src=\"https://search.pstatic.net/common?type=o&amp;size=174x242&amp;quality=75&amp;direct=true&amp;src=https%3A%2F%2Fcsearch-phinf.pstatic.net%2F20230725_165%2F1690262658904p3omT_JPEG%2F269_image_url_1690262658881.jpg\" width=\"87\"/></span> <dl class=\"info txt_2\"> <div class=\"info_group\"> <dt><span class=\"cm_bar\"></span>개요</dt> <dd> <a href=\"?where=nexearch&amp;sm=tab_etc&amp;qvt=0&amp;query=%EC%97%B0%EA%B7%B9%20%20%EA%B3%B5%EC%97%B0\" nocr=\"\" onclick=\"return goOtherCR(this, 'a=nco_x0i*1.sumgenre1&amp;r=1&amp;i=18112ABF_000001E78ACA&amp;u=' + urlencode(this.href));\">연극 </a> &gt; <a href=\"?where=nexearch&amp;sm=tab_etc&amp;qvt=0&amp;query=%EB%93%9C%EB%9D%BC%EB%A7%88%EA%B7%B9%20%EA%B3%B5%EC%97%B0\" nocr=\"\" onclick=\"return goOtherCR(this, 'a=nco_x0i*1.sumgenre2&amp;r=1&amp;i=18112ABF_000001E78ACA&amp;u=' + urlencode(this.href));\">드라마극</a> <span class=\"cm_bar_info\"></span> 90분 </dd> </div> <div class=\"info_group\"> <dt><span class=\"cm_bar\"></span>기간</dt> <dd><span class=\"text\">2023.08.09. (수)~</span><span class=\"text\">2023.08.13. (일)</span></dd> </div> <div class=\"info_group\"> <dt><span class=\"cm_bar\"></span>시간</dt> <dd> <span class=\"text\">수, 목, 금 19:30</span> <div class=\"content_more\" data-kgs-collapse=\"\"> <span class=\"text\"> 토, 일 17:00</span> <!--[D] 활성화시 아래 div none/block으로 제어해주세요 --> </div> </dd> </div> <div class=\"info_group\"> <dt><span class=\"cm_bar\"></span>장소</dt> <dd> <a href=\"?where=nexearch&amp;sm=tab_etc&amp;qvt=0&amp;query=%EC%9D%B8%EC%B2%9C%20%EB%AC%B8%ED%95%99%EC%8B%9C%EC%96%B4%ED%84%B0\" nocr=\"\" onclick=\"return goOtherCR(this, 'a=nco_x0i*1.sumhall&amp;r=1&amp;i=18112ABF_000001E78ACA&amp;u=' + urlencode(this.href));\">인천 문학시어터</a> </dd> </div> </dl> <div class=\"text_expand _ellipsis\" data-kgs-ellipsis=\"intro\" data-kgs-ellipsis-item=\"._text\" data-kgs-ellipsis-line=\"3\" data-kgs-ellipsis-sign=\"...\" style=\"max-height:72px;\"> <span class=\"desc _text\">우리 아빠는 한국사람이에요. 친구들은 나를 코피노라고 불러요. </span> <a class=\"_tail\" href=\"?where=nexearch&amp;sm=tab_etc&amp;mra=bkkw&amp;x_csa=%7B%22isOpen%22%3Atrue%7D&amp;pkid=269&amp;os=31951562&amp;qvt=0&amp;query=%EC%BD%94%ED%94%BC%EB%85%B8%20%EC%95%84%EC%9D%B4%20%EA%B8%B0%EB%B3%B8%EC%A0%95%EB%B3%B4\" nocr=\"\" onclick=\"return goOtherCR(this, 'a=nco_x0i*1.sumstorymore&amp;r=1&amp;i=18112ABF_000001E78ACA&amp;u=' + urlencode(this.href));\" style=\"display:none;\">더보기</a> </div> </div>\n"
     ]
    }
   ],
   "source": [
    "# 테이블을 찾습니다.\n",
    "# table = soup.find('div', id=\"teamRankTabPanel_0\").table.tbody\n",
    "table = selenium.find('div', {'class': 'detail_info _default_info'})\n",
    "print(table)"
   ]
  },
  {
   "cell_type": "code",
   "execution_count": 27,
   "id": "fe28e407",
   "metadata": {
    "ExecuteTime": {
     "end_time": "2023-08-11T08:15:28.205498Z",
     "start_time": "2023-08-11T08:15:28.190538Z"
    }
   },
   "outputs": [
    {
     "name": "stdout",
     "output_type": "stream",
     "text": [
      "None\n"
     ]
    }
   ],
   "source": [
    "# 테이블의 각 행을 추출하여 리스트에 저장합니다.\n",
    "if table:\n",
    "     thead= table.thead\n",
    "\n",
    "print(thead)\n",
    "# head_list=[]\n",
    "# for col in thead.find_all(''):\n",
    "#     head_list.append(col.text)\n",
    "# print(head_list)\n"
   ]
  },
  {
   "cell_type": "code",
   "execution_count": 19,
   "id": "823301e6",
   "metadata": {
    "ExecuteTime": {
     "end_time": "2023-08-11T06:11:32.914475Z",
     "start_time": "2023-08-11T06:11:32.902512Z"
    }
   },
   "outputs": [],
   "source": [
    "tbody = table.tbody\n",
    "data = []\n",
    "rank = 1\n",
    "# 행데이터를 처리하는 for문\n",
    "# for tr in tbody.find_all('tr'): # 행은 tr 태그의 반복으로 분석되어 사용\n",
    "#     row = []\n",
    "#     is_first = True\n",
    "#     # find_all('td) 순위를 제외한 모든 열 정보가 선택(순위는 th 태그의 값으로 정의)\n",
    "#     for col in tr.find_all('td'): # 열은 td 태그의 반복으로 분석되어 사용\n",
    "#         # 팀명이 a.text가 아니라 동일하게 td.text 인점을 기억하자 (Debug를 통해 파악)\n",
    "#         if is_first: # 첫번째 열 데이터를 처리하기 위한 플래그변수 활용\n",
    "#             row.append(rank)\n",
    "#             rank += 1\n",
    "#             is_first = False\n",
    "#             row.append(col.text.strip())\n",
    "#             continue\n",
    "#         row.append(col.text.strip())\n",
    "#     data.append(row)\n",
    "\n",
    "# print(data)\n",
    "\n",
    "# df = pd.DataFrame(data=data, columns=head_list)\n",
    "\n",
    "# pass\n"
   ]
  },
  {
   "cell_type": "code",
   "execution_count": null,
   "id": "46876214",
>>>>>>> Stashed changes
   "metadata": {},
   "outputs": [],
   "source": []
  }
 ],
 "metadata": {
  "kernelspec": {
   "display_name": "Python 3 (ipykernel)",
   "language": "python",
   "name": "python3"
  },
  "language_info": {
   "codemirror_mode": {
    "name": "ipython",
    "version": 3
   },
   "file_extension": ".py",
   "mimetype": "text/x-python",
   "name": "python",
   "nbconvert_exporter": "python",
   "pygments_lexer": "ipython3",
   "version": "3.10.11"
  }
 },
 "nbformat": 4,
 "nbformat_minor": 5
}
