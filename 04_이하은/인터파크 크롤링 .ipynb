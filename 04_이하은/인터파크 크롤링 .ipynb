{
 "cells": [
  {
   "cell_type": "code",
   "execution_count": 1,
   "id": "3ba46314",
   "metadata": {},
   "outputs": [],
   "source": [
    "from selenium import webdriver"
   ]
  },
  {
   "cell_type": "code",
   "execution_count": 2,
   "id": "dd2ed885",
   "metadata": {},
   "outputs": [],
   "source": [
    "from selenium.webdriver.common.by import By"
   ]
  },
  {
   "cell_type": "code",
   "execution_count": null,
   "id": "6bf69afb",
   "metadata": {},
   "outputs": [],
   "source": [
    "from selenium.webdriver.common.keys import Keys\n",
    "from selenium.webdriver.support import expected_conditions as EC\n",
    "from selenium.webdriver.support.ui import WebDriverWait"
   ]
  },
  {
   "cell_type": "code",
   "execution_count": 3,
   "id": "f11ada46",
   "metadata": {},
   "outputs": [],
   "source": [
    "# 크롤링할 페이지 URL (인터파크)\n",
    "driver = webdriver.Chrome()\n",
    "url = 'http://ticket.interpark.com/TiKi/Special/TPRegionReserve.asp?Region=42011&RegionName=%C0%CE%C3%B5'\n",
    "driver.get(url)"
   ]
  },
  {
   "cell_type": "code",
   "execution_count": 4,
   "id": "a34cab61",
   "metadata": {},
   "outputs": [],
   "source": [
    "xx='//*[@id=\"wrapBody\"]/div[2]/div[2]/div[2]/div/div[2]/div[3]/div[1]/dl/dd[1]/a/img'"
   ]
  },
  {
   "cell_type": "code",
   "execution_count": 5,
   "id": "cf2b1ff9",
   "metadata": {},
   "outputs": [],
   "source": [
    "elements = driver.find_elements(By.XPATH, xx)"
   ]
  },
  {
   "cell_type": "code",
   "execution_count": null,
   "id": "d25cf441",
   "metadata": {},
   "outputs": [],
   "source": [
    "elements"
   ]
  },
  {
   "cell_type": "code",
   "execution_count": 9,
   "id": "bd96816c",
   "metadata": {},
   "outputs": [],
   "source": [
    "driver.find_element(By.XPATH, xx).click()"
   ]
  },
  {
   "cell_type": "code",
   "execution_count": 11,
   "id": "97f2d706",
   "metadata": {},
   "outputs": [],
   "source": [
    "img_x='//*[@id=\"container\"]/div[5]/div[1]/div[2]/div[1]/div/div[2]/div/div[1]/img'"
   ]
  },
  {
   "cell_type": "code",
   "execution_count": 14,
   "id": "ffd5c37e",
   "metadata": {},
   "outputs": [],
   "source": [
    "img_element = driver.find_elements(By.XPATH, img_x)"
   ]
  },
  {
   "cell_type": "code",
   "execution_count": 18,
   "id": "933deaf3",
   "metadata": {},
   "outputs": [
    {
     "data": {
      "text/plain": [
       "<selenium.webdriver.remote.webelement.WebElement (session=\"7f27382cc0a4de4c3150f5ea27a07747\", element=\"503150F679B862D75B20675FAF406435_element_22\")>"
      ]
     },
     "execution_count": 18,
     "metadata": {},
     "output_type": "execute_result"
    }
   ],
   "source": [
    "img_element[0]"
   ]
  },
  {
   "cell_type": "code",
   "execution_count": 19,
   "id": "9b9d01b4",
   "metadata": {},
   "outputs": [],
   "source": [
    "text_src = '//*[@id=\"container\"]/div[5]/div[1]/div[2]/div[1]/div/div[2]/ul'"
   ]
  },
  {
   "cell_type": "code",
   "execution_count": 21,
   "id": "62c99eed",
   "metadata": {},
   "outputs": [],
   "source": [
    "text_src_element=driver.find_elements(By.XPATH, text_src)"
   ]
  },
  {
   "cell_type": "code",
   "execution_count": 25,
   "id": "d6bffce9",
   "metadata": {},
   "outputs": [
    {
     "data": {
      "text/plain": [
       "'장소인천문화예술회관 소공연장(자세히)\\n공연기간\\n2023.09.09\\n공연시간\\n60분\\n관람연령\\n24개월이상 관람가능\\n가격\\n전체가격보기 (자세히)\\n전석\\n35,000원\\n혜택무이자할부(자세히)\\n\\n놀포인트 NOL카드로 최대 7만원 혜택 받기\\n토핑 가입하고 중복할인 쿠폰받기\\n[AD] SKT 고객전용 특별할인! 12,000원 쿠폰받기\\n[AD] 티켓할인쿠폰 마감임박! 11,000원 쿠폰받기\\n[AD] 티켓 10,000원 할인쿠폰! 예매전 즉시 할인받기\\n[AD] 티켓 3천원 할인쿠폰 + 편의점 6천원 증정\\n// 쿠폰 다운로드 리스트 : 기획 확인 필요 // promotion api > 프로모션은 장르별 노출, 테스트 시 참고'"
      ]
     },
     "execution_count": 25,
     "metadata": {},
     "output_type": "execute_result"
    }
   ],
   "source": [
    "text_src_element[0].text"
   ]
  }
 ],
 "metadata": {
  "kernelspec": {
   "display_name": "Python 3 (ipykernel)",
   "language": "python",
   "name": "python3"
  },
  "language_info": {
   "codemirror_mode": {
    "name": "ipython",
    "version": 3
   },
   "file_extension": ".py",
   "mimetype": "text/x-python",
   "name": "python",
   "nbconvert_exporter": "python",
   "pygments_lexer": "ipython3",
   "version": "3.10.11"
  }
 },
 "nbformat": 4,
 "nbformat_minor": 5
}
