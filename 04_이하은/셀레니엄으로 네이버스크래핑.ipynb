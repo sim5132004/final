{
 "cells": [
  {
   "cell_type": "code",
   "execution_count": 3,
   "id": "a38ff5f3",
   "metadata": {
    "ExecuteTime": {
     "end_time": "2023-08-12T06:10:38.160979Z",
     "start_time": "2023-08-12T06:10:37.661917Z"
    }
   },
   "outputs": [],
   "source": [
    "from webdriver_manager.chrome import ChromeDriverManager\n",
    "from selenium.webdriver.chrome.service import Service\n",
    "from selenium import webdriver\n",
    "from bs4 import BeautifulSoup\n",
    "\n",
    "from selenium.webdriver.common.by import By\n",
    "import os"
   ]
  },
  {
   "cell_type": "code",
   "execution_count": 4,
   "id": "2920170e",
   "metadata": {
    "ExecuteTime": {
     "end_time": "2023-08-12T06:10:40.175859Z",
     "start_time": "2023-08-12T06:10:38.273618Z"
    },
    "scrolled": true
   },
   "outputs": [],
   "source": [
    "url = 'http://ticket.yes24.com/Perf/46844'\n",
    "driver = webdriver.Chrome()\n",
    "driver.implicitly_wait(3) "
   ]
  },
  {
   "cell_type": "code",
   "execution_count": 5,
   "id": "25a4c88d",
   "metadata": {
    "ExecuteTime": {
     "end_time": "2023-08-12T06:10:42.646142Z",
     "start_time": "2023-08-12T06:10:40.178852Z"
    }
   },
   "outputs": [],
   "source": [
    "driver.get(url)"
   ]
  },
  {
   "cell_type": "code",
   "execution_count": 16,
   "id": "b467f9e5",
   "metadata": {
    "ExecuteTime": {
     "end_time": "2023-08-12T06:54:45.858456Z",
     "start_time": "2023-08-12T06:54:45.844494Z"
    }
   },
   "outputs": [
    {
     "ename": "SyntaxError",
     "evalue": "unterminated string literal (detected at line 3) (2370835335.py, line 3)",
     "output_type": "error",
     "traceback": [
      "\u001b[1;36m  Cell \u001b[1;32mIn[16], line 3\u001b[1;36m\u001b[0m\n\u001b[1;33m    test= driver.find_elements(By.CSS_SELECTOR, '<div class=\"wrap_consert_cont\">\u001b[0m\n\u001b[1;37m                                                ^\u001b[0m\n\u001b[1;31mSyntaxError\u001b[0m\u001b[1;31m:\u001b[0m unterminated string literal (detected at line 3)\n"
     ]
    }
   ],
   "source": [
    "# driver.implicitly_wait(3) \n",
    "# test = driver.find_elements(By.XPATH,'from selenium.webdriver.common.by import By')\n",
    "test= driver.find_elements(By.CSS_SELECTOR, '')\n",
    "contents = [element.text for element in test]\n",
    "print(contents)\n",
    "\n",
    "# html = driver.page_sour\n",
    "\n",
    "# print(html)\n",
    "# driver.close()\n"
   ]
  },
  {
   "cell_type": "code",
   "execution_count": 13,
   "id": "385858da",
   "metadata": {
    "ExecuteTime": {
     "end_time": "2023-08-12T06:12:14.347179Z",
     "start_time": "2023-08-12T06:12:14.315912Z"
    }
   },
   "outputs": [
    {
     "data": {
      "text/plain": [
       "'등급: 초등학생 이상:관람시간: 130분 (인터미션 15분):출연: 임동국보이스윙서울 페스타 필하모닉 오케스트라:가격:VIP석 120,000원:R석 100,000원:S석 80,000원:A석 60,000원:할인 적용 시 최저가 24,000원 ~ 최고가 84,000원'"
      ]
     },
     "execution_count": 13,
     "metadata": {},
     "output_type": "execute_result"
    }
   ],
   "source": [
    "contents='등급\\n 초등학생 이상\\n관람시간\\n 130분 (인터미션 15분)\\n출연\\n 임동국보이스윙서울 페스타 필하모닉 오케스트라\\n가격\\nVIP석 120,000원\\nR석 100,000원\\nS석 80,000원\\nA석 60,000원\\n할인 적용 시 최저가 24,000원 ~ 최고가 84,000원'\n",
    "contents.replace('\\n',':')\n"
   ]
  },
  {
   "cell_type": "code",
   "execution_count": null,
   "id": "ffe72992",
   "metadata": {},
   "outputs": [],
   "source": []
  },
  {
   "cell_type": "code",
   "execution_count": null,
   "id": "4c8e1391",
   "metadata": {},
   "outputs": [],
   "source": []
  }
 ],
 "metadata": {
  "kernelspec": {
   "display_name": "Python 3 (ipykernel)",
   "language": "python",
   "name": "python3"
  },
  "language_info": {
   "codemirror_mode": {
    "name": "ipython",
    "version": 3
   },
   "file_extension": ".py",
   "mimetype": "text/x-python",
   "name": "python",
   "nbconvert_exporter": "python",
   "pygments_lexer": "ipython3",
   "version": "3.10.11"
  }
 },
 "nbformat": 4,
 "nbformat_minor": 5
}
