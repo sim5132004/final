{
 "cells": [
  {
   "cell_type": "code",
   "execution_count": null,
   "id": "863a9839",
   "metadata": {
    "ExecuteTime": {
     "end_time": "2023-08-25T09:07:55.261881Z",
     "start_time": "2023-08-25T09:07:55.247919Z"
    }
   },
   "outputs": [],
   "source": [
    "import pandas as pd\n",
    "# NeuralProphet 클래스 불러오기\n",
    "from neuralprophet import NeuralProphet, set_log_level\n",
    "from neuralprophet import set_random_seed\n",
    "from sklearn.metrics import mean_squared_error, mean_absolute_error"
   ]
  },
  {
   "cell_type": "code",
   "execution_count": null,
   "id": "e74f8ca0",
   "metadata": {
    "ExecuteTime": {
     "end_time": "2023-08-25T09:07:55.964261Z",
     "start_time": "2023-08-25T09:07:55.895308Z"
    }
   },
   "outputs": [],
   "source": [
    "df = pd.read_csv(\"인천교통공사_역별일별 이용인원현황_20230630.csv\", encoding='cp949')\n",
    "df"
   ]
  },
  {
   "cell_type": "code",
   "execution_count": null,
   "id": "3eef8a90",
   "metadata": {
    "ExecuteTime": {
     "end_time": "2023-08-25T09:07:57.184355Z",
     "start_time": "2023-08-25T09:07:57.150982Z"
    }
   },
   "outputs": [],
   "source": [
    "df=df[df['구분']=='하차']\n",
    "df.drop(['호선','구분'], axis=1,inplace=True)\n",
    "df"
   ]
  },
  {
   "cell_type": "code",
   "execution_count": null,
   "id": "484fd306",
   "metadata": {
    "ExecuteTime": {
     "end_time": "2023-08-25T09:07:58.798537Z",
     "start_time": "2023-08-25T09:07:58.774336Z"
    }
   },
   "outputs": [],
   "source": [
    "df = df[['통행일자', '이용인원', '역명']]\n",
    "df"
   ]
  },
  {
   "cell_type": "code",
   "execution_count": null,
   "id": "634ce4aa",
   "metadata": {
    "ExecuteTime": {
     "end_time": "2023-08-25T09:07:59.916837Z",
     "start_time": "2023-08-25T09:07:59.886918Z"
    }
   },
   "outputs": [],
   "source": [
    "df.columns = ['ds', 'y', 'location']\n",
    "df['ds'] = pd.to_datetime(df['ds'])\n",
    "df"
   ]
  },
  {
   "cell_type": "code",
   "execution_count": null,
   "id": "8160ae88",
   "metadata": {
    "ExecuteTime": {
     "end_time": "2023-08-25T09:08:01.020823Z",
     "start_time": "2023-08-25T09:08:00.990902Z"
    }
   },
   "outputs": [],
   "source": [
    "df1 = df[df['location']=='석남']\n",
    "df1 = df1[['ds','y']]\n",
    "df1"
   ]
  },
  {
   "cell_type": "code",
   "execution_count": null,
   "id": "c482b2f5",
   "metadata": {
    "ExecuteTime": {
     "end_time": "2023-08-25T09:08:02.012903Z",
     "start_time": "2023-08-25T09:08:01.990893Z"
    }
   },
   "outputs": [],
   "source": [
    "# 원본 데이터프레임에서 랜덤하게 10%의 행을 선택하여 새로운 데이터프레임 생성\n",
    "df1_sampled = df1.sample(frac=0.1, random_state=42)\n",
    "\n",
    "# 선택한 행을 원본 데이터프레임에서 제거\n",
    "df1_drop = df1.drop(df1_sampled.index)\n",
    "df1_sampled = df1_sampled.sort_values(by='ds')\n",
    "\n",
    "df1_sampled"
   ]
  },
  {
   "cell_type": "code",
   "execution_count": null,
   "id": "ec117bb1",
   "metadata": {
    "ExecuteTime": {
     "end_time": "2023-08-25T09:08:03.582896Z",
     "start_time": "2023-08-25T09:08:03.558933Z"
    }
   },
   "outputs": [],
   "source": [
    "df.info()"
   ]
  },
  {
   "cell_type": "code",
   "execution_count": null,
   "id": "b808a71a",
   "metadata": {
    "ExecuteTime": {
     "end_time": "2023-08-25T09:08:04.881175Z",
     "start_time": "2023-08-25T09:08:04.590889Z"
    }
   },
   "outputs": [],
   "source": [
    "plt = df1.plot(x=\"ds\", y=\"y\", figsize=(15, 5))"
   ]
  },
  {
   "cell_type": "code",
   "execution_count": null,
   "id": "a8ec37c3",
   "metadata": {
    "ExecuteTime": {
     "end_time": "2023-08-25T09:08:05.689997Z",
     "start_time": "2023-08-25T09:08:05.679027Z"
    }
   },
   "outputs": [],
   "source": [
    "# 오류가 아닌 경우 로깅 메시지 비활성화\n",
    "set_log_level(\"ERROR\")\n",
    "set_random_seed(0)\n",
    "\n",
    "# 기본 매개변수로 NeuralProphet 모델 생성\n",
    "m = NeuralProphet(\n",
    "#     trend_reg=1, # 트렌드의 기울기(높을수록 기울기가 낮아짐)\n",
    "    \n",
    "#     n_changepoints=0,\n",
    "    # Enable all seasonality components\n",
    "    yearly_seasonality=True,\n",
    "    weekly_seasonality=True,\n",
    "#     daily_seasonality=True,\n",
    "#     n_lags=10,\n",
    "#     n_forecasts=30\n",
    ")\n",
    "\n",
    "# df1_train, df1_val = m.split_df(df1, valid_p=0.1)\n",
    "print(\"Dataset size:\", len(df1))\n",
    "print(\"Train dataset size:\", len(df1_drop))\n",
    "print(\"Validation dataset size:\", len(df1_sampled))"
   ]
  },
  {
   "cell_type": "code",
   "execution_count": null,
   "id": "9d858454",
   "metadata": {
    "ExecuteTime": {
     "end_time": "2023-08-25T09:06:54.641223Z",
     "start_time": "2023-08-25T09:06:52.343043Z"
    }
   },
   "outputs": [],
   "source": [
    "# 데이터셋에 모델 피팅하기 (이 과정은 시간이 걸릴 수 있습니다)\n",
    "metrics = m.fit(df1_drop, validation_df=df1_sampled)\n",
    "# metrics\n",
    "\n",
    "# metrics = m.fit(df1)"
   ]
  },
  {
   "cell_type": "code",
   "execution_count": null,
   "id": "5e08f92f",
   "metadata": {
    "ExecuteTime": {
     "end_time": "2023-08-25T09:07:09.750645Z",
     "start_time": "2023-08-25T09:07:09.687004Z"
    }
   },
   "outputs": [],
   "source": [
    "forecast = m.predict(df1_sampled)\n",
    "m.set_plotting_backend(\"matplotlib\")\n",
    "m.plot(forecast)"
   ]
  },
  {
   "cell_type": "code",
   "execution_count": null,
   "id": "92bb86f5",
   "metadata": {
    "ExecuteTime": {
     "end_time": "2023-08-25T09:07:17.441987Z",
     "start_time": "2023-08-25T09:07:17.255493Z"
    }
   },
   "outputs": [],
   "source": [
    "m.plot_parameters(components=[\"trend\", \"seasonality\"])"
   ]
  },
  {
   "cell_type": "code",
   "execution_count": null,
   "id": "30e2285c",
   "metadata": {},
   "outputs": [],
   "source": [
    "# 검증 데이터에 대한 모델 성능 평가\n",
    "actual = df1_sampled['y'].values\n",
    "predicted = forecast['yhat1'].values  # 예측된 값의 열 이름에 따라 조정\n",
    "\n",
    "mse = mean_squared_error(actual, predicted)\n",
    "mae = mean_absolute_error(actual, predicted)\n",
    "\n",
    "print(f\"평균 제곱 오차: {mse:.2f}\")\n",
    "print(f\"평균 절대 오차: {mae:.2f}\")"
   ]
  }
 ],
 "metadata": {
  "kernelspec": {
   "display_name": "Python 3 (ipykernel)",
   "language": "python",
   "name": "python3"
  },
  "language_info": {
   "codemirror_mode": {
    "name": "ipython",
    "version": 3
   },
   "file_extension": ".py",
   "mimetype": "text/x-python",
   "name": "python",
   "nbconvert_exporter": "python",
   "pygments_lexer": "ipython3",
   "version": "3.10.11"
  }
 },
 "nbformat": 4,
 "nbformat_minor": 5
}
