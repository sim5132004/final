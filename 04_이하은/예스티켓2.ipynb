{
 "cells": [
  {
   "cell_type": "code",
   "execution_count": 1,
   "id": "7460eb1b",
   "metadata": {
    "ExecuteTime": {
     "end_time": "2023-08-12T06:43:25.430608Z",
     "start_time": "2023-08-12T06:43:25.014876Z"
    }
   },
   "outputs": [],
   "source": [
    "from webdriver_manager.chrome import ChromeDriverManager\n",
    "from selenium.webdriver.chrome.service import Service\n",
    "from selenium import webdriver\n",
    "from bs4 import BeautifulSoup\n",
    "\n",
    "from selenium.webdriver.common.by import By\n",
    "import os"
   ]
  },
  {
   "cell_type": "code",
   "execution_count": 2,
   "id": "f791fff2",
   "metadata": {
    "ExecuteTime": {
     "end_time": "2023-08-12T06:43:51.321972Z",
     "start_time": "2023-08-12T06:43:49.922228Z"
    }
   },
   "outputs": [],
   "source": [
    "url = 'http://ticket.yes24.com/Perf/46781'\n",
    "driver = webdriver.Chrome()\n",
    "driver.implicitly_wait(3) "
   ]
  },
  {
   "cell_type": "code",
   "execution_count": 3,
   "id": "78f54d9d",
   "metadata": {
    "ExecuteTime": {
     "end_time": "2023-08-12T06:44:03.267351Z",
     "start_time": "2023-08-12T06:44:01.163019Z"
    }
   },
   "outputs": [],
   "source": [
    "driver.get(url)"
   ]
  },
  {
   "cell_type": "code",
   "execution_count": 5,
   "id": "46f4c5f1",
   "metadata": {
    "ExecuteTime": {
     "end_time": "2023-08-12T06:45:31.463560Z",
     "start_time": "2023-08-12T06:45:31.331422Z"
    }
   },
   "outputs": [
    {
     "name": "stdout",
     "output_type": "stream",
     "text": [
      "['3Likes\\n등급\\n 8세 이상\\n관람시간\\n 총 120분\\n출연\\n 장윤정\\n가격\\nVIP석 143,000원\\nR석 132,000원\\nS석 121,000원\\n할인 적용 시 최저가 96,800원 ~ 최고가 114,400원자세히\\n혜택\\n사용가능쿠폰(1) 무이자할부 제휴카드할인\\n공연시간 안내\\n2023년 10월 08일(일) 오후 2시, 6시\\n배송정보\\n본 상품은 일괄배송 상품으로 2023년 09월 12일부터 순차 배송됩니다.\\n날짜/시간 선택\\n이전 달\\n다음 달\\n2023. 10\\n일 월 화 수 목 금 토\\n1\\n2\\n3\\n4\\n5\\n6\\n7\\n8\\n9\\n10\\n11\\n12\\n13\\n14\\n15\\n16\\n17\\n18\\n19\\n20\\n21\\n22\\n23\\n24\\n25\\n26\\n27\\n28\\n29\\n30\\n31\\n        1회 오후 2시 00분2회 오후 6시 00분\\n\\n\\n예매 가능 좌석\\nVIP석 143,000원\\nR석 132,000원\\nS석 121,000원\\n예매하기\\n상세정보 예매/취소 안내\\n유의사항\\n※ 매수제한: 회차별 1인 10매\\n※ 일괄배송: 09월 12일(화)\\n할인정보\\n[고객센터 전화예매시 1544-6399]\\n※ 복지카드 1~3급 소지자(동반1인) 20%\\n※ 복지카드 4~6급 소지자(본인) 20%\\n※ 국가유공자(본인) 20%\\n\\n-할인증빙서류 미지참시 현장에서 정가대비 차액을 지불하셔야 합니다.\\n공연정보\\n기획사 정보 주최: ㈜창라이프, ㈜공연마루\\n제작: ㈜우리기획\\n주관: ㈜드림위즈, ㈜공연이야기\\n문의: 1566-6551\\n상품정보제공 고시\\n주최/기획 (주)창라이프_마루 소비자상담 1566-6551\\n주연 장윤정 관람등급 8세 이상\\n공연시간 총 120분 공연장소 인천 송도컨벤시아\\n취소/환불방법\\n취소 일자에 따라 아래와 같이 취소수수료가 부과됩니다. 예매일보다 관람일 기준이 우선 적용되오니 유의해주시기 바랍니다.\\n단, 예매 후 7일 이내라도 취소시점이 공연일로부터 10일 이내라면 그에 해당하는 취소수수료가 부과됩니다.\\n(단, 상품에 따라 취소 정책이 달라질 수 있고, 각 공연이 공지하는 취소 정책이 우선 적용되므로, 예매 시 참고하시기 바랍니다.)\\n취소일 취소수수료\\n예매 후 7일 이내 없음\\n예매 후 8일 ~ 관람일 10일 전까지 장당 4,000원(단, 티켓 금액의 10% 이내)\\n관람일 9일 전 ~ 관람일 7일 전까지 티켓 금액의 10%\\n관람일 6일 전 ~ 관람일 3일 전까지 티켓 금액의 20%\\n관람일 2일 전 ~ 취소마감일시까지 티켓 금액의 30%\\n예매수수료는 예매 당일 밤 12시 이전 취소 시에만 환불되며, 그 이후 기간에는 환불되지 않습니다.\\n취소는 MY공연>예매확인/취소 에서 직접 취소 또는 고객센터(1544-6399)를 통해 취소 가능합니다.\\n티켓이 배송된 후에는 PC/모바일 취소가 불가, 취소마감시간 이전에 예스24 고객센터로 티켓이 반송되어야 취소 가능합니다.\\n(취소수수료는 티켓 도착일 기준으로 부과되며, 배송비는 환불되지 않습니다.)\\n각 상품별로 취소 정책이 다르게 적용될 수 있으니, 각 상품 안내 사항을 확인해주시기 바랍니다.\\n인천 송도컨벤시아\\n인천 연수구 센트럴로 123 (송도동) 032-210-1114http://www.songdoconvensia.com/html/intro.php\\n찾아가는길 주변 주차장 주변 음식점 주변 카페 주변 편의점\\n되돌아가기\\n빠른길찾기\\n인천 송도컨벤시아\\n인천 연수구 센트럴로 123 (송도동)\\n100m']\n"
     ]
    }
   ],
   "source": [
    "test= driver.find_elements(By.CSS_SELECTOR, '#mainForm > div.renew-wrap.rw2 > div')\n",
    "contents = [element.text for element in test]\n",
    "print(contents)\n"
   ]
  },
  {
   "cell_type": "code",
   "execution_count": 6,
   "id": "61646a1e",
   "metadata": {
    "ExecuteTime": {
     "end_time": "2023-08-12T06:46:18.885120Z",
     "start_time": "2023-08-12T06:46:18.860176Z"
    }
   },
   "outputs": [
    {
     "data": {
      "text/plain": [
       "'등급: 8세 이상:관람시간: 총 120분:출연: 장윤정:가격:VIP석 143,000원:R석 132,000원:S석 121,000원:할인 적용 시 최저가 96,800원 ~ 최고가 114,400원자세히:혜택:사용가능쿠폰(1) 무이자할부 제휴카드할인:공연시간 안내:2023년 10월 08일(일) 오후 2시, 6시:배송정보:본 상품은 일괄배송 상품으로 2023년 09월 12일부터 순차 배송됩니다.:날짜/시간 선택:이전 달:다음 달:2023. 10:일 월 화 수 목 금 토:1:2:3:4:5:6:7:8:9:10:11:12:13:14:15:16:17:18:19:20:21:22:23:24:25:26:27:28:29:30:31:        1회 오후 2시 00분2회 오후 6시 00분:::예매 가능 좌석:VIP석 143,000원:R석 132,000원:S석 121,000원'"
      ]
     },
     "execution_count": 6,
     "metadata": {},
     "output_type": "execute_result"
    }
   ],
   "source": [
    "contents='등급\\n 8세 이상\\n관람시간\\n 총 120분\\n출연\\n 장윤정\\n가격\\nVIP석 143,000원\\nR석 132,000원\\nS석 121,000원\\n할인 적용 시 최저가 96,800원 ~ 최고가 114,400원자세히\\n혜택\\n사용가능쿠폰(1) 무이자할부 제휴카드할인\\n공연시간 안내\\n2023년 10월 08일(일) 오후 2시, 6시\\n배송정보\\n본 상품은 일괄배송 상품으로 2023년 09월 12일부터 순차 배송됩니다.\\n날짜/시간 선택\\n이전 달\\n다음 달\\n2023. 10\\n일 월 화 수 목 금 토\\n1\\n2\\n3\\n4\\n5\\n6\\n7\\n8\\n9\\n10\\n11\\n12\\n13\\n14\\n15\\n16\\n17\\n18\\n19\\n20\\n21\\n22\\n23\\n24\\n25\\n26\\n27\\n28\\n29\\n30\\n31\\n        1회 오후 2시 00분2회 오후 6시 00분\\n\\n\\n예매 가능 좌석\\nVIP석 143,000원\\nR석 132,000원\\nS석 121,000원'\n",
    "contents.replace('\\n',':')\n"
   ]
  },
  {
   "cell_type": "code",
   "execution_count": null,
   "id": "bf28d4c6",
   "metadata": {},
   "outputs": [],
   "source": []
  }
 ],
 "metadata": {
  "kernelspec": {
   "display_name": "Python 3 (ipykernel)",
   "language": "python",
   "name": "python3"
  },
  "language_info": {
   "codemirror_mode": {
    "name": "ipython",
    "version": 3
   },
   "file_extension": ".py",
   "mimetype": "text/x-python",
   "name": "python",
   "nbconvert_exporter": "python",
   "pygments_lexer": "ipython3",
   "version": "3.10.11"
  }
 },
 "nbformat": 4,
 "nbformat_minor": 5
}
