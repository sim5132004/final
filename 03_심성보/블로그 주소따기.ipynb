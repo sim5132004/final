{
 "cells": [
  {
   "cell_type": "code",
   "execution_count": 1,
   "id": "6b349fa0",
   "metadata": {
    "ExecuteTime": {
     "end_time": "2023-08-11T03:06:32.763829Z",
     "start_time": "2023-08-11T03:06:32.101202Z"
    }
   },
   "outputs": [],
   "source": [
    "import cx_Oracle\n",
    "import pandas as pd"
   ]
  },
  {
   "cell_type": "code",
   "execution_count": 2,
   "id": "8ea39867",
   "metadata": {
    "ExecuteTime": {
     "end_time": "2023-08-11T03:06:33.564154Z",
     "start_time": "2023-08-11T03:06:33.549194Z"
    }
   },
   "outputs": [],
   "source": [
    "#데이터 불러오기\n",
    "def select_from_oracle():\n",
    "    con = cx_Oracle.connect('party/party@192.168.30.240:1521/xe')\n",
    "    cur = con.cursor()\n",
    "\n",
    "    sql_select = '''\n",
    "            select * from 데이터2\n",
    "             '''\n",
    "\n",
    "    rs = cur.execute(sql_select)\n",
    "\n",
    "    data=[]\n",
    "    for record in rs:\n",
    "        row=[]\n",
    "        for source in range(0, len(record)):\n",
    "            row.append(record[source])\n",
    "        data.append(row)\n",
    "\n",
    "    con.commit()\n",
    "    cur.close()\n",
    "    con.close()\n",
    "    return data"
   ]
  },
  {
   "cell_type": "code",
   "execution_count": 3,
   "id": "81ffa9f7",
   "metadata": {
    "ExecuteTime": {
     "end_time": "2023-08-11T03:06:34.552975Z",
     "start_time": "2023-08-11T03:06:34.533029Z"
    }
   },
   "outputs": [],
   "source": [
    "#업데이트\n",
    "def update_from_oracle(target_url,list_name):\n",
    "    con = cx_Oracle.connect('party/party@192.168.30.240:1521/xe')\n",
    "    cur = con.cursor()\n",
    "    sql = \"update 데이터2 set 이미지1  = :1  WHERE 제목 =:2\"\n",
    "    cur.execute(sql,(target_url,list_name))\n",
    "\n",
    "\n",
    "    con.commit()\n",
    "    cur.close()\n",
    "    con.close()"
   ]
  },
  {
   "cell_type": "code",
   "execution_count": 4,
   "id": "26037b5a",
   "metadata": {
    "ExecuteTime": {
     "end_time": "2023-08-11T03:06:35.213366Z",
     "start_time": "2023-08-11T03:06:35.068666Z"
    }
   },
   "outputs": [],
   "source": [
    "data = select_from_oracle()"
   ]
  },
  {
   "cell_type": "code",
   "execution_count": 5,
   "id": "c5833fb6",
   "metadata": {
    "ExecuteTime": {
     "end_time": "2023-08-11T03:06:35.620837Z",
     "start_time": "2023-08-11T03:06:35.612858Z"
    }
   },
   "outputs": [],
   "source": [
    "data2=pd.DataFrame(data)"
   ]
  },
  {
   "cell_type": "code",
   "execution_count": 6,
   "id": "fbc4f90e",
   "metadata": {
    "ExecuteTime": {
     "end_time": "2023-08-11T03:06:36.140203Z",
     "start_time": "2023-08-11T03:06:36.114271Z"
    }
   },
   "outputs": [
    {
     "data": {
      "text/html": [
       "<div>\n",
       "<style scoped>\n",
       "    .dataframe tbody tr th:only-of-type {\n",
       "        vertical-align: middle;\n",
       "    }\n",
       "\n",
       "    .dataframe tbody tr th {\n",
       "        vertical-align: top;\n",
       "    }\n",
       "\n",
       "    .dataframe thead th {\n",
       "        text-align: right;\n",
       "    }\n",
       "</style>\n",
       "<table border=\"1\" class=\"dataframe\">\n",
       "  <thead>\n",
       "    <tr style=\"text-align: right;\">\n",
       "      <th></th>\n",
       "      <th>0</th>\n",
       "      <th>1</th>\n",
       "      <th>2</th>\n",
       "      <th>3</th>\n",
       "      <th>4</th>\n",
       "      <th>5</th>\n",
       "      <th>6</th>\n",
       "      <th>7</th>\n",
       "      <th>8</th>\n",
       "      <th>9</th>\n",
       "      <th>...</th>\n",
       "      <th>17</th>\n",
       "      <th>18</th>\n",
       "      <th>19</th>\n",
       "      <th>20</th>\n",
       "      <th>21</th>\n",
       "      <th>22</th>\n",
       "      <th>23</th>\n",
       "      <th>24</th>\n",
       "      <th>25</th>\n",
       "      <th>26</th>\n",
       "    </tr>\n",
       "  </thead>\n",
       "  <tbody>\n",
       "    <tr>\n",
       "      <th>0</th>\n",
       "      <td>2</td>\n",
       "      <td>대분류</td>\n",
       "      <td>소분류</td>\n",
       "      <td>돈비어천가</td>\n",
       "      <td>ㅎㅇ4</td>\n",
       "      <td>ㅎㅇ5</td>\n",
       "      <td>1</td>\n",
       "      <td>2</td>\n",
       "      <td>ㅎㅇ8</td>\n",
       "      <td>ㅎㅇ9</td>\n",
       "      <td>...</td>\n",
       "      <td>17ㅎㅇ</td>\n",
       "      <td>18ㅎㅇ</td>\n",
       "      <td>19ㅎㅇ</td>\n",
       "      <td>20ㅎㅇ</td>\n",
       "      <td>21ㅎㅇ</td>\n",
       "      <td>22ㅎㅇ</td>\n",
       "      <td>23ㅎㅇ</td>\n",
       "      <td>24ㅎㅇ</td>\n",
       "      <td>25ㅎㅇ</td>\n",
       "      <td>26ㅎㅇ</td>\n",
       "    </tr>\n",
       "    <tr>\n",
       "      <th>1</th>\n",
       "      <td>3</td>\n",
       "      <td>대분류</td>\n",
       "      <td>소분류</td>\n",
       "      <td>동암아구해물탕</td>\n",
       "      <td>ㅎㅇ4</td>\n",
       "      <td>ㅎㅇ5</td>\n",
       "      <td>1</td>\n",
       "      <td>2</td>\n",
       "      <td>ㅎㅇ8</td>\n",
       "      <td>ㅎㅇ9</td>\n",
       "      <td>...</td>\n",
       "      <td>17ㅎㅇ</td>\n",
       "      <td>18ㅎㅇ</td>\n",
       "      <td>19ㅎㅇ</td>\n",
       "      <td>20ㅎㅇ</td>\n",
       "      <td>21ㅎㅇ</td>\n",
       "      <td>22ㅎㅇ</td>\n",
       "      <td>23ㅎㅇ</td>\n",
       "      <td>24ㅎㅇ</td>\n",
       "      <td>25ㅎㅇ</td>\n",
       "      <td>26ㅎㅇ</td>\n",
       "    </tr>\n",
       "    <tr>\n",
       "      <th>2</th>\n",
       "      <td>4</td>\n",
       "      <td>대분류</td>\n",
       "      <td>소분류</td>\n",
       "      <td>등나무가든</td>\n",
       "      <td>ㅎㅇ4</td>\n",
       "      <td>ㅎㅇ5</td>\n",
       "      <td>1</td>\n",
       "      <td>2</td>\n",
       "      <td>ㅎㅇ8</td>\n",
       "      <td>ㅎㅇ9</td>\n",
       "      <td>...</td>\n",
       "      <td>17ㅎㅇ</td>\n",
       "      <td>18ㅎㅇ</td>\n",
       "      <td>19ㅎㅇ</td>\n",
       "      <td>20ㅎㅇ</td>\n",
       "      <td>21ㅎㅇ</td>\n",
       "      <td>22ㅎㅇ</td>\n",
       "      <td>23ㅎㅇ</td>\n",
       "      <td>24ㅎㅇ</td>\n",
       "      <td>25ㅎㅇ</td>\n",
       "      <td>26ㅎㅇ</td>\n",
       "    </tr>\n",
       "    <tr>\n",
       "      <th>3</th>\n",
       "      <td>5</td>\n",
       "      <td>대분류</td>\n",
       "      <td>소분류</td>\n",
       "      <td>마포소금구이</td>\n",
       "      <td>ㅎㅇ4</td>\n",
       "      <td>ㅎㅇ5</td>\n",
       "      <td>1</td>\n",
       "      <td>2</td>\n",
       "      <td>ㅎㅇ8</td>\n",
       "      <td>ㅎㅇ9</td>\n",
       "      <td>...</td>\n",
       "      <td>17ㅎㅇ</td>\n",
       "      <td>18ㅎㅇ</td>\n",
       "      <td>19ㅎㅇ</td>\n",
       "      <td>20ㅎㅇ</td>\n",
       "      <td>21ㅎㅇ</td>\n",
       "      <td>22ㅎㅇ</td>\n",
       "      <td>23ㅎㅇ</td>\n",
       "      <td>24ㅎㅇ</td>\n",
       "      <td>25ㅎㅇ</td>\n",
       "      <td>26ㅎㅇ</td>\n",
       "    </tr>\n",
       "  </tbody>\n",
       "</table>\n",
       "<p>4 rows × 27 columns</p>\n",
       "</div>"
      ],
      "text/plain": [
       "   0    1    2        3    4    5   6   7    8    9   ...    17    18    19  \\\n",
       "0   2  대분류  소분류    돈비어천가  ㅎㅇ4  ㅎㅇ5   1   2  ㅎㅇ8  ㅎㅇ9  ...  17ㅎㅇ  18ㅎㅇ  19ㅎㅇ   \n",
       "1   3  대분류  소분류  동암아구해물탕  ㅎㅇ4  ㅎㅇ5   1   2  ㅎㅇ8  ㅎㅇ9  ...  17ㅎㅇ  18ㅎㅇ  19ㅎㅇ   \n",
       "2   4  대분류  소분류    등나무가든  ㅎㅇ4  ㅎㅇ5   1   2  ㅎㅇ8  ㅎㅇ9  ...  17ㅎㅇ  18ㅎㅇ  19ㅎㅇ   \n",
       "3   5  대분류  소분류   마포소금구이  ㅎㅇ4  ㅎㅇ5   1   2  ㅎㅇ8  ㅎㅇ9  ...  17ㅎㅇ  18ㅎㅇ  19ㅎㅇ   \n",
       "\n",
       "     20    21    22    23    24    25    26  \n",
       "0  20ㅎㅇ  21ㅎㅇ  22ㅎㅇ  23ㅎㅇ  24ㅎㅇ  25ㅎㅇ  26ㅎㅇ  \n",
       "1  20ㅎㅇ  21ㅎㅇ  22ㅎㅇ  23ㅎㅇ  24ㅎㅇ  25ㅎㅇ  26ㅎㅇ  \n",
       "2  20ㅎㅇ  21ㅎㅇ  22ㅎㅇ  23ㅎㅇ  24ㅎㅇ  25ㅎㅇ  26ㅎㅇ  \n",
       "3  20ㅎㅇ  21ㅎㅇ  22ㅎㅇ  23ㅎㅇ  24ㅎㅇ  25ㅎㅇ  26ㅎㅇ  \n",
       "\n",
       "[4 rows x 27 columns]"
      ]
     },
     "execution_count": 6,
     "metadata": {},
     "output_type": "execute_result"
    }
   ],
   "source": [
    "data2"
   ]
  },
  {
   "cell_type": "code",
   "execution_count": 7,
   "id": "df599b38",
   "metadata": {
    "ExecuteTime": {
     "end_time": "2023-08-11T03:06:36.562820Z",
     "start_time": "2023-08-11T03:06:36.540855Z"
    }
   },
   "outputs": [
    {
     "data": {
      "text/plain": [
       "0      돈비어천가\n",
       "1    동암아구해물탕\n",
       "2      등나무가든\n",
       "3     마포소금구이\n",
       "Name: 3, dtype: object"
      ]
     },
     "execution_count": 7,
     "metadata": {},
     "output_type": "execute_result"
    }
   ],
   "source": [
    "data2[3]"
   ]
  },
  {
   "cell_type": "code",
   "execution_count": 8,
   "id": "2ca1f45b",
   "metadata": {
    "ExecuteTime": {
     "end_time": "2023-08-11T03:06:36.923188Z",
     "start_time": "2023-08-11T03:06:36.917204Z"
    }
   },
   "outputs": [],
   "source": [
    "lists=data2[3]"
   ]
  },
  {
   "cell_type": "code",
   "execution_count": 9,
   "id": "6fe2570a",
   "metadata": {
    "ExecuteTime": {
     "end_time": "2023-08-11T03:06:37.328154Z",
     "start_time": "2023-08-11T03:06:37.308209Z"
    }
   },
   "outputs": [
    {
     "data": {
      "text/plain": [
       "0      돈비어천가\n",
       "1    동암아구해물탕\n",
       "2      등나무가든\n",
       "3     마포소금구이\n",
       "Name: 3, dtype: object"
      ]
     },
     "execution_count": 9,
     "metadata": {},
     "output_type": "execute_result"
    }
   ],
   "source": [
    "lists"
   ]
  },
  {
   "cell_type": "code",
   "execution_count": 10,
   "id": "541b23c6",
   "metadata": {
    "ExecuteTime": {
     "end_time": "2023-08-11T03:06:37.859998Z",
     "start_time": "2023-08-11T03:06:37.675802Z"
    }
   },
   "outputs": [],
   "source": [
    "import urllib.request\n",
    "import json\n",
    "import requests\n",
    "import os\n",
    "import sys"
   ]
  },
  {
   "cell_type": "code",
   "execution_count": 11,
   "id": "280f8c39",
   "metadata": {
    "ExecuteTime": {
     "end_time": "2023-08-11T03:06:38.015021Z",
     "start_time": "2023-08-11T03:06:38.004049Z"
    }
   },
   "outputs": [],
   "source": [
    "def df_make(raw_json):\n",
    "    all_data=[]\n",
    "    column_list=['postdate','bloggername','description','link','title', 'bloggerlink']\n",
    "\n",
    "    for record in raw_json['items']:\n",
    "        row_data=[]\n",
    "        for column_data in column_list:\n",
    "            row_data.append(record.get(column_data))\n",
    "        all_data.append(row_data)\n",
    "\n",
    "    return column_list, all_data"
   ]
  },
  {
   "cell_type": "code",
   "execution_count": 12,
   "id": "e31f89a1",
   "metadata": {
    "ExecuteTime": {
     "end_time": "2023-08-11T03:06:38.363839Z",
     "start_time": "2023-08-11T03:06:38.348878Z"
    }
   },
   "outputs": [],
   "source": [
    "# 네이버 api 아이디, pw\n",
    "id ='PlarbZV3yEXbIyboynxp'\n",
    "pw='3az9LS7plV'\n",
    "# encText = urllib.parse.quote(string2)\n",
    "\n"
   ]
  },
  {
   "cell_type": "code",
   "execution_count": null,
   "id": "5157acf0",
   "metadata": {},
   "outputs": [],
   "source": []
  },
  {
   "cell_type": "code",
   "execution_count": 13,
   "id": "a0990d10",
   "metadata": {
    "ExecuteTime": {
     "end_time": "2023-08-11T03:06:39.880191Z",
     "start_time": "2023-08-11T03:06:39.228393Z"
    }
   },
   "outputs": [
    {
     "name": "stdout",
     "output_type": "stream",
     "text": [
      "돈비어천가\n",
      "{\n",
      "\t\"lastBuildDate\":\"Fri, 11 Aug 2023 12:06:41 +0900\",\n",
      "\t\"total\":430,\n",
      "\t\"start\":1,\n",
      "\t\"display\":10,\n",
      "\t\"items\":[\n",
      "\t\t{\n",
      "\t\t\t\"title\":\"동인천 신포시장 맛집 &lt;<b>돈비어천가<\\/b>&gt; 갈비 먹고 온 후기.\",\n",
      "\t\t\t\"link\":\"https:\\/\\/blog.naver.com\\/amelchouchou\\/223040054070\",\n",
      "\t\t\t\"description\":\"<b>돈비어천가<\\/b> 돼지고기구이 주소 : 인천 중구 개항로 53-1 <b>돈비어천가<\\/b> 영업시간 : 월,수,목,금,토,일 11시30분~21시30분 *15시~17시 브레이크타임 *라이스오더 14시 \\/ 20시30분 *화요일 정기휴무 엄마가 얼마 전에... \",\n",
      "\t\t\t\"bloggername\":\"일꾼 민설이의 술꾼 바이브\",\n",
      "\t\t\t\"bloggerlink\":\"blog.naver.com\\/amelchouchou\",\n",
      "\t\t\t\"postdate\":\"20230310\"\n",
      "\t\t},\n",
      "\t\t{\n",
      "\t\t\t\"title\":\"[동인천 맛집] <b>돈비어천가<\\/b> | 왕갈비가 맛있는 집\",\n",
      "\t\t\t\"link\":\"https:\\/\\/blog.naver.com\\/k_eunjin0207\\/222897080949\",\n",
      "\t\t\t\"description\":\"신포동에 진짜 오래된 가게가 있는데 저는 한번도 안가봤었는데 망하지 않고 오래 있는 이유가 있을 거 같아서 이번에 찾아간 #<b>돈비어천가<\\/b> 를 포스팅하려고 해요!! <b>돈비어천가<\\/b> 매일 11:00~22:00(브레이크타임 15:00... \",\n",
      "\t\t\t\"bloggername\":\"쪼이로그\",\n",
      "\t\t\t\"bloggerlink\":\"blog.naver.com\\/k_eunjin0207\",\n",
      "\t\t\t\"postdate\":\"20221011\"\n",
      "\t\t},\n",
      "\t\t{\n",
      "\t\t\t\"title\":\"동인천 놀이방식당 신포동 <b>돈비어천가<\\/b>\",\n",
      "\t\t\t\"link\":\"https:\\/\\/blog.naver.com\\/anh917759\\/223149077267\",\n",
      "\t\t\t\"description\":\"( 인천쪽의 여러식당과음식에 대한 지식이 많으신 분께서 원래 <b>돈비어천가<\\/b>가 태능숯불갈비였다고 비밀댓글로 알려주심) 그래서 백년가게 인가봄. 무튼 이곳은 이제 <b>돈비어천가<\\/b> 고객 무료 주차장임. 주차장 바로... \",\n",
      "\t\t\t\"bloggername\":\"리리들의 맛있는 일상♡\",\n",
      "\t\t\t\"bloggerlink\":\"blog.naver.com\\/anh917759\",\n",
      "\t\t\t\"postdate\":\"20230707\"\n",
      "\t\t},\n",
      "\t\t{\n",
      "\t\t\t\"title\":\"&lt;신포시장 근처&gt; 백년의 맛을녹여낸 수제갈비 &quot;<b>돈비어천가<\\/b>&quot;\",\n",
      "\t\t\t\"link\":\"https:\\/\\/blog.naver.com\\/dkdlatmzp\\/223070698764\",\n",
      "\t\t\t\"description\":\"백년가게 인증된 &quot;<b>돈비어천가<\\/b>&quot; 오늘 한번 야무지게 뜯어보자 인천광역시 중구 개항로 53-1 매일 11시... 완비 <b>돈비어천가<\\/b> 고객은 주차장 무료! 이렇게 태능갈비라 써있는데 상표등록 관계로 주인이 바뀌지 않은... \",\n",
      "\t\t\t\"bloggername\":\"소당소당 _감성 미식회\",\n",
      "\t\t\t\"bloggerlink\":\"blog.naver.com\\/dkdlatmzp\",\n",
      "\t\t\t\"postdate\":\"20230410\"\n",
      "\t\t},\n",
      "\t\t{\n",
      "\t\t\t\"title\":\"동인천 양념갈비 고기 맛집 <b>돈비어천가<\\/b> 50년째 운영중인 곳... \",\n",
      "\t\t\t\"link\":\"https:\\/\\/blog.naver.com\\/brosense\\/223098407969\",\n",
      "\t\t\t\"description\":\"오늘은 동인천에 있는 양념갈비 찐맛집 <b>돈비어천가<\\/b>를 소개해 드리려고 합니다!! 위치 : 동인천역 2번... 또 <b>돈비어천가<\\/b>가 좋은 점은 놀이방이 있다는 건데요!! 가족단위로도 방문하기 너무 좋을 거 같아요!!... \",\n",
      "\t\t\t\"bloggername\":\"로그훈\",\n",
      "\t\t\t\"bloggerlink\":\"blog.naver.com\\/brosense\",\n",
      "\t\t\t\"postdate\":\"20230510\"\n",
      "\t\t},\n",
      "\t\t{\n",
      "\t\t\t\"title\":\"인천 신포동 백년가게 숯불돼지갈비 맛집 ‘<b>돈비어천가<\\/b>’\",\n",
      "\t\t\t\"link\":\"https:\\/\\/blog.naver.com\\/leesming\\/222515383061\",\n",
      "\t\t\t\"description\":\"Since 1974 저렴한 노포의 위력 [매일 11:30 - 22:00] <b>돈비어천가<\\/b> 인천에 왔는데 뭘 먹을까? 검색하다 온 집. 후기 중에 &quot;어릴 때부터 먹던 맛집, 아이들과 함께 왔어요&quot;라고 해서, 오래된 로컬 맛집의 느낌이 확!!... \",\n",
      "\t\t\t\"bloggername\":\"Stay healthy and Strong!\",\n",
      "\t\t\t\"bloggerlink\":\"blog.naver.com\\/leesming\",\n",
      "\t\t\t\"postdate\":\"20210924\"\n",
      "\t\t},\n",
      "\t\t{\n",
      "\t\t\t\"title\":\"동인천맛집 <b>돈비어천가<\\/b> 육즙이 흘러\",\n",
      "\t\t\t\"link\":\"https:\\/\\/blog.naver.com\\/iambest0309\\/222482771948\",\n",
      "\t\t\t\"description\":\"동인천에 산다는 사람들은 다 안다는 <b>돈비어천가<\\/b>! 저 옛날에 이 근방 중학교를 졸업하고 나서 졸업식때... 지금은 멀리 이사를 가서 이 근방에 온김에 들렀다가 후기를 남기도록 합니다 <b>돈비어천가<\\/b> <b>돈비어천가<\\/b>... \",\n",
      "\t\t\t\"bloggername\":\"그동안 감사했습니당\",\n",
      "\t\t\t\"bloggerlink\":\"blog.naver.com\\/iambest0309\",\n",
      "\t\t\t\"postdate\":\"20210824\"\n",
      "\t\t},\n",
      "\t\t{\n",
      "\t\t\t\"title\":\"5지구 종합상가 대장장이 한칼, 인천시 내동 <b>돈비어천가<\\/b>\",\n",
      "\t\t\t\"link\":\"https:\\/\\/befreepark.tistory.com\\/6206\",\n",
      "\t\t\t\"description\":\"인천 <b>돈비어천가<\\/b> &gt; 인천광역시 중구 개항로 53-1 (지번) 인천시 중구 내동 205-4 ☎ ***-***-****... 내동 <b>돈비어천가<\\/b>, 경남 밀양시 아리랑시장 상설시장 할매보리밥, 경남 밀양시 서울떡집... \",\n",
      "\t\t\t\"bloggername\":\"공유와 소통의 산들바람 :: 공유와 소통의 산들바람\",\n",
      "\t\t\t\"bloggerlink\":\"https:\\/\\/befreepark.tistory.com\\/\",\n",
      "\t\t\t\"postdate\":\"20230111\"\n",
      "\t\t},\n",
      "\t\t{\n",
      "\t\t\t\"title\":\"인천 신포시장 맛집 <b>돈비어천가<\\/b> 돼지갈비가 맛있는 곳 주차꿀팁\",\n",
      "\t\t\t\"link\":\"https:\\/\\/blog.naver.com\\/value831983\\/223026919827\",\n",
      "\t\t\t\"description\":\"맛집 <b>돈비어천가<\\/b>에 다녀왔답니다 1974년부터 장사를 해오셨다니 어떤 집일지 기대가 되더라고요... 받아서 <b>돈비어천가<\\/b>를 끼고 우회전해서 골목으로 들어오면 요렇게 주차장이 또 있어요 리모컨으로 열고... \",\n",
      "\t\t\t\"bloggername\":\"올리비아의 맛있는 세상 이야기\",\n",
      "\t\t\t\"bloggerlink\":\"blog.naver.com\\/value831983\",\n",
      "\t\t\t\"postdate\":\"20230225\"\n",
      "\t\t},\n",
      "\t\t{\n",
      "\t\t\t\"title\":\"신포동 맛집 : <b>돈비어천가<\\/b> #돼지왕갈비 #냉면 맛집\",\n",
      "\t\t\t\"link\":\"https:\\/\\/blog.naver.com\\/ms4897\\/222489506589\",\n",
      "\t\t\t\"description\":\"태능갈비 <b>돈비어천가<\\/b> 매일 11:30 - 22:00 갈비가 너무 맛있었던 <b>돈비어천가<\\/b>에 다녀왔다. <b>돈비어천가<\\/b>는 동인천 신포 문화의 거리 초입에 위치해 있다. 신포시장 가는길, 씨채널 안경 주변에 위치해 있어서 위치를... \",\n",
      "\t\t\t\"bloggername\":\"Hoi-Log\",\n",
      "\t\t\t\"bloggerlink\":\"blog.naver.com\\/ms4897\",\n",
      "\t\t\t\"postdate\":\"20210830\"\n",
      "\t\t}\n",
      "\t]\n",
      "}\n",
      "동암아구해물탕\n",
      "{\n",
      "\t\"lastBuildDate\":\"Fri, 11 Aug 2023 12:06:41 +0900\",\n",
      "\t\"total\":106,\n",
      "\t\"start\":1,\n",
      "\t\"display\":10,\n",
      "\t\"items\":[\n",
      "\t\t{\n",
      "\t\t\t\"title\":\"<b>동암 아구해물탕<\\/b> 아구가 싱싱한 아귀찜 맛집 단체 회식하기 좋네!\",\n",
      "\t\t\t\"link\":\"https:\\/\\/blog.naver.com\\/epwjsh0908\\/223180337072\",\n",
      "\t\t\t\"description\":\"친절하고 맛있는 동암 아구찜 해물탕! 난 너무 맛있더라~ 또 먹고 싶다 #동암맛집 #동암아구찜 #동암해물탕 #동암단체회식 #동암먹을만한곳 #<b>동암아구해물탕<\\/b> #동암역먹자골목 #아구찜 #해물탕\",\n",
      "\t\t\t\"bloggername\":\"놀부가 꿈\",\n",
      "\t\t\t\"bloggerlink\":\"blog.naver.com\\/epwjsh0908\",\n",
      "\t\t\t\"postdate\":\"20230810\"\n",
      "\t\t},\n",
      "\t\t{\n",
      "\t\t\t\"title\":\"&lt;<b>동암 아구해물탕<\\/b>&gt;동암역 해물탕,해물찜 맛집으로 추천!!\",\n",
      "\t\t\t\"link\":\"https:\\/\\/blog.naver.com\\/happyyhn\\/223097678251\",\n",
      "\t\t\t\"description\":\"동암역에 있는 #<b>동암아구해물탕<\\/b> 여기 근처에 여러가게에서 아구찜이랑 해물탕등을 판매하고 있다 <b>동암아구해물탕<\\/b> 영업시간 : 모르게따.. 전화번호 : 032-435-0233 영업시간은 사진도 못찍었는데 네이버에도... \",\n",
      "\t\t\t\"bloggername\":\"하모의 일상\",\n",
      "\t\t\t\"bloggerlink\":\"blog.naver.com\\/happyyhn\",\n",
      "\t\t\t\"postdate\":\"20230509\"\n",
      "\t\t},\n",
      "\t\t{\n",
      "\t\t\t\"title\":\"D+185 아빠의 생일 : <b>동암아구해물탕<\\/b>, 산너머남촌 인천본점\",\n",
      "\t\t\t\"link\":\"https:\\/\\/blog.naver.com\\/heedan\\/221531980682\",\n",
      "\t\t\t\"description\":\"점심 식사는 친가 식구들과 함께~ 집 근처 #<b>동암아구해물탕<\\/b> 연애할 때 자주 갔었는데 결혼하곤 처음 간 것 같다. 해물탕도 해물찜도 푸짐하고 맛남! 근데 이 날은 아구탕이었나 뭔가 안 먹어본 거 먹어봄 ㅋㅋ... \",\n",
      "\t\t\t\"bloggername\":\"단우IT시우 (단우있시우)\",\n",
      "\t\t\t\"bloggerlink\":\"blog.naver.com\\/heedan\",\n",
      "\t\t\t\"postdate\":\"20190508\"\n",
      "\t\t},\n",
      "\t\t{\n",
      "\t\t\t\"title\":\"[인천\\/동암] <b>동암아구해물탕<\\/b>\",\n",
      "\t\t\t\"link\":\"https:\\/\\/blog.naver.com\\/yooneunji55\\/80206223739\",\n",
      "\t\t\t\"description\":\"울엄마가조아하는<b>아구<\\/b>찜~~~ 사실나는안조아하지만엄빠가좋아해!!!! 은미까지기다려서엄빠랑넷이<b>동암<\\/b>갑니당 <b>동암<\\/b> 먹자골목에 해물찜 파는곳 많은데 엄마는여기가젤맛있대ㅋㅋㅋㅋㅋ엄마말이옳지... \",\n",
      "\t\t\t\"bloggername\":\"윤지\",\n",
      "\t\t\t\"bloggerlink\":\"blog.naver.com\\/yooneunji55\",\n",
      "\t\t\t\"postdate\":\"20140126\"\n",
      "\t\t},\n",
      "\t\t{\n",
      "\t\t\t\"title\":\"<b>동암 아구<\\/b>·<b>해물탕<\\/b> 에서 해물찜 짱맛!!\",\n",
      "\t\t\t\"link\":\"https:\\/\\/blog.naver.com\\/transpak117\\/220621568397\",\n",
      "\t\t\t\"description\":\"동암역 북부에 먹자골목쪽으로 들어가면 새마을식당맞은편에 <b>동암 아구 해물탕<\\/b>이 딱 우리는 아구찜도... 해물탕집치고 밑반찬이 이렇게많이나오는곳은 처음봐용ㅋㅋ 와사비간장이랑 앞접시 세팅 끗... \",\n",
      "\t\t\t\"bloggername\":\"애알언니네 블로그♡\",\n",
      "\t\t\t\"bloggerlink\":\"blog.naver.com\\/transpak117\",\n",
      "\t\t\t\"postdate\":\"20160208\"\n",
      "\t\t},\n",
      "\t\t{\n",
      "\t\t\t\"title\":\"동암먹자골목 -<b>동암아구해물탕<\\/b>:지극히 개인적인 리뷰.\",\n",
      "\t\t\t\"link\":\"https:\\/\\/blog.naver.com\\/ssther1286\\/221486795542\",\n",
      "\t\t\t\"description\":\"간 동암 아구해물과 Y해물찜, B해물탕 등등.. 개인적으론 Y해물찜이 가고 싶었지만. 다른 선생님들의 추천으로 오늘은 <b>동암 아구해물탕<\\/b>으로 픽! 오랫동안 그 자리를 지킨 곳이니 맛은 보장하겠다 싶다 우리가... \",\n",
      "\t\t\t\"bloggername\":\"연애하는 부부♡\",\n",
      "\t\t\t\"bloggerlink\":\"blog.naver.com\\/ssther1286\",\n",
      "\t\t\t\"postdate\":\"20190312\"\n",
      "\t\t},\n",
      "\t\t{\n",
      "\t\t\t\"title\":\"동암 맛집 \\/ <b>동암 아구 해물탕<\\/b>\",\n",
      "\t\t\t\"link\":\"https:\\/\\/blog.naver.com\\/crazy427\\/220054437864\",\n",
      "\t\t\t\"description\":\"동암 맛집 \\/ <b>동암 아구 해물탕<\\/b> 동암 유명한 맛집 동암 아구 해물찜 \\/ <b>동암 아구 해물탕<\\/b> 동암에 해물찜과 해물탕집이 몇 군데 더 있는데.. 여기가 젤로 맛있다!!! 항상 손님들로 북적북적하다!!! 메뉴판이다 매번... \",\n",
      "\t\t\t\"bloggername\":\"얌전한 쁘니맘의 인생이야기\",\n",
      "\t\t\t\"bloggerlink\":\"blog.naver.com\\/crazy427\",\n",
      "\t\t\t\"postdate\":\"20140709\"\n",
      "\t\t},\n",
      "\t\t{\n",
      "\t\t\t\"title\":\"170707-<b>동암 아구<\\/b>,<b>해물탕<\\/b>\",\n",
      "\t\t\t\"link\":\"https:\\/\\/blog.naver.com\\/seyoung699\\/221054532204\",\n",
      "\t\t\t\"description\":\"닭알 두알과 찌즈 한장 샤샤샥 완성띠 배고파서 아주 맛있게 먹음 동암먹자쪽에 <b>동암 아구<\\/b>.<b>해물탕<\\/b> 집 감... ~ <b>동암 아구해물탕<\\/b> 평생 다신 안감 건너편 유진이나 부성을 가겠음 근데 볶음밥 시키면서 미더덕... \",\n",
      "\t\t\t\"bloggername\":\"홍블리의 하루\",\n",
      "\t\t\t\"bloggerlink\":\"blog.naver.com\\/seyoung699\",\n",
      "\t\t\t\"postdate\":\"20170719\"\n",
      "\t\t},\n",
      "\t\t{\n",
      "\t\t\t\"title\":\"부평구 십정동 <b>동암아구해물탕<\\/b>\",\n",
      "\t\t\t\"link\":\"https:\\/\\/blog.naver.com\\/yeeun960222\\/220404438523\",\n",
      "\t\t\t\"description\":\"업소는 <b>동암 아구해물탕<\\/b>이랍니다~ 부평구 십정동 420-2 위치해있고 동암역 2번출구에서 삼거리를 쭉... 맑은 해물탕을 개발한 곳이에요 기회가 된다면 맑은 해물탕을 꼭 한번 먹어보고 싶어요 쭈꾸미가 귀엽게... \",\n",
      "\t\t\t\"bloggername\":\"생긴대로 살면서 후회없이 먹는 人\",\n",
      "\t\t\t\"bloggerlink\":\"blog.naver.com\\/yeeun960222\",\n",
      "\t\t\t\"postdate\":\"20150629\"\n",
      "\t\t},\n",
      "\t\t{\n",
      "\t\t\t\"title\":\"<b>동암 아구해물탕<\\/b>\",\n",
      "\t\t\t\"link\":\"https:\\/\\/blog.naver.com\\/ssopung\\/50142119504\",\n",
      "\t\t\t\"description\":\"<b>동암<\\/b>북부역으로 나오면 길 건너에 먹자골목이 있다. 먹자골목안에 유독 많은 집이 <b>해물탕<\\/b>... ㅠㅠ) 앞에 새마을식당이 있다^^ 엄마랑 나랑 둘이라서 <b>아구<\\/b>찜 작은거와 음료수 하나를 시켰다. 기본 찬 부침개와... \",\n",
      "\t\t\t\"bloggername\":\"쏘의 風流 이야기, 소풍\",\n",
      "\t\t\t\"bloggerlink\":\"blog.naver.com\\/ssopung\",\n",
      "\t\t\t\"postdate\":\"20120527\"\n",
      "\t\t}\n",
      "\t]\n",
      "}\n",
      "등나무가든\n",
      "{\n",
      "\t\"lastBuildDate\":\"Fri, 11 Aug 2023 12:06:41 +0900\",\n",
      "\t\"total\":5760,\n",
      "\t\"start\":1,\n",
      "\t\"display\":10,\n",
      "\t\"items\":[\n",
      "\t\t{\n",
      "\t\t\t\"title\":\"강화도맛집 장어구이 [<b>등나무가든<\\/b>]\",\n",
      "\t\t\t\"link\":\"https:\\/\\/blog.naver.com\\/chlhea\\/223112345954\",\n",
      "\t\t\t\"description\":\"#강화도맛집 #강화맛집 #강화도장어구이 #<b>등나무가든<\\/b> #<b>등나무가든<\\/b>장어 #<b>등나무가든<\\/b>전복 여러분 안녕하세요~~ 오늘은 강화도맛집인 장어구이전문점 <b>등나무가든<\\/b>에 다녀온 이야기를 가져왔답니다! 오랜만에... \",\n",
      "\t\t\t\"bloggername\":\"토끼의 일상이야기.\",\n",
      "\t\t\t\"bloggerlink\":\"blog.naver.com\\/chlhea\",\n",
      "\t\t\t\"postdate\":\"20230526\"\n",
      "\t\t},\n",
      "\t\t{\n",
      "\t\t\t\"title\":\"여자 혼자 여행 수원 노송지대 노송공원과 <b>등나무<\\/b> 명소 삼풍<b>가든<\\/b>\",\n",
      "\t\t\t\"link\":\"https:\\/\\/blog.naver.com\\/ydl1\\/223092565853\",\n",
      "\t\t\t\"description\":\"날은 365일이지만, 특히 5월은 연휴가 많아서 여자 혼자 여행으로 갈만한곳도 많아요. 수원 여행으로 수원화성뿐 아니라 솔향 맡으며 산책하기 좋은 노송지대와 삼풍<b>가든<\\/b> <b>등나무<\\/b>꽃 등 꽃구경하며 사진찍기 좋아요.\",\n",
      "\t\t\t\"bloggername\":\"타임머신 타고 과거로 딱따구리의 발자취를 찾아서\",\n",
      "\t\t\t\"bloggerlink\":\"blog.naver.com\\/ydl1\",\n",
      "\t\t\t\"postdate\":\"20230503\"\n",
      "\t\t},\n",
      "\t\t{\n",
      "\t\t\t\"title\":\"[강화도맛집] <b>등나무가든<\\/b>에서 부모님모시고 바다뷰와 몸에좋은... \",\n",
      "\t\t\t\"link\":\"https:\\/\\/blog.naver.com\\/forecoliberty\\/223076446415\",\n",
      "\t\t\t\"description\":\"강화도맛집 <b>등나무가든<\\/b> 해신탕 안녕하세요! 요즘 날이 따뜻해지는가 싶다가도 갑자기 추워지고 이런... 강화도 #<b>등나무가든<\\/b> 으로 찾아왔는데용! 이곳은 36년이나 쭉~~ 장사해온 식당으로 전망도 끝내준다고... \",\n",
      "\t\t\t\"bloggername\":\"♡forecoliberty♡ Welcome to my Blog\",\n",
      "\t\t\t\"bloggerlink\":\"blog.naver.com\\/forecoliberty\",\n",
      "\t\t\t\"postdate\":\"20230416\"\n",
      "\t\t},\n",
      "\t\t{\n",
      "\t\t\t\"title\":\"<b>등나무 가든<\\/b> @강화도\",\n",
      "\t\t\t\"link\":\"https:\\/\\/blog.naver.com\\/liziah\\/223153946155\",\n",
      "\t\t\t\"description\":\"<b>등나무가든<\\/b>  위치 | 인천 강화군 길상면 해안동로 76 ⏰ 시간 | 매일 11:00 - 20:00  주차 | 매장 앞 마당... #<b>등나무가든<\\/b> 단독주택같던 집이라 입구부터 화분으로 꾸며져 있더라  메뉴 원래 강화도장어구이가... \",\n",
      "\t\t\t\"bloggername\":\"계절여행 ✿*｡⋆\",\n",
      "\t\t\t\"bloggerlink\":\"blog.naver.com\\/liziah\",\n",
      "\t\t\t\"postdate\":\"20230712\"\n",
      "\t\t},\n",
      "\t\t{\n",
      "\t\t\t\"title\":\"강화맛집 <b>등나무가든<\\/b>\",\n",
      "\t\t\t\"link\":\"https:\\/\\/blog.naver.com\\/jjhao\\/223022293121\",\n",
      "\t\t\t\"description\":\"식당 <b>등나무가든<\\/b>이다. 들어서 본다. 이렇게 사진을 찍을 땐 저 이층건물이 식당인 줄만..ㅎ 제대로 둘러보니 주차장 바로 앞엔 이 건물이 있다. 건물 위에 간판이 없어 잠깐 멈칫했다. 다행히 입구에 <b>등나무가든<\\/b>... \",\n",
      "\t\t\t\"bloggername\":\"떠나자\",\n",
      "\t\t\t\"bloggerlink\":\"blog.naver.com\\/jjhao\",\n",
      "\t\t\t\"postdate\":\"20230220\"\n",
      "\t\t},\n",
      "\t\t{\n",
      "\t\t\t\"title\":\"강화도맛집 강화<b>등나무가든<\\/b>\",\n",
      "\t\t\t\"link\":\"https:\\/\\/blog.naver.com\\/along00\\/223149657175\",\n",
      "\t\t\t\"description\":\"햇빛과 바람이 너무도 강해서 우리는 점심식사를 하기 위해 강화도 맛집 <b>등나무가든<\\/b>으로이동했다. 36년 전통의 강화도 최고의 전망 맛집이라고 한다. 강화 <b>등나무 가든<\\/b> 강화 <b>등나무가든<\\/b> 입구 강화도맛집 강화... \",\n",
      "\t\t\t\"bloggername\":\"샤랄랄라 오여사\",\n",
      "\t\t\t\"bloggerlink\":\"blog.naver.com\\/along00\",\n",
      "\t\t\t\"postdate\":\"20230707\"\n",
      "\t\t},\n",
      "\t\t{\n",
      "\t\t\t\"title\":\"[강화도맛집\\/강화맛집] <b>등나무가든<\\/b> - 해신탕, 장어구이\",\n",
      "\t\t\t\"link\":\"https:\\/\\/blog.naver.com\\/lllll_jjjjj\\/223120739165\",\n",
      "\t\t\t\"description\":\"[강화도맛집\\/강화맛집] <b>등나무가든<\\/b> - 해신탕, 장어구이 본격적으로 더워지기전에 바다도 보고 보신도 미리미리 해두기위해 방문한 강화도맛집 <b>등나무가든<\\/b> 강화도장어맛집, 강화도장어구이로 유명한 곳이라... \",\n",
      "\t\t\t\"bloggername\":\"오렌지커피\",\n",
      "\t\t\t\"bloggerlink\":\"blog.naver.com\\/lllll_jjjjj\",\n",
      "\t\t\t\"postdate\":\"20230605\"\n",
      "\t\t},\n",
      "\t\t{\n",
      "\t\t\t\"title\":\"강화도장어구이 랍스터 맛집으로 유명한 <b>등나무가든<\\/b>\",\n",
      "\t\t\t\"link\":\"https:\\/\\/blog.naver.com\\/comiyoun\\/222953715542\",\n",
      "\t\t\t\"description\":\"맛집 <b>등나무가든<\\/b> 강화도 가서 뭐 먹을까? 뭐 먹을까? 하다가 해산물이나 장어구이 요런 구이류를 먹고 싶다는 찌니를 위해 제가 강화도에 위치한 랍스터 장어구이 맛집을 찾아서 데려가 줬어요! <b>등나무가든<\\/b> 위치... \",\n",
      "\t\t\t\"bloggername\":\"먹고즐기는 꽁띠드 쏘니아\",\n",
      "\t\t\t\"bloggerlink\":\"blog.naver.com\\/comiyoun\",\n",
      "\t\t\t\"postdate\":\"20221213\"\n",
      "\t\t},\n",
      "\t\t{\n",
      "\t\t\t\"title\":\"<b>등나무가든<\\/b> 강화도맛집 강화맛집추천\",\n",
      "\t\t\t\"link\":\"https:\\/\\/blog.naver.com\\/alslthek\\/223017069112\",\n",
      "\t\t\t\"description\":\"<b>등나무가든<\\/b> 강화도맛집 강화맛집 추천 안녕하세요~ 수민이예요 엄마랑 강화도 여행으로 바다도 보고... 있었고 등나무 구이 한판으로 랍스터구이 와 킹타이거 새우 도 주문할수 있었답니다 ~ 메뉴가 다양하고... \",\n",
      "\t\t\t\"bloggername\":\"수민의 뷰티 홀릭 스토리 ♡\",\n",
      "\t\t\t\"bloggerlink\":\"blog.naver.com\\/alslthek\",\n",
      "\t\t\t\"postdate\":\"20230215\"\n",
      "\t\t},\n",
      "\t\t{\n",
      "\t\t\t\"title\":\"강화도 장어 맛집 오션뷰 맛집 <b>등나무 가든<\\/b>\",\n",
      "\t\t\t\"link\":\"https:\\/\\/blog.naver.com\\/o9tititi\\/223179047675\",\n",
      "\t\t\t\"description\":\"강화도 장어 맛집 오션뷰 맛집 <b>등나무 가든<\\/b> 안녕하세요 :) 여러분들은 TV에서 방송된 맛집들을... 하나인 '<b>등나무 가든<\\/b>'이라는 곳을 소개해 드릴까 해요 강화도 맛집 <b>등나무 가든<\\/b>은 생방송 투데이, 2TV 생생정보... \",\n",
      "\t\t\t\"bloggername\":\"오늘도 일상공유 Blog\",\n",
      "\t\t\t\"bloggerlink\":\"blog.naver.com\\/o9tititi\",\n",
      "\t\t\t\"postdate\":\"20230809\"\n",
      "\t\t}\n",
      "\t]\n",
      "}\n",
      "마포소금구이\n"
     ]
    },
    {
     "name": "stdout",
     "output_type": "stream",
     "text": [
      "{\n",
      "\t\"lastBuildDate\":\"Fri, 11 Aug 2023 12:06:42 +0900\",\n",
      "\t\"total\":19103,\n",
      "\t\"start\":1,\n",
      "\t\"display\":10,\n",
      "\t\"items\":[\n",
      "\t\t{\n",
      "\t\t\t\"title\":\"압구정 고기집 돼지특수부위 원조<b>마포소금구이<\\/b> 도산점\",\n",
      "\t\t\t\"link\":\"https:\\/\\/blog.naver.com\\/scarlettjang\\/223132027181\",\n",
      "\t\t\t\"description\":\"오늘은 핫하디 핫한 원조<b>마포소금구이<\\/b>에 방문해 맛있는 묻지 마 고기를 먹고 온 후기를 가지고... 소금에 콕 찍어 먹어도 맛있는 묻지마 고기입니다. 점심으로 먹어도 담백한 고기가 전혀 헤비하게 느껴지지... \",\n",
      "\t\t\t\"bloggername\":\"스칼렛의미식생활\",\n",
      "\t\t\t\"bloggerlink\":\"blog.naver.com\\/scarlettjang\",\n",
      "\t\t\t\"postdate\":\"20230618\"\n",
      "\t\t},\n",
      "\t\t{\n",
      "\t\t\t\"title\":\"합정 맛집 발견! 목살 소금구이 보다 껍데기가 존맛~ <b>마포소금구이<\\/b>\",\n",
      "\t\t\t\"link\":\"https:\\/\\/blog.naver.com\\/cjjeon\\/222912294963\",\n",
      "\t\t\t\"description\":\"직감했던 <b>마포소금구이<\\/b>라는 곳이에요. 드디어 맛을 보게 되다니... 저희가 도착했을 때도 다른 때랑... 돼지 목살 부위를 소금 뿌려 굽는 소금구이와 돼지 껍데기예요. 1인분씩이 아닌 2인분씩 판매를 하시네요.... \",\n",
      "\t\t\t\"bloggername\":\"조이풀 데이즈\",\n",
      "\t\t\t\"bloggerlink\":\"blog.naver.com\\/cjjeon\",\n",
      "\t\t\t\"postdate\":\"20221028\"\n",
      "\t\t},\n",
      "\t\t{\n",
      "\t\t\t\"title\":\"신원동맛집 [원조<b>마포소금구이<\\/b> 신원점] 묻지마! 몰라야 더... \",\n",
      "\t\t\t\"link\":\"https:\\/\\/blog.naver.com\\/alfldiaalfl\\/223177815830\",\n",
      "\t\t\t\"description\":\"원조<b>마포소금구이<\\/b> 신원점은 꽤나 지점이 많더라구요? 그만큼 이미 맛이 증명되었다는 얘~기!... 첫입은 소금 아시죠? 쫀득쫀득하니 진짜 맛있어 고양시 이사와서 이집 저집 고깃집 다녀봤는데 진짜 단연 탑! 나는... \",\n",
      "\t\t\t\"bloggername\":\"Preview\",\n",
      "\t\t\t\"bloggerlink\":\"blog.naver.com\\/alfldiaalfl\",\n",
      "\t\t\t\"postdate\":\"20230808\"\n",
      "\t\t},\n",
      "\t\t{\n",
      "\t\t\t\"title\":\"원조<b>마포소금구이<\\/b>, 마포 소문난 궁중족발, 인제 송희식당... \",\n",
      "\t\t\t\"link\":\"https:\\/\\/blog.naver.com\\/hwak96\\/223177741356\",\n",
      "\t\t\t\"description\":\"여튼 비를 뚫고서 정말이지 추억의 장소인 부천 원조<b>마포소금구이<\\/b> 집을 드디어 ^^ 변한게 없었어요.... 아침 일찍이라 다소 아쉬웠고 황태구이는 색시님께 훨 맛나요. 다음에 해 주신답니다 ㅎㅎㅎ 그리고... \",\n",
      "\t\t\t\"bloggername\":\"樂之者\",\n",
      "\t\t\t\"bloggerlink\":\"blog.naver.com\\/hwak96\",\n",
      "\t\t\t\"postdate\":\"20230808\"\n",
      "\t\t},\n",
      "\t\t{\n",
      "\t\t\t\"title\":\"[또간집] 압구정 고기집 추천 원조<b>마포소금구이<\\/b> 도산점 !\",\n",
      "\t\t\t\"link\":\"https:\\/\\/blog.naver.com\\/qorrn0224\\/223180515195\",\n",
      "\t\t\t\"description\":\"오늘도 세번째 방문한 압구정 고기집 원조<b>마포소금구이<\\/b> 도산점 포스팅합니다~ 원조<b>마포소금구이<\\/b>는... 갈매기는 소금에 찍어서 먹는게 제일 고소해서 입에 맞았어요! 그리고 묻지마는 파절이나 갓김치랑 같이... \",\n",
      "\t\t\t\"bloggername\":\"보름시선\",\n",
      "\t\t\t\"bloggerlink\":\"blog.naver.com\\/qorrn0224\",\n",
      "\t\t\t\"postdate\":\"20230810\"\n",
      "\t\t},\n",
      "\t\t{\n",
      "\t\t\t\"title\":\"[가로수길] 원조<b>마포소금구이<\\/b> 강남점ㅣ소금솔솔 뿌려진... \",\n",
      "\t\t\t\"link\":\"https:\\/\\/blog.naver.com\\/bmn63499\\/223049514041\",\n",
      "\t\t\t\"description\":\"&quot;원조<b>마포소금구이<\\/b> 강남점&quot; 매장 정보 매일 12:00~22:00 브레이크타임 16:00~17:00 ☎ 0507-1485-1995 발렛파킹... 마포원조소금구이가 아니라, 무슨 된찌 전문점 같은 느낌이 막 들더라구요? 근데 나온 된찌가 글쎄 제가... \",\n",
      "\t\t\t\"bloggername\":\"데일리웅코\",\n",
      "\t\t\t\"bloggerlink\":\"blog.naver.com\\/bmn63499\",\n",
      "\t\t\t\"postdate\":\"20230320\"\n",
      "\t\t},\n",
      "\t\t{\n",
      "\t\t\t\"title\":\"송도 타임스페이스 맛집 <b>마포소금구이<\\/b> 송도점 캠핑 분위기 물씬!\",\n",
      "\t\t\t\"link\":\"https:\\/\\/blog.naver.com\\/artvanilla\\/223057247537\",\n",
      "\t\t\t\"description\":\"친구가 아주 맛있는 소금구이 집을 발견했다고 해서 같이 가봤는데요. 평소에도 고기를 좋아하기... 송도 타임스페이스 맛집인 <b>마포소금구이<\\/b> 송도점을 소개합니다. <b>마포소금구이<\\/b> 송도점 전화번호 : 0507-1319-8336... \",\n",
      "\t\t\t\"bloggername\":\"비밀화원\",\n",
      "\t\t\t\"bloggerlink\":\"blog.naver.com\\/artvanilla\",\n",
      "\t\t\t\"postdate\":\"20230327\"\n",
      "\t\t},\n",
      "\t\t{\n",
      "\t\t\t\"title\":\"[신원동맛집, 신원동 고기집] 원조<b>마포소금구이<\\/b> 신원점... \",\n",
      "\t\t\t\"link\":\"https:\\/\\/blog.naver.com\\/dkschfhdfhd\\/223161031349\",\n",
      "\t\t\t\"description\":\"고기킬러 저희 가족이 완전 흡입하고 온 원조<b>마포소금구이<\\/b> 신원점인데 진짜 신원동맛집이었음!! 신원동맛집 원조<b>마포소금구이<\\/b> 신원점은 ㅎㄷ슈퍼 맞은편쪽에 위치하고 있어요. 주차장도 건물 뒷편에 잘 되어... \",\n",
      "\t\t\t\"bloggername\":\"세자매의 일상다이어리 <맛집, 여행, 뷰티>\",\n",
      "\t\t\t\"bloggerlink\":\"blog.naver.com\\/dkschfhdfhd\",\n",
      "\t\t\t\"postdate\":\"20230720\"\n",
      "\t\t},\n",
      "\t\t{\n",
      "\t\t\t\"title\":\"신사동 가로수길 고기집 원조<b>마포소금구이<\\/b> 강남점\",\n",
      "\t\t\t\"link\":\"https:\\/\\/blog.naver.com\\/posunamerry\\/223176356427\",\n",
      "\t\t\t\"description\":\"원조<b>마포소금구이<\\/b> 강남점 ✔묻지마+된장국수 조합 맛도리 안녕하세요 신사동 가로수길 고깃집 중에... 소금을 딱 찍어 먹어봤는데 와 이거 진짜 신세계! 올해 먹은 돼지고기 중에 제일 맛있어요! 꼬들꼬들한... \",\n",
      "\t\t\t\"bloggername\":\"포쥬나\",\n",
      "\t\t\t\"bloggerlink\":\"blog.naver.com\\/posunamerry\",\n",
      "\t\t\t\"postdate\":\"20230807\"\n",
      "\t\t},\n",
      "\t\t{\n",
      "\t\t\t\"title\":\"송파 잠실 방이동 맛집 원조<b>마포소금구이<\\/b> 본점 내돈내산 솔직후기\",\n",
      "\t\t\t\"link\":\"https:\\/\\/blog.naver.com\\/2010237\\/223164669394\",\n",
      "\t\t\t\"description\":\"오늘은 송파 잠실 방이동 맛집 원조<b>마포소금구이<\\/b> 본점입니다. 원조<b>마포소금구이<\\/b> 본점 서울 송파구... 심플하게 소금만 나오지만, 파저리 소스에 찍어 먹는 것도 맛있네요. 화력좋은 숯불 먼저 들어오고..... \",\n",
      "\t\t\t\"bloggername\":\"철인 쎈척의 먹방일기\",\n",
      "\t\t\t\"bloggerlink\":\"blog.naver.com\\/2010237\",\n",
      "\t\t\t\"postdate\":\"20230724\"\n",
      "\t\t}\n",
      "\t]\n",
      "}\n"
     ]
    }
   ],
   "source": [
    "first_list=[]\n",
    "for na in lists:\n",
    "    encText = urllib.parse.quote(na)\n",
    "    print(na)\n",
    "    url = \"https://openapi.naver.com/v1/search/blog?query=\" + encText # JSON 결과\n",
    "# url = \"https://openapi.naver.com/v1/search/blog.xml?query=\" + encText # XML 결과\n",
    "    request = urllib.request.Request(url)\n",
    "    request.add_header(\"X-Naver-Client-Id\",id)\n",
    "    request.add_header(\"X-Naver-Client-Secret\",pw)\n",
    "    response = urllib.request.urlopen(request)\n",
    "    rescode = response.getcode()\n",
    "    if(rescode==200):\n",
    "        response_body = response.read()\n",
    "        print(response_body.decode('utf-8'))\n",
    "        first_list.append(response_body.decode('utf-8'))\n",
    "        \n",
    "    else:\n",
    "        print(\"Error Code:\" + rescode)\n",
    "\n"
   ]
  },
  {
   "cell_type": "code",
   "execution_count": 14,
   "id": "5cb022f5",
   "metadata": {
    "ExecuteTime": {
     "end_time": "2023-08-11T03:06:40.083864Z",
     "start_time": "2023-08-11T03:06:40.076883Z"
    }
   },
   "outputs": [
    {
     "data": {
      "text/plain": [
       "'{\\n\\t\"lastBuildDate\":\"Fri, 11 Aug 2023 12:06:41 +0900\",\\n\\t\"total\":106,\\n\\t\"start\":1,\\n\\t\"display\":10,\\n\\t\"items\":[\\n\\t\\t{\\n\\t\\t\\t\"title\":\"<b>동암 아구해물탕<\\\\/b> 아구가 싱싱한 아귀찜 맛집 단체 회식하기 좋네!\",\\n\\t\\t\\t\"link\":\"https:\\\\/\\\\/blog.naver.com\\\\/epwjsh0908\\\\/223180337072\",\\n\\t\\t\\t\"description\":\"친절하고 맛있는 동암 아구찜 해물탕! 난 너무 맛있더라~ 또 먹고 싶다 #동암맛집 #동암아구찜 #동암해물탕 #동암단체회식 #동암먹을만한곳 #<b>동암아구해물탕<\\\\/b> #동암역먹자골목 #아구찜 #해물탕\",\\n\\t\\t\\t\"bloggername\":\"놀부가 꿈\",\\n\\t\\t\\t\"bloggerlink\":\"blog.naver.com\\\\/epwjsh0908\",\\n\\t\\t\\t\"postdate\":\"20230810\"\\n\\t\\t},\\n\\t\\t{\\n\\t\\t\\t\"title\":\"&lt;<b>동암 아구해물탕<\\\\/b>&gt;동암역 해물탕,해물찜 맛집으로 추천!!\",\\n\\t\\t\\t\"link\":\"https:\\\\/\\\\/blog.naver.com\\\\/happyyhn\\\\/223097678251\",\\n\\t\\t\\t\"description\":\"동암역에 있는 #<b>동암아구해물탕<\\\\/b> 여기 근처에 여러가게에서 아구찜이랑 해물탕등을 판매하고 있다 <b>동암아구해물탕<\\\\/b> 영업시간 : 모르게따.. 전화번호 : 032-435-0233 영업시간은 사진도 못찍었는데 네이버에도... \",\\n\\t\\t\\t\"bloggername\":\"하모의 일상\",\\n\\t\\t\\t\"bloggerlink\":\"blog.naver.com\\\\/happyyhn\",\\n\\t\\t\\t\"postdate\":\"20230509\"\\n\\t\\t},\\n\\t\\t{\\n\\t\\t\\t\"title\":\"D+185 아빠의 생일 : <b>동암아구해물탕<\\\\/b>, 산너머남촌 인천본점\",\\n\\t\\t\\t\"link\":\"https:\\\\/\\\\/blog.naver.com\\\\/heedan\\\\/221531980682\",\\n\\t\\t\\t\"description\":\"점심 식사는 친가 식구들과 함께~ 집 근처 #<b>동암아구해물탕<\\\\/b> 연애할 때 자주 갔었는데 결혼하곤 처음 간 것 같다. 해물탕도 해물찜도 푸짐하고 맛남! 근데 이 날은 아구탕이었나 뭔가 안 먹어본 거 먹어봄 ㅋㅋ... \",\\n\\t\\t\\t\"bloggername\":\"단우IT시우 (단우있시우)\",\\n\\t\\t\\t\"bloggerlink\":\"blog.naver.com\\\\/heedan\",\\n\\t\\t\\t\"postdate\":\"20190508\"\\n\\t\\t},\\n\\t\\t{\\n\\t\\t\\t\"title\":\"[인천\\\\/동암] <b>동암아구해물탕<\\\\/b>\",\\n\\t\\t\\t\"link\":\"https:\\\\/\\\\/blog.naver.com\\\\/yooneunji55\\\\/80206223739\",\\n\\t\\t\\t\"description\":\"울엄마가조아하는<b>아구<\\\\/b>찜~~~ 사실나는안조아하지만엄빠가좋아해!!!! 은미까지기다려서엄빠랑넷이<b>동암<\\\\/b>갑니당 <b>동암<\\\\/b> 먹자골목에 해물찜 파는곳 많은데 엄마는여기가젤맛있대ㅋㅋㅋㅋㅋ엄마말이옳지... \",\\n\\t\\t\\t\"bloggername\":\"윤지\",\\n\\t\\t\\t\"bloggerlink\":\"blog.naver.com\\\\/yooneunji55\",\\n\\t\\t\\t\"postdate\":\"20140126\"\\n\\t\\t},\\n\\t\\t{\\n\\t\\t\\t\"title\":\"<b>동암 아구<\\\\/b>·<b>해물탕<\\\\/b> 에서 해물찜 짱맛!!\",\\n\\t\\t\\t\"link\":\"https:\\\\/\\\\/blog.naver.com\\\\/transpak117\\\\/220621568397\",\\n\\t\\t\\t\"description\":\"동암역 북부에 먹자골목쪽으로 들어가면 새마을식당맞은편에 <b>동암 아구 해물탕<\\\\/b>이 딱 우리는 아구찜도... 해물탕집치고 밑반찬이 이렇게많이나오는곳은 처음봐용ㅋㅋ 와사비간장이랑 앞접시 세팅 끗... \",\\n\\t\\t\\t\"bloggername\":\"애알언니네 블로그♡\",\\n\\t\\t\\t\"bloggerlink\":\"blog.naver.com\\\\/transpak117\",\\n\\t\\t\\t\"postdate\":\"20160208\"\\n\\t\\t},\\n\\t\\t{\\n\\t\\t\\t\"title\":\"동암먹자골목 -<b>동암아구해물탕<\\\\/b>:지극히 개인적인 리뷰.\",\\n\\t\\t\\t\"link\":\"https:\\\\/\\\\/blog.naver.com\\\\/ssther1286\\\\/221486795542\",\\n\\t\\t\\t\"description\":\"간 동암 아구해물과 Y해물찜, B해물탕 등등.. 개인적으론 Y해물찜이 가고 싶었지만. 다른 선생님들의 추천으로 오늘은 <b>동암 아구해물탕<\\\\/b>으로 픽! 오랫동안 그 자리를 지킨 곳이니 맛은 보장하겠다 싶다 우리가... \",\\n\\t\\t\\t\"bloggername\":\"연애하는 부부♡\",\\n\\t\\t\\t\"bloggerlink\":\"blog.naver.com\\\\/ssther1286\",\\n\\t\\t\\t\"postdate\":\"20190312\"\\n\\t\\t},\\n\\t\\t{\\n\\t\\t\\t\"title\":\"동암 맛집 \\\\/ <b>동암 아구 해물탕<\\\\/b>\",\\n\\t\\t\\t\"link\":\"https:\\\\/\\\\/blog.naver.com\\\\/crazy427\\\\/220054437864\",\\n\\t\\t\\t\"description\":\"동암 맛집 \\\\/ <b>동암 아구 해물탕<\\\\/b> 동암 유명한 맛집 동암 아구 해물찜 \\\\/ <b>동암 아구 해물탕<\\\\/b> 동암에 해물찜과 해물탕집이 몇 군데 더 있는데.. 여기가 젤로 맛있다!!! 항상 손님들로 북적북적하다!!! 메뉴판이다 매번... \",\\n\\t\\t\\t\"bloggername\":\"얌전한 쁘니맘의 인생이야기\",\\n\\t\\t\\t\"bloggerlink\":\"blog.naver.com\\\\/crazy427\",\\n\\t\\t\\t\"postdate\":\"20140709\"\\n\\t\\t},\\n\\t\\t{\\n\\t\\t\\t\"title\":\"170707-<b>동암 아구<\\\\/b>,<b>해물탕<\\\\/b>\",\\n\\t\\t\\t\"link\":\"https:\\\\/\\\\/blog.naver.com\\\\/seyoung699\\\\/221054532204\",\\n\\t\\t\\t\"description\":\"닭알 두알과 찌즈 한장 샤샤샥 완성띠 배고파서 아주 맛있게 먹음 동암먹자쪽에 <b>동암 아구<\\\\/b>.<b>해물탕<\\\\/b> 집 감... ~ <b>동암 아구해물탕<\\\\/b> 평생 다신 안감 건너편 유진이나 부성을 가겠음 근데 볶음밥 시키면서 미더덕... \",\\n\\t\\t\\t\"bloggername\":\"홍블리의 하루\",\\n\\t\\t\\t\"bloggerlink\":\"blog.naver.com\\\\/seyoung699\",\\n\\t\\t\\t\"postdate\":\"20170719\"\\n\\t\\t},\\n\\t\\t{\\n\\t\\t\\t\"title\":\"부평구 십정동 <b>동암아구해물탕<\\\\/b>\",\\n\\t\\t\\t\"link\":\"https:\\\\/\\\\/blog.naver.com\\\\/yeeun960222\\\\/220404438523\",\\n\\t\\t\\t\"description\":\"업소는 <b>동암 아구해물탕<\\\\/b>이랍니다~ 부평구 십정동 420-2 위치해있고 동암역 2번출구에서 삼거리를 쭉... 맑은 해물탕을 개발한 곳이에요 기회가 된다면 맑은 해물탕을 꼭 한번 먹어보고 싶어요 쭈꾸미가 귀엽게... \",\\n\\t\\t\\t\"bloggername\":\"생긴대로 살면서 후회없이 먹는 人\",\\n\\t\\t\\t\"bloggerlink\":\"blog.naver.com\\\\/yeeun960222\",\\n\\t\\t\\t\"postdate\":\"20150629\"\\n\\t\\t},\\n\\t\\t{\\n\\t\\t\\t\"title\":\"<b>동암 아구해물탕<\\\\/b>\",\\n\\t\\t\\t\"link\":\"https:\\\\/\\\\/blog.naver.com\\\\/ssopung\\\\/50142119504\",\\n\\t\\t\\t\"description\":\"<b>동암<\\\\/b>북부역으로 나오면 길 건너에 먹자골목이 있다. 먹자골목안에 유독 많은 집이 <b>해물탕<\\\\/b>... ㅠㅠ) 앞에 새마을식당이 있다^^ 엄마랑 나랑 둘이라서 <b>아구<\\\\/b>찜 작은거와 음료수 하나를 시켰다. 기본 찬 부침개와... \",\\n\\t\\t\\t\"bloggername\":\"쏘의 風流 이야기, 소풍\",\\n\\t\\t\\t\"bloggerlink\":\"blog.naver.com\\\\/ssopung\",\\n\\t\\t\\t\"postdate\":\"20120527\"\\n\\t\\t}\\n\\t]\\n}'"
      ]
     },
     "execution_count": 14,
     "metadata": {},
     "output_type": "execute_result"
    }
   ],
   "source": [
    "first_list[1]"
   ]
  },
  {
   "cell_type": "code",
   "execution_count": 15,
   "id": "d49a465c",
   "metadata": {
    "ExecuteTime": {
     "end_time": "2023-08-11T03:06:40.646692Z",
     "start_time": "2023-08-11T03:06:40.628741Z"
    }
   },
   "outputs": [
    {
     "name": "stdout",
     "output_type": "stream",
     "text": [
      "{'lastBuildDate': 'Fri, 11 Aug 2023 12:06:41 +0900', 'total': 430, 'start': 1, 'display': 10, 'items': [{'title': '동인천 신포시장 맛집 &lt;<b>돈비어천가</b>&gt; 갈비 먹고 온 후기.', 'link': 'https://blog.naver.com/amelchouchou/223040054070', 'description': '<b>돈비어천가</b> 돼지고기구이 주소 : 인천 중구 개항로 53-1 <b>돈비어천가</b> 영업시간 : 월,수,목,금,토,일 11시30분~21시30분 *15시~17시 브레이크타임 *라이스오더 14시 / 20시30분 *화요일 정기휴무 엄마가 얼마 전에... ', 'bloggername': '일꾼 민설이의 술꾼 바이브', 'bloggerlink': 'blog.naver.com/amelchouchou', 'postdate': '20230310'}, {'title': '[동인천 맛집] <b>돈비어천가</b> | 왕갈비가 맛있는 집', 'link': 'https://blog.naver.com/k_eunjin0207/222897080949', 'description': '신포동에 진짜 오래된 가게가 있는데 저는 한번도 안가봤었는데 망하지 않고 오래 있는 이유가 있을 거 같아서 이번에 찾아간 #<b>돈비어천가</b> 를 포스팅하려고 해요!! <b>돈비어천가</b> 매일 11:00~22:00(브레이크타임 15:00... ', 'bloggername': '쪼이로그', 'bloggerlink': 'blog.naver.com/k_eunjin0207', 'postdate': '20221011'}, {'title': '동인천 놀이방식당 신포동 <b>돈비어천가</b>', 'link': 'https://blog.naver.com/anh917759/223149077267', 'description': '( 인천쪽의 여러식당과음식에 대한 지식이 많으신 분께서 원래 <b>돈비어천가</b>가 태능숯불갈비였다고 비밀댓글로 알려주심) 그래서 백년가게 인가봄. 무튼 이곳은 이제 <b>돈비어천가</b> 고객 무료 주차장임. 주차장 바로... ', 'bloggername': '리리들의 맛있는 일상♡', 'bloggerlink': 'blog.naver.com/anh917759', 'postdate': '20230707'}, {'title': '&lt;신포시장 근처&gt; 백년의 맛을녹여낸 수제갈비 &quot;<b>돈비어천가</b>&quot;', 'link': 'https://blog.naver.com/dkdlatmzp/223070698764', 'description': '백년가게 인증된 &quot;<b>돈비어천가</b>&quot; 오늘 한번 야무지게 뜯어보자 인천광역시 중구 개항로 53-1 매일 11시... 완비 <b>돈비어천가</b> 고객은 주차장 무료! 이렇게 태능갈비라 써있는데 상표등록 관계로 주인이 바뀌지 않은... ', 'bloggername': '소당소당 _감성 미식회', 'bloggerlink': 'blog.naver.com/dkdlatmzp', 'postdate': '20230410'}, {'title': '동인천 양념갈비 고기 맛집 <b>돈비어천가</b> 50년째 운영중인 곳... ', 'link': 'https://blog.naver.com/brosense/223098407969', 'description': '오늘은 동인천에 있는 양념갈비 찐맛집 <b>돈비어천가</b>를 소개해 드리려고 합니다!! 위치 : 동인천역 2번... 또 <b>돈비어천가</b>가 좋은 점은 놀이방이 있다는 건데요!! 가족단위로도 방문하기 너무 좋을 거 같아요!!... ', 'bloggername': '로그훈', 'bloggerlink': 'blog.naver.com/brosense', 'postdate': '20230510'}, {'title': '인천 신포동 백년가게 숯불돼지갈비 맛집 ‘<b>돈비어천가</b>’', 'link': 'https://blog.naver.com/leesming/222515383061', 'description': 'Since 1974 저렴한 노포의 위력 [매일 11:30 - 22:00] <b>돈비어천가</b> 인천에 왔는데 뭘 먹을까? 검색하다 온 집. 후기 중에 &quot;어릴 때부터 먹던 맛집, 아이들과 함께 왔어요&quot;라고 해서, 오래된 로컬 맛집의 느낌이 확!!... ', 'bloggername': 'Stay healthy and Strong!', 'bloggerlink': 'blog.naver.com/leesming', 'postdate': '20210924'}, {'title': '동인천맛집 <b>돈비어천가</b> 육즙이 흘러', 'link': 'https://blog.naver.com/iambest0309/222482771948', 'description': '동인천에 산다는 사람들은 다 안다는 <b>돈비어천가</b>! 저 옛날에 이 근방 중학교를 졸업하고 나서 졸업식때... 지금은 멀리 이사를 가서 이 근방에 온김에 들렀다가 후기를 남기도록 합니다 <b>돈비어천가</b> <b>돈비어천가</b>... ', 'bloggername': '그동안 감사했습니당', 'bloggerlink': 'blog.naver.com/iambest0309', 'postdate': '20210824'}, {'title': '5지구 종합상가 대장장이 한칼, 인천시 내동 <b>돈비어천가</b>', 'link': 'https://befreepark.tistory.com/6206', 'description': '인천 <b>돈비어천가</b> &gt; 인천광역시 중구 개항로 53-1 (지번) 인천시 중구 내동 205-4 ☎ ***-***-****... 내동 <b>돈비어천가</b>, 경남 밀양시 아리랑시장 상설시장 할매보리밥, 경남 밀양시 서울떡집... ', 'bloggername': '공유와 소통의 산들바람 :: 공유와 소통의 산들바람', 'bloggerlink': 'https://befreepark.tistory.com/', 'postdate': '20230111'}, {'title': '인천 신포시장 맛집 <b>돈비어천가</b> 돼지갈비가 맛있는 곳 주차꿀팁', 'link': 'https://blog.naver.com/value831983/223026919827', 'description': '맛집 <b>돈비어천가</b>에 다녀왔답니다 1974년부터 장사를 해오셨다니 어떤 집일지 기대가 되더라고요... 받아서 <b>돈비어천가</b>를 끼고 우회전해서 골목으로 들어오면 요렇게 주차장이 또 있어요 리모컨으로 열고... ', 'bloggername': '올리비아의 맛있는 세상 이야기', 'bloggerlink': 'blog.naver.com/value831983', 'postdate': '20230225'}, {'title': '신포동 맛집 : <b>돈비어천가</b> #돼지왕갈비 #냉면 맛집', 'link': 'https://blog.naver.com/ms4897/222489506589', 'description': '태능갈비 <b>돈비어천가</b> 매일 11:30 - 22:00 갈비가 너무 맛있었던 <b>돈비어천가</b>에 다녀왔다. <b>돈비어천가</b>는 동인천 신포 문화의 거리 초입에 위치해 있다. 신포시장 가는길, 씨채널 안경 주변에 위치해 있어서 위치를... ', 'bloggername': 'Hoi-Log', 'bloggerlink': 'blog.naver.com/ms4897', 'postdate': '20210830'}]}\n"
     ]
    }
   ],
   "source": [
    "import json\n",
    "\n",
    "json_string = first_list[0]\n",
    "\n",
    "# JSON 문자열을 딕셔너리로 변환\n",
    "data_dict = json.loads(json_string)\n",
    "\n",
    "print(data_dict)  # 변환된 딕셔너리 출력\n",
    "\n",
    "\n",
    "\n",
    "\n",
    "\n"
   ]
  },
  {
   "cell_type": "code",
   "execution_count": 28,
   "id": "5a4b2c81",
   "metadata": {
    "ExecuteTime": {
     "end_time": "2023-08-11T03:11:19.356715Z",
     "start_time": "2023-08-11T03:11:19.348712Z"
    }
   },
   "outputs": [
    {
     "data": {
      "text/plain": [
       "'https://blog.naver.com/amelchouchou/223040054070'"
      ]
     },
     "execution_count": 28,
     "metadata": {},
     "output_type": "execute_result"
    }
   ],
   "source": [
    "data_dict['items'][0]['link']"
   ]
  },
  {
   "cell_type": "code",
   "execution_count": 29,
   "id": "4d1161ea",
   "metadata": {
    "ExecuteTime": {
     "end_time": "2023-08-11T03:11:19.886235Z",
     "start_time": "2023-08-11T03:11:19.876266Z"
    }
   },
   "outputs": [],
   "source": [
    "list_A1=[]"
   ]
  },
  {
   "cell_type": "code",
   "execution_count": 30,
   "id": "73a88ce2",
   "metadata": {
    "ExecuteTime": {
     "end_time": "2023-08-11T03:11:20.350223Z",
     "start_time": "2023-08-11T03:11:20.340247Z"
    }
   },
   "outputs": [],
   "source": [
    "for a in data_dict['items']:\n",
    "    list_A1.append(a['link'])"
   ]
  },
  {
   "cell_type": "code",
   "execution_count": 36,
   "id": "a1265061",
   "metadata": {
    "ExecuteTime": {
     "end_time": "2023-08-11T03:11:36.070180Z",
     "start_time": "2023-08-11T03:11:36.053255Z"
    }
   },
   "outputs": [
    {
     "data": {
      "text/plain": [
       "['https://blog.naver.com/amelchouchou/223040054070',\n",
       " 'https://blog.naver.com/k_eunjin0207/222897080949',\n",
       " 'https://blog.naver.com/anh917759/223149077267',\n",
       " 'https://blog.naver.com/dkdlatmzp/223070698764',\n",
       " 'https://blog.naver.com/brosense/223098407969',\n",
       " 'https://blog.naver.com/leesming/222515383061',\n",
       " 'https://blog.naver.com/iambest0309/222482771948',\n",
       " 'https://befreepark.tistory.com/6206',\n",
       " 'https://blog.naver.com/value831983/223026919827',\n",
       " 'https://blog.naver.com/ms4897/222489506589']"
      ]
     },
     "execution_count": 36,
     "metadata": {},
     "output_type": "execute_result"
    }
   ],
   "source": [
    "list_A1"
   ]
  },
  {
   "cell_type": "code",
   "execution_count": 32,
   "id": "4f0423c3",
   "metadata": {
    "ExecuteTime": {
     "end_time": "2023-08-11T03:11:21.151116Z",
     "start_time": "2023-08-11T03:11:21.134131Z"
    }
   },
   "outputs": [],
   "source": [
    "from bs4 import BeautifulSoup"
   ]
  },
  {
   "cell_type": "code",
   "execution_count": 33,
   "id": "d55e2988",
   "metadata": {
    "ExecuteTime": {
     "end_time": "2023-08-11T03:11:21.619834Z",
     "start_time": "2023-08-11T03:11:21.604873Z"
    }
   },
   "outputs": [],
   "source": [
    "from selenium import webdriver\n",
    "from selenium.webdriver.common.by import By\n",
    "from PIL import Image\n",
    "import time\n",
    "import pandas as pd\n",
    "from time import sleep\n",
    "\n",
    "from selenium.webdriver.common.keys import Keys\n",
    "from selenium.webdriver.support import expected_conditions as EC\n",
    "from selenium.webdriver.support.ui import WebDriverWait\n",
    "import cx_Oracle\n",
    "import urllib.request\n",
    "from io import BytesIO\n"
   ]
  },
  {
   "cell_type": "code",
   "execution_count": 37,
   "id": "a05e66e6",
   "metadata": {
    "ExecuteTime": {
     "end_time": "2023-08-11T03:12:58.355943Z",
     "start_time": "2023-08-11T03:12:54.581193Z"
    }
   },
   "outputs": [],
   "source": [
    "driver = webdriver.Chrome()  # 드라이버 경로"
   ]
  },
  {
   "cell_type": "code",
   "execution_count": 35,
   "id": "60a894c4",
   "metadata": {
    "ExecuteTime": {
     "end_time": "2023-08-11T03:11:23.837222Z",
     "start_time": "2023-08-11T03:11:23.825255Z"
    }
   },
   "outputs": [],
   "source": [
    "tstroy_main_se='#content > div > div:nth-child(1)'\n",
    "naver_main_se='#post-view223040054070 > div'"
   ]
  },
  {
   "cell_type": "code",
   "execution_count": 40,
   "id": "352cb286",
   "metadata": {
    "ExecuteTime": {
     "end_time": "2023-08-11T03:20:10.339060Z",
     "start_time": "2023-08-11T03:19:40.518031Z"
    },
    "scrolled": true
   },
   "outputs": [
    {
     "name": "stdout",
     "output_type": "stream",
     "text": [
      "https://blog.naver.com/amelchouchou/223040054070\n",
      "['인천중구\\n동인천 신포시장 맛집 <돈비어천가> 갈비 먹고 온 후기.\\n일꾼 민설이 ・ 2023. 3. 10. 0:43\\nURL 복사 이웃추가\\n본문 기타 기능\\n돈비어천가\\n돼지고기구이\\n주소 : 인천 중구 개항로 53-1 돈비어천가\\n영업시간 : 월,수,목,금,토,일\\n11시30분~21시30분\\n*15시~17시 브레이크타임\\n*라이스오더 14시 / 20시30분\\n*화요일 정기휴무\\n50m\\n© NAVER Corp.\\n돈비어천가\\n인천광역시 중구 개항로 53-1 돈비어천가\\n엄마가 얼마 전에 신포시장에서 갈비를 드셨다는데\\n너무 맛있었다며 극찬을 하셨어요.\\n식구들끼리 다 같이 또 가자고 해서\\n일부러 날 잡아 방문했던 곳입니다.\\n신포시장에서 만나기로 했는데\\n이모부가 하도 안 오셔서\\n저는 결국 못 참고(춥고 다리 아프고)\\n먼저 돈비어천가에 가있겠다고 했어요.\\n다행히도 들어서자마자 대기석이 있더라고요.\\n일행 올 때까지 기다리겠다고 했는데\\n흔쾌히 그러라고 하셨습니다.\\n더 바쁠 때는 여기도 좌석으로 쓰려나요?\\n그건 잘 모르겠네요.\\n제 마음대로 대기석이라고 단정 짓기엔,\\n지금 보니 이 자리도 식사가 가능하겠어요.\\n굉장히 오랫동안\\n신포동 터줏대감으로 있던 맛집이라\\n티비 방영도 여러 번이라고 하네요.\\n식구들 기다리면서 휘리릭~~\\n딱 문 앞에만 찍은 건데도 포스가 남다르죠?\\n식당 규모가 꽤 큽니다.\\n이모부가 오셔서 드디어 자리에 착석했어요.\\n와.. 사람 엄청 많고 시끌시끌합니다.\\n아무래도 규모가 있는 곳이다 보니,\\n단체 손님이 많아서 그런 것 같습니다.\\n사람들 많죠?\\n정신없어 보이는 것에 반해서 테이블 깔끔합니다.\\n돈비어천가 메뉴\\n수저 통에 메뉴 있었고요.\\n따로 메뉴판 안 나오는 거 보니\\n이걸로 보는 게 맞는 것 같습니다.\\n저희는 돼지왕갈비 4인분 주문했습니다.\\n*사실 이모는 체해서 아프시고\\n이모부는 치아가 많이 안 좋으세요.\\n저희 엄마는 고기를 천천히 구워드시는 편이고요.\\n이것을 굳이 기재하는 이유는,\\n다 좋은데, 빨리 먹어야 하는 분위기입니다.\\n자리에 앉자마자 밑반찬부터\\n일사천리로 착착착 좋았습니다.\\n근데 딱 봐도 직원분 수가 부족합니다.\\n그래도 누구든 바로 달려와주시니,\\n바빠 보여 부르기 죄송해도\\n제가 크게 불편한 건 없었습니다.\\n김치전 맛있네요.\\n저는 김치전이 서비스로 나오는 곳은\\n일단 기본적으로 굉장히 높게 칩니다.\\n제가 좋아하기 때문..ㅎㅎ\\n두부김치도 나오는 센스에 이마를 탁 🤦\\u200d♀️\\n맛도 있어서 막걸리가 땡겼습니다.\\n대망에 갈비도 금방 나옵니다.\\n3인분이고요.\\n제 느낌상으로는 양도 많은 것 같습니다.\\n숯불 들어왔고요.\\n화력이 끝내줍니다.\\n\"이제 시작해 볼까?\"\\n이날, 알고 보니 이모부가 늦게 오신 이유가 있었어요.\\n1차로 술을 드시고 오신 거예요.\\n취기가 도셔서 행동이 이상하니까ㅎㅎ\\n저희는 더 정신이 없었어요.\\n여러모로\\n아직 식구들이 먹을 준비가 안됐는데\\n직원분께서 오시더니\\n고기를 위 사진에서보다\\n더 올리려고 하시는 거예요;\\n위에 사진도 충분히 빽빽하게 올리지 않았나요?\\n저희 이모가\\n\"너무 많이 올리지 마세요.\\n저는 체해서 고기 먹지도 못해요.\"라고 하시니,\\n\"고기 너무 늦게 익는다고 하시는 분들이 계셔서요~\"라고 하셨습니다.\\n일단 저도, \"죄송한데 저희가 구울게요~\" 하고\\n일단락됐습니다.\\n저는 안 마셨지만\\n소주도 주문해서 곁들여 드셨습니다.\\n계란찜과 콘치즈까지 서비스로 주시네요.\\n저는 밥에 계란찜 비벼서\\n갈비 올려먹는 걸 좋아하는 애라\\n너무 반가웠어요 ♡.♡\\n탱글탱글해서 튕기는 거 보세용ㅎㅎ\\n두부김치에 볶음김치도 너무 맛있었습니다.\\n반찬이 전체적으로 정갈하고 맛있어요.\\n고기도 상당히 부드럽고 맛이 좋습니다.\\n이모부가 이가 안 좋으신데도\\n배가 빵빵해지실 만큼 잘 드셨어요.\\n굽는 마늘 종지 같은 경우\\n셀프바에서 가져왔던 것 같아요.\\n제가 블로그 시작하고서\\n거의 처음으로 사진을 맘껏 못 찍었어요.\\n된장찌개도 서비스로 나왔는데\\n사진을 못 찍었습니다;\\n엄마는 일단 고기 굽느라 바빴는데\\n화력이 좋아서 저도 같이 구워야 했고,\\n이모는 고기 못 드신다고 된장찌개 가져다\\n밥 반 말아서 겨우 한술 뜨고 계시고,\\n(바로 말아버려서 사진 이거 하나 건진ㅎ)\\n이모부는 이 안 좋으셔도 고기가 부드러우니\\n잘 집어드시길래 가위로 다 잘라드리고..\\n헥헥💦\\n블로그용 사진을 포기할까 했는데\\n사진까지 찍으려니 더 정신이 없었던 것 같아요.\\n그런데 여기서 히트는\\n그나마 저희가 저희 속도 맞춰서\\n찬찬히 먹으면 됐는데,\\n사정도 잘 모르시면서 ㅠ.ㅠ\\n자꾸 오셔서 고기를 빨리 구우려고 하시는 거예요.\\n\"천천히 올려서 구워 먹을게요~\" 했는데,\\n그래도 고기를 더 올리시려는 거예요.\\n(불판 위에 고기가 꽤 있었고요.\\n..없었어도 저희 마음 아닌가요.)\\n\"고기를 먹는 속도가 느리니 탈 것 같아서요~\\n저희가 알아서 구워 먹을게요~\" 했는데,\\n사장님께서 웃으시면서\\n\"그건 빨리 안 뒤집으니까 그런 거죠.\\n고기를 안 올려서 그런 게 아니라.\"\\n이 얘기를 진짜 계-속하시는 거예요..\\n뭘 모른다는 식으로 웃으시면서요..\\n...고기를 더 올리면 더 뒤집기 힘드니까\\n천천히 올려먹겠다는 거잖아요.\\n분위기 삭막해지는 거 싫어서\\n위에 얘긴 안 했어요 ㅠ.ㅠ\\n그냥 최대한 빨리 구워 먹었습니다.\\n그 와중에도 밥 사진은 야무지게 찍는\\n천상 블로거..☆\\nㅋㅋㅋㅋㅋㅋㅋㅋㅋㅋㅋㅋㅋ\\nㅋㅋㅋ맛있었다고요 ㅜ0ㅜ\\n엄마 멘탈 나갔는데\\n그래도 밥은 드시라고 반 덜어드리고\\n저도 먹기 시작ㅎ\\n제가 이렇게 계란찜 + 갈비 조화를\\n엄청 좋아합니당 ♡.♡\\n이미 기분 나쁜 건 잊은지 오래.\\n여러분도 이렇게 드셔보세요.\\n제가 계란찜 밥 비벼서 고기 올려먹는 것 중,\\n제일 좋아하는 건 사실 소고기인데\\n어느 순간부터 삼겹살이나 갈비도\\n이렇게 먹고 있더라고요.\\n별거 아니라고 하실 수도 있는데\\n저는 존.맛.탱♡\\n셀프바는 조오~기 👆\\n상추 등등 있어요.\\n청양고추 좋아해서 가봤는데 없어서\\n여쭤보니 가져다주시더라고요.\\n식구가 4명인데 2개ㅎㅎ\\n저희 가족이 고추 상당히 좋아해서\\n한 번 더 시켰더니, 또 2개 🤣\\n네.. 고추값이 지금 비쌉니다. 이해할게요.\\n술은 먹기 싫고 저는 늘 그렇듯,\\n환타 파인!\\n고기 부드럽고 맛있네요. 잘 먹었어요.\\n진심으로 번창하시길 바랍니당~!\\n저희 가족은 좀 차분한 곳으로 다녀야겠어요 ^*^\\n식구들이 속도가 느려서 안되겠네용!\\n다들 혼나야겠어ㅎㅎㅎㅎㅎㅎㅎㅎ\\nㅎㅎㅎㅎ하하하ㅏㅏㅏㅏ']\n",
      "https://blog.naver.com/k_eunjin0207/222897080949\n",
      "[]\n",
      "https://blog.naver.com/anh917759/223149077267\n",
      "[]\n",
      "https://blog.naver.com/dkdlatmzp/223070698764\n",
      "[]\n",
      "https://blog.naver.com/brosense/223098407969\n",
      "[]\n",
      "https://blog.naver.com/leesming/222515383061\n",
      "[]\n",
      "https://blog.naver.com/iambest0309/222482771948\n",
      "[]\n",
      "https://befreepark.tistory.com/6206\n",
      "[\">>>KBS2 생생정보통 2TV 생생정보 1718회 1월 11일 방송분 / 서울시 서초동 한국정리수납협회, 대구시 대신동 서문시장 5지구 종합상가 대장장이 한칼, 인천시 내동 돈비어천가\\n>>>>TV 프로그램/KBS 2TV 생생정보통 카테고리의 글 | 2023. 1. 11. 18:42\\n\\n\\n  KBS2 생생정보통 2TV 생생정보 1718회 2022년 1월 11일 방송분\\n  KBS2 [ 2TV 생생정보 ] 월~금 18:30~ 방송\\n\\n\\n  생생정보통\\n    - 새해맞이, 물건 버리는 기술\\n    * 정리 수납 전문가 전인숙\\n홈페이지 (블로그) :\\nhttps://m.blog.naver.com/isjun902\\n    < 한국정리수납협회 >\\n서울특별시 서초구 효령로 320 미성빌딩\\n(지번) 서울시 서초구 서초동 1443-7\\n☎ 02-529-0111\\n- 홈페이지 :\\nhttps://www.kapo100.org/\\n    청춘시대\\n    - 칼 갈아주는 대장장이\\n    < 한칼 대구점 >\\n대구광역시 중구 큰장로26길 6 서문시장 5지구 종합상가 1층 230호\\n(지번) 대구시 중구 대신동 115-400 서문시장 5지구 종합상가 1층 230호\\n☎ 0507-1332-7318\\n    전설의 맛\\n    - 49년 전통 양념목살갈비\\n    < 인천 돈비어천가 >\\n인천광역시 중구 개항로 53-1\\n(지번) 인천시 중구 내동 205-4\\n☎ 032-777-1300\\n* 영업시간 : 매일 11:00-22:00 / 휴무 : 화요일\\n    믿고 떠나는 스타의 고장\\n    - 탤런트 이상인의 < 경상남도 밀양군 >\\n    < 할매보리밥 >\\n경상남도 밀양시 상설시장1길 11 밀양상설시장 내\\n(지번) 경남 밀양시 내일동 583-1 밀양상설시장 내\\n  * 밀양아리랑시장 = 밀양상설시장\\n경상남도 밀양시 상설시장1길 11 \\n(지번) 경남 밀양시 내일동 583-1 \\n- 홈페이지 :\\nhttps://miryangmarket.modoo.at/\\n    < 서울떡집 > ( 밀양부편 판매 )\\n경상남도 밀양시 상설시장1길 6-2\\n(지번) 경남 밀양시 내일동 602-1\\n☎ 055-355-8734\\n- 홈페이지 SNS 인스타그램 :\\nhttps://www.instagram.com/seoultteokzip/\\n    < 얼음골폭포 관광농원 >\\n경상남도 밀양시 산내면 산내로 1171\\n(지번) 경남 밀양시 산내면 남명리 1968-90\\n- 홈페이지 : 폭포관광농원\\nhttp://폭포관광농원.kr/\\n    나나랜드\\n    - 자연에 반해 농부가 된 부부\\n    < 초방리농장 >\\n전라남도 화순군 이양면 초방길 125-20\\n(지번) 전남 화순군 이양면 초방리 496\\n☎ 061-374-1711\\n- 홈페이지 (스마트스토어) :\\nhttps://m.smartstore.naver.com/blacktreasure\\n- 홈페이지 (블로그) : 초방리흑염소농장\\nhttps://blog.naver.com/mbs07180\\n   \\n* 출처 : KBS 2TV 생생정보 홈페이지 <알려드립니다>\\n\\n\\n  posted by befreepark\\n2023 0111 Wed 18:40\\n공유와 소통의 산들바람 / 비프리박\\n\\n\\n\\nTV, 방송 프로그램, KBS2 생생정보통, 2TV 생생정보, 생생정보, 방송에 소개된 곳, 방송에 나온 곳, 서울시 서초동 한국정리수납협회, 대구시 대신동 서문시장 5지구 종합상가 대장장이 한칼, 인천시 내동 돈비어천가, 경남 밀양시 아리랑시장 상설시장 할매보리밥, 경남 밀양시 서울떡집, 경남 밀양시 얼음골폭포 관광농원, 전남 화순군 초방리흑염소농장\\n좋아요1\\n공유하기\\n게시글 관리\\n구독하기\\n저작자표시 비영리 변경금지\\n'TV 프로그램 > KBS 2TV 생생정보통' 카테고리의 다른 글\\nKBS2 생생정보통 2TV 생생정보 1722회 1월 17일 방송분 / 서울시 양평동1가 한강수병원, 경기도 용인소방서, 의정부 을지대학교병원, 인천시 강화군 꼬막한상, 충남 아산 환경과학공원  (0) 2023.01.17\\nKBS2 생생정보통 2TV 생생정보 1721회 1월 16일 방송분 / 서울시 남창동 남대문시장 남대문정육점, 경기도 하남시 낙지 요리 낙찌061, 강원도 홍천군 그자리 애견 야영장 캠핑장  (0) 2023.01.16\\nKBS2 생생정보통 2TV 생생정보 1719회 1월 12일 방송분 / 서울시 구로동 제이솔케이크, 화양동 소반돼지반, 강원도 철원군 가람공방갤러리, 충남 홍성군 아가새농장, 남당항 승엽수산  (0) 2023.01.12\\nKBS2 생생정보통 2TV 생생정보 1717회 1월 10일 방송분 / 전북 익산시 나비애뜰 동물매개심리치료연구소, 경기도 양평군 닭볶음탕 가래징개, 전남 강진군 가우도 짚트랙, 강진 산들농원펜션  (0) 2023.01.10\\nKBS2 생생정보통 2TV 생생정보 1716회 1월9일 방송분 / 서울시 성산동 다농마트 식자재할인점, 서교동 녹색식품안전연구원, 상암동 삼형제김밥, 연남동 피포커피, 1회용품 줄여가게 캠페인  (0) 2023.01.09\\nKBS2 생생정보통 2TV 생생정보 1714회 1월 5일 방송분 / 충남 청양군 알프스마을, 청양 천장호 출렁다리, 충남 청양군 중화요리 황룡각, 경남 창원시 하동식육식당, 경기도 성남시 대성기름집  (0) 2023.01.05\\nKBS2 생생정보통 2TV 생생정보 1713회 1월 4일 방송분 / 경남 산청군 동의보감촌, 서울 상암동 월드컵공원, 경남 통영시 추도 물메기, 통영 용궁식당, 경기도 가평군 손두부전골 빛두리 식당  (0) 2023.01.04\\n\\n\\n{ TAG } 2tv 생생정보, KBS2 생생정보통, TV, 대구시 대신동 서문시장 5지구 종합상가 대장장이 한칼, 방송 프로그램, 방송에 나온 곳, 방송에 소개된 곳, 생생정보, 서울시 서초동 한국정리수납협회, 인천시 내동 돈비어천가\"]\n",
      "https://blog.naver.com/value831983/223026919827\n",
      "[]\n",
      "https://blog.naver.com/ms4897/222489506589\n",
      "[]\n"
     ]
    }
   ],
   "source": [
    "for l in list_A1:\n",
    "    url = l\n",
    "    print(url)\n",
    "    driver.get(url)\n",
    "    sleep(1)\n",
    "    \n",
    "    \n",
    "#     find_elements(By.CSS_SELECTOR)\n",
    "   \n",
    "    if url.find('naver') == -1:\n",
    "        x= driver.find_elements(By.CSS_SELECTOR ,tstroy_main_se)\n",
    "        contents = [element.text for element in x]\n",
    "    else:\n",
    "        driver.switch_to.frame('mainFrame')\n",
    "        x= driver.find_elements(By.CSS_SELECTOR,naver_main_se)\n",
    "        contents = [element.text for element in x]\n",
    "        driver.switch_to.parent_frame()\n",
    "        \n",
    "    sleep(1)\n",
    "    \n",
    "    \n",
    "    print(contents)"
   ]
  },
  {
   "cell_type": "code",
   "execution_count": 52,
   "id": "ae1a19e4",
   "metadata": {
    "ExecuteTime": {
     "end_time": "2023-08-11T02:45:46.307669Z",
     "start_time": "2023-08-11T02:45:46.300689Z"
    }
   },
   "outputs": [],
   "source": [
    "main_path='//*[@id=\"post-view222489506589\"]/div/div[2]'"
   ]
  },
  {
   "cell_type": "code",
   "execution_count": null,
   "id": "29fbdb4d",
   "metadata": {},
   "outputs": [],
   "source": []
  }
 ],
 "metadata": {
  "kernelspec": {
   "display_name": "Python 3 (ipykernel)",
   "language": "python",
   "name": "python3"
  },
  "language_info": {
   "codemirror_mode": {
    "name": "ipython",
    "version": 3
   },
   "file_extension": ".py",
   "mimetype": "text/x-python",
   "name": "python",
   "nbconvert_exporter": "python",
   "pygments_lexer": "ipython3",
   "version": "3.10.11"
  }
 },
 "nbformat": 4,
 "nbformat_minor": 5
}
