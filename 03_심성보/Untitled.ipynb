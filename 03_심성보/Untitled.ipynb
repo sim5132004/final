{
 "cells": [
  {
   "cell_type": "code",
   "execution_count": 1,
   "id": "06a85fbc",
   "metadata": {
    "ExecuteTime": {
     "end_time": "2023-08-10T04:15:53.282751Z",
     "start_time": "2023-08-10T04:15:46.136735Z"
    }
   },
   "outputs": [
    {
     "name": "stderr",
     "output_type": "stream",
     "text": [
      "Error getting version of chromedriver 115. Retrying with chromedriver 114 (attempt 1/5)\n"
     ]
    },
    {
     "name": "stdout",
     "output_type": "stream",
     "text": [
      "강원도  맛집  검색 완료\n"
     ]
    }
   ],
   "source": [
    "from selenium import webdriver\n",
    "from selenium.webdriver.common.by import By\n",
    "from PIL import Image\n",
    "import time\n",
    "import pandas as pd\n",
    "from time import sleep\n",
    "\n",
    "from selenium.webdriver.common.keys import Keys\n",
    "from selenium.webdriver.support import expected_conditions as EC\n",
    "from selenium.webdriver.support.ui import WebDriverWait\n",
    "import cx_Oracle\n",
    "import urllib.request\n",
    "from io import BytesIO\n",
    "\n",
    "column_list=['index',\t'f_name',\t'place',\t'open_date',\t'close_date',\t'info',\t'host_or',\t'PHONE_NUMBER',\t'ADRESS',\t'LATITUDE',\t'HARDNESS',\t'x',\t'y',\t'go']\n",
    "\n",
    "xp1='//*[@id=\"_pcmap_list_scroll_container\"]/ul/li[9]/div[1]/a[1]/div/div/span[1]'\n",
    "xp1_2='//*[@id=\"_pcmap_list_scroll_container\"]/ul/li[2]/div[1]/a[1]'\n",
    "xp2='//*[@id=\"app-root\"]/div/div/div/div[5]/div/div/div/div/a[2]/span'\n",
    "driver = webdriver.Chrome()  # 드라이버 경로\n",
    "p1 = '//*[@id=\"_pcmap_list_scroll_container\"]/ul/li[3]/div[1]/a[1]/div/div/span'\n",
    "p2 = '//*[@id=\"_pcmap_list_scroll_container\"]/ul/li[3]/div[1]/div/div/span[2]'\n",
    "p3 = '//*[@id=\"_pcmap_list_scroll_container\"]/ul/li[3]/div[1]/div/div/span[3]'\n",
    "p4 = '//*[@id=\"_pcmap_list_scroll_container\"]/ul/li[3]/div[1]/div/div/span[4]'\n",
    "p5 = '//*[@id=\"_pcmap_list_scroll_container\"]/ul/li[3]/div[3]/div/div/div/div[1]/div/a/div/span'\n",
    "testp='//*[@id=\"app-root\"]/div/div/div/div[5]/div/div/div/div'\n",
    "url1 = 'https://map.naver.com/v5/'\n",
    "\n",
    "\n",
    "driver.get(url1)\n",
    "sleep(3)\n",
    "\n",
    "num='강원도 '\n",
    "\n",
    "\n",
    "row_co=[]\n",
    "\n",
    "pp2 = '#container > shrinkable-layout > div > app-base > search-input-box > div > div.search_box'\n",
    "\n",
    "x = driver.find_element(By.CSS_SELECTOR, pp2)\n",
    "y = x.find_element(By.TAG_NAME, 'input')\n",
    "y.clear()\n",
    "y.send_keys(num+' 맛집')\n",
    "y.send_keys(Keys.ENTER)\n",
    "print(num+' 맛집', ' 검색 완료')\n",
    "\n"
   ]
  },
  {
   "cell_type": "code",
   "execution_count": null,
   "id": "df072652",
   "metadata": {},
   "outputs": [],
   "source": []
  },
  {
   "cell_type": "code",
   "execution_count": null,
   "id": "d6dd3f22",
   "metadata": {},
   "outputs": [],
   "source": []
  },
  {
   "cell_type": "code",
   "execution_count": null,
   "id": "8c90cfbb",
   "metadata": {},
   "outputs": [],
   "source": []
  },
  {
   "cell_type": "code",
   "execution_count": null,
   "id": "339cf837",
   "metadata": {},
   "outputs": [],
   "source": []
  },
  {
   "cell_type": "code",
   "execution_count": null,
   "id": "fd6f2ad4",
   "metadata": {},
   "outputs": [],
   "source": []
  },
  {
   "cell_type": "code",
   "execution_count": 1,
   "id": "6918953e",
   "metadata": {
    "ExecuteTime": {
     "end_time": "2023-08-10T07:19:44.331595Z",
     "start_time": "2023-08-10T07:19:40.936709Z"
    }
   },
   "outputs": [],
   "source": []
  },
  {
   "cell_type": "code",
   "execution_count": null,
   "id": "e194dd39",
   "metadata": {},
   "outputs": [],
   "source": []
  },
  {
   "cell_type": "code",
   "execution_count": null,
   "id": "260f94c3",
   "metadata": {},
   "outputs": [],
   "source": []
  },
  {
   "cell_type": "code",
   "execution_count": null,
   "id": "957435a4",
   "metadata": {},
   "outputs": [],
   "source": []
  },
  {
   "cell_type": "code",
   "execution_count": null,
   "id": "6bf23c91",
   "metadata": {},
   "outputs": [],
   "source": []
  },
  {
   "cell_type": "code",
   "execution_count": null,
   "id": "ba3abfce",
   "metadata": {},
   "outputs": [],
   "source": []
  },
  {
   "cell_type": "code",
   "execution_count": null,
   "id": "37fc9fb1",
   "metadata": {},
   "outputs": [],
   "source": []
  },
  {
   "cell_type": "code",
   "execution_count": null,
   "id": "09fa2944",
   "metadata": {},
   "outputs": [],
   "source": []
  },
  {
   "cell_type": "code",
   "execution_count": null,
   "id": "3abf13d2",
   "metadata": {},
   "outputs": [],
   "source": []
  },
  {
   "cell_type": "code",
   "execution_count": null,
   "id": "8573969d",
   "metadata": {},
   "outputs": [],
   "source": []
  },
  {
   "cell_type": "code",
   "execution_count": null,
   "id": "d953821f",
   "metadata": {},
   "outputs": [],
   "source": []
  },
  {
   "cell_type": "code",
   "execution_count": null,
   "id": "d16443aa",
   "metadata": {},
   "outputs": [],
   "source": []
  },
  {
   "cell_type": "code",
   "execution_count": null,
   "id": "5c51f970",
   "metadata": {},
   "outputs": [],
   "source": []
  }
 ],
 "metadata": {
  "kernelspec": {
   "display_name": "Python 3 (ipykernel)",
   "language": "python",
   "name": "python3"
  },
  "language_info": {
   "codemirror_mode": {
    "name": "ipython",
    "version": 3
   },
   "file_extension": ".py",
   "mimetype": "text/x-python",
   "name": "python",
   "nbconvert_exporter": "python",
   "pygments_lexer": "ipython3",
   "version": "3.10.11"
  }
 },
 "nbformat": 4,
 "nbformat_minor": 5
}
