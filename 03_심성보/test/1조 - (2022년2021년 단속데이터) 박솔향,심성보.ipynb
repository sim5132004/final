{
 "cells": [
  {
   "cell_type": "markdown",
   "id": "07796995",
   "metadata": {
    "heading_collapsed": true
   },
   "source": [
    "# 탐색적 데이터분석 (Exploratory Data Analysis, EDA)"
   ]
  },
  {
   "cell_type": "markdown",
   "id": "bb0a7e31",
   "metadata": {
    "heading_collapsed": true,
    "hidden": true
   },
   "source": [
    "## 개념정의\n",
    "* 데이터셋을 탐색하고 이해하기 위해 수행되는 분석 과정\n",
    "* 대략적인 간단한 분석절차를 기본으로 동적으로 데이터를 학습하며 데이터분석을 심화시키는 기법"
   ]
  },
  {
   "cell_type": "markdown",
   "id": "9a361676",
   "metadata": {
    "hidden": true
   },
   "source": [
    "## 주요절차"
   ]
  },
  {
   "cell_type": "markdown",
   "id": "27585602",
   "metadata": {
    "hidden": true
   },
   "source": [
    "### 1. 초기데이터 분석"
   ]
  },
  {
   "cell_type": "markdown",
   "id": "8aee3de8",
   "metadata": {
    "hidden": true
   },
   "source": [
    "#### 1-1. 데이터딕셔너리(각 열의 의미, 데이터의 의미해석관련 스펙 또는 메뉴얼) 확인\n",
    "#### 1-2 데이터 기초정보 확인 (사이즈, 열이름, 데이터형, 결측치, 이상치확인)"
   ]
  },
  {
   "cell_type": "markdown",
   "id": "2ebab032",
   "metadata": {
    "hidden": true
   },
   "source": [
    "### 2. 데이터 정제"
   ]
  },
  {
   "cell_type": "markdown",
   "id": "39e200d0",
   "metadata": {
    "hidden": true
   },
   "source": [
    "#### 2.1. 원본데이터로에서 분석가능한 형태의 데이터 전처리 (형변환, 열이름 변경등)\n",
    "#### 2.2. 데이터 클리닝: 이상치, 결측치처리"
   ]
  },
  {
   "cell_type": "markdown",
   "id": "4e60e3f3",
   "metadata": {
    "hidden": true
   },
   "source": [
    "### 3. 추가데이터 분석"
   ]
  },
  {
   "cell_type": "markdown",
   "id": "82e0a525",
   "metadata": {
    "hidden": true
   },
   "source": [
    "#### 3.1 데이터 정제후 데이터딕셔너리 재확인\n",
    "#### 3.2 기초통계 정보 확인 (최대값, 최소값, 평균값, 표준편차, 최빈값, 유일값 등)\n",
    "#### 3.3 시각화를 통한 데이터이해 심화 "
   ]
  },
  {
   "cell_type": "markdown",
   "id": "87e87a59",
   "metadata": {
    "hidden": true
   },
   "source": [
    "* 3.3.1 단일 열: 데이터의 성격에 따른 다양한 차트 적용  \n",
    "* 3.3.2 복수 열: 두개의 열간 연관관계 분석(Pair Plot 또는 Seaborn의 관련 지원 차트등)"
   ]
  },
  {
   "cell_type": "markdown",
   "id": "e3b8b737",
   "metadata": {
    "hidden": true
   },
   "source": [
    "### 4. 탐색적연구"
   ]
  },
  {
   "cell_type": "markdown",
   "id": "0d9f6819",
   "metadata": {
    "heading_collapsed": true,
    "hidden": true
   },
   "source": [
    "#### Step1] 가설: 데이터 분석을 위한 목적, 대상 또는 가설을 세워본다.\n",
    "* 예) 현재 와인데이터셋은 두 개의 서로 다른 품종의 데이터가 혼합되어 있을 것이다."
   ]
  },
  {
   "cell_type": "markdown",
   "id": "547beee7",
   "metadata": {
    "hidden": true
   },
   "source": [
    "#### Step2] 가설증명: 데이터 재 구조화, 시각화를 통해 새로운 insight 및 정보를 습득 및 가설을 검증한다. \n",
    "* 예) 품질관련 데이터 셋의 히스토그램 분석 후, 데이터 셋을 분리하여 서로 다른 정규분포가 나오는 그래프로 검증"
   ]
  },
  {
   "cell_type": "markdown",
   "id": "e55ec97a",
   "metadata": {
    "hidden": true
   },
   "source": [
    "#### Step3] 가설결론: 해당 가설에 대한 결론을 내린다."
   ]
  },
  {
   "cell_type": "markdown",
   "id": "6b5c62ff",
   "metadata": {
    "hidden": true
   },
   "source": [
    "#### Step4] 탐색적연구 반복: 시간 일정이 허락하는 범위내에서 Step1~Step3를 반복한다."
   ]
  },
  {
   "cell_type": "markdown",
   "id": "005f2c91",
   "metadata": {
    "hidden": true
   },
   "source": [
    "#### Step5] 최종결론: 지금까지 진행했던 모든 탐색적연구의 결과를 반영하여 최종 결론을 내린다."
   ]
  },
  {
   "cell_type": "markdown",
   "id": "d98ee251",
   "metadata": {},
   "source": [
    "# 탐색적분석 적용 실습 템플릿"
   ]
  },
  {
   "cell_type": "markdown",
   "id": "0521bf67",
   "metadata": {},
   "source": [
    "## 데이터 수집"
   ]
  },
  {
   "cell_type": "markdown",
   "id": "dffa9d4c",
   "metadata": {
    "ExecuteTime": {
     "end_time": "2023-07-05T03:08:43.376214200Z",
     "start_time": "2023-07-05T03:08:42.153406900Z"
    }
   },
   "source": [
    "### 모듈 import"
   ]
  },
  {
   "cell_type": "markdown",
   "id": "76737f19",
   "metadata": {},
   "source": [
    "####  데이터 불러오기(read, 이름: 2021년 ~ 2022년 자동차 단속 현황)"
   ]
  },
  {
   "cell_type": "code",
   "execution_count": 1,
   "id": "06e3d9af",
   "metadata": {
    "ExecuteTime": {
     "end_time": "2023-07-06T00:57:24.443639Z",
     "start_time": "2023-07-06T00:57:22.821807Z"
    }
   },
   "outputs": [],
   "source": [
    "import pandas as pd\n",
    "import matplotlib.pyplot as plt\n",
    "import numpy as np\n",
    "import datetime\n",
    "import time\n",
    "import seaborn as sns\n",
    "from matplotlib import font_manager,rc\n",
    "font_location = \"C:\\Windows\\Fonts\\malgun.ttf\"\n",
    "font_name = font_manager.FontProperties(fname=font_location).get_name()\n",
    "rc('font',family=font_name)\n"
   ]
  },
  {
   "cell_type": "code",
   "execution_count": 2,
   "id": "56172f77",
   "metadata": {
    "ExecuteTime": {
     "end_time": "2023-07-06T00:58:03.514399Z",
     "start_time": "2023-07-06T00:58:03.302729Z"
    }
   },
   "outputs": [],
   "source": [
    "data=pd.read_csv('data.csv', encoding='cp949')"
   ]
  },
  {
   "cell_type": "markdown",
   "id": "c3b597f4",
   "metadata": {},
   "source": [
    "## 1. 초기데이터 분석"
   ]
  },
  {
   "cell_type": "markdown",
   "id": "0c3c91be",
   "metadata": {},
   "source": [
    "### 1-1. 데이터딕셔너리 확인"
   ]
  },
  {
   "cell_type": "code",
   "execution_count": 3,
   "id": "82ee018e",
   "metadata": {},
   "outputs": [],
   "source": [
    "# 각 열의 의미, 데b이터의 의미해석관련 스펙 또는 메뉴얼을 확인 가능시 진행 하세요"
   ]
  },
  {
   "cell_type": "code",
   "execution_count": null,
   "id": "4c7d55f9",
   "metadata": {},
   "outputs": [],
   "source": []
  },
  {
   "cell_type": "markdown",
   "id": "913979f3",
   "metadata": {},
   "source": [
    "### 1-2. 데이터 기초정보 확인"
   ]
  },
  {
   "cell_type": "code",
   "execution_count": 4,
   "id": "6f282805",
   "metadata": {},
   "outputs": [],
   "source": [
    "# 사이즈, 데이터형, 결측치, 중복값, 이상치등을 확인하세요"
   ]
  },
  {
   "cell_type": "markdown",
   "id": "5c10e847",
   "metadata": {},
   "source": [
    "####  필요없는 열 삭제  \n",
    "* 1. 단속년도\n",
    "* 2. 단속장소\n",
    "* 3. 단속 구분 \n",
    "* 4. 자치단체 4개의 열 삭제"
   ]
  },
  {
   "cell_type": "code",
   "execution_count": 3,
   "id": "cb560be2",
   "metadata": {
    "ExecuteTime": {
     "end_time": "2023-07-06T00:58:28.987323Z",
     "start_time": "2023-07-06T00:58:28.966390Z"
    }
   },
   "outputs": [],
   "source": []
  },
  {
   "cell_type": "markdown",
   "id": "c2e13829",
   "metadata": {},
   "source": [
    "## 2. 데이터 정제"
   ]
  },
  {
   "cell_type": "markdown",
   "id": "7eedb11e",
   "metadata": {},
   "source": [
    "### 2-1. 간단한 데이터 전처리"
   ]
  },
  {
   "cell_type": "code",
   "execution_count": 5,
   "id": "5fd51a76",
   "metadata": {},
   "outputs": [],
   "source": [
    "# 원본데이터로에서 읽기 가능한 형태로 데이터처리를 하세요. (열이름 변경, 형변환등)"
   ]
  },
  {
   "cell_type": "code",
   "execution_count": 52,
   "id": "14c58930",
   "metadata": {
    "ExecuteTime": {
     "end_time": "2023-07-06T01:13:07.890502Z",
     "start_time": "2023-07-06T01:13:07.878534Z"
    }
   },
   "outputs": [],
   "source": [
    "#데이터 필요한 부분만 발최\n",
    "data1=data.drop(['단속년도','단속장소','단속구분','자치단체'], axis=1)\n",
    "data1.rename(columns={'단속방법 ':'단속방법'}, inplace=True)"
   ]
  },
  {
   "cell_type": "code",
   "execution_count": 53,
   "id": "455c3e15",
   "metadata": {
    "ExecuteTime": {
     "end_time": "2023-07-06T01:13:10.124365Z",
     "start_time": "2023-07-06T01:13:10.102424Z"
    }
   },
   "outputs": [
    {
     "data": {
      "text/html": [
       "<div>\n",
       "<style scoped>\n",
       "    .dataframe tbody tr th:only-of-type {\n",
       "        vertical-align: middle;\n",
       "    }\n",
       "\n",
       "    .dataframe tbody tr th {\n",
       "        vertical-align: top;\n",
       "    }\n",
       "\n",
       "    .dataframe thead th {\n",
       "        text-align: right;\n",
       "    }\n",
       "</style>\n",
       "<table border=\"1\" class=\"dataframe\">\n",
       "  <thead>\n",
       "    <tr style=\"text-align: right;\">\n",
       "      <th></th>\n",
       "      <th>단속일시</th>\n",
       "      <th>차종</th>\n",
       "      <th>차명</th>\n",
       "      <th>단속방법</th>\n",
       "    </tr>\n",
       "  </thead>\n",
       "  <tbody>\n",
       "    <tr>\n",
       "      <th>0</th>\n",
       "      <td>2021-01-01 7:08</td>\n",
       "      <td>01 승용차</td>\n",
       "      <td>아반떼(AVANTE)</td>\n",
       "      <td>고정형CCTV</td>\n",
       "    </tr>\n",
       "    <tr>\n",
       "      <th>1</th>\n",
       "      <td>2021-01-01 10:24</td>\n",
       "      <td>03 화물차(4t 이하)</td>\n",
       "      <td>그랜드스타렉스(GRAND STAREX)</td>\n",
       "      <td>고정형CCTV</td>\n",
       "    </tr>\n",
       "    <tr>\n",
       "      <th>2</th>\n",
       "      <td>2021-01-01 13:17</td>\n",
       "      <td>01 승용차</td>\n",
       "      <td>K5</td>\n",
       "      <td>고정형CCTV</td>\n",
       "    </tr>\n",
       "    <tr>\n",
       "      <th>3</th>\n",
       "      <td>2021-01-01 16:17</td>\n",
       "      <td>01 승용차</td>\n",
       "      <td>쏘나타 (SONATA)</td>\n",
       "      <td>고정형CCTV</td>\n",
       "    </tr>\n",
       "    <tr>\n",
       "      <th>4</th>\n",
       "      <td>2021-01-01 18:51</td>\n",
       "      <td>01 승용차</td>\n",
       "      <td>카니발</td>\n",
       "      <td>고정형CCTV</td>\n",
       "    </tr>\n",
       "    <tr>\n",
       "      <th>...</th>\n",
       "      <td>...</td>\n",
       "      <td>...</td>\n",
       "      <td>...</td>\n",
       "      <td>...</td>\n",
       "    </tr>\n",
       "    <tr>\n",
       "      <th>68846</th>\n",
       "      <td>2022-11-15 10:29</td>\n",
       "      <td>01 승용차</td>\n",
       "      <td>SM6</td>\n",
       "      <td>생활불편신고(국민신문고등)</td>\n",
       "    </tr>\n",
       "    <tr>\n",
       "      <th>68847</th>\n",
       "      <td>2022-11-14 17:44</td>\n",
       "      <td>01 승용차</td>\n",
       "      <td>E300</td>\n",
       "      <td>생활불편신고(국민신문고등)</td>\n",
       "    </tr>\n",
       "    <tr>\n",
       "      <th>68848</th>\n",
       "      <td>2022-11-11 17:16</td>\n",
       "      <td>02 승합차</td>\n",
       "      <td>그레이스</td>\n",
       "      <td>생활불편신고(국민신문고등)</td>\n",
       "    </tr>\n",
       "    <tr>\n",
       "      <th>68849</th>\n",
       "      <td>2022-11-15 7:40</td>\n",
       "      <td>03 화물차(4t 이하)</td>\n",
       "      <td>봉고Ⅲ 1톤</td>\n",
       "      <td>생활불편신고(국민신문고등)</td>\n",
       "    </tr>\n",
       "    <tr>\n",
       "      <th>68850</th>\n",
       "      <td>2022-11-15 7:40</td>\n",
       "      <td>03 화물차(4t 이하)</td>\n",
       "      <td>포터Ⅱ (PORTERⅡ)</td>\n",
       "      <td>생활불편신고(국민신문고등)</td>\n",
       "    </tr>\n",
       "  </tbody>\n",
       "</table>\n",
       "<p>68851 rows × 4 columns</p>\n",
       "</div>"
      ],
      "text/plain": [
       "                   단속일시             차종                     차명  \\\n",
       "0       2021-01-01 7:08         01 승용차            아반떼(AVANTE)   \n",
       "1      2021-01-01 10:24  03 화물차(4t 이하)  그랜드스타렉스(GRAND STAREX)   \n",
       "2      2021-01-01 13:17         01 승용차                     K5   \n",
       "3      2021-01-01 16:17         01 승용차           쏘나타 (SONATA)   \n",
       "4      2021-01-01 18:51         01 승용차                    카니발   \n",
       "...                 ...            ...                    ...   \n",
       "68846  2022-11-15 10:29         01 승용차                    SM6   \n",
       "68847  2022-11-14 17:44         01 승용차                   E300   \n",
       "68848  2022-11-11 17:16         02 승합차                   그레이스   \n",
       "68849   2022-11-15 7:40  03 화물차(4t 이하)                 봉고Ⅲ 1톤   \n",
       "68850   2022-11-15 7:40  03 화물차(4t 이하)          포터Ⅱ (PORTERⅡ)   \n",
       "\n",
       "                   단속방법  \n",
       "0             고정형CCTV    \n",
       "1             고정형CCTV    \n",
       "2             고정형CCTV    \n",
       "3             고정형CCTV    \n",
       "4             고정형CCTV    \n",
       "...                 ...  \n",
       "68846  생활불편신고(국민신문고등)    \n",
       "68847  생활불편신고(국민신문고등)    \n",
       "68848  생활불편신고(국민신문고등)    \n",
       "68849  생활불편신고(국민신문고등)    \n",
       "68850  생활불편신고(국민신문고등)    \n",
       "\n",
       "[68851 rows x 4 columns]"
      ]
     },
     "execution_count": 53,
     "metadata": {},
     "output_type": "execute_result"
    }
   ],
   "source": [
    "data1"
   ]
  },
  {
   "cell_type": "markdown",
   "id": "cfa0f4f4",
   "metadata": {},
   "source": [
    "### 2-2. 데이터 클리닝"
   ]
  },
  {
   "cell_type": "code",
   "execution_count": 54,
   "id": "81050694",
   "metadata": {
    "ExecuteTime": {
     "end_time": "2023-07-06T01:13:11.563235Z",
     "start_time": "2023-07-06T01:13:11.559244Z"
    }
   },
   "outputs": [],
   "source": [
    "# 이상치, 결측치, 중복값 처리등의 작업을 진행하세요"
   ]
  },
  {
   "cell_type": "markdown",
   "id": "eea1ff23",
   "metadata": {
    "ExecuteTime": {
     "end_time": "2023-07-06T00:59:33.618913Z",
     "start_time": "2023-07-06T00:59:33.613926Z"
    }
   },
   "source": [
    "#### 데이터의 통계를 내기위해화 groupby를 통해 수치"
   ]
  },
  {
   "cell_type": "code",
   "execution_count": 55,
   "id": "7e30b1ba",
   "metadata": {
    "ExecuteTime": {
     "end_time": "2023-07-06T01:13:13.478398Z",
     "start_time": "2023-07-06T01:13:13.374584Z"
    }
   },
   "outputs": [],
   "source": [
    "group_data=data1.groupby('단속일시').value_counts().to_frame()\n",
    "# 시간상 다양한 groupby를 하지 못함."
   ]
  },
  {
   "cell_type": "code",
   "execution_count": 56,
   "id": "5aad8868",
   "metadata": {
    "ExecuteTime": {
     "end_time": "2023-07-06T01:13:13.927426Z",
     "start_time": "2023-07-06T01:13:13.894486Z"
    }
   },
   "outputs": [],
   "source": [
    "group_data1=data1.groupby('차종')['차명'].value_counts().to_frame()\n",
    "# 사용할수 있지만 사용하지 않은 차종별 차명별 단속수"
   ]
  },
  {
   "cell_type": "code",
   "execution_count": 57,
   "id": "5f22d058",
   "metadata": {
    "ExecuteTime": {
     "end_time": "2023-07-06T01:13:14.423230Z",
     "start_time": "2023-07-06T01:13:14.407273Z"
    }
   },
   "outputs": [
    {
     "data": {
      "text/html": [
       "<div>\n",
       "<style scoped>\n",
       "    .dataframe tbody tr th:only-of-type {\n",
       "        vertical-align: middle;\n",
       "    }\n",
       "\n",
       "    .dataframe tbody tr th {\n",
       "        vertical-align: top;\n",
       "    }\n",
       "\n",
       "    .dataframe thead th {\n",
       "        text-align: right;\n",
       "    }\n",
       "</style>\n",
       "<table border=\"1\" class=\"dataframe\">\n",
       "  <thead>\n",
       "    <tr style=\"text-align: right;\">\n",
       "      <th></th>\n",
       "      <th></th>\n",
       "      <th>count</th>\n",
       "    </tr>\n",
       "    <tr>\n",
       "      <th>차종</th>\n",
       "      <th>차명</th>\n",
       "      <th></th>\n",
       "    </tr>\n",
       "  </thead>\n",
       "  <tbody>\n",
       "    <tr>\n",
       "      <th rowspan=\"5\" valign=\"top\">01 승용차</th>\n",
       "      <th>쏘나타(SONATA)</th>\n",
       "      <td>6228</td>\n",
       "    </tr>\n",
       "    <tr>\n",
       "      <th>K5</th>\n",
       "      <td>3551</td>\n",
       "    </tr>\n",
       "    <tr>\n",
       "      <th>그랜저(GRANDEUR)</th>\n",
       "      <td>3220</td>\n",
       "    </tr>\n",
       "    <tr>\n",
       "      <th>모닝</th>\n",
       "      <td>2742</td>\n",
       "    </tr>\n",
       "    <tr>\n",
       "      <th>아반떼(AVANTE)</th>\n",
       "      <td>2524</td>\n",
       "    </tr>\n",
       "    <tr>\n",
       "      <th>...</th>\n",
       "      <th>...</th>\n",
       "      <td>...</td>\n",
       "    </tr>\n",
       "    <tr>\n",
       "      <th rowspan=\"5\" valign=\"top\">08 이륜차</th>\n",
       "      <th>LTS125</th>\n",
       "      <td>1</td>\n",
       "    </tr>\n",
       "    <tr>\n",
       "      <th>CA110B</th>\n",
       "      <td>1</td>\n",
       "    </tr>\n",
       "    <tr>\n",
       "      <th>CB115</th>\n",
       "      <td>1</td>\n",
       "    </tr>\n",
       "    <tr>\n",
       "      <th>CB115D</th>\n",
       "      <td>1</td>\n",
       "    </tr>\n",
       "    <tr>\n",
       "      <th>YZF-R1</th>\n",
       "      <td>1</td>\n",
       "    </tr>\n",
       "  </tbody>\n",
       "</table>\n",
       "<p>2326 rows × 1 columns</p>\n",
       "</div>"
      ],
      "text/plain": [
       "                      count\n",
       "차종     차명                  \n",
       "01 승용차 쏘나타(SONATA)     6228\n",
       "       K5              3551\n",
       "       그랜저(GRANDEUR)   3220\n",
       "       모닝              2742\n",
       "       아반떼(AVANTE)     2524\n",
       "...                     ...\n",
       "08 이륜차 LTS125             1\n",
       "       CA110B             1\n",
       "       CB115              1\n",
       "       CB115D             1\n",
       "       YZF-R1             1\n",
       "\n",
       "[2326 rows x 1 columns]"
      ]
     },
     "execution_count": 57,
     "metadata": {},
     "output_type": "execute_result"
    }
   ],
   "source": [
    "group_data1"
   ]
  },
  {
   "cell_type": "markdown",
   "id": "9dac0879",
   "metadata": {},
   "source": [
    "## 3. 추가데이터 분석"
   ]
  },
  {
   "cell_type": "markdown",
   "id": "253f0cc0",
   "metadata": {},
   "source": [
    "### 3.1. 데이터 정제후 데이터딕셔너리 재확인"
   ]
  },
  {
   "cell_type": "code",
   "execution_count": 58,
   "id": "a4b2151b",
   "metadata": {
    "ExecuteTime": {
     "end_time": "2023-07-06T01:13:16.482777Z",
     "start_time": "2023-07-06T01:13:16.469783Z"
    }
   },
   "outputs": [],
   "source": [
    "# 1-2 작업을 다시 해보세요."
   ]
  },
  {
   "cell_type": "markdown",
   "id": "8a244e0a",
   "metadata": {},
   "source": [
    "### 3.2 기초통계 정보 확인"
   ]
  },
  {
   "cell_type": "code",
   "execution_count": 59,
   "id": "e0911ad8",
   "metadata": {
    "ExecuteTime": {
     "end_time": "2023-07-06T01:13:17.258526Z",
     "start_time": "2023-07-06T01:13:17.246534Z"
    }
   },
   "outputs": [],
   "source": [
    "# 최대값, 최소값, 평균값, 표준편차, 최빈값, 유일값 등의 정보를 파악해보세요"
   ]
  },
  {
   "cell_type": "code",
   "execution_count": 60,
   "id": "6eb0ea2d",
   "metadata": {
    "ExecuteTime": {
     "end_time": "2023-07-06T01:13:17.893793Z",
     "start_time": "2023-07-06T01:13:17.870824Z"
    },
    "scrolled": true
   },
   "outputs": [
    {
     "data": {
      "text/html": [
       "<div>\n",
       "<style scoped>\n",
       "    .dataframe tbody tr th:only-of-type {\n",
       "        vertical-align: middle;\n",
       "    }\n",
       "\n",
       "    .dataframe tbody tr th {\n",
       "        vertical-align: top;\n",
       "    }\n",
       "\n",
       "    .dataframe thead th {\n",
       "        text-align: right;\n",
       "    }\n",
       "</style>\n",
       "<table border=\"1\" class=\"dataframe\">\n",
       "  <thead>\n",
       "    <tr style=\"text-align: right;\">\n",
       "      <th></th>\n",
       "      <th></th>\n",
       "      <th></th>\n",
       "      <th></th>\n",
       "      <th>count</th>\n",
       "    </tr>\n",
       "    <tr>\n",
       "      <th>단속일시</th>\n",
       "      <th>차종</th>\n",
       "      <th>차명</th>\n",
       "      <th>단속방법</th>\n",
       "      <th></th>\n",
       "    </tr>\n",
       "  </thead>\n",
       "  <tbody>\n",
       "    <tr>\n",
       "      <th>2021-01-01 10:24</th>\n",
       "      <th>03 화물차(4t 이하)</th>\n",
       "      <th>그랜드스타렉스(GRAND STAREX)</th>\n",
       "      <th>고정형CCTV</th>\n",
       "      <td>1</td>\n",
       "    </tr>\n",
       "    <tr>\n",
       "      <th>2021-01-01 13:17</th>\n",
       "      <th>01 승용차</th>\n",
       "      <th>K5</th>\n",
       "      <th>고정형CCTV</th>\n",
       "      <td>1</td>\n",
       "    </tr>\n",
       "    <tr>\n",
       "      <th>2021-01-01 16:17</th>\n",
       "      <th>01 승용차</th>\n",
       "      <th>쏘나타 (SONATA)</th>\n",
       "      <th>고정형CCTV</th>\n",
       "      <td>1</td>\n",
       "    </tr>\n",
       "    <tr>\n",
       "      <th>2021-01-01 18:51</th>\n",
       "      <th>01 승용차</th>\n",
       "      <th>카니발</th>\n",
       "      <th>고정형CCTV</th>\n",
       "      <td>1</td>\n",
       "    </tr>\n",
       "    <tr>\n",
       "      <th>2021-01-01 21:46</th>\n",
       "      <th>01 승용차</th>\n",
       "      <th>그랜저(GRANDEUR)</th>\n",
       "      <th>고정형CCTV</th>\n",
       "      <td>1</td>\n",
       "    </tr>\n",
       "    <tr>\n",
       "      <th>...</th>\n",
       "      <th>...</th>\n",
       "      <th>...</th>\n",
       "      <th>...</th>\n",
       "      <td>...</td>\n",
       "    </tr>\n",
       "    <tr>\n",
       "      <th>2022-11-30 8:42</th>\n",
       "      <th>01 승용차</th>\n",
       "      <th>QM6</th>\n",
       "      <th>고정형CCTV</th>\n",
       "      <td>1</td>\n",
       "    </tr>\n",
       "    <tr>\n",
       "      <th>2022-11-30 8:43</th>\n",
       "      <th>03 화물차(4t 이하)</th>\n",
       "      <th>봉고Ⅲ 플러스냉장차</th>\n",
       "      <th>고정형CCTV</th>\n",
       "      <td>1</td>\n",
       "    </tr>\n",
       "    <tr>\n",
       "      <th rowspan=\"2\" valign=\"top\">2022-11-30 8:45</th>\n",
       "      <th rowspan=\"2\" valign=\"top\">01 승용차</th>\n",
       "      <th>캐딜락 XT5</th>\n",
       "      <th>고정형CCTV</th>\n",
       "      <td>1</td>\n",
       "    </tr>\n",
       "    <tr>\n",
       "      <th>팰리세이드(PALISADE)</th>\n",
       "      <th>고정형CCTV</th>\n",
       "      <td>1</td>\n",
       "    </tr>\n",
       "    <tr>\n",
       "      <th>2022-11-30 8:47</th>\n",
       "      <th>02 승합차</th>\n",
       "      <th>스타리아 (STARIA)</th>\n",
       "      <th>버스탑재형(SIDE)</th>\n",
       "      <td>1</td>\n",
       "    </tr>\n",
       "  </tbody>\n",
       "</table>\n",
       "<p>68115 rows × 1 columns</p>\n",
       "</div>"
      ],
      "text/plain": [
       "                                                                    count\n",
       "단속일시             차종            차명                    단속방법                \n",
       "2021-01-01 10:24 03 화물차(4t 이하) 그랜드스타렉스(GRAND STAREX) 고정형CCTV            1\n",
       "2021-01-01 13:17 01 승용차        K5                    고정형CCTV            1\n",
       "2021-01-01 16:17 01 승용차        쏘나타 (SONATA)          고정형CCTV            1\n",
       "2021-01-01 18:51 01 승용차        카니발                   고정형CCTV            1\n",
       "2021-01-01 21:46 01 승용차        그랜저(GRANDEUR)         고정형CCTV            1\n",
       "...                                                                   ...\n",
       "2022-11-30 8:42  01 승용차        QM6                   고정형CCTV            1\n",
       "2022-11-30 8:43  03 화물차(4t 이하) 봉고Ⅲ 플러스냉장차            고정형CCTV            1\n",
       "2022-11-30 8:45  01 승용차        캐딜락 XT5               고정형CCTV            1\n",
       "                               팰리세이드(PALISADE)       고정형CCTV            1\n",
       "2022-11-30 8:47  02 승합차        스타리아 (STARIA)         버스탑재형(SIDE)        1\n",
       "\n",
       "[68115 rows x 1 columns]"
      ]
     },
     "execution_count": 60,
     "metadata": {},
     "output_type": "execute_result"
    }
   ],
   "source": [
    "group_data"
   ]
  },
  {
   "cell_type": "markdown",
   "id": "dd36d181",
   "metadata": {
    "ExecuteTime": {
     "end_time": "2023-07-06T01:01:02.030333Z",
     "start_time": "2023-07-06T01:01:02.014380Z"
    }
   },
   "source": [
    "#### 데이터를 활용하기위해 Datetime으로 형변환 및 인덱스 조정"
   ]
  },
  {
   "cell_type": "code",
   "execution_count": 61,
   "id": "489190c2",
   "metadata": {
    "ExecuteTime": {
     "end_time": "2023-07-06T01:13:19.242567Z",
     "start_time": "2023-07-06T01:13:19.215640Z"
    }
   },
   "outputs": [],
   "source": [
    "#인덱스 초기화\n",
    "group_data.reset_index(inplace=True)"
   ]
  },
  {
   "cell_type": "code",
   "execution_count": 62,
   "id": "8253e143",
   "metadata": {
    "ExecuteTime": {
     "end_time": "2023-07-06T01:13:19.754435Z",
     "start_time": "2023-07-06T01:13:19.735486Z"
    },
    "scrolled": true
   },
   "outputs": [
    {
     "data": {
      "text/html": [
       "<div>\n",
       "<style scoped>\n",
       "    .dataframe tbody tr th:only-of-type {\n",
       "        vertical-align: middle;\n",
       "    }\n",
       "\n",
       "    .dataframe tbody tr th {\n",
       "        vertical-align: top;\n",
       "    }\n",
       "\n",
       "    .dataframe thead th {\n",
       "        text-align: right;\n",
       "    }\n",
       "</style>\n",
       "<table border=\"1\" class=\"dataframe\">\n",
       "  <thead>\n",
       "    <tr style=\"text-align: right;\">\n",
       "      <th></th>\n",
       "      <th>단속일시</th>\n",
       "      <th>차종</th>\n",
       "      <th>차명</th>\n",
       "      <th>단속방법</th>\n",
       "      <th>count</th>\n",
       "    </tr>\n",
       "  </thead>\n",
       "  <tbody>\n",
       "    <tr>\n",
       "      <th>0</th>\n",
       "      <td>2021-01-01 10:24</td>\n",
       "      <td>03 화물차(4t 이하)</td>\n",
       "      <td>그랜드스타렉스(GRAND STAREX)</td>\n",
       "      <td>고정형CCTV</td>\n",
       "      <td>1</td>\n",
       "    </tr>\n",
       "    <tr>\n",
       "      <th>1</th>\n",
       "      <td>2021-01-01 13:17</td>\n",
       "      <td>01 승용차</td>\n",
       "      <td>K5</td>\n",
       "      <td>고정형CCTV</td>\n",
       "      <td>1</td>\n",
       "    </tr>\n",
       "    <tr>\n",
       "      <th>2</th>\n",
       "      <td>2021-01-01 16:17</td>\n",
       "      <td>01 승용차</td>\n",
       "      <td>쏘나타 (SONATA)</td>\n",
       "      <td>고정형CCTV</td>\n",
       "      <td>1</td>\n",
       "    </tr>\n",
       "    <tr>\n",
       "      <th>3</th>\n",
       "      <td>2021-01-01 18:51</td>\n",
       "      <td>01 승용차</td>\n",
       "      <td>카니발</td>\n",
       "      <td>고정형CCTV</td>\n",
       "      <td>1</td>\n",
       "    </tr>\n",
       "    <tr>\n",
       "      <th>4</th>\n",
       "      <td>2021-01-01 21:46</td>\n",
       "      <td>01 승용차</td>\n",
       "      <td>그랜저(GRANDEUR)</td>\n",
       "      <td>고정형CCTV</td>\n",
       "      <td>1</td>\n",
       "    </tr>\n",
       "    <tr>\n",
       "      <th>...</th>\n",
       "      <td>...</td>\n",
       "      <td>...</td>\n",
       "      <td>...</td>\n",
       "      <td>...</td>\n",
       "      <td>...</td>\n",
       "    </tr>\n",
       "    <tr>\n",
       "      <th>68110</th>\n",
       "      <td>2022-11-30 8:42</td>\n",
       "      <td>01 승용차</td>\n",
       "      <td>QM6</td>\n",
       "      <td>고정형CCTV</td>\n",
       "      <td>1</td>\n",
       "    </tr>\n",
       "    <tr>\n",
       "      <th>68111</th>\n",
       "      <td>2022-11-30 8:43</td>\n",
       "      <td>03 화물차(4t 이하)</td>\n",
       "      <td>봉고Ⅲ 플러스냉장차</td>\n",
       "      <td>고정형CCTV</td>\n",
       "      <td>1</td>\n",
       "    </tr>\n",
       "    <tr>\n",
       "      <th>68112</th>\n",
       "      <td>2022-11-30 8:45</td>\n",
       "      <td>01 승용차</td>\n",
       "      <td>캐딜락 XT5</td>\n",
       "      <td>고정형CCTV</td>\n",
       "      <td>1</td>\n",
       "    </tr>\n",
       "    <tr>\n",
       "      <th>68113</th>\n",
       "      <td>2022-11-30 8:45</td>\n",
       "      <td>01 승용차</td>\n",
       "      <td>팰리세이드(PALISADE)</td>\n",
       "      <td>고정형CCTV</td>\n",
       "      <td>1</td>\n",
       "    </tr>\n",
       "    <tr>\n",
       "      <th>68114</th>\n",
       "      <td>2022-11-30 8:47</td>\n",
       "      <td>02 승합차</td>\n",
       "      <td>스타리아 (STARIA)</td>\n",
       "      <td>버스탑재형(SIDE)</td>\n",
       "      <td>1</td>\n",
       "    </tr>\n",
       "  </tbody>\n",
       "</table>\n",
       "<p>68115 rows × 5 columns</p>\n",
       "</div>"
      ],
      "text/plain": [
       "                   단속일시             차종                     차명           단속방법  \\\n",
       "0      2021-01-01 10:24  03 화물차(4t 이하)  그랜드스타렉스(GRAND STAREX)      고정형CCTV     \n",
       "1      2021-01-01 13:17         01 승용차                     K5      고정형CCTV     \n",
       "2      2021-01-01 16:17         01 승용차           쏘나타 (SONATA)      고정형CCTV     \n",
       "3      2021-01-01 18:51         01 승용차                    카니발      고정형CCTV     \n",
       "4      2021-01-01 21:46         01 승용차          그랜저(GRANDEUR)      고정형CCTV     \n",
       "...                 ...            ...                    ...            ...   \n",
       "68110   2022-11-30 8:42         01 승용차                    QM6      고정형CCTV     \n",
       "68111   2022-11-30 8:43  03 화물차(4t 이하)             봉고Ⅲ 플러스냉장차      고정형CCTV     \n",
       "68112   2022-11-30 8:45         01 승용차                캐딜락 XT5      고정형CCTV     \n",
       "68113   2022-11-30 8:45         01 승용차        팰리세이드(PALISADE)      고정형CCTV     \n",
       "68114   2022-11-30 8:47         02 승합차          스타리아 (STARIA)  버스탑재형(SIDE)     \n",
       "\n",
       "       count  \n",
       "0          1  \n",
       "1          1  \n",
       "2          1  \n",
       "3          1  \n",
       "4          1  \n",
       "...      ...  \n",
       "68110      1  \n",
       "68111      1  \n",
       "68112      1  \n",
       "68113      1  \n",
       "68114      1  \n",
       "\n",
       "[68115 rows x 5 columns]"
      ]
     },
     "execution_count": 62,
     "metadata": {},
     "output_type": "execute_result"
    }
   ],
   "source": [
    "group_data"
   ]
  },
  {
   "cell_type": "markdown",
   "id": "3deaea40",
   "metadata": {},
   "source": [
    "#### 필요없는 열 날리기(현재)"
   ]
  },
  {
   "cell_type": "code",
   "execution_count": 63,
   "id": "a94516af",
   "metadata": {
    "ExecuteTime": {
     "end_time": "2023-07-06T01:13:33.134970Z",
     "start_time": "2023-07-06T01:13:33.126967Z"
    }
   },
   "outputs": [],
   "source": [
    "group_data.drop(['차명','차종','차명','단속방법'],axis=1,inplace=True)"
   ]
  },
  {
   "cell_type": "code",
   "execution_count": 64,
   "id": "dc2bdd6d",
   "metadata": {
    "ExecuteTime": {
     "end_time": "2023-07-06T01:13:33.844863Z",
     "start_time": "2023-07-06T01:13:33.822924Z"
    }
   },
   "outputs": [
    {
     "data": {
      "text/html": [
       "<div>\n",
       "<style scoped>\n",
       "    .dataframe tbody tr th:only-of-type {\n",
       "        vertical-align: middle;\n",
       "    }\n",
       "\n",
       "    .dataframe tbody tr th {\n",
       "        vertical-align: top;\n",
       "    }\n",
       "\n",
       "    .dataframe thead th {\n",
       "        text-align: right;\n",
       "    }\n",
       "</style>\n",
       "<table border=\"1\" class=\"dataframe\">\n",
       "  <thead>\n",
       "    <tr style=\"text-align: right;\">\n",
       "      <th></th>\n",
       "      <th>단속일시</th>\n",
       "      <th>count</th>\n",
       "    </tr>\n",
       "  </thead>\n",
       "  <tbody>\n",
       "    <tr>\n",
       "      <th>0</th>\n",
       "      <td>2021-01-01 10:24</td>\n",
       "      <td>1</td>\n",
       "    </tr>\n",
       "    <tr>\n",
       "      <th>1</th>\n",
       "      <td>2021-01-01 13:17</td>\n",
       "      <td>1</td>\n",
       "    </tr>\n",
       "    <tr>\n",
       "      <th>2</th>\n",
       "      <td>2021-01-01 16:17</td>\n",
       "      <td>1</td>\n",
       "    </tr>\n",
       "    <tr>\n",
       "      <th>3</th>\n",
       "      <td>2021-01-01 18:51</td>\n",
       "      <td>1</td>\n",
       "    </tr>\n",
       "    <tr>\n",
       "      <th>4</th>\n",
       "      <td>2021-01-01 21:46</td>\n",
       "      <td>1</td>\n",
       "    </tr>\n",
       "    <tr>\n",
       "      <th>...</th>\n",
       "      <td>...</td>\n",
       "      <td>...</td>\n",
       "    </tr>\n",
       "    <tr>\n",
       "      <th>68110</th>\n",
       "      <td>2022-11-30 8:42</td>\n",
       "      <td>1</td>\n",
       "    </tr>\n",
       "    <tr>\n",
       "      <th>68111</th>\n",
       "      <td>2022-11-30 8:43</td>\n",
       "      <td>1</td>\n",
       "    </tr>\n",
       "    <tr>\n",
       "      <th>68112</th>\n",
       "      <td>2022-11-30 8:45</td>\n",
       "      <td>1</td>\n",
       "    </tr>\n",
       "    <tr>\n",
       "      <th>68113</th>\n",
       "      <td>2022-11-30 8:45</td>\n",
       "      <td>1</td>\n",
       "    </tr>\n",
       "    <tr>\n",
       "      <th>68114</th>\n",
       "      <td>2022-11-30 8:47</td>\n",
       "      <td>1</td>\n",
       "    </tr>\n",
       "  </tbody>\n",
       "</table>\n",
       "<p>68115 rows × 2 columns</p>\n",
       "</div>"
      ],
      "text/plain": [
       "                   단속일시  count\n",
       "0      2021-01-01 10:24      1\n",
       "1      2021-01-01 13:17      1\n",
       "2      2021-01-01 16:17      1\n",
       "3      2021-01-01 18:51      1\n",
       "4      2021-01-01 21:46      1\n",
       "...                 ...    ...\n",
       "68110   2022-11-30 8:42      1\n",
       "68111   2022-11-30 8:43      1\n",
       "68112   2022-11-30 8:45      1\n",
       "68113   2022-11-30 8:45      1\n",
       "68114   2022-11-30 8:47      1\n",
       "\n",
       "[68115 rows x 2 columns]"
      ]
     },
     "execution_count": 64,
     "metadata": {},
     "output_type": "execute_result"
    }
   ],
   "source": [
    "group_data"
   ]
  },
  {
   "cell_type": "code",
   "execution_count": 65,
   "id": "3288b452",
   "metadata": {
    "ExecuteTime": {
     "end_time": "2023-07-06T01:13:36.825135Z",
     "start_time": "2023-07-06T01:13:36.750682Z"
    }
   },
   "outputs": [],
   "source": [
    "# 날짜 데이터를 활용하기위해 to_datetime을 사용함\n",
    "group_data['단속일시']=pd.to_datetime(group_data['단속일시'])"
   ]
  },
  {
   "cell_type": "code",
   "execution_count": 66,
   "id": "9b90214c",
   "metadata": {
    "ExecuteTime": {
     "end_time": "2023-07-06T01:13:37.411688Z",
     "start_time": "2023-07-06T01:13:37.398723Z"
    }
   },
   "outputs": [
    {
     "name": "stdout",
     "output_type": "stream",
     "text": [
      "<class 'pandas.core.frame.DataFrame'>\n",
      "RangeIndex: 68115 entries, 0 to 68114\n",
      "Data columns (total 2 columns):\n",
      " #   Column  Non-Null Count  Dtype         \n",
      "---  ------  --------------  -----         \n",
      " 0   단속일시    68115 non-null  datetime64[ns]\n",
      " 1   count   68115 non-null  int64         \n",
      "dtypes: datetime64[ns](1), int64(1)\n",
      "memory usage: 1.0 MB\n"
     ]
    }
   ],
   "source": [
    "group_data.info()"
   ]
  },
  {
   "cell_type": "code",
   "execution_count": null,
   "id": "a1839b4c",
   "metadata": {},
   "outputs": [],
   "source": []
  },
  {
   "cell_type": "code",
   "execution_count": 67,
   "id": "ec0441be",
   "metadata": {
    "ExecuteTime": {
     "end_time": "2023-07-06T01:13:40.934275Z",
     "start_time": "2023-07-06T01:13:40.918319Z"
    }
   },
   "outputs": [],
   "source": [
    "# 그리고 resample을 활용하기위해 날짜 데이터를 인덱스로 변환\n",
    "group_data.set_index('단속일시', inplace=True)"
   ]
  },
  {
   "cell_type": "markdown",
   "id": "e73d61a5",
   "metadata": {},
   "source": [
    "### 3.3 시각화를 통한 데이터이해 심화"
   ]
  },
  {
   "cell_type": "markdown",
   "id": "a75d7f04",
   "metadata": {},
   "source": [
    "#### 3.3.1 단일 열"
   ]
  },
  {
   "cell_type": "code",
   "execution_count": null,
   "id": "857a975c",
   "metadata": {},
   "outputs": [],
   "source": []
  },
  {
   "cell_type": "code",
   "execution_count": 68,
   "id": "859ff74f",
   "metadata": {
    "ExecuteTime": {
     "end_time": "2023-07-06T01:13:43.347695Z",
     "start_time": "2023-07-06T01:13:43.334724Z"
    }
   },
   "outputs": [],
   "source": [
    "# 데이터의 성격에 따라 이해도를 올리기 위해 시각화가 필요한 데이터차트를 만들어 보세요. (막대차트, 파이차트, 라인차트, 히스토그램등..)"
   ]
  },
  {
   "cell_type": "markdown",
   "id": "595943e7",
   "metadata": {},
   "source": [
    "#### 주별 카운트"
   ]
  },
  {
   "cell_type": "code",
   "execution_count": 69,
   "id": "918b36a0",
   "metadata": {
    "ExecuteTime": {
     "end_time": "2023-07-06T01:13:44.815147Z",
     "start_time": "2023-07-06T01:13:44.782235Z"
    },
    "scrolled": true
   },
   "outputs": [
    {
     "data": {
      "text/html": [
       "<div>\n",
       "<style scoped>\n",
       "    .dataframe tbody tr th:only-of-type {\n",
       "        vertical-align: middle;\n",
       "    }\n",
       "\n",
       "    .dataframe tbody tr th {\n",
       "        vertical-align: top;\n",
       "    }\n",
       "\n",
       "    .dataframe thead th {\n",
       "        text-align: right;\n",
       "    }\n",
       "</style>\n",
       "<table border=\"1\" class=\"dataframe\">\n",
       "  <thead>\n",
       "    <tr style=\"text-align: right;\">\n",
       "      <th></th>\n",
       "      <th>count</th>\n",
       "    </tr>\n",
       "    <tr>\n",
       "      <th>단속일시</th>\n",
       "      <th></th>\n",
       "    </tr>\n",
       "  </thead>\n",
       "  <tbody>\n",
       "    <tr>\n",
       "      <th>2021-01-03</th>\n",
       "      <td>27</td>\n",
       "    </tr>\n",
       "    <tr>\n",
       "      <th>2021-01-10</th>\n",
       "      <td>454</td>\n",
       "    </tr>\n",
       "    <tr>\n",
       "      <th>2021-01-17</th>\n",
       "      <td>652</td>\n",
       "    </tr>\n",
       "    <tr>\n",
       "      <th>2021-01-24</th>\n",
       "      <td>506</td>\n",
       "    </tr>\n",
       "    <tr>\n",
       "      <th>2021-01-31</th>\n",
       "      <td>682</td>\n",
       "    </tr>\n",
       "    <tr>\n",
       "      <th>...</th>\n",
       "      <td>...</td>\n",
       "    </tr>\n",
       "    <tr>\n",
       "      <th>2022-11-06</th>\n",
       "      <td>754</td>\n",
       "    </tr>\n",
       "    <tr>\n",
       "      <th>2022-11-13</th>\n",
       "      <td>651</td>\n",
       "    </tr>\n",
       "    <tr>\n",
       "      <th>2022-11-20</th>\n",
       "      <td>727</td>\n",
       "    </tr>\n",
       "    <tr>\n",
       "      <th>2022-11-27</th>\n",
       "      <td>787</td>\n",
       "    </tr>\n",
       "    <tr>\n",
       "      <th>2022-12-04</th>\n",
       "      <td>393</td>\n",
       "    </tr>\n",
       "  </tbody>\n",
       "</table>\n",
       "<p>101 rows × 1 columns</p>\n",
       "</div>"
      ],
      "text/plain": [
       "            count\n",
       "단속일시             \n",
       "2021-01-03     27\n",
       "2021-01-10    454\n",
       "2021-01-17    652\n",
       "2021-01-24    506\n",
       "2021-01-31    682\n",
       "...           ...\n",
       "2022-11-06    754\n",
       "2022-11-13    651\n",
       "2022-11-20    727\n",
       "2022-11-27    787\n",
       "2022-12-04    393\n",
       "\n",
       "[101 rows x 1 columns]"
      ]
     },
     "execution_count": 69,
     "metadata": {},
     "output_type": "execute_result"
    }
   ],
   "source": [
    "weekly=group_data.resample('W').sum()\n",
    "weekly"
   ]
  },
  {
   "cell_type": "code",
   "execution_count": 70,
   "id": "35ac9006",
   "metadata": {
    "ExecuteTime": {
     "end_time": "2023-07-06T01:13:46.549533Z",
     "start_time": "2023-07-06T01:13:46.294618Z"
    }
   },
   "outputs": [
    {
     "data": {
      "text/plain": [
       "[<matplotlib.lines.Line2D at 0x1aecd609a50>]"
      ]
     },
     "execution_count": 70,
     "metadata": {},
     "output_type": "execute_result"
    },
    {
     "data": {
      "image/png": "[encoded data removed]",
      "text/plain": [
       "<Figure size 640x480 with 1 Axes>"
      ]
     },
     "metadata": {},
     "output_type": "display_data"
    }
   ],
   "source": [
    "plt.plot(weekly, 'b')"
   ]
  },
  {
   "cell_type": "markdown",
   "id": "e39af9f2",
   "metadata": {},
   "source": [
    "#### 월별 카운트"
   ]
  },
  {
   "cell_type": "code",
   "execution_count": 71,
   "id": "2c5e8d50",
   "metadata": {
    "ExecuteTime": {
     "end_time": "2023-07-06T01:13:47.340327Z",
     "start_time": "2023-07-06T01:13:47.302421Z"
    },
    "scrolled": true
   },
   "outputs": [
    {
     "data": {
      "text/html": [
       "<div>\n",
       "<style scoped>\n",
       "    .dataframe tbody tr th:only-of-type {\n",
       "        vertical-align: middle;\n",
       "    }\n",
       "\n",
       "    .dataframe tbody tr th {\n",
       "        vertical-align: top;\n",
       "    }\n",
       "\n",
       "    .dataframe thead th {\n",
       "        text-align: right;\n",
       "    }\n",
       "</style>\n",
       "<table border=\"1\" class=\"dataframe\">\n",
       "  <thead>\n",
       "    <tr style=\"text-align: right;\">\n",
       "      <th></th>\n",
       "      <th>count</th>\n",
       "    </tr>\n",
       "    <tr>\n",
       "      <th>단속일시</th>\n",
       "      <th></th>\n",
       "    </tr>\n",
       "  </thead>\n",
       "  <tbody>\n",
       "    <tr>\n",
       "      <th>2021-01-31</th>\n",
       "      <td>2321</td>\n",
       "    </tr>\n",
       "    <tr>\n",
       "      <th>2021-02-28</th>\n",
       "      <td>2023</td>\n",
       "    </tr>\n",
       "    <tr>\n",
       "      <th>2021-03-31</th>\n",
       "      <td>2542</td>\n",
       "    </tr>\n",
       "    <tr>\n",
       "      <th>2021-04-30</th>\n",
       "      <td>2817</td>\n",
       "    </tr>\n",
       "    <tr>\n",
       "      <th>2021-05-31</th>\n",
       "      <td>2464</td>\n",
       "    </tr>\n",
       "    <tr>\n",
       "      <th>2021-06-30</th>\n",
       "      <td>3080</td>\n",
       "    </tr>\n",
       "    <tr>\n",
       "      <th>2021-07-31</th>\n",
       "      <td>3273</td>\n",
       "    </tr>\n",
       "    <tr>\n",
       "      <th>2021-08-31</th>\n",
       "      <td>2976</td>\n",
       "    </tr>\n",
       "    <tr>\n",
       "      <th>2021-09-30</th>\n",
       "      <td>3744</td>\n",
       "    </tr>\n",
       "    <tr>\n",
       "      <th>2021-10-31</th>\n",
       "      <td>3619</td>\n",
       "    </tr>\n",
       "    <tr>\n",
       "      <th>2021-11-30</th>\n",
       "      <td>3906</td>\n",
       "    </tr>\n",
       "    <tr>\n",
       "      <th>2021-12-31</th>\n",
       "      <td>4130</td>\n",
       "    </tr>\n",
       "    <tr>\n",
       "      <th>2022-01-31</th>\n",
       "      <td>3403</td>\n",
       "    </tr>\n",
       "    <tr>\n",
       "      <th>2022-02-28</th>\n",
       "      <td>2687</td>\n",
       "    </tr>\n",
       "    <tr>\n",
       "      <th>2022-03-31</th>\n",
       "      <td>2604</td>\n",
       "    </tr>\n",
       "    <tr>\n",
       "      <th>2022-04-30</th>\n",
       "      <td>2943</td>\n",
       "    </tr>\n",
       "    <tr>\n",
       "      <th>2022-05-31</th>\n",
       "      <td>2705</td>\n",
       "    </tr>\n",
       "    <tr>\n",
       "      <th>2022-06-30</th>\n",
       "      <td>2921</td>\n",
       "    </tr>\n",
       "    <tr>\n",
       "      <th>2022-07-31</th>\n",
       "      <td>3084</td>\n",
       "    </tr>\n",
       "    <tr>\n",
       "      <th>2022-08-31</th>\n",
       "      <td>2375</td>\n",
       "    </tr>\n",
       "    <tr>\n",
       "      <th>2022-09-30</th>\n",
       "      <td>2999</td>\n",
       "    </tr>\n",
       "    <tr>\n",
       "      <th>2022-10-31</th>\n",
       "      <td>2993</td>\n",
       "    </tr>\n",
       "    <tr>\n",
       "      <th>2022-11-30</th>\n",
       "      <td>3198</td>\n",
       "    </tr>\n",
       "  </tbody>\n",
       "</table>\n",
       "</div>"
      ],
      "text/plain": [
       "            count\n",
       "단속일시             \n",
       "2021-01-31   2321\n",
       "2021-02-28   2023\n",
       "2021-03-31   2542\n",
       "2021-04-30   2817\n",
       "2021-05-31   2464\n",
       "2021-06-30   3080\n",
       "2021-07-31   3273\n",
       "2021-08-31   2976\n",
       "2021-09-30   3744\n",
       "2021-10-31   3619\n",
       "2021-11-30   3906\n",
       "2021-12-31   4130\n",
       "2022-01-31   3403\n",
       "2022-02-28   2687\n",
       "2022-03-31   2604\n",
       "2022-04-30   2943\n",
       "2022-05-31   2705\n",
       "2022-06-30   2921\n",
       "2022-07-31   3084\n",
       "2022-08-31   2375\n",
       "2022-09-30   2999\n",
       "2022-10-31   2993\n",
       "2022-11-30   3198"
      ]
     },
     "execution_count": 71,
     "metadata": {},
     "output_type": "execute_result"
    }
   ],
   "source": [
    "monthly=group_data.resample('M').sum()\n",
    "monthly"
   ]
  },
  {
   "cell_type": "code",
   "execution_count": 72,
   "id": "c7aaa42f",
   "metadata": {
    "ExecuteTime": {
     "end_time": "2023-07-06T01:13:48.027684Z",
     "start_time": "2023-07-06T01:13:47.775336Z"
    }
   },
   "outputs": [
    {
     "data": {
      "text/plain": [
       "[<matplotlib.lines.Line2D at 0x1aecd65fd30>]"
      ]
     },
     "execution_count": 72,
     "metadata": {},
     "output_type": "execute_result"
    },
    {
     "data": {
      "image/png": "[encoded data removed]",
      "text/plain": [
       "<Figure size 640x480 with 1 Axes>"
      ]
     },
     "metadata": {},
     "output_type": "display_data"
    }
   ],
   "source": [
    "plt.plot(monthly, 'b')"
   ]
  },
  {
   "cell_type": "markdown",
   "id": "68b47e16",
   "metadata": {},
   "source": [
    "#### 년별 카운트"
   ]
  },
  {
   "cell_type": "code",
   "execution_count": 73,
   "id": "03a516a3",
   "metadata": {
    "ExecuteTime": {
     "end_time": "2023-07-06T01:13:49.216345Z",
     "start_time": "2023-07-06T01:13:49.191411Z"
    }
   },
   "outputs": [
    {
     "data": {
      "text/html": [
       "<div>\n",
       "<style scoped>\n",
       "    .dataframe tbody tr th:only-of-type {\n",
       "        vertical-align: middle;\n",
       "    }\n",
       "\n",
       "    .dataframe tbody tr th {\n",
       "        vertical-align: top;\n",
       "    }\n",
       "\n",
       "    .dataframe thead th {\n",
       "        text-align: right;\n",
       "    }\n",
       "</style>\n",
       "<table border=\"1\" class=\"dataframe\">\n",
       "  <thead>\n",
       "    <tr style=\"text-align: right;\">\n",
       "      <th></th>\n",
       "      <th>count</th>\n",
       "    </tr>\n",
       "    <tr>\n",
       "      <th>단속일시</th>\n",
       "      <th></th>\n",
       "    </tr>\n",
       "  </thead>\n",
       "  <tbody>\n",
       "    <tr>\n",
       "      <th>2021-12-31</th>\n",
       "      <td>36895</td>\n",
       "    </tr>\n",
       "    <tr>\n",
       "      <th>2022-12-31</th>\n",
       "      <td>31912</td>\n",
       "    </tr>\n",
       "  </tbody>\n",
       "</table>\n",
       "</div>"
      ],
      "text/plain": [
       "            count\n",
       "단속일시             \n",
       "2021-12-31  36895\n",
       "2022-12-31  31912"
      ]
     },
     "execution_count": 73,
     "metadata": {},
     "output_type": "execute_result"
    }
   ],
   "source": [
    "year=group_data.resample('Y').sum()\n",
    "year"
   ]
  },
  {
   "cell_type": "code",
   "execution_count": 74,
   "id": "76bfb591",
   "metadata": {
    "ExecuteTime": {
     "end_time": "2023-07-06T01:13:50.165011Z",
     "start_time": "2023-07-06T01:13:49.855509Z"
    }
   },
   "outputs": [
    {
     "data": {
      "text/plain": [
       "(array([1., 0., 0., 0., 0., 0., 0., 0., 0., 1.]),\n",
       " array([31912. , 32410.3, 32908.6, 33406.9, 33905.2, 34403.5, 34901.8,\n",
       "        35400.1, 35898.4, 36396.7, 36895. ]),\n",
       " <BarContainer object of 10 artists>)"
      ]
     },
     "execution_count": 74,
     "metadata": {},
     "output_type": "execute_result"
    },
    {
     "data": {
      "image/png": "[encoded data removed]",
      "text/plain": [
       "<Figure size 640x480 with 1 Axes>"
      ]
     },
     "metadata": {},
     "output_type": "display_data"
    }
   ],
   "source": [
    "plt.hist(year)"
   ]
  },
  {
   "cell_type": "markdown",
   "id": "1790b436",
   "metadata": {},
   "source": [
    "#### 공통된 시간별 단속 조회"
   ]
  },
  {
   "cell_type": "code",
   "execution_count": 88,
   "id": "e04351d3",
   "metadata": {
    "ExecuteTime": {
     "end_time": "2023-07-06T01:17:17.720467Z",
     "start_time": "2023-07-06T01:17:17.703513Z"
    }
   },
   "outputs": [],
   "source": [
    "hours_data=group_data"
   ]
  },
  {
   "cell_type": "code",
   "execution_count": 89,
   "id": "26c087d1",
   "metadata": {
    "ExecuteTime": {
     "end_time": "2023-07-06T01:17:18.153542Z",
     "start_time": "2023-07-06T01:17:18.135372Z"
    }
   },
   "outputs": [],
   "source": [
    "hours_data.reset_index(inplace=True)"
   ]
  },
  {
   "cell_type": "code",
   "execution_count": 90,
   "id": "bc30e8e0",
   "metadata": {
    "ExecuteTime": {
     "end_time": "2023-07-06T01:17:18.696372Z",
     "start_time": "2023-07-06T01:17:18.679394Z"
    }
   },
   "outputs": [
    {
     "data": {
      "text/html": [
       "<div>\n",
       "<style scoped>\n",
       "    .dataframe tbody tr th:only-of-type {\n",
       "        vertical-align: middle;\n",
       "    }\n",
       "\n",
       "    .dataframe tbody tr th {\n",
       "        vertical-align: top;\n",
       "    }\n",
       "\n",
       "    .dataframe thead th {\n",
       "        text-align: right;\n",
       "    }\n",
       "</style>\n",
       "<table border=\"1\" class=\"dataframe\">\n",
       "  <thead>\n",
       "    <tr style=\"text-align: right;\">\n",
       "      <th></th>\n",
       "      <th>단속일시</th>\n",
       "      <th>count</th>\n",
       "    </tr>\n",
       "  </thead>\n",
       "  <tbody>\n",
       "    <tr>\n",
       "      <th>0</th>\n",
       "      <td>2023-07-06 10:24:00</td>\n",
       "      <td>1</td>\n",
       "    </tr>\n",
       "    <tr>\n",
       "      <th>1</th>\n",
       "      <td>2023-07-06 13:17:00</td>\n",
       "      <td>1</td>\n",
       "    </tr>\n",
       "    <tr>\n",
       "      <th>2</th>\n",
       "      <td>2023-07-06 16:17:00</td>\n",
       "      <td>1</td>\n",
       "    </tr>\n",
       "    <tr>\n",
       "      <th>3</th>\n",
       "      <td>2023-07-06 18:51:00</td>\n",
       "      <td>1</td>\n",
       "    </tr>\n",
       "    <tr>\n",
       "      <th>4</th>\n",
       "      <td>2023-07-06 21:46:00</td>\n",
       "      <td>1</td>\n",
       "    </tr>\n",
       "    <tr>\n",
       "      <th>...</th>\n",
       "      <td>...</td>\n",
       "      <td>...</td>\n",
       "    </tr>\n",
       "    <tr>\n",
       "      <th>68110</th>\n",
       "      <td>2023-07-06 08:42:00</td>\n",
       "      <td>1</td>\n",
       "    </tr>\n",
       "    <tr>\n",
       "      <th>68111</th>\n",
       "      <td>2023-07-06 08:43:00</td>\n",
       "      <td>1</td>\n",
       "    </tr>\n",
       "    <tr>\n",
       "      <th>68112</th>\n",
       "      <td>2023-07-06 08:45:00</td>\n",
       "      <td>1</td>\n",
       "    </tr>\n",
       "    <tr>\n",
       "      <th>68113</th>\n",
       "      <td>2023-07-06 08:45:00</td>\n",
       "      <td>1</td>\n",
       "    </tr>\n",
       "    <tr>\n",
       "      <th>68114</th>\n",
       "      <td>2023-07-06 08:47:00</td>\n",
       "      <td>1</td>\n",
       "    </tr>\n",
       "  </tbody>\n",
       "</table>\n",
       "<p>68115 rows × 2 columns</p>\n",
       "</div>"
      ],
      "text/plain": [
       "                     단속일시  count\n",
       "0     2023-07-06 10:24:00      1\n",
       "1     2023-07-06 13:17:00      1\n",
       "2     2023-07-06 16:17:00      1\n",
       "3     2023-07-06 18:51:00      1\n",
       "4     2023-07-06 21:46:00      1\n",
       "...                   ...    ...\n",
       "68110 2023-07-06 08:42:00      1\n",
       "68111 2023-07-06 08:43:00      1\n",
       "68112 2023-07-06 08:45:00      1\n",
       "68113 2023-07-06 08:45:00      1\n",
       "68114 2023-07-06 08:47:00      1\n",
       "\n",
       "[68115 rows x 2 columns]"
      ]
     },
     "execution_count": 90,
     "metadata": {},
     "output_type": "execute_result"
    }
   ],
   "source": [
    "hours_data"
   ]
  },
  {
   "cell_type": "markdown",
   "id": "c6393f0d",
   "metadata": {
    "ExecuteTime": {
     "end_time": "2023-07-06T01:14:56.558175Z",
     "start_time": "2023-07-06T01:14:56.553217Z"
    }
   },
   "source": [
    "#### 시간대별로 나누기위해 년,월,일 동기화"
   ]
  },
  {
   "cell_type": "code",
   "execution_count": 91,
   "id": "0ac6314d",
   "metadata": {
    "ExecuteTime": {
     "end_time": "2023-07-06T01:17:20.392412Z",
     "start_time": "2023-07-06T01:17:20.263756Z"
    }
   },
   "outputs": [],
   "source": [
    "hours_data['단속일시']=hours_data['단속일시'].astype(str)"
   ]
  },
  {
   "cell_type": "code",
   "execution_count": 92,
   "id": "21ba0987",
   "metadata": {
    "ExecuteTime": {
     "end_time": "2023-07-06T01:17:21.520974Z",
     "start_time": "2023-07-06T01:17:21.495019Z"
    }
   },
   "outputs": [
    {
     "name": "stdout",
     "output_type": "stream",
     "text": [
      "<class 'pandas.core.frame.DataFrame'>\n",
      "RangeIndex: 68115 entries, 0 to 68114\n",
      "Data columns (total 2 columns):\n",
      " #   Column  Non-Null Count  Dtype \n",
      "---  ------  --------------  ----- \n",
      " 0   단속일시    68115 non-null  object\n",
      " 1   count   68115 non-null  int64 \n",
      "dtypes: int64(1), object(1)\n",
      "memory usage: 1.0+ MB\n"
     ]
    }
   ],
   "source": [
    "hours_data.info()"
   ]
  },
  {
   "cell_type": "code",
   "execution_count": 93,
   "id": "8e244565",
   "metadata": {
    "ExecuteTime": {
     "end_time": "2023-07-06T01:17:22.002336Z",
     "start_time": "2023-07-06T01:17:21.966432Z"
    }
   },
   "outputs": [
    {
     "data": {
      "text/html": [
       "<div>\n",
       "<style scoped>\n",
       "    .dataframe tbody tr th:only-of-type {\n",
       "        vertical-align: middle;\n",
       "    }\n",
       "\n",
       "    .dataframe tbody tr th {\n",
       "        vertical-align: top;\n",
       "    }\n",
       "\n",
       "    .dataframe thead th {\n",
       "        text-align: right;\n",
       "    }\n",
       "</style>\n",
       "<table border=\"1\" class=\"dataframe\">\n",
       "  <thead>\n",
       "    <tr style=\"text-align: right;\">\n",
       "      <th></th>\n",
       "      <th>단속일시</th>\n",
       "      <th>count</th>\n",
       "    </tr>\n",
       "  </thead>\n",
       "  <tbody>\n",
       "    <tr>\n",
       "      <th>0</th>\n",
       "      <td>10:24:00</td>\n",
       "      <td>1</td>\n",
       "    </tr>\n",
       "    <tr>\n",
       "      <th>1</th>\n",
       "      <td>13:17:00</td>\n",
       "      <td>1</td>\n",
       "    </tr>\n",
       "    <tr>\n",
       "      <th>2</th>\n",
       "      <td>16:17:00</td>\n",
       "      <td>1</td>\n",
       "    </tr>\n",
       "    <tr>\n",
       "      <th>3</th>\n",
       "      <td>18:51:00</td>\n",
       "      <td>1</td>\n",
       "    </tr>\n",
       "    <tr>\n",
       "      <th>4</th>\n",
       "      <td>21:46:00</td>\n",
       "      <td>1</td>\n",
       "    </tr>\n",
       "    <tr>\n",
       "      <th>...</th>\n",
       "      <td>...</td>\n",
       "      <td>...</td>\n",
       "    </tr>\n",
       "    <tr>\n",
       "      <th>68110</th>\n",
       "      <td>08:42:00</td>\n",
       "      <td>1</td>\n",
       "    </tr>\n",
       "    <tr>\n",
       "      <th>68111</th>\n",
       "      <td>08:43:00</td>\n",
       "      <td>1</td>\n",
       "    </tr>\n",
       "    <tr>\n",
       "      <th>68112</th>\n",
       "      <td>08:45:00</td>\n",
       "      <td>1</td>\n",
       "    </tr>\n",
       "    <tr>\n",
       "      <th>68113</th>\n",
       "      <td>08:45:00</td>\n",
       "      <td>1</td>\n",
       "    </tr>\n",
       "    <tr>\n",
       "      <th>68114</th>\n",
       "      <td>08:47:00</td>\n",
       "      <td>1</td>\n",
       "    </tr>\n",
       "  </tbody>\n",
       "</table>\n",
       "<p>68115 rows × 2 columns</p>\n",
       "</div>"
      ],
      "text/plain": [
       "           단속일시  count\n",
       "0      10:24:00      1\n",
       "1      13:17:00      1\n",
       "2      16:17:00      1\n",
       "3      18:51:00      1\n",
       "4      21:46:00      1\n",
       "...         ...    ...\n",
       "68110  08:42:00      1\n",
       "68111  08:43:00      1\n",
       "68112  08:45:00      1\n",
       "68113  08:45:00      1\n",
       "68114  08:47:00      1\n",
       "\n",
       "[68115 rows x 2 columns]"
      ]
     },
     "execution_count": 93,
     "metadata": {},
     "output_type": "execute_result"
    }
   ],
   "source": [
    "hours_data['단속일시']=hours_data['단속일시'].apply(lambda x:x[11:])\n",
    "hours_data"
   ]
  },
  {
   "cell_type": "markdown",
   "id": "2fbbc298",
   "metadata": {},
   "source": [
    "년 월 일이 없기때문에 현재 날짜로 통합"
   ]
  },
  {
   "cell_type": "code",
   "execution_count": 94,
   "id": "3a7c0a68",
   "metadata": {
    "ExecuteTime": {
     "end_time": "2023-07-06T01:17:24.054673Z",
     "start_time": "2023-07-06T01:17:23.966366Z"
    }
   },
   "outputs": [
    {
     "name": "stderr",
     "output_type": "stream",
     "text": [
      "C:\\Users\\tj-bu\\AppData\\Local\\Temp\\ipykernel_4488\\780441520.py:1: UserWarning: Could not infer format, so each element will be parsed individually, falling back to `dateutil`. To ensure parsing is consistent and as-expected, please specify a format.\n",
      "  hours_data['단속일시'] = pd.to_datetime(hours_data['단속일시'])\n"
     ]
    }
   ],
   "source": [
    "hours_data['단속일시'] = pd.to_datetime(hours_data['단속일시'])"
   ]
  },
  {
   "cell_type": "code",
   "execution_count": 95,
   "id": "6e3a7e73",
   "metadata": {
    "ExecuteTime": {
     "end_time": "2023-07-06T01:17:24.533924Z",
     "start_time": "2023-07-06T01:17:24.510960Z"
    },
    "scrolled": true
   },
   "outputs": [
    {
     "data": {
      "text/html": [
       "<div>\n",
       "<style scoped>\n",
       "    .dataframe tbody tr th:only-of-type {\n",
       "        vertical-align: middle;\n",
       "    }\n",
       "\n",
       "    .dataframe tbody tr th {\n",
       "        vertical-align: top;\n",
       "    }\n",
       "\n",
       "    .dataframe thead th {\n",
       "        text-align: right;\n",
       "    }\n",
       "</style>\n",
       "<table border=\"1\" class=\"dataframe\">\n",
       "  <thead>\n",
       "    <tr style=\"text-align: right;\">\n",
       "      <th></th>\n",
       "      <th>count</th>\n",
       "    </tr>\n",
       "    <tr>\n",
       "      <th>단속일시</th>\n",
       "      <th></th>\n",
       "    </tr>\n",
       "  </thead>\n",
       "  <tbody>\n",
       "    <tr>\n",
       "      <th>2023-07-06 10:24:00</th>\n",
       "      <td>1</td>\n",
       "    </tr>\n",
       "    <tr>\n",
       "      <th>2023-07-06 13:17:00</th>\n",
       "      <td>1</td>\n",
       "    </tr>\n",
       "    <tr>\n",
       "      <th>2023-07-06 16:17:00</th>\n",
       "      <td>1</td>\n",
       "    </tr>\n",
       "    <tr>\n",
       "      <th>2023-07-06 18:51:00</th>\n",
       "      <td>1</td>\n",
       "    </tr>\n",
       "    <tr>\n",
       "      <th>2023-07-06 21:46:00</th>\n",
       "      <td>1</td>\n",
       "    </tr>\n",
       "    <tr>\n",
       "      <th>...</th>\n",
       "      <td>...</td>\n",
       "    </tr>\n",
       "    <tr>\n",
       "      <th>2023-07-06 08:42:00</th>\n",
       "      <td>1</td>\n",
       "    </tr>\n",
       "    <tr>\n",
       "      <th>2023-07-06 08:43:00</th>\n",
       "      <td>1</td>\n",
       "    </tr>\n",
       "    <tr>\n",
       "      <th>2023-07-06 08:45:00</th>\n",
       "      <td>1</td>\n",
       "    </tr>\n",
       "    <tr>\n",
       "      <th>2023-07-06 08:45:00</th>\n",
       "      <td>1</td>\n",
       "    </tr>\n",
       "    <tr>\n",
       "      <th>2023-07-06 08:47:00</th>\n",
       "      <td>1</td>\n",
       "    </tr>\n",
       "  </tbody>\n",
       "</table>\n",
       "<p>68115 rows × 1 columns</p>\n",
       "</div>"
      ],
      "text/plain": [
       "                     count\n",
       "단속일시                      \n",
       "2023-07-06 10:24:00      1\n",
       "2023-07-06 13:17:00      1\n",
       "2023-07-06 16:17:00      1\n",
       "2023-07-06 18:51:00      1\n",
       "2023-07-06 21:46:00      1\n",
       "...                    ...\n",
       "2023-07-06 08:42:00      1\n",
       "2023-07-06 08:43:00      1\n",
       "2023-07-06 08:45:00      1\n",
       "2023-07-06 08:45:00      1\n",
       "2023-07-06 08:47:00      1\n",
       "\n",
       "[68115 rows x 1 columns]"
      ]
     },
     "execution_count": 95,
     "metadata": {},
     "output_type": "execute_result"
    }
   ],
   "source": [
    "hours_data.set_index('단속일시', inplace=True)\n",
    "hours_data"
   ]
  },
  {
   "cell_type": "markdown",
   "id": "438cad64",
   "metadata": {},
   "source": [
    "#### 시간대별 단속 데이터"
   ]
  },
  {
   "cell_type": "code",
   "execution_count": 96,
   "id": "618057cf",
   "metadata": {
    "ExecuteTime": {
     "end_time": "2023-07-06T01:17:38.383352Z",
     "start_time": "2023-07-06T01:17:38.351437Z"
    }
   },
   "outputs": [],
   "source": [
    "hours_df=hours_data.resample('H').sum()"
   ]
  },
  {
   "cell_type": "code",
   "execution_count": 97,
   "id": "e379a19e",
   "metadata": {
    "ExecuteTime": {
     "end_time": "2023-07-06T01:17:41.912732Z",
     "start_time": "2023-07-06T01:17:41.894752Z"
    },
    "scrolled": true
   },
   "outputs": [
    {
     "data": {
      "text/html": [
       "<div>\n",
       "<style scoped>\n",
       "    .dataframe tbody tr th:only-of-type {\n",
       "        vertical-align: middle;\n",
       "    }\n",
       "\n",
       "    .dataframe tbody tr th {\n",
       "        vertical-align: top;\n",
       "    }\n",
       "\n",
       "    .dataframe thead th {\n",
       "        text-align: right;\n",
       "    }\n",
       "</style>\n",
       "<table border=\"1\" class=\"dataframe\">\n",
       "  <thead>\n",
       "    <tr style=\"text-align: right;\">\n",
       "      <th></th>\n",
       "      <th>count</th>\n",
       "    </tr>\n",
       "    <tr>\n",
       "      <th>단속일시</th>\n",
       "      <th></th>\n",
       "    </tr>\n",
       "  </thead>\n",
       "  <tbody>\n",
       "    <tr>\n",
       "      <th>2023-07-06 00:00:00</th>\n",
       "      <td>817</td>\n",
       "    </tr>\n",
       "    <tr>\n",
       "      <th>2023-07-06 01:00:00</th>\n",
       "      <td>1</td>\n",
       "    </tr>\n",
       "    <tr>\n",
       "      <th>2023-07-06 02:00:00</th>\n",
       "      <td>1</td>\n",
       "    </tr>\n",
       "    <tr>\n",
       "      <th>2023-07-06 03:00:00</th>\n",
       "      <td>0</td>\n",
       "    </tr>\n",
       "    <tr>\n",
       "      <th>2023-07-06 04:00:00</th>\n",
       "      <td>0</td>\n",
       "    </tr>\n",
       "    <tr>\n",
       "      <th>2023-07-06 05:00:00</th>\n",
       "      <td>137</td>\n",
       "    </tr>\n",
       "    <tr>\n",
       "      <th>2023-07-06 06:00:00</th>\n",
       "      <td>239</td>\n",
       "    </tr>\n",
       "    <tr>\n",
       "      <th>2023-07-06 07:00:00</th>\n",
       "      <td>7497</td>\n",
       "    </tr>\n",
       "    <tr>\n",
       "      <th>2023-07-06 08:00:00</th>\n",
       "      <td>7593</td>\n",
       "    </tr>\n",
       "    <tr>\n",
       "      <th>2023-07-06 09:00:00</th>\n",
       "      <td>507</td>\n",
       "    </tr>\n",
       "    <tr>\n",
       "      <th>2023-07-06 10:00:00</th>\n",
       "      <td>930</td>\n",
       "    </tr>\n",
       "    <tr>\n",
       "      <th>2023-07-06 11:00:00</th>\n",
       "      <td>973</td>\n",
       "    </tr>\n",
       "    <tr>\n",
       "      <th>2023-07-06 12:00:00</th>\n",
       "      <td>2</td>\n",
       "    </tr>\n",
       "    <tr>\n",
       "      <th>2023-07-06 13:00:00</th>\n",
       "      <td>1456</td>\n",
       "    </tr>\n",
       "    <tr>\n",
       "      <th>2023-07-06 14:00:00</th>\n",
       "      <td>1421</td>\n",
       "    </tr>\n",
       "    <tr>\n",
       "      <th>2023-07-06 15:00:00</th>\n",
       "      <td>1293</td>\n",
       "    </tr>\n",
       "    <tr>\n",
       "      <th>2023-07-06 16:00:00</th>\n",
       "      <td>1065</td>\n",
       "    </tr>\n",
       "    <tr>\n",
       "      <th>2023-07-06 17:00:00</th>\n",
       "      <td>14896</td>\n",
       "    </tr>\n",
       "    <tr>\n",
       "      <th>2023-07-06 18:00:00</th>\n",
       "      <td>13891</td>\n",
       "    </tr>\n",
       "    <tr>\n",
       "      <th>2023-07-06 19:00:00</th>\n",
       "      <td>13755</td>\n",
       "    </tr>\n",
       "    <tr>\n",
       "      <th>2023-07-06 20:00:00</th>\n",
       "      <td>736</td>\n",
       "    </tr>\n",
       "    <tr>\n",
       "      <th>2023-07-06 21:00:00</th>\n",
       "      <td>714</td>\n",
       "    </tr>\n",
       "    <tr>\n",
       "      <th>2023-07-06 22:00:00</th>\n",
       "      <td>686</td>\n",
       "    </tr>\n",
       "    <tr>\n",
       "      <th>2023-07-06 23:00:00</th>\n",
       "      <td>197</td>\n",
       "    </tr>\n",
       "  </tbody>\n",
       "</table>\n",
       "</div>"
      ],
      "text/plain": [
       "                     count\n",
       "단속일시                      \n",
       "2023-07-06 00:00:00    817\n",
       "2023-07-06 01:00:00      1\n",
       "2023-07-06 02:00:00      1\n",
       "2023-07-06 03:00:00      0\n",
       "2023-07-06 04:00:00      0\n",
       "2023-07-06 05:00:00    137\n",
       "2023-07-06 06:00:00    239\n",
       "2023-07-06 07:00:00   7497\n",
       "2023-07-06 08:00:00   7593\n",
       "2023-07-06 09:00:00    507\n",
       "2023-07-06 10:00:00    930\n",
       "2023-07-06 11:00:00    973\n",
       "2023-07-06 12:00:00      2\n",
       "2023-07-06 13:00:00   1456\n",
       "2023-07-06 14:00:00   1421\n",
       "2023-07-06 15:00:00   1293\n",
       "2023-07-06 16:00:00   1065\n",
       "2023-07-06 17:00:00  14896\n",
       "2023-07-06 18:00:00  13891\n",
       "2023-07-06 19:00:00  13755\n",
       "2023-07-06 20:00:00    736\n",
       "2023-07-06 21:00:00    714\n",
       "2023-07-06 22:00:00    686\n",
       "2023-07-06 23:00:00    197"
      ]
     },
     "execution_count": 97,
     "metadata": {},
     "output_type": "execute_result"
    }
   ],
   "source": [
    "hours_df"
   ]
  },
  {
   "cell_type": "code",
   "execution_count": 98,
   "id": "78ddb6c6",
   "metadata": {
    "ExecuteTime": {
     "end_time": "2023-07-06T01:18:17.472816Z",
     "start_time": "2023-07-06T01:18:17.223513Z"
    }
   },
   "outputs": [
    {
     "data": {
      "text/plain": [
       "[<matplotlib.lines.Line2D at 0x1aecc1f34f0>]"
      ]
     },
     "execution_count": 98,
     "metadata": {},
     "output_type": "execute_result"
    },
    {
     "data": {
      "image/png": "[encoded data removed]",
      "text/plain": [
       "<Figure size 640x480 with 1 Axes>"
      ]
     },
     "metadata": {},
     "output_type": "display_data"
    }
   ],
   "source": [
    "plt.plot(hours_df, 'b')"
   ]
  },
  {
   "cell_type": "code",
   "execution_count": 99,
   "id": "7294f7ae",
   "metadata": {
    "ExecuteTime": {
     "end_time": "2023-07-06T01:19:02.309502Z",
     "start_time": "2023-07-06T01:19:02.271575Z"
    }
   },
   "outputs": [],
   "source": [
    "T=hours_data.resample('10T').sum()"
   ]
  },
  {
   "cell_type": "code",
   "execution_count": 101,
   "id": "95ae8e9c",
   "metadata": {
    "ExecuteTime": {
     "end_time": "2023-07-06T01:19:10.185605Z",
     "start_time": "2023-07-06T01:19:09.935250Z"
    }
   },
   "outputs": [
    {
     "data": {
      "text/plain": [
       "[<matplotlib.lines.Line2D at 0x1aecd9649d0>]"
      ]
     },
     "execution_count": 101,
     "metadata": {},
     "output_type": "execute_result"
    },
    {
     "data": {
      "image/png": "[encoded data removed]",
      "text/plain": [
       "<Figure size 640x480 with 1 Axes>"
      ]
     },
     "metadata": {},
     "output_type": "display_data"
    }
   ],
   "source": [
    "plt.plot(T, 'b')"
   ]
  },
  {
   "cell_type": "code",
   "execution_count": null,
   "id": "2f2f282f",
   "metadata": {},
   "outputs": [],
   "source": []
  },
  {
   "cell_type": "code",
   "execution_count": 102,
   "id": "af5a2ebb",
   "metadata": {
    "ExecuteTime": {
     "end_time": "2023-07-06T01:19:36.567446Z",
     "start_time": "2023-07-06T01:19:36.535533Z"
    }
   },
   "outputs": [],
   "source": [
    "hh=hours_data.resample('2H').sum()"
   ]
  },
  {
   "cell_type": "code",
   "execution_count": 104,
   "id": "b50bd566",
   "metadata": {
    "ExecuteTime": {
     "end_time": "2023-07-06T01:19:47.929086Z",
     "start_time": "2023-07-06T01:19:47.695668Z"
    }
   },
   "outputs": [
    {
     "data": {
      "text/plain": [
       "[<matplotlib.lines.Line2D at 0x1aecd9e7700>]"
      ]
     },
     "execution_count": 104,
     "metadata": {},
     "output_type": "execute_result"
    },
    {
     "data": {
      "image/png": "[encoded data removed]",
      "text/plain": [
       "<Figure size 640x480 with 1 Axes>"
      ]
     },
     "metadata": {},
     "output_type": "display_data"
    }
   ],
   "source": [
    "plt.plot(hh, 'b')"
   ]
  },
  {
   "cell_type": "markdown",
   "id": "661a8316",
   "metadata": {},
   "source": [
    "#### 3.3.1 복수 열"
   ]
  },
  {
   "cell_type": "code",
   "execution_count": 9,
   "id": "11574578",
   "metadata": {},
   "outputs": [],
   "source": [
    "# 두개의 열간 연관관계 분석(Pair Plot 또는 Seaborn의 관련 지원 차트등)해 보세요"
   ]
  },
  {
   "cell_type": "markdown",
   "id": "5cce1911",
   "metadata": {},
   "source": [
    "## 4. 탐색적 연구"
   ]
  },
  {
   "cell_type": "markdown",
   "id": "158b7d22",
   "metadata": {},
   "source": [
    "### Step1] 가설: 데이터 분석을 위한 목적, 대상 또는 가설을 세워본다."
   ]
  },
  {
   "cell_type": "markdown",
   "id": "d47d30be",
   "metadata": {},
   "source": [
    "* 1. 시간에따라 특정 단속이 심해진다 //솔향\n",
    "\n",
    "* 2. 특수한 차종에 따라 단속율이 다르다. //하은\n",
    "\n",
    "* 3. 단속을 피할수 있는 시간이 있다. //성보 \n",
    "\n"
   ]
  },
  {
   "cell_type": "markdown",
   "id": "52bee29b",
   "metadata": {},
   "source": [
    "### Step2] 가설증명: 데이터 재 구조화, 시각화를 통해 새로운 insight 및 정보를 습득 및 가설을 검증한다. "
   ]
  },
  {
   "cell_type": "code",
   "execution_count": 11,
   "id": "76371bad",
   "metadata": {},
   "outputs": [],
   "source": [
    "가설1.\n",
    "월초 행사에 의해 사고가 많아질것을 우려해, 단속이 강화 될것이라고 추측.\n",
    "\n",
    "가설2.\n",
    "출퇴근 시간에 따라서 출근복잡도를 해결하기 위해 단속을 강화 할것이라고 추측.\n",
    "\n",
    "가설3.\n",
    "특정 차종(양카)가 단속에 많이 걸릴것으로 생각함.\n",
    "\n",
    "\n",
    "# 가설 증명하는 코드를 간단한 통계지표나 시각화를 통해서 작성해 보세요.\n",
    "# 필요하다면 기존 데이터를 재구조화(Groupby, Pivot)을 해보세요."
   ]
  },
  {
   "cell_type": "code",
   "execution_count": 110,
   "id": "9d84cd86",
   "metadata": {
    "ExecuteTime": {
     "end_time": "2023-07-06T01:24:41.158152Z",
     "start_time": "2023-07-06T01:24:41.144159Z"
    }
   },
   "outputs": [],
   "source": [
    "data2=data1.drop(['단속일시','차종','단속방법'], axis=1)"
   ]
  },
  {
   "cell_type": "code",
   "execution_count": 111,
   "id": "634ad309",
   "metadata": {
    "ExecuteTime": {
     "end_time": "2023-07-06T01:24:45.121150Z",
     "start_time": "2023-07-06T01:24:45.095220Z"
    }
   },
   "outputs": [],
   "source": [
    "group_data3=data2.groupby('차명').value_counts().to_frame()"
   ]
  },
  {
   "cell_type": "code",
   "execution_count": 121,
   "id": "13490e71",
   "metadata": {
    "ExecuteTime": {
     "end_time": "2023-07-06T01:26:01.510274Z",
     "start_time": "2023-07-06T01:26:01.495314Z"
    }
   },
   "outputs": [
    {
     "data": {
      "text/html": [
       "<div>\n",
       "<style scoped>\n",
       "    .dataframe tbody tr th:only-of-type {\n",
       "        vertical-align: middle;\n",
       "    }\n",
       "\n",
       "    .dataframe tbody tr th {\n",
       "        vertical-align: top;\n",
       "    }\n",
       "\n",
       "    .dataframe thead th {\n",
       "        text-align: right;\n",
       "    }\n",
       "</style>\n",
       "<table border=\"1\" class=\"dataframe\">\n",
       "  <thead>\n",
       "    <tr style=\"text-align: right;\">\n",
       "      <th></th>\n",
       "      <th>count</th>\n",
       "    </tr>\n",
       "    <tr>\n",
       "      <th>차명</th>\n",
       "      <th></th>\n",
       "    </tr>\n",
       "  </thead>\n",
       "  <tbody>\n",
       "    <tr>\n",
       "      <th>쏘나타(SONATA)</th>\n",
       "      <td>6228</td>\n",
       "    </tr>\n",
       "    <tr>\n",
       "      <th>K5</th>\n",
       "      <td>3551</td>\n",
       "    </tr>\n",
       "    <tr>\n",
       "      <th>그랜저(GRANDEUR)</th>\n",
       "      <td>3220</td>\n",
       "    </tr>\n",
       "    <tr>\n",
       "      <th>모닝</th>\n",
       "      <td>2742</td>\n",
       "    </tr>\n",
       "    <tr>\n",
       "      <th>아반떼(AVANTE)</th>\n",
       "      <td>2524</td>\n",
       "    </tr>\n",
       "    <tr>\n",
       "      <th>...</th>\n",
       "      <td>...</td>\n",
       "    </tr>\n",
       "    <tr>\n",
       "      <th>LEXUS RX350</th>\n",
       "      <td>1</td>\n",
       "    </tr>\n",
       "    <tr>\n",
       "      <th>LEGEND</th>\n",
       "      <td>1</td>\n",
       "    </tr>\n",
       "    <tr>\n",
       "      <th>Kuga 2.0 AWD</th>\n",
       "      <td>1</td>\n",
       "    </tr>\n",
       "    <tr>\n",
       "      <th>KCM0.7톤롱바디냉장윙바디</th>\n",
       "      <td>1</td>\n",
       "    </tr>\n",
       "    <tr>\n",
       "      <th>혼다S660</th>\n",
       "      <td>1</td>\n",
       "    </tr>\n",
       "  </tbody>\n",
       "</table>\n",
       "<p>2283 rows × 1 columns</p>\n",
       "</div>"
      ],
      "text/plain": [
       "                 count\n",
       "차명                    \n",
       "쏘나타(SONATA)       6228\n",
       "K5                3551\n",
       "그랜저(GRANDEUR)     3220\n",
       "모닝                2742\n",
       "아반떼(AVANTE)       2524\n",
       "...                ...\n",
       "LEXUS RX350          1\n",
       "LEGEND               1\n",
       "Kuga 2.0 AWD         1\n",
       "KCM0.7톤롱바디냉장윙바디      1\n",
       "혼다S660               1\n",
       "\n",
       "[2283 rows x 1 columns]"
      ]
     },
     "execution_count": 121,
     "metadata": {},
     "output_type": "execute_result"
    }
   ],
   "source": [
    "group_data3.sort_values('count',ascending=False, inplace=True)\n",
    "group_data3"
   ]
  },
  {
   "cell_type": "code",
   "execution_count": 124,
   "id": "2df53e28",
   "metadata": {
    "ExecuteTime": {
     "end_time": "2023-07-06T01:26:32.999585Z",
     "start_time": "2023-07-06T01:26:32.976647Z"
    }
   },
   "outputs": [
    {
     "data": {
      "text/html": [
       "<div>\n",
       "<style scoped>\n",
       "    .dataframe tbody tr th:only-of-type {\n",
       "        vertical-align: middle;\n",
       "    }\n",
       "\n",
       "    .dataframe tbody tr th {\n",
       "        vertical-align: top;\n",
       "    }\n",
       "\n",
       "    .dataframe thead th {\n",
       "        text-align: right;\n",
       "    }\n",
       "</style>\n",
       "<table border=\"1\" class=\"dataframe\">\n",
       "  <thead>\n",
       "    <tr style=\"text-align: right;\">\n",
       "      <th></th>\n",
       "      <th>count</th>\n",
       "    </tr>\n",
       "    <tr>\n",
       "      <th>차명</th>\n",
       "      <th></th>\n",
       "    </tr>\n",
       "  </thead>\n",
       "  <tbody>\n",
       "    <tr>\n",
       "      <th>쏘나타(SONATA)</th>\n",
       "      <td>6228</td>\n",
       "    </tr>\n",
       "    <tr>\n",
       "      <th>K5</th>\n",
       "      <td>3551</td>\n",
       "    </tr>\n",
       "    <tr>\n",
       "      <th>그랜저(GRANDEUR)</th>\n",
       "      <td>3220</td>\n",
       "    </tr>\n",
       "    <tr>\n",
       "      <th>모닝</th>\n",
       "      <td>2742</td>\n",
       "    </tr>\n",
       "    <tr>\n",
       "      <th>아반떼(AVANTE)</th>\n",
       "      <td>2524</td>\n",
       "    </tr>\n",
       "    <tr>\n",
       "      <th>싼타페(SANTAFE)</th>\n",
       "      <td>2263</td>\n",
       "    </tr>\n",
       "    <tr>\n",
       "      <th>포터Ⅱ (PORTERⅡ)</th>\n",
       "      <td>1883</td>\n",
       "    </tr>\n",
       "    <tr>\n",
       "      <th>쏘렌토</th>\n",
       "      <td>1751</td>\n",
       "    </tr>\n",
       "    <tr>\n",
       "      <th>스포티지</th>\n",
       "      <td>1717</td>\n",
       "    </tr>\n",
       "    <tr>\n",
       "      <th>투싼(TUCSON)</th>\n",
       "      <td>1523</td>\n",
       "    </tr>\n",
       "  </tbody>\n",
       "</table>\n",
       "</div>"
      ],
      "text/plain": [
       "               count\n",
       "차명                  \n",
       "쏘나타(SONATA)     6228\n",
       "K5              3551\n",
       "그랜저(GRANDEUR)   3220\n",
       "모닝              2742\n",
       "아반떼(AVANTE)     2524\n",
       "싼타페(SANTAFE)    2263\n",
       "포터Ⅱ (PORTERⅡ)   1883\n",
       "쏘렌토             1751\n",
       "스포티지            1717\n",
       "투싼(TUCSON)      1523"
      ]
     },
     "execution_count": 124,
     "metadata": {},
     "output_type": "execute_result"
    }
   ],
   "source": [
    "group_data3[:10]"
   ]
  },
  {
   "cell_type": "code",
   "execution_count": null,
   "id": "95ad5686",
   "metadata": {},
   "outputs": [],
   "source": []
  },
  {
   "cell_type": "markdown",
   "id": "b6d13cb7",
   "metadata": {},
   "source": [
    "### Step3] 가설결론: 해당 가설에 대한 결론을 내린다."
   ]
  },
  {
   "cell_type": "code",
   "execution_count": 12,
   "id": "f0cc523f",
   "metadata": {},
   "outputs": [],
   "source": [
    "# 가설 검증한 내용을 여기에 마크다운형식으로 정리하세요\n",
    "\n"
   ]
  },
  {
   "cell_type": "markdown",
   "id": "1083f86e",
   "metadata": {},
   "source": [
    "### Step4] 탐색적연구 반복: 시간 일정이 허락하는 범위내에서 Step1~Step3를 반복한다."
   ]
  },
  {
   "cell_type": "markdown",
   "id": "dd2f2343",
   "metadata": {},
   "source": [
    "### Step5] 최종결론: 지금까지 진행했던 모든 탐색적연구의 결과를 반영하여 최종 결론을 내린다."
   ]
  },
  {
   "cell_type": "code",
   "execution_count": 13,
   "id": "446d6f25",
   "metadata": {},
   "outputs": [],
   "source": [
    "# 아래 최종 결론에 각 가설 별 학습내용과 개별 가설의 내용에서 도출된 최종 Insight를 정리하세요"
   ]
  },
  {
   "cell_type": "markdown",
   "id": "9fef0f9c",
   "metadata": {},
   "source": [
    "## 5. 최종 결론"
   ]
  },
  {
   "cell_type": "markdown",
   "id": "3b972bd6",
   "metadata": {},
   "source": [
    "가설과 동일한 그래프를 확인할 수 있었음"
   ]
  },
  {
   "cell_type": "markdown",
   "id": "2cece6de",
   "metadata": {},
   "source": [
    "### 가설 1 결론: "
   ]
  },
  {
   "cell_type": "code",
   "execution_count": null,
   "id": "1aca61db",
   "metadata": {},
   "outputs": [],
   "source": []
  },
  {
   "cell_type": "markdown",
   "id": "c2d08eda",
   "metadata": {},
   "source": [
    "### 가설 1 결론: "
   ]
  },
  {
   "cell_type": "code",
   "execution_count": null,
   "id": "c1aac0ed",
   "metadata": {},
   "outputs": [],
   "source": []
  },
  {
   "cell_type": "markdown",
   "id": "1b59ef2b",
   "metadata": {},
   "source": [
    "### 최종 결론 (새로운 insight)"
   ]
  },
  {
   "cell_type": "code",
   "execution_count": null,
   "id": "6cb7a2db",
   "metadata": {},
   "outputs": [],
   "source": []
  }
 ],
 "metadata": {
  "kernelspec": {
   "display_name": "Python 3 (ipykernel)",
   "language": "python",
   "name": "python3"
  },
  "language_info": {
   "codemirror_mode": {
    "name": "ipython",
    "version": 3
   },
   "file_extension": ".py",
   "mimetype": "text/x-python",
   "name": "python",
   "nbconvert_exporter": "python",
   "pygments_lexer": "ipython3",
   "version": "3.10.11"
  }
 },
 "nbformat": 4,
 "nbformat_minor": 5
}
