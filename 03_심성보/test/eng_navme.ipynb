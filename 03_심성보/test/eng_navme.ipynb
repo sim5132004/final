{
 "cells": [
  {
   "cell_type": "code",
   "execution_count": 62,
   "id": "3ba46314",
   "metadata": {
    "ExecuteTime": {
     "end_time": "2023-08-23T09:35:37.352119Z",
     "start_time": "2023-08-23T09:35:37.336163Z"
    }
   },
   "outputs": [],
   "source": [
    "from selenium import webdriver\n",
    "import pandas as pd"
   ]
  },
  {
   "cell_type": "code",
   "execution_count": 3,
   "id": "dd2ed885",
   "metadata": {
    "ExecuteTime": {
     "end_time": "2023-08-23T09:19:03.350345Z",
     "start_time": "2023-08-23T09:19:03.344361Z"
    }
   },
   "outputs": [],
   "source": [
    "from selenium.webdriver.common.by import By"
   ]
  },
  {
   "cell_type": "code",
   "execution_count": 63,
   "id": "8ad5b4ab",
   "metadata": {
    "ExecuteTime": {
     "end_time": "2023-08-23T09:36:02.896337Z",
     "start_time": "2023-08-23T09:36:01.272039Z"
    }
   },
   "outputs": [],
   "source": [
    "# 크롤링할 페이지 URL (인터파크)\n",
    "driver = webdriver.Chrome()"
   ]
  },
  {
   "cell_type": "code",
   "execution_count": 64,
   "id": "f11ada46",
   "metadata": {
    "ExecuteTime": {
     "end_time": "2023-08-23T09:37:49.652712Z",
     "start_time": "2023-08-23T09:37:47.191522Z"
    }
   },
   "outputs": [],
   "source": [
    "url = 'http://ticket.interpark.com/TiKi/Special/TPRegionReserve.asp?Region=42011&RegionName=%C0%CE%C3%B5'\n",
    "driver.get(url)"
   ]
  },
  {
   "cell_type": "code",
   "execution_count": 119,
   "id": "e490f1f4",
   "metadata": {
    "ExecuteTime": {
     "end_time": "2023-08-23T08:55:34.097690Z",
     "start_time": "2023-08-23T08:55:34.085721Z"
    }
   },
   "outputs": [],
   "source": [
    "# for option_value in [\"Option1\", \"Option2\", \"Option3\"]:\n",
    "#     # 옵션을 클릭 (옵션은 웹 페이지에 따라 다를 수 있음)\n",
    "#     option_element = driver.find_element_by_xpath(\"//select[@id='dropdown']/option[@value='\" + option_value + \"']\")\n",
    "#     option_element.click()"
   ]
  },
  {
   "cell_type": "code",
   "execution_count": 6,
   "id": "a34cab61",
   "metadata": {
    "ExecuteTime": {
     "end_time": "2023-08-23T09:19:39.990847Z",
     "start_time": "2023-08-23T09:19:39.984860Z"
    }
   },
   "outputs": [],
   "source": [
    "# xx=f'//*[@id=\"wrapBody\"]/div[2]/div[2]/div[2]/div/div[2]/div[3]/div[{i}]/dl/dd[1]/a/img'"
   ]
  },
  {
   "cell_type": "code",
   "execution_count": 121,
   "id": "cf2b1ff9",
   "metadata": {
    "ExecuteTime": {
     "end_time": "2023-08-23T08:55:34.144919Z",
     "start_time": "2023-08-23T08:55:34.116638Z"
    }
   },
   "outputs": [],
   "source": [
    "elements = driver.find_elements(By.XPATH, xx)"
   ]
  },
  {
   "cell_type": "code",
   "execution_count": 122,
   "id": "d25cf441",
   "metadata": {
    "ExecuteTime": {
     "end_time": "2023-08-23T08:55:34.160843Z",
     "start_time": "2023-08-23T08:55:34.147878Z"
    }
   },
   "outputs": [
    {
     "data": {
      "text/plain": [
       "[]"
      ]
     },
     "execution_count": 122,
     "metadata": {},
     "output_type": "execute_result"
    }
   ],
   "source": [
    "elements"
   ]
  },
  {
   "cell_type": "code",
   "execution_count": 37,
   "id": "52dfb9aa",
   "metadata": {
    "ExecuteTime": {
     "end_time": "2023-08-23T09:27:20.084948Z",
     "start_time": "2023-08-23T09:27:20.071984Z"
    }
   },
   "outputs": [],
   "source": [
    "text_src='//*[@id=\"container\"]/div[5]/div[1]/div[2]/div[1]/div/div[2]/ul'"
   ]
  },
  {
   "cell_type": "code",
   "execution_count": null,
   "id": "bd96816c",
   "metadata": {
    "ExecuteTime": {
     "end_time": "2023-08-23T09:32:22.368783Z",
     "start_time": "2023-08-23T09:31:53.247608Z"
    }
   },
   "outputs": [],
   "source": []
  },
  {
   "cell_type": "code",
   "execution_count": 66,
   "id": "2786957a",
   "metadata": {
    "ExecuteTime": {
     "end_time": "2023-08-23T09:40:20.401986Z",
     "start_time": "2023-08-23T09:40:19.744448Z"
    }
   },
   "outputs": [],
   "source": [
    "\n",
    "xx=f'//*[@id=\"wrapBody\"]/div[2]/div[2]/div[2]/div/div[2]/div[3]/div[1]/dl/dd[1]/a/img'\n",
    "driver.find_element(By.XPATH, xx).click()"
   ]
  },
  {
   "cell_type": "code",
   "execution_count": 67,
   "id": "0fbaf96d",
   "metadata": {
    "ExecuteTime": {
     "end_time": "2023-08-23T09:42:12.726451Z",
     "start_time": "2023-08-23T09:42:12.720466Z"
    }
   },
   "outputs": [],
   "source": [
    "x='//*[@id=\"container\"]/div[5]/div[1]/div[2]/div[1]'"
   ]
  },
  {
   "cell_type": "code",
   "execution_count": 73,
   "id": "2a2cb174",
   "metadata": {
    "ExecuteTime": {
     "end_time": "2023-08-23T09:42:55.293904Z",
     "start_time": "2023-08-23T09:42:55.263828Z"
    }
   },
   "outputs": [],
   "source": [
    "img_element = driver.find_element(By.XPATH, x)"
   ]
  },
  {
   "cell_type": "code",
   "execution_count": 74,
   "id": "b513f357",
   "metadata": {
    "ExecuteTime": {
     "end_time": "2023-08-23T09:42:58.364229Z",
     "start_time": "2023-08-23T09:42:58.304131Z"
    }
   },
   "outputs": [
    {
     "data": {
      "text/plain": [
       "'예매대기\\n\\n\\n\\n\\n\\n\\n\\n\\n\\n\\n\\n\\n\\n\\n\\n뮤지컬\\n2023 가족마술콘서트〈익스트림매직쇼〉 - 인천\\n마술쇼\\n티켓캐스트\\n\\n1\\n페이스북 공유\\n트위터 공유\\n장소인천문화예술회관 소공연장(자세히)\\n공연기간\\n2023.09.09\\n공연시간\\n60분\\n관람연령\\n24개월이상 관람가능\\n가격\\n전체가격보기 (자세히)\\n전석\\n35,000원\\n혜택무이자할부(자세히)\\n\\n놀포인트 NOL카드로 최대 7만원 혜택 받기\\n토핑 가입하고 중복할인 쿠폰받기\\n[AD] SKT 고객전용 특별할인! 12,000원 쿠폰받기\\n[AD] 티켓할인쿠폰 마감임박! 11,000원 쿠폰받기\\n[AD] 티켓 10,000원 할인쿠폰! 예매전 즉시 할인받기\\n[AD] 티켓 3천원 할인쿠폰 + 편의점 6천원 증정\\n// 쿠폰 다운로드 리스트 : 기획 확인 필요 // promotion api > 프로모션은 장르별 노출, 테스트 시 참고'"
      ]
     },
     "execution_count": 74,
     "metadata": {},
     "output_type": "execute_result"
    }
   ],
   "source": [
    "img_element.text"
   ]
  },
  {
   "cell_type": "code",
   "execution_count": 75,
   "id": "071e2078",
   "metadata": {
    "ExecuteTime": {
     "end_time": "2023-08-23T09:44:45.381847Z",
     "start_time": "2023-08-23T09:44:45.320361Z"
    }
   },
   "outputs": [],
   "source": [
    "key_ward_list=img_element.text"
   ]
  },
  {
   "cell_type": "code",
   "execution_count": 79,
   "id": "7d0c7a19",
   "metadata": {
    "ExecuteTime": {
     "end_time": "2023-08-23T09:45:11.175362Z",
     "start_time": "2023-08-23T09:45:11.168357Z"
    }
   },
   "outputs": [],
   "source": [
    "yyy=key_ward_list.split(\"\\n\")"
   ]
  },
  {
   "cell_type": "code",
   "execution_count": 80,
   "id": "443d6db0",
   "metadata": {
    "ExecuteTime": {
     "end_time": "2023-08-23T09:45:13.124236Z",
     "start_time": "2023-08-23T09:45:13.112270Z"
    }
   },
   "outputs": [
    {
     "data": {
      "text/plain": [
       "['예매대기',\n",
       " '',\n",
       " '',\n",
       " '',\n",
       " '',\n",
       " '',\n",
       " '',\n",
       " '',\n",
       " '',\n",
       " '',\n",
       " '',\n",
       " '',\n",
       " '',\n",
       " '',\n",
       " '',\n",
       " '',\n",
       " '뮤지컬',\n",
       " '2023 가족마술콘서트〈익스트림매직쇼〉 - 인천',\n",
       " '마술쇼',\n",
       " '티켓캐스트',\n",
       " '',\n",
       " '1',\n",
       " '페이스북 공유',\n",
       " '트위터 공유',\n",
       " '장소인천문화예술회관 소공연장(자세히)',\n",
       " '공연기간',\n",
       " '2023.09.09',\n",
       " '공연시간',\n",
       " '60분',\n",
       " '관람연령',\n",
       " '24개월이상 관람가능',\n",
       " '가격',\n",
       " '전체가격보기 (자세히)',\n",
       " '전석',\n",
       " '35,000원',\n",
       " '혜택무이자할부(자세히)',\n",
       " '',\n",
       " '놀포인트 NOL카드로 최대 7만원 혜택 받기',\n",
       " '토핑 가입하고 중복할인 쿠폰받기',\n",
       " '[AD] SKT 고객전용 특별할인! 12,000원 쿠폰받기',\n",
       " '[AD] 티켓할인쿠폰 마감임박! 11,000원 쿠폰받기',\n",
       " '[AD] 티켓 10,000원 할인쿠폰! 예매전 즉시 할인받기',\n",
       " '[AD] 티켓 3천원 할인쿠폰 + 편의점 6천원 증정',\n",
       " '// 쿠폰 다운로드 리스트 : 기획 확인 필요 // promotion api > 프로모션은 장르별 노출, 테스트 시 참고']"
      ]
     },
     "execution_count": 80,
     "metadata": {},
     "output_type": "execute_result"
    }
   ],
   "source": [
    "yyy"
   ]
  },
  {
   "cell_type": "code",
   "execution_count": null,
   "id": "2bb947b9",
   "metadata": {},
   "outputs": [],
   "source": []
  },
  {
   "cell_type": "code",
   "execution_count": null,
   "id": "5abe6167",
   "metadata": {},
   "outputs": [],
   "source": []
  },
  {
   "cell_type": "code",
   "execution_count": 81,
   "id": "24235f26",
   "metadata": {
    "ExecuteTime": {
     "end_time": "2023-08-23T09:46:47.514324Z",
     "start_time": "2023-08-23T09:46:47.504327Z"
    }
   },
   "outputs": [],
   "source": [
    "xp='//*[@id=\"container\"]/div[5]/div[1]/div[2]/div[1]/div/div[2]/ul/li[1]/div/a'"
   ]
  },
  {
   "cell_type": "code",
   "execution_count": 82,
   "id": "814dc1f9",
   "metadata": {
    "ExecuteTime": {
     "end_time": "2023-08-23T09:46:58.775369Z",
     "start_time": "2023-08-23T09:46:58.752425Z"
    }
   },
   "outputs": [],
   "source": [
    " pp=driver.find_element(By.XPATH, xp)"
   ]
  },
  {
   "cell_type": "code",
   "execution_count": 83,
   "id": "bb71603a",
   "metadata": {
    "ExecuteTime": {
     "end_time": "2023-08-23T09:47:01.781970Z",
     "start_time": "2023-08-23T09:47:01.744883Z"
    }
   },
   "outputs": [
    {
     "data": {
      "text/plain": [
       "'인천문화예술회관 소공연장(자세히)'"
      ]
     },
     "execution_count": 83,
     "metadata": {},
     "output_type": "execute_result"
    }
   ],
   "source": [
    "pp.text"
   ]
  },
  {
   "cell_type": "code",
   "execution_count": null,
   "id": "d5cbc5c5",
   "metadata": {},
   "outputs": [],
   "source": []
  },
  {
   "cell_type": "code",
   "execution_count": null,
   "id": "a28d50d0",
   "metadata": {},
   "outputs": [],
   "source": []
  },
  {
   "cell_type": "code",
   "execution_count": null,
   "id": "0b5a8648",
   "metadata": {},
   "outputs": [],
   "source": []
  },
  {
   "cell_type": "code",
   "execution_count": null,
   "id": "3d676c62",
   "metadata": {},
   "outputs": [],
   "source": []
  },
  {
   "cell_type": "code",
   "execution_count": null,
   "id": "3ce0cead",
   "metadata": {},
   "outputs": [],
   "source": []
  },
  {
   "cell_type": "code",
   "execution_count": null,
   "id": "b7d0a10c",
   "metadata": {},
   "outputs": [],
   "source": []
  },
  {
   "cell_type": "code",
   "execution_count": null,
   "id": "2884774b",
   "metadata": {},
   "outputs": [],
   "source": []
  },
  {
   "cell_type": "code",
   "execution_count": null,
   "id": "7a798929",
   "metadata": {},
   "outputs": [],
   "source": []
  },
  {
   "cell_type": "code",
   "execution_count": null,
   "id": "1a7daffa",
   "metadata": {},
   "outputs": [],
   "source": []
  },
  {
   "cell_type": "code",
   "execution_count": null,
   "id": "8a246a77",
   "metadata": {},
   "outputs": [],
   "source": []
  },
  {
   "cell_type": "code",
   "execution_count": null,
   "id": "4bf05fa3",
   "metadata": {},
   "outputs": [],
   "source": []
  },
  {
   "cell_type": "code",
   "execution_count": null,
   "id": "8fe76aa1",
   "metadata": {},
   "outputs": [],
   "source": []
  },
  {
   "cell_type": "code",
   "execution_count": null,
   "id": "d681e30c",
   "metadata": {},
   "outputs": [],
   "source": []
  },
  {
   "cell_type": "code",
   "execution_count": null,
   "id": "4f6a715e",
   "metadata": {},
   "outputs": [],
   "source": []
  },
  {
   "cell_type": "code",
   "execution_count": 61,
   "id": "958f2d86",
   "metadata": {
    "ExecuteTime": {
     "end_time": "2023-08-23T09:33:40.450343Z",
     "start_time": "2023-08-23T09:33:40.432390Z"
    }
   },
   "outputs": [
    {
     "data": {
      "text/plain": [
       "['장소인천문화예술회관 소공연장(자세히)\\n공연기간\\n2023.09.09\\n공연시간\\n60분\\n관람연령\\n24개월이상 관람가능\\n가격\\n전체가격보기 (자세히)\\n전석\\n35,000원\\n혜택무이자할부(자세히)\\n\\n놀포인트 NOL카드로 최대 7만원 혜택 받기\\n토핑 가입하고 중복할인 쿠폰받기\\n[AD] SKT 고객전용 특별할인! 12,000원 쿠폰받기\\n[AD] 티켓할인쿠폰 마감임박! 11,000원 쿠폰받기\\n[AD] 티켓 10,000원 할인쿠폰! 예매전 즉시 할인받기\\n[AD] 티켓 3천원 할인쿠폰 + 편의점 6천원 증정\\n// 쿠폰 다운로드 리스트 : 기획 확인 필요 // promotion api > 프로모션은 장르별 노출, 테스트 시 참고',\n",
       " '장소인천문화예술회관 소공연장(자세히)\\n공연기간\\n2023.09.02 ~2023.09.03\\n공연시간\\n60분\\n관람연령\\n24개월이상 관람가능\\n가격\\n전체가격보기 (자세히)\\n전석\\n35,000원\\n혜택무이자할부(자세히)\\n\\n놀포인트 NOL카드로 최대 7만원 혜택 받기\\n토핑 가입하고 중복할인 쿠폰받기\\n[AD] SKT 고객전용 특별할인! 12,000원 쿠폰받기\\n[AD] 티켓할인쿠폰 마감임박! 11,000원 쿠폰받기\\n[AD] 티켓 10,000원 할인쿠폰! 예매전 즉시 할인받기\\n[AD] 티켓 3천원 할인쿠폰 + 편의점 6천원 증정\\n// 쿠폰 다운로드 리스트 : 기획 확인 필요 // promotion api > 프로모션은 장르별 노출, 테스트 시 참고',\n",
       " '장소인천 검단복지회관(자세히)\\n공연기간\\n2023.10.22\\n공연시간\\n55분\\n관람연령\\n전체관람가\\n혜택무이자할부(자세히)\\n\\n놀포인트 NOL카드로 최대 7만원 혜택 받기\\n토핑 가입하고 중복할인 쿠폰받기\\n[AD] SKT 고객전용 특별할인! 12,000원 쿠폰받기\\n[AD] 티켓할인쿠폰 마감임박! 11,000원 쿠폰받기\\n[AD] 티켓 10,000원 할인쿠폰! 예매전 즉시 할인받기\\n[AD] 티켓 3천원 할인쿠폰 + 편의점 6천원 증정\\n// 쿠폰 다운로드 리스트 : 기획 확인 필요 // promotion api > 프로모션은 장르별 노출, 테스트 시 참고',\n",
       " '장소인천어린이과학관 공연장(자세히)\\n공연기간\\n2023.07.22 ~2023.08.27\\n공연시간\\n55분\\n관람연령\\n20개월이상 관람가능\\n가격\\n전체가격보기 (자세히)\\n전석\\n30,000원\\n혜택무이자할부(자세히)\\n\\n놀포인트 NOL카드로 최대 7만원 혜택 받기\\n토핑 가입하고 중복할인 쿠폰받기\\n[AD] SKT 고객전용 특별할인! 12,000원 쿠폰받기\\n[AD] 티켓할인쿠폰 마감임박! 11,000원 쿠폰받기\\n[AD] 티켓 10,000원 할인쿠폰! 예매전 즉시 할인받기\\n[AD] 티켓 3천원 할인쿠폰 + 편의점 6천원 증정\\n// 쿠폰 다운로드 리스트 : 기획 확인 필요 // promotion api > 프로모션은 장르별 노출, 테스트 시 참고',\n",
       " '장소남동소래아트홀 소래극장(자세히)\\n공연기간\\n2023.10.20 ~2023.10.21\\n공연시간\\n100분\\n관람연령\\n만 8세이상\\n가격\\n전체가격보기 (자세히)\\n전석\\n20,000원\\n혜택무이자할부(자세히)\\n\\n놀포인트 NOL카드로 최대 7만원 혜택 받기\\n토핑 가입하고 중복할인 쿠폰받기\\n[AD] SKT 고객전용 특별할인! 12,000원 쿠폰받기\\n[AD] 티켓할인쿠폰 마감임박! 11,000원 쿠폰받기\\n[AD] 티켓 10,000원 할인쿠폰! 예매전 즉시 할인받기\\n[AD] 티켓 3천원 할인쿠폰 + 편의점 6천원 증정\\n// 쿠폰 다운로드 리스트 : 기획 확인 필요 // promotion api > 프로모션은 장르별 노출, 테스트 시 참고',\n",
       " '장소부평아트센터 해누리 극장(자세히)\\n공연기간\\n2023.10.13 ~2023.10.14\\n공연시간\\n100분\\n관람연령\\n8세이상 관람가능\\n가격\\n전체가격보기 (자세히)\\n전석\\n20,000원\\n혜택무이자할부(자세히)\\n\\n놀포인트 NOL카드로 최대 7만원 혜택 받기\\n토핑 가입하고 중복할인 쿠폰받기\\n[AD] SKT 고객전용 특별할인! 12,000원 쿠폰받기\\n[AD] 티켓할인쿠폰 마감임박! 11,000원 쿠폰받기\\n[AD] 티켓 10,000원 할인쿠폰! 예매전 즉시 할인받기\\n[AD] 티켓 3천원 할인쿠폰 + 편의점 6천원 증정\\n// 쿠폰 다운로드 리스트 : 기획 확인 필요 // promotion api > 프로모션은 장르별 노출, 테스트 시 참고',\n",
       " '장소청라블루노바홀(자세히)\\n공연기간\\n2023.11.01 ~2023.11.02\\n공연시간\\n100분\\n관람연령\\n초등학생이상 관람가\\n가격\\n전체가격보기 (자세히)\\n전석\\n20,000원\\n혜택무이자할부(자세히)\\n\\n놀포인트 NOL카드로 최대 7만원 혜택 받기\\n토핑 가입하고 중복할인 쿠폰받기\\n[AD] SKT 고객전용 특별할인! 12,000원 쿠폰받기\\n[AD] 티켓할인쿠폰 마감임박! 11,000원 쿠폰받기\\n[AD] 티켓 10,000원 할인쿠폰! 예매전 즉시 할인받기\\n[AD] 티켓 3천원 할인쿠폰 + 편의점 6천원 증정\\n// 쿠폰 다운로드 리스트 : 기획 확인 필요 // promotion api > 프로모션은 장르별 노출, 테스트 시 참고',\n",
       " '장소인천문화예술회관 대공연장(자세히)\\n공연기간\\n2023.09.03\\n공연시간\\n70분\\n관람연령\\n24개월이상 관람가능\\n가격\\n전체가격보기 (자세히)\\n전석\\n70,000원\\n혜택무이자할부(자세히)\\n\\n놀포인트 NOL카드로 최대 7만원 혜택 받기\\n토핑 가입하고 중복할인 쿠폰받기\\n[AD] SKT 고객전용 특별할인! 12,000원 쿠폰받기\\n[AD] 티켓할인쿠폰 마감임박! 11,000원 쿠폰받기\\n[AD] 티켓 10,000원 할인쿠폰! 예매전 즉시 할인받기\\n[AD] 티켓 3천원 할인쿠폰 + 편의점 6천원 증정\\n// 쿠폰 다운로드 리스트 : 기획 확인 필요 // promotion api > 프로모션은 장르별 노출, 테스트 시 참고',\n",
       " '장소인천 검단복지회관(자세히)\\n공연기간\\n2023.08.26\\n공연시간\\n50분\\n관람연령\\n20개월이상 관람가능\\n가격\\n전체가격보기 (자세히)\\n전석 (정상가) 40,000원\\n전석 (예매가) 25,000원\\n혜택무이자할부(자세히)\\n\\n놀포인트 NOL카드로 최대 7만원 혜택 받기\\n토핑 가입하고 중복할인 쿠폰받기\\n[AD] SKT 고객전용 특별할인! 12,000원 쿠폰받기\\n[AD] 티켓할인쿠폰 마감임박! 11,000원 쿠폰받기\\n[AD] 티켓 10,000원 할인쿠폰! 예매전 즉시 할인받기\\n[AD] 티켓 3천원 할인쿠폰 + 편의점 6천원 증정\\n// 쿠폰 다운로드 리스트 : 기획 확인 필요 // promotion api > 프로모션은 장르별 노출, 테스트 시 참고']"
      ]
     },
     "execution_count": 61,
     "metadata": {},
     "output_type": "execute_result"
    }
   ],
   "source": []
  },
  {
   "cell_type": "code",
   "execution_count": 51,
   "id": "eedd062b",
   "metadata": {
    "ExecuteTime": {
     "end_time": "2023-08-23T09:31:15.598533Z",
     "start_time": "2023-08-23T09:31:15.560318Z"
    }
   },
   "outputs": [],
   "source": [
    "img_element = driver.find_elements(By.XPATH, text_src)"
   ]
  },
  {
   "cell_type": "code",
   "execution_count": 55,
   "id": "4d6623d9",
   "metadata": {
    "ExecuteTime": {
     "end_time": "2023-08-23T09:31:44.075769Z",
     "start_time": "2023-08-23T09:31:44.032336Z"
    }
   },
   "outputs": [
    {
     "data": {
      "text/plain": [
       "'장소인천문화예술회관 대공연장(자세히)\\n공연기간\\n2023.09.03\\n공연시간\\n70분\\n관람연령\\n24개월이상 관람가능\\n가격\\n전체가격보기 (자세히)\\n전석\\n70,000원\\n혜택무이자할부(자세히)\\n\\n놀포인트 NOL카드로 최대 7만원 혜택 받기\\n토핑 가입하고 중복할인 쿠폰받기\\n[AD] SKT 고객전용 특별할인! 12,000원 쿠폰받기\\n[AD] 티켓할인쿠폰 마감임박! 11,000원 쿠폰받기\\n[AD] 티켓 10,000원 할인쿠폰! 예매전 즉시 할인받기\\n[AD] 티켓 3천원 할인쿠폰 + 편의점 6천원 증정\\n// 쿠폰 다운로드 리스트 : 기획 확인 필요 // promotion api > 프로모션은 장르별 노출, 테스트 시 참고'"
      ]
     },
     "execution_count": 55,
     "metadata": {},
     "output_type": "execute_result"
    }
   ],
   "source": [
    "img_element[0].text"
   ]
  },
  {
   "cell_type": "code",
   "execution_count": 126,
   "id": "97f2d706",
   "metadata": {
    "ExecuteTime": {
     "end_time": "2023-08-23T08:56:00.992595Z",
     "start_time": "2023-08-23T08:56:00.974617Z"
    }
   },
   "outputs": [],
   "source": [
    "img_x='//*[@id=\"container\"]/div[5]/div[1]/div[2]/div[1]/div/div[2]/div/div[1]/img'"
   ]
  },
  {
   "cell_type": "code",
   "execution_count": null,
   "id": "ffd5c37e",
   "metadata": {
    "ExecuteTime": {
     "end_time": "2023-08-23T08:55:34.772927Z",
     "start_time": "2023-08-23T08:55:34.772927Z"
    }
   },
   "outputs": [],
   "source": [
    "img_element = driver.find_elements(By.XPATH, img_x)"
   ]
  },
  {
   "cell_type": "code",
   "execution_count": 57,
   "id": "933deaf3",
   "metadata": {
    "ExecuteTime": {
     "end_time": "2023-08-23T07:05:09.338399Z",
     "start_time": "2023-08-23T07:05:09.330422Z"
    }
   },
   "outputs": [
    {
     "data": {
      "text/plain": [
       "<selenium.webdriver.remote.webelement.WebElement (session=\"0306644ecd0a26d4f94e3cf83b2b055d\", element=\"966CFCB73A6211EBB3BA8F89CAFDFB65_element_13\")>"
      ]
     },
     "execution_count": 57,
     "metadata": {},
     "output_type": "execute_result"
    }
   ],
   "source": [
    "img_element[0]"
   ]
  },
  {
   "cell_type": "code",
   "execution_count": 64,
   "id": "9b9d01b4",
   "metadata": {
    "ExecuteTime": {
     "end_time": "2023-08-23T07:08:40.219644Z",
     "start_time": "2023-08-23T07:08:40.203282Z"
    }
   },
   "outputs": [],
   "source": [
    "text_src = '//*[@id=\"container\"]/div[5]/div[1]/div[2]/div[1]/div'"
   ]
  },
  {
   "cell_type": "code",
   "execution_count": 65,
   "id": "62c99eed",
   "metadata": {
    "ExecuteTime": {
     "end_time": "2023-08-23T07:08:40.917268Z",
     "start_time": "2023-08-23T07:08:40.890285Z"
    }
   },
   "outputs": [],
   "source": [
    "text_src_element=driver.find_elements(By.XPATH, text_src)"
   ]
  },
  {
   "cell_type": "code",
   "execution_count": 66,
   "id": "d6bffce9",
   "metadata": {
    "ExecuteTime": {
     "end_time": "2023-08-23T07:08:41.551862Z",
     "start_time": "2023-08-23T07:08:41.498396Z"
    }
   },
   "outputs": [
    {
     "data": {
      "text/plain": [
       "'예매대기\\n\\n\\n\\n\\n\\n\\n\\n\\n\\n\\n\\n\\n\\n\\n\\n뮤지컬\\n2023 가족마술콘서트〈익스트림매직쇼〉 - 인천\\n마술쇼\\n티켓캐스트\\n\\n1\\n페이스북 공유\\n트위터 공유\\n장소인천문화예술회관 소공연장(자세히)\\n공연기간\\n2023.09.09\\n공연시간\\n60분\\n관람연령\\n24개월이상 관람가능\\n가격\\n전체가격보기 (자세히)\\n전석\\n35,000원\\n혜택무이자할부(자세히)\\n\\n놀포인트 NOL카드로 최대 7만원 혜택 받기\\n토핑 가입하고 중복할인 쿠폰받기\\n[AD] SKT 고객전용 특별할인! 12,000원 쿠폰받기\\n[AD] 티켓할인쿠폰 마감임박! 11,000원 쿠폰받기\\n[AD] 티켓 10,000원 할인쿠폰! 예매전 즉시 할인받기\\n[AD] 티켓 3천원 할인쿠폰 + 편의점 6천원 증정\\n// 쿠폰 다운로드 리스트 : 기획 확인 필요 // promotion api > 프로모션은 장르별 노출, 테스트 시 참고'"
      ]
     },
     "execution_count": 66,
     "metadata": {},
     "output_type": "execute_result"
    }
   ],
   "source": [
    "text_src_element[0].text"
   ]
  },
  {
   "cell_type": "code",
   "execution_count": 67,
   "id": "6b307e66",
   "metadata": {
    "ExecuteTime": {
     "end_time": "2023-08-23T07:08:46.245900Z",
     "start_time": "2023-08-23T07:08:46.226978Z"
    }
   },
   "outputs": [
    {
     "ename": "SyntaxError",
     "evalue": "invalid syntax (3220236241.py, line 1)",
     "output_type": "error",
     "traceback": [
      "\u001b[1;36m  Cell \u001b[1;32mIn[67], line 1\u001b[1;36m\u001b[0m\n\u001b[1;33m    df=\u001b[0m\n\u001b[1;37m       ^\u001b[0m\n\u001b[1;31mSyntaxError\u001b[0m\u001b[1;31m:\u001b[0m invalid syntax\n"
     ]
    }
   ],
   "source": [
    "# df={'제목':[2023 가족마술콘서트〈익스트림매직쇼],\n",
    "#    '장소':[인천문화예술회관 소공연장]}"
   ]
  },
  {
   "cell_type": "code",
   "execution_count": 96,
   "id": "6384affe",
   "metadata": {
    "ExecuteTime": {
     "end_time": "2023-08-23T10:24:55.277591Z",
     "start_time": "2023-08-23T10:24:55.272605Z"
    }
   },
   "outputs": [],
   "source": [
    "nan2_list=[]\n",
    "for i in range(1,100):\n",
    "    nan2_list=[]\n",
    "    nan2_list.append(i)\n",
    "    \n",
    "    "
   ]
  },
  {
   "cell_type": "code",
   "execution_count": 97,
   "id": "9448ac29",
   "metadata": {
    "ExecuteTime": {
     "end_time": "2023-08-23T10:24:55.732620Z",
     "start_time": "2023-08-23T10:24:55.719630Z"
    }
   },
   "outputs": [
    {
     "data": {
      "text/plain": [
       "[99]"
      ]
     },
     "execution_count": 97,
     "metadata": {},
     "output_type": "execute_result"
    }
   ],
   "source": [
    "nan2_list"
   ]
  },
  {
   "cell_type": "code",
   "execution_count": null,
   "id": "10ea7e63",
   "metadata": {},
   "outputs": [],
   "source": []
  },
  {
   "cell_type": "code",
   "execution_count": null,
   "id": "330acc33",
   "metadata": {},
   "outputs": [],
   "source": []
  },
  {
   "cell_type": "code",
   "execution_count": 84,
   "id": "0fb6b6ed",
   "metadata": {
    "ExecuteTime": {
     "end_time": "2023-08-23T10:20:45.442242Z",
     "start_time": "2023-08-23T10:20:45.432268Z"
    }
   },
   "outputs": [],
   "source": [
    "nan_list=[]"
   ]
  },
  {
   "cell_type": "code",
   "execution_count": 88,
   "id": "d6a8be24",
   "metadata": {
    "ExecuteTime": {
     "end_time": "2023-08-23T10:21:36.791666Z",
     "start_time": "2023-08-23T10:21:36.783712Z"
    }
   },
   "outputs": [],
   "source": [
    "nan_list.append('22')"
   ]
  },
  {
   "cell_type": "code",
   "execution_count": 89,
   "id": "de5c4338",
   "metadata": {
    "ExecuteTime": {
     "end_time": "2023-08-23T10:21:38.442148Z",
     "start_time": "2023-08-23T10:21:38.432175Z"
    }
   },
   "outputs": [
    {
     "data": {
      "text/plain": [
       "['hi', '22']"
      ]
     },
     "execution_count": 89,
     "metadata": {},
     "output_type": "execute_result"
    }
   ],
   "source": [
    "nan_list"
   ]
  },
  {
   "cell_type": "code",
   "execution_count": null,
   "id": "fd599099",
   "metadata": {},
   "outputs": [],
   "source": []
  }
 ],
 "metadata": {
  "kernelspec": {
   "display_name": "Python 3 (ipykernel)",
   "language": "python",
   "name": "python3"
  },
  "language_info": {
   "codemirror_mode": {
    "name": "ipython",
    "version": 3
   },
   "file_extension": ".py",
   "mimetype": "text/x-python",
   "name": "python",
   "nbconvert_exporter": "python",
   "pygments_lexer": "ipython3",
   "version": "3.10.11"
  }
 },
 "nbformat": 4,
 "nbformat_minor": 5
}
