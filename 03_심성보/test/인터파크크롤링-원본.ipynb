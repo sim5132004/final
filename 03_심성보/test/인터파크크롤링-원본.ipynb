{
 "cells": [
  {
   "cell_type": "code",
   "execution_count": 7,
   "id": "ef598cfc",
   "metadata": {
    "ExecuteTime": {
     "end_time": "2023-08-23T03:24:23.908065Z",
     "start_time": "2023-08-23T03:24:23.895100Z"
    }
   },
   "outputs": [],
   "source": [
    "from selenium import webdriver\n",
    "from selenium.webdriver.common.by import By\n"
   ]
  },
  {
   "cell_type": "code",
   "execution_count": 8,
   "id": "e2a8e8b0",
   "metadata": {
    "ExecuteTime": {
     "end_time": "2023-08-23T03:24:27.880030Z",
     "start_time": "2023-08-23T03:24:25.862182Z"
    }
   },
   "outputs": [],
   "source": [
    "driver = webdriver.Chrome()"
   ]
  },
  {
   "cell_type": "code",
   "execution_count": null,
   "id": "4c0f1377",
   "metadata": {
    "ExecuteTime": {
     "end_time": "2023-08-23T02:58:52.284686Z",
     "start_time": "2023-08-23T02:58:52.155816Z"
    }
   },
   "outputs": [],
   "source": [
    "driver = webdriver.Chrome('chromedriver')  # 크롬 드라이버 경로\n",
    "wait = WebDriverWait(driver, 20)\n",
    "\n",
    "# 크롤링할 페이지 URL 인터파크\n",
    "url = 'http://ticket.yes24.com/Perf/46844'\n",
    "driver.get(url)\n",
    "\n",
    "try:\n",
    "    # 해당 요소가 로드될 때까지 대기\n",
    "    element = wait.until(EC.presence_of_element_located((By.CSS_SELECTOR, '#wrapBody > div.sR_w726 > div.Rg_list > div.Ltview > div')))\n",
    "    ## CSS_SELECTOR를 이용하여 해당 크롤링할 부분의 내용의 html 요소를 찾아야함\n",
    "    \n",
    "    # 텍스트 가져오기\n",
    "    text = element.text.strip()\n",
    "\n",
    "    # 이미지 주소 가져오기\n",
    "    img_element = element.find_element(By.CSS_SELECTOR, 'img')\n",
    "    img_src = img_element.get_attribute('src')\n",
    "\n",
    "    print(\"텍스트:\", text)\n",
    "    print(\"이미지 주소:\", img_src)\n",
    "\n",
    "except Exception as e:\n",
    "    print(\"오류 발생:\", str(e))\n",
    "\n",
    "\n",
    "driver.quit()"
   ]
  },
  {
   "cell_type": "code",
   "execution_count": null,
   "id": "519c2fa6",
   "metadata": {},
   "outputs": [],
   "source": []
  }
 ],
 "metadata": {
  "kernelspec": {
   "display_name": "Python 3 (ipykernel)",
   "language": "python",
   "name": "python3"
  },
  "language_info": {
   "codemirror_mode": {
    "name": "ipython",
    "version": 3
   },
   "file_extension": ".py",
   "mimetype": "text/x-python",
   "name": "python",
   "nbconvert_exporter": "python",
   "pygments_lexer": "ipython3",
   "version": "3.10.11"
  }
 },
 "nbformat": 4,
 "nbformat_minor": 5
}
