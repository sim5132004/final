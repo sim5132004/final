{
 "cells": [
  {
   "cell_type": "code",
   "execution_count": 4,
   "id": "6d02317b",
   "metadata": {
    "ExecuteTime": {
     "end_time": "2023-08-11T06:38:49.727572Z",
     "start_time": "2023-08-11T06:38:49.466620Z"
    }
   },
   "outputs": [],
   "source": [
    "from selenium import webdriver\n",
    "from selenium.webdriver.common.by import By\n",
    "from PIL import Image\n",
    "import time\n",
    "import pandas as pd\n",
    "from time import sleep\n",
    "\n",
    "from selenium.webdriver.common.keys import Keys\n",
    "from selenium.webdriver.support import expected_conditions as EC\n",
    "from selenium.webdriver.support.ui import WebDriverWait\n",
    "import cx_Oracle\n",
    "import urllib.request\n",
    "from io import BytesIO\n"
   ]
  },
  {
   "cell_type": "markdown",
   "id": "0f6ba14b",
   "metadata": {},
   "source": [
    "스크랩핑할 api 주소 데이터 불러오기"
   ]
  },
  {
   "cell_type": "code",
   "execution_count": 3,
   "id": "a02b5be0",
   "metadata": {
    "ExecuteTime": {
     "end_time": "2023-08-11T06:38:36.562127Z",
     "start_time": "2023-08-11T06:38:36.325754Z"
    }
   },
   "outputs": [],
   "source": [
    "data=pd.read_csv('row_data.csv')"
   ]
  },
  {
   "cell_type": "code",
   "execution_count": 6,
   "id": "629ed3ee",
   "metadata": {
    "ExecuteTime": {
     "end_time": "2023-08-11T06:41:56.018887Z",
     "start_time": "2023-08-11T06:41:56.005922Z"
    }
   },
   "outputs": [],
   "source": [
    "data.drop('Unnamed: 0',axis=1,inplace=True)"
   ]
  },
  {
   "cell_type": "code",
   "execution_count": 7,
   "id": "a7366fa7",
   "metadata": {
    "ExecuteTime": {
     "end_time": "2023-08-11T06:42:20.222579Z",
     "start_time": "2023-08-11T06:42:20.217593Z"
    }
   },
   "outputs": [],
   "source": [
    "t=data['0'].values.tolist()"
   ]
  },
  {
   "cell_type": "code",
   "execution_count": 11,
   "id": "820fa153",
   "metadata": {
    "ExecuteTime": {
     "end_time": "2023-08-11T06:45:47.171318Z",
     "start_time": "2023-08-11T06:45:47.161344Z"
    }
   },
   "outputs": [],
   "source": [
    "import json"
   ]
  },
  {
   "cell_type": "code",
   "execution_count": 14,
   "id": "333cffb4",
   "metadata": {
    "ExecuteTime": {
     "end_time": "2023-08-11T06:48:44.700003Z",
     "start_time": "2023-08-11T06:48:40.872497Z"
    }
   },
   "outputs": [],
   "source": [
    "driver = webdriver.Chrome()  # 드라이버 경로\n",
    "se2='#post-view222482771948 > div'\n",
    "tstroy_main_se='#content > div > div:nth-child(1)'\n",
    "\n",
    "\n"
   ]
  },
  {
   "cell_type": "code",
   "execution_count": 15,
   "id": "148652cb",
   "metadata": {
    "ExecuteTime": {
     "end_time": "2023-08-11T06:48:50.152727Z",
     "start_time": "2023-08-11T06:48:44.702996Z"
    }
   },
   "outputs": [
    {
     "name": "stdout",
     "output_type": "stream",
     "text": [
      "https://blog.naver.com/sycho0517/223110956252\n",
      "https://blog.naver.com/sycho0517/223110956252\n"
     ]
    },
    {
     "ename": "NameError",
     "evalue": "name 'data2' is not defined",
     "output_type": "error",
     "traceback": [
      "\u001b[1;31m---------------------------------------------------------------------------\u001b[0m",
      "\u001b[1;31mNameError\u001b[0m                                 Traceback (most recent call last)",
      "Cell \u001b[1;32mIn[15], line 31\u001b[0m\n\u001b[0;32m     28\u001b[0m     driver\u001b[38;5;241m.\u001b[39mswitch_to\u001b[38;5;241m.\u001b[39mparent_frame()\n\u001b[0;32m     30\u001b[0m sleep(\u001b[38;5;241m1\u001b[39m)\n\u001b[1;32m---> 31\u001b[0m all_data[\u001b[38;5;124mf\u001b[39m\u001b[38;5;124m'\u001b[39m\u001b[38;5;132;01m{\u001b[39;00mdata2[\u001b[38;5;241m3\u001b[39m][count]\u001b[38;5;132;01m}\u001b[39;00m\u001b[38;5;132;01m{\u001b[39;00mcount2\u001b[38;5;132;01m}\u001b[39;00m\u001b[38;5;124m'\u001b[39m]\u001b[38;5;241m=\u001b[39m contents\n\u001b[0;32m     34\u001b[0m \u001b[38;5;28mprint\u001b[39m(contents)\n\u001b[0;32m     35\u001b[0m count2\u001b[38;5;241m+\u001b[39m\u001b[38;5;241m=\u001b[39m\u001b[38;5;241m1\u001b[39m\n",
      "\u001b[1;31mNameError\u001b[0m: name 'data2' is not defined"
     ]
    }
   ],
   "source": [
    "all_data={}\n",
    "count=0\n",
    "# json_string = first_list[0]\n",
    "# json.loads(json_string)\n",
    "for name_list in t[:100]:\n",
    "    count2=0\n",
    "    names=json.loads(name_list)\n",
    "    \n",
    "    \n",
    "    for name in names['items']:\n",
    "        print(name['link'])\n",
    "        url = name['link']\n",
    "        print(url)\n",
    "        driver.get(url)\n",
    "        sleep(1)\n",
    "        \n",
    "    \n",
    "#     find_elements(By.CSS_SELECTOR)\n",
    "   \n",
    "        if url.find('naver') == -1:\n",
    "            x= driver.find_elements(By.CSS_SELECTOR ,tstroy_main_se)\n",
    "            contents = [element.text for element in x]\n",
    "        else:\n",
    "            test_url=url.split('/')\n",
    "            naver_main_se=f'#post-view{test_url[4]} > div'\n",
    "            driver.switch_to.frame('mainFrame')\n",
    "            x= driver.find_elements(By.CSS_SELECTOR,naver_main_se)\n",
    "            contents = [element.text for element in x]\n",
    "            driver.switch_to.parent_frame()\n",
    "        \n",
    "        sleep(1)\n",
    "        all_data[f'{[count]}{count2}']= contents\n",
    "    \n",
    "    \n",
    "        print(contents)\n",
    "        count2+=1\n",
    "    count+=1\n",
    "        \n",
    "with open('data.csv', 'w',encoding='utf-8') as f:\n",
    "    f.write(str(all_data))        \n",
    "        \n",
    "        "
   ]
  },
  {
   "cell_type": "code",
   "execution_count": 16,
   "id": "5c1066fc",
   "metadata": {
    "ExecuteTime": {
     "end_time": "2023-08-11T07:16:59.807868Z",
     "start_time": "2023-08-11T07:16:59.791910Z"
    }
   },
   "outputs": [
    {
     "data": {
      "text/plain": [
       "884"
      ]
     },
     "execution_count": 16,
     "metadata": {},
     "output_type": "execute_result"
    }
   ],
   "source": [
    "len(t)"
   ]
  },
  {
   "cell_type": "code",
   "execution_count": null,
   "id": "7702ad6b",
   "metadata": {},
   "outputs": [],
   "source": [
    "{}"
   ]
  }
 ],
 "metadata": {
  "kernelspec": {
   "display_name": "Python 3 (ipykernel)",
   "language": "python",
   "name": "python3"
  },
  "language_info": {
   "codemirror_mode": {
    "name": "ipython",
    "version": 3
   },
   "file_extension": ".py",
   "mimetype": "text/x-python",
   "name": "python",
   "nbconvert_exporter": "python",
   "pygments_lexer": "ipython3",
   "version": "3.10.11"
  }
 },
 "nbformat": 4,
 "nbformat_minor": 5
}
