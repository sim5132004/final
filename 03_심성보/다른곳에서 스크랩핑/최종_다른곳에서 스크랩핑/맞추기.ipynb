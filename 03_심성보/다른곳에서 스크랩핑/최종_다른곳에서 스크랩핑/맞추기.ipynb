{
 "cells": [
  {
   "cell_type": "code",
   "execution_count": 133,
   "id": "af542d5a",
   "metadata": {
    "ExecuteTime": {
     "end_time": "2023-08-16T05:58:20.326571Z",
     "start_time": "2023-08-16T05:58:20.313595Z"
    }
   },
   "outputs": [],
   "source": [
    "import json\n",
    "import pandas as pd\n",
    "from konlpy.tag import Okt\n",
    "import codecs\n",
    "import cx_Oracle\n",
    "import re\n",
    "from konlpy.tag import Okt"
   ]
  },
  {
   "cell_type": "markdown",
   "id": "9a0161e8",
   "metadata": {},
   "source": [
    "## 파일 불러오기"
   ]
  },
  {
   "cell_type": "code",
   "execution_count": 3,
   "id": "ddc157f9",
   "metadata": {
    "ExecuteTime": {
     "end_time": "2023-08-16T03:50:56.714036Z",
     "start_time": "2023-08-16T03:50:56.705059Z"
    }
   },
   "outputs": [],
   "source": [
    "pattern = r'\\d+'"
   ]
  },
  {
   "cell_type": "code",
   "execution_count": 4,
   "id": "7872e877",
   "metadata": {
    "ExecuteTime": {
     "end_time": "2023-08-16T03:50:59.706583Z",
     "start_time": "2023-08-16T03:50:58.439392Z"
    }
   },
   "outputs": [],
   "source": [
    "with open('search_list.txt', \"r\") as f:\n",
    "    s_list= f.read()\n",
    "s_list=s_list.split('\\n')\n",
    "json_lists=[]\n",
    "data=[]\n",
    "for c in range(8):      \n",
    "    with open(f'save_json[{c}].json', \"r\") as json_file:\n",
    "        json_lists.append(json.load(json_file))\n",
    "    keys = list(json_lists[c].keys())\n",
    "    values = list(json_lists[c].values())\n",
    "    data.append(pd.DataFrame({\"데이터\": values},index=keys))"
   ]
  },
  {
   "cell_type": "code",
   "execution_count": null,
   "id": "471419eb",
   "metadata": {
    "ExecuteTime": {
     "end_time": "2023-08-16T03:51:00.842365Z",
     "start_time": "2023-08-16T03:51:00.832393Z"
    }
   },
   "outputs": [],
   "source": []
  },
  {
   "cell_type": "code",
   "execution_count": 59,
   "id": "1e4ca446",
   "metadata": {
    "ExecuteTime": {
     "end_time": "2023-08-16T04:04:34.616729Z",
     "start_time": "2023-08-16T04:04:34.599750Z"
    },
    "scrolled": true
   },
   "outputs": [
    {
     "name": "stdout",
     "output_type": "stream",
     "text": [
      "브레이크\n",
      "브레이크\n",
      "브레이크\n",
      "브레이크\n",
      "브레이크\n",
      "브레이크\n",
      "브레이크\n",
      "브레이크\n",
      "브레이크\n",
      "브레이크\n",
      "브레이크\n",
      "브레이크\n",
      "브레이크\n",
      "브레이크\n",
      "브레이크\n",
      "브레이크\n",
      "브레이크\n",
      "브레이크\n",
      "브레이크\n",
      "브레이크\n",
      "브레이크\n",
      "브레이크\n",
      "브레이크\n",
      "브레이크\n",
      "브레이크\n",
      "브레이크\n",
      "브레이크\n",
      "브레이크\n",
      "브레이크\n",
      "브레이크\n",
      "브레이크\n",
      "브레이크\n",
      "브레이크\n",
      "브레이크\n",
      "브레이크\n",
      "브레이크\n",
      "브레이크\n",
      "브레이크\n",
      "브레이크\n",
      "브레이크\n",
      "브레이크\n",
      "브레이크\n",
      "브레이크\n",
      "브레이크\n",
      "브레이크\n",
      "브레이크\n",
      "브레이크\n",
      "브레이크\n",
      "브레이크\n",
      "브레이크\n",
      "브레이크\n",
      "브레이크\n",
      "브레이크\n",
      "브레이크\n",
      "브레이크\n",
      "브레이크\n",
      "브레이크\n",
      "브레이크\n",
      "브레이크\n",
      "브레이크\n",
      "브레이크\n",
      "브레이크\n",
      "브레이크\n",
      "브레이크\n",
      "브레이크\n",
      "브레이크\n",
      "브레이크\n",
      "브레이크\n",
      "브레이크\n",
      "브레이크\n",
      "브레이크\n",
      "브레이크\n",
      "브레이크\n",
      "브레이크\n",
      "브레이크\n",
      "브레이크\n",
      "브레이크\n",
      "브레이크\n",
      "브레이크\n",
      "브레이크\n",
      "브레이크\n",
      "브레이크\n",
      "브레이크\n",
      "브레이크\n",
      "브레이크\n"
     ]
    }
   ],
   "source": [
    "name_list_count=0\n",
    "data_count=0\n",
    "# main_data_list=[]\n",
    "list_c=0\n",
    "x=8\n",
    "for name_list in s_list[int(x*100):]:\n",
    "    data_list=[]\n",
    "    for c in range(21):\n",
    "\n",
    "        try:\n",
    "            data_list.append(data[x].loc[f'{name_list}{c}'].tolist())\n",
    "        except:\n",
    "            print('브레이크')\n",
    "            name_list_count+=1\n",
    "            break\n",
    "    main_data_list.append(data_list)"
   ]
  },
  {
   "cell_type": "code",
   "execution_count": null,
   "id": "c6f3bed4",
   "metadata": {
    "ExecuteTime": {
     "end_time": "2023-08-16T04:03:16.579487Z",
     "start_time": "2023-08-16T04:03:16.560536Z"
    }
   },
   "outputs": [],
   "source": []
  },
  {
   "cell_type": "code",
   "execution_count": null,
   "id": "870abd24",
   "metadata": {
    "ExecuteTime": {
     "end_time": "2023-08-16T04:17:48.165771Z",
     "start_time": "2023-08-16T04:17:48.144827Z"
    }
   },
   "outputs": [],
   "source": []
  },
  {
   "cell_type": "markdown",
   "id": "dc5606fc",
   "metadata": {
    "ExecuteTime": {
     "end_time": "2023-08-16T02:58:01.598333Z",
     "start_time": "2023-08-16T02:58:01.537374Z"
    }
   },
   "source": []
  },
  {
   "cell_type": "markdown",
   "id": "d3e8d285",
   "metadata": {},
   "source": [
    "## 체크리스트"
   ]
  },
  {
   "cell_type": "code",
   "execution_count": null,
   "id": "7d8050a3",
   "metadata": {
    "ExecuteTime": {
     "end_time": "2023-08-16T02:55:36.217284Z",
     "start_time": "2023-08-16T02:55:36.199331Z"
    }
   },
   "outputs": [],
   "source": []
  },
  {
   "cell_type": "markdown",
   "id": "f2e3d8fa",
   "metadata": {
    "ExecuteTime": {
     "end_time": "2023-08-16T02:33:59.832999Z",
     "start_time": "2023-08-16T02:33:58.703304Z"
    }
   },
   "source": [
    "name_lists=df_all['검색어'].to_list()\n",
    "x=s_list[0]\n",
    "\n",
    "x=strs.find('x')\n",
    "for n in name_lists:\n",
    "    cleaned_string = re.sub(pattern, '', n)\n",
    "    print(n.find('강화 초지진'))"
   ]
  },
  {
   "cell_type": "code",
   "execution_count": null,
   "id": "7c8020b2",
   "metadata": {
    "ExecuteTime": {
     "end_time": "2023-08-16T02:43:42.161211Z",
     "start_time": "2023-08-16T02:43:42.144256Z"
    }
   },
   "outputs": [],
   "source": []
  },
  {
   "cell_type": "code",
   "execution_count": null,
   "id": "ccd5fe8e",
   "metadata": {
    "ExecuteTime": {
     "end_time": "2023-08-16T04:19:37.725918Z",
     "start_time": "2023-08-16T04:19:37.708988Z"
    }
   },
   "outputs": [],
   "source": []
  },
  {
   "cell_type": "code",
   "execution_count": 130,
   "id": "3623e62d",
   "metadata": {
    "ExecuteTime": {
     "end_time": "2023-08-16T05:55:29.164568Z",
     "start_time": "2023-08-16T05:55:29.152606Z"
    }
   },
   "outputs": [],
   "source": [
    "main_str1=[]\n",
    "for c in range(3):\n",
    "    for x in main_data_list[c]:\n",
    "        main_str1.append('')\n",
    "        for y in x:\n",
    "            main_str1[c]+=y"
   ]
  },
  {
   "cell_type": "code",
   "execution_count": null,
   "id": "de786078",
   "metadata": {
    "ExecuteTime": {
     "end_time": "2023-08-16T05:55:33.882794Z",
     "start_time": "2023-08-16T05:55:33.865864Z"
    }
   },
   "outputs": [],
   "source": []
  },
  {
   "cell_type": "code",
   "execution_count": 136,
   "id": "456e5db5",
   "metadata": {
    "ExecuteTime": {
     "end_time": "2023-08-16T06:03:05.076008Z",
     "start_time": "2023-08-16T06:03:05.057034Z"
    }
   },
   "outputs": [],
   "source": [
    "okt = Okt()\n",
    "lines0 = main_str1[0].split(' ')\n",
    "lines1 = main_str1[1].split(' ')\n",
    "lines2 = main_str1[2].split(' ')\n",
    "lines3 = main_str1[3].split(' ')\n",
    "line_list=[lines0,lines1,lines2,lines3]"
   ]
  },
  {
   "cell_type": "code",
   "execution_count": 146,
   "id": "55f1675b",
   "metadata": {
    "ExecuteTime": {
     "end_time": "2023-08-16T06:09:20.186048Z",
     "start_time": "2023-08-16T06:09:20.169054Z"
    }
   },
   "outputs": [],
   "source": [
    "test=['','','','','','']"
   ]
  },
  {
   "cell_type": "code",
   "execution_count": 182,
   "id": "ff40b6f0",
   "metadata": {
    "ExecuteTime": {
     "end_time": "2023-08-16T07:02:23.311130Z",
     "start_time": "2023-08-16T06:56:45.857339Z"
    },
    "scrolled": true
   },
   "outputs": [],
   "source": [
    "# 명사 빈도수 저장 딕셔너리\n",
    "\n",
    "main_str=[]\n",
    "line_list=[]\n",
    "test=[]\n",
    "top_n = 50\n",
    "for c in range(len(s_list[:100])):\n",
    "    keys=[]\n",
    "    word_dic = {}\n",
    "    main_str.append('')\n",
    "    \n",
    "    for x in main_data_list[c]:\n",
    "        for y in x:\n",
    "            main_str[c]+=y\n",
    "    line_list.append(main_str[c].split(' '))\n",
    "\n",
    "    okt = Okt()\n",
    "    # 텍스트 내의 명사 추출 및 빈도 계산\n",
    "    for line in line_list[c]:\n",
    "       \n",
    "        malist = okt.pos(line, norm=True, stem=True)\n",
    "        for word in malist:\n",
    "            if word[1] == \"Noun\" and len(word[0]) >= 2:  # 두 글자 이상인 명사만 고려\n",
    "                if word[0] not in word_dic:\n",
    "                    word_dic[word[0]] = 0\n",
    "                word_dic[word[0]] += 1\n",
    "\n",
    "    # 가장 많이 사용된 명사 상위 50개만 추출\n",
    "    keys = sorted(word_dic.items(), key=lambda x: x[1], reverse=True)[:top_n]\n",
    "    test.append('')\n",
    "    # 결과 출력\n",
    "    for word, count in keys:\n",
    "        test[c]+=f\"{word}/{count},\"\n",
    "        \n",
    "    update_keyward_from_oracle(test[c],s_list[c])\n",
    "\n"
   ]
  },
  {
   "cell_type": "code",
   "execution_count": 181,
   "id": "571af9de",
   "metadata": {
    "ExecuteTime": {
     "end_time": "2023-08-16T06:56:38.179512Z",
     "start_time": "2023-08-16T06:56:38.161539Z"
    }
   },
   "outputs": [
    {
     "data": {
      "text/plain": [
       "list"
      ]
     },
     "execution_count": 181,
     "metadata": {},
     "output_type": "execute_result"
    }
   ],
   "source": [
    "type(keys)"
   ]
  },
  {
   "cell_type": "code",
   "execution_count": 121,
   "id": "704cfa97",
   "metadata": {
    "ExecuteTime": {
     "end_time": "2023-08-16T05:47:28.799977Z",
     "start_time": "2023-08-16T05:47:28.786011Z"
    }
   },
   "outputs": [],
   "source": [
    "def update_keyward_from_oracle(target_url,list_name):\n",
    "    con = cx_Oracle.connect('party/party@192.168.30.240:1521/xe')\n",
    "    cur = con.cursor()\n",
    "    # 데이터2 -> 테이블명 변경\n",
    "\n",
    "    sql = \"update placeinfo set 키워드리스트  = :1  WHERE 제목 =:2\"\n",
    "    cur.execute(sql, ( target_url, list_name))\n",
    "\n",
    "\n",
    "    con.commit()\n",
    "    cur.close()\n",
    "    con.close()"
   ]
  },
  {
   "cell_type": "code",
   "execution_count": 163,
   "id": "e946b830",
   "metadata": {
    "ExecuteTime": {
     "end_time": "2023-08-16T06:35:02.404948Z",
     "start_time": "2023-08-16T06:35:02.361412Z"
    }
   },
   "outputs": [],
   "source": [
    "update_keyward_from_oracle('더조은/12,낄낄/214',s_list[5])"
   ]
  },
  {
   "cell_type": "markdown",
   "id": "b74030e6",
   "metadata": {
    "ExecuteTime": {
     "end_time": "2023-08-16T06:09:32.570913Z",
     "start_time": "2023-08-16T06:09:32.433037Z"
    }
   },
   "source": [
    "for c in range(4):\n",
    "    \n",
    "    update_keyward_from_oracle(test[c],s_list[c])"
   ]
  },
  {
   "cell_type": "code",
   "execution_count": null,
   "id": "64474f78",
   "metadata": {
    "ExecuteTime": {
     "end_time": "2023-08-16T06:17:56.390329Z",
     "start_time": "2023-08-16T06:17:56.369386Z"
    }
   },
   "outputs": [],
   "source": []
  },
  {
   "cell_type": "code",
   "execution_count": null,
   "id": "1f1d0683",
   "metadata": {},
   "outputs": [],
   "source": []
  }
 ],
 "metadata": {
  "kernelspec": {
   "display_name": "Python 3 (ipykernel)",
   "language": "python",
   "name": "python3"
  },
  "language_info": {
   "codemirror_mode": {
    "name": "ipython",
    "version": 3
   },
   "file_extension": ".py",
   "mimetype": "text/x-python",
   "name": "python",
   "nbconvert_exporter": "python",
   "pygments_lexer": "ipython3",
   "version": "3.10.11"
  }
 },
 "nbformat": 4,
 "nbformat_minor": 5
}
