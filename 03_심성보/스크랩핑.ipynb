{
 "cells": [
  {
   "cell_type": "code",
   "execution_count": 1,
   "id": "c5151e30",
   "metadata": {
    "ExecuteTime": {
     "end_time": "2023-08-11T02:31:22.223401Z",
     "start_time": "2023-08-11T02:31:21.313003Z"
    }
   },
   "outputs": [],
   "source": [
    "from selenium import webdriver\n",
    "from selenium.webdriver.common.by import By\n",
    "from PIL import Image\n",
    "import time\n",
    "import pandas as pd\n",
    "from time import sleep\n",
    "\n",
    "from selenium.webdriver.common.keys import Keys\n",
    "from selenium.webdriver.support import expected_conditions as EC\n",
    "from selenium.webdriver.support.ui import WebDriverWait\n",
    "import cx_Oracle\n",
    "import urllib.request\n",
    "from io import BytesIO\n",
    "\n"
   ]
  },
  {
   "cell_type": "code",
   "execution_count": 2,
   "id": "5faf17d7",
   "metadata": {
    "ExecuteTime": {
     "end_time": "2023-08-11T02:31:29.427191Z",
     "start_time": "2023-08-11T02:31:27.380982Z"
    }
   },
   "outputs": [],
   "source": [
    "driver = webdriver.Chrome()  # 드라이버 경로"
   ]
  },
  {
   "cell_type": "code",
   "execution_count": 4,
   "id": "35797a28",
   "metadata": {
    "ExecuteTime": {
     "end_time": "2023-08-11T02:31:59.790938Z",
     "start_time": "2023-08-11T02:31:59.772986Z"
    }
   },
   "outputs": [],
   "source": [
    "url1 = 'https://naver.com/'"
   ]
  },
  {
   "cell_type": "code",
   "execution_count": 5,
   "id": "719ef5c2",
   "metadata": {
    "ExecuteTime": {
     "end_time": "2023-08-11T02:32:01.153347Z",
     "start_time": "2023-08-11T02:32:00.379989Z"
    }
   },
   "outputs": [],
   "source": [
    "driver.get(url1)"
   ]
  },
  {
   "cell_type": "code",
   "execution_count": 6,
   "id": "6eb36aa9",
   "metadata": {
    "ExecuteTime": {
     "end_time": "2023-08-11T02:32:46.403532Z",
     "start_time": "2023-08-11T02:32:46.388546Z"
    }
   },
   "outputs": [],
   "source": [
    "se='//*[@id=\"query\"]'"
   ]
  },
  {
   "cell_type": "code",
   "execution_count": 7,
   "id": "ea59e231",
   "metadata": {
    "ExecuteTime": {
     "end_time": "2023-08-11T02:33:47.686332Z",
     "start_time": "2023-08-11T02:33:47.636024Z"
    }
   },
   "outputs": [],
   "source": [
    "x=driver.find_element(By.XPATH,se)"
   ]
  },
  {
   "cell_type": "code",
   "execution_count": 9,
   "id": "4059d48a",
   "metadata": {
    "ExecuteTime": {
     "end_time": "2023-08-11T02:34:04.660533Z",
     "start_time": "2023-08-11T02:34:04.532003Z"
    }
   },
   "outputs": [],
   "source": [
    "x.send_keys(' 맛집')"
   ]
  },
  {
   "cell_type": "code",
   "execution_count": 10,
   "id": "6347d3cc",
   "metadata": {
    "ExecuteTime": {
     "end_time": "2023-08-11T02:34:17.248039Z",
     "start_time": "2023-08-11T02:34:15.555497Z"
    }
   },
   "outputs": [],
   "source": [
    "x.send_keys(Keys.ENTER)"
   ]
  },
  {
   "cell_type": "code",
   "execution_count": null,
   "id": "3e8c443b",
   "metadata": {},
   "outputs": [],
   "source": []
  }
 ],
 "metadata": {
  "kernelspec": {
   "display_name": "Python 3 (ipykernel)",
   "language": "python",
   "name": "python3"
  },
  "language_info": {
   "codemirror_mode": {
    "name": "ipython",
    "version": 3
   },
   "file_extension": ".py",
   "mimetype": "text/x-python",
   "name": "python",
   "nbconvert_exporter": "python",
   "pygments_lexer": "ipython3",
   "version": "3.10.11"
  }
 },
 "nbformat": 4,
 "nbformat_minor": 5
}
