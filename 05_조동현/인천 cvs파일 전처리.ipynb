{
 "cells": [
  {
   "cell_type": "code",
   "execution_count": 14,
   "id": "28cd260e",
   "metadata": {},
   "outputs": [],
   "source": [
    "import pandas as pd"
   ]
  },
  {
   "cell_type": "code",
   "execution_count": 15,
   "id": "930fc3a4",
   "metadata": {},
   "outputs": [
    {
     "data": {
      "text/html": [
       "<div>\n",
       "<style scoped>\n",
       "    .dataframe tbody tr th:only-of-type {\n",
       "        vertical-align: middle;\n",
       "    }\n",
       "\n",
       "    .dataframe tbody tr th {\n",
       "        vertical-align: top;\n",
       "    }\n",
       "\n",
       "    .dataframe thead th {\n",
       "        text-align: right;\n",
       "    }\n",
       "</style>\n",
       "<table border=\"1\" class=\"dataframe\">\n",
       "  <thead>\n",
       "    <tr style=\"text-align: right;\">\n",
       "      <th></th>\n",
       "      <th>카테고리</th>\n",
       "      <th>소분류</th>\n",
       "      <th>제목</th>\n",
       "      <th>주소</th>\n",
       "      <th>전화번호</th>\n",
       "      <th>위도</th>\n",
       "      <th>경도</th>\n",
       "      <th>애완동물동반가능정보</th>\n",
       "      <th>주차시설</th>\n",
       "      <th>쉬는날</th>\n",
       "      <th>...</th>\n",
       "      <th>화장실설명</th>\n",
       "      <th>외국어안내서비스</th>\n",
       "      <th>사고보험가입여부</th>\n",
       "      <th>판매품목</th>\n",
       "      <th>편의시설</th>\n",
       "      <th>대표메뉴</th>\n",
       "      <th>포장가능여부</th>\n",
       "      <th>입실시간</th>\n",
       "      <th>퇴실시간</th>\n",
       "      <th>부대시설</th>\n",
       "    </tr>\n",
       "  </thead>\n",
       "  <tbody>\n",
       "  </tbody>\n",
       "</table>\n",
       "<p>0 rows × 22 columns</p>\n",
       "</div>"
      ],
      "text/plain": [
       "Empty DataFrame\n",
       "Columns: [카테고리, 소분류, 제목, 주소, 전화번호, 위도, 경도, 애완동물동반가능정보, 주차시설, 쉬는날, 영업시간, 이용요금, 화장실설명, 외국어안내서비스, 사고보험가입여부, 판매품목, 편의시설, 대표메뉴, 포장가능여부, 입실시간, 퇴실시간, 부대시설]\n",
       "Index: []\n",
       "\n",
       "[0 rows x 22 columns]"
      ]
     },
     "execution_count": 15,
     "metadata": {},
     "output_type": "execute_result"
    }
   ],
   "source": [
    "# 칼럼 이름 정의\n",
    "column_names = ['카테고리', '소분류', '제목', '주소', '전화번호', '위도', '경도', '애완동물동반가능정보', '주차시설', \n",
    "                '쉬는날', '영업시간', '이용요금', '화장실설명', '외국어안내서비스', '사고보험가입여부', '판매품목', \n",
    "                '편의시설', '대표메뉴', '포장가능여부', '입실시간', '퇴실시간', '부대시설']\n",
    "\n",
    "# 칼럼만 있는 데이터프레임 생성\n",
    "df = pd.DataFrame(columns=column_names)\n",
    "df"
   ]
  },
  {
   "cell_type": "code",
   "execution_count": 16,
   "id": "058beef4",
   "metadata": {
    "scrolled": true
   },
   "outputs": [],
   "source": [
    "# 엑셀 파일 경로 설정\n",
    "excel_file_path = '(확정)_인천광역시_인천투어_관광지 리스트 현황_전처리전에 쓸 파일!.xlsx'\n",
    "\n",
    "# 엑셀 파일의 각 시트를 읽어옴\n",
    "xls = pd.ExcelFile(excel_file_path)\n",
    "\n",
    "# 모든 시트 이름 가져오기\n",
    "sheet_names = xls.sheet_names\n",
    "\n",
    "# 각 시트별로 데이터를 읽어와서 딕셔너리에 저장\n",
    "data_by_sheet = {}\n",
    "for sheet_name in sheet_names:\n",
    "    dfsheet = pd.read_excel(excel_file_path, sheet_name=sheet_name)\n",
    "    data_by_sheet[sheet_name] = dfsheet\n",
    "\n",
    "\n",
    "# 각 시트별 내용을 df에 통합\n",
    "for sheet_name in data_by_sheet:\n",
    "#     축제 시트는 일단 뺌 (추후에 스크래핑한 데이터 넣기 위해)\n",
    "    if(sheet_name == '축제'):\n",
    "        break\n",
    "#       df 칼럼이랑 각 시트의 칼럼이랑 중복되는 칼럼만 common_columns 리스트로 옮기고\n",
    "    common_columns = data_by_sheet[sheet_name].columns.intersection(df.columns)\n",
    "#     common_columns에 있는 칼럼만 df로 옮김\n",
    "    df = pd.concat([df, data_by_sheet[sheet_name][common_columns]], ignore_index=True)\n",
    "    \n",
    "#  NaN 값을 None(null)로 바꿈 (오라클에 넣기 위해)\n",
    "df = df.replace({pd.NA: None})\n",
    "    \n",
    "#     엑셀로 만듬\n",
    "df.to_excel('(확정)_인천광역시_인천투어_관광지 리스트 현황_04(0811).xlsx')\n",
    "\n",
    "# 이렇게 만들어진 파일은 통합된 df시트 하나만 있고 뒤에 전처리 전 시트들은 나중에 수동으로 엑셀에서 추가해준거임!\n"
   ]
  },
  {
   "cell_type": "code",
   "execution_count": 13,
   "id": "f7d439db",
   "metadata": {},
   "outputs": [
    {
     "name": "stdout",
     "output_type": "stream",
     "text": [
      "<class 'pandas.core.frame.DataFrame'>\n",
      "RangeIndex: 884 entries, 0 to 883\n",
      "Data columns (total 23 columns):\n",
      " #   Column      Non-Null Count  Dtype  \n",
      "---  ------      --------------  -----  \n",
      " 0   Unnamed: 0  884 non-null    int64  \n",
      " 1   카테고리        884 non-null    object \n",
      " 2   소분류         884 non-null    object \n",
      " 3   제목          884 non-null    object \n",
      " 4   주소          884 non-null    object \n",
      " 5   전화번호        790 non-null    object \n",
      " 6   위도          883 non-null    float64\n",
      " 7   경도          883 non-null    float64\n",
      " 8   애완동물동반가능정보  588 non-null    object \n",
      " 9   주차시설        742 non-null    object \n",
      " 10  쉬는날         706 non-null    object \n",
      " 11  영업시간        681 non-null    object \n",
      " 12  이용요금        550 non-null    object \n",
      " 13  화장실설명       618 non-null    object \n",
      " 14  외국어안내서비스    392 non-null    object \n",
      " 15  사고보험가입여부    32 non-null     object \n",
      " 16  판매품목        45 non-null     object \n",
      " 17  편의시설        43 non-null     object \n",
      " 18  대표메뉴        214 non-null    object \n",
      " 19  포장가능여부      212 non-null    object \n",
      " 20  입실시간        144 non-null    object \n",
      " 21  퇴실시간        143 non-null    object \n",
      " 22  부대시설        100 non-null    object \n",
      "dtypes: float64(2), int64(1), object(20)\n",
      "memory usage: 159.0+ KB\n"
     ]
    }
   ],
   "source": [
    "df = pd.read_excel('(확정)_인천광역시_인천투어_관광지 리스트 현황_04(0811).xlsx', engine='openpyxl')\n",
    "df.info()"
   ]
  },
  {
   "cell_type": "code",
   "execution_count": null,
   "id": "3ff583db",
   "metadata": {},
   "outputs": [],
   "source": []
  },
  {
   "cell_type": "code",
   "execution_count": null,
   "id": "069d11ba",
   "metadata": {},
   "outputs": [],
   "source": []
  }
 ],
 "metadata": {
  "kernelspec": {
   "display_name": "Python 3 (ipykernel)",
   "language": "python",
   "name": "python3"
  },
  "language_info": {
   "codemirror_mode": {
    "name": "ipython",
    "version": 3
   },
   "file_extension": ".py",
   "mimetype": "text/x-python",
   "name": "python",
   "nbconvert_exporter": "python",
   "pygments_lexer": "ipython3",
   "version": "3.10.11"
  }
 },
 "nbformat": 4,
 "nbformat_minor": 5
}
