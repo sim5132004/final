{
 "cells": [
  {
   "cell_type": "code",
   "execution_count": 1,
   "id": "b1d8e4e6",
   "metadata": {
    "ExecuteTime": {
     "end_time": "2023-08-18T09:44:32.464438Z",
     "start_time": "2023-08-18T09:44:31.839404Z"
    }
   },
   "outputs": [],
   "source": [
    "import pandas as pd"
   ]
  },
  {
   "cell_type": "code",
   "execution_count": 8,
   "id": "fd9e29d0",
   "metadata": {
    "ExecuteTime": {
     "end_time": "2023-08-18T09:47:54.155761Z",
     "start_time": "2023-08-18T09:47:54.119558Z"
    }
   },
   "outputs": [],
   "source": [
    "data_list=[]\n",
    "count=0\n",
    "for c in range(7):\n",
    "    data_list.append(pd.read_csv(f'{count}.csv'))\n",
    "    data_list[count].drop('Unnamed: 0',axis=1,inplace=True)\n",
    "    count+=1"
   ]
  },
  {
   "cell_type": "code",
   "execution_count": 9,
   "id": "077a299a",
   "metadata": {
    "ExecuteTime": {
     "end_time": "2023-08-18T09:47:56.349444Z",
     "start_time": "2023-08-18T09:47:56.327504Z"
    }
   },
   "outputs": [
    {
     "data": {
      "text/html": [
       "<div>\n",
       "<style scoped>\n",
       "    .dataframe tbody tr th:only-of-type {\n",
       "        vertical-align: middle;\n",
       "    }\n",
       "\n",
       "    .dataframe tbody tr th {\n",
       "        vertical-align: top;\n",
       "    }\n",
       "\n",
       "    .dataframe thead th {\n",
       "        text-align: right;\n",
       "    }\n",
       "</style>\n",
       "<table border=\"1\" class=\"dataframe\">\n",
       "  <thead>\n",
       "    <tr style=\"text-align: right;\">\n",
       "      <th></th>\n",
       "      <th>ds</th>\n",
       "      <th>y</th>\n",
       "      <th>location</th>\n",
       "    </tr>\n",
       "  </thead>\n",
       "  <tbody>\n",
       "    <tr>\n",
       "      <th>0</th>\n",
       "      <td>2022-07-01</td>\n",
       "      <td>13707</td>\n",
       "      <td>부평시장</td>\n",
       "    </tr>\n",
       "    <tr>\n",
       "      <th>1</th>\n",
       "      <td>2022-07-02</td>\n",
       "      <td>9286</td>\n",
       "      <td>부평시장</td>\n",
       "    </tr>\n",
       "    <tr>\n",
       "      <th>2</th>\n",
       "      <td>2022-07-03</td>\n",
       "      <td>6850</td>\n",
       "      <td>부평시장</td>\n",
       "    </tr>\n",
       "    <tr>\n",
       "      <th>3</th>\n",
       "      <td>2022-07-04</td>\n",
       "      <td>13226</td>\n",
       "      <td>부평시장</td>\n",
       "    </tr>\n",
       "    <tr>\n",
       "      <th>4</th>\n",
       "      <td>2022-07-05</td>\n",
       "      <td>13257</td>\n",
       "      <td>부평시장</td>\n",
       "    </tr>\n",
       "    <tr>\n",
       "      <th>...</th>\n",
       "      <td>...</td>\n",
       "      <td>...</td>\n",
       "      <td>...</td>\n",
       "    </tr>\n",
       "    <tr>\n",
       "      <th>360</th>\n",
       "      <td>2023-06-26</td>\n",
       "      <td>12632</td>\n",
       "      <td>부평시장</td>\n",
       "    </tr>\n",
       "    <tr>\n",
       "      <th>361</th>\n",
       "      <td>2023-06-27</td>\n",
       "      <td>13885</td>\n",
       "      <td>부평시장</td>\n",
       "    </tr>\n",
       "    <tr>\n",
       "      <th>362</th>\n",
       "      <td>2023-06-28</td>\n",
       "      <td>13885</td>\n",
       "      <td>부평시장</td>\n",
       "    </tr>\n",
       "    <tr>\n",
       "      <th>363</th>\n",
       "      <td>2023-06-29</td>\n",
       "      <td>11831</td>\n",
       "      <td>부평시장</td>\n",
       "    </tr>\n",
       "    <tr>\n",
       "      <th>364</th>\n",
       "      <td>2023-06-30</td>\n",
       "      <td>13956</td>\n",
       "      <td>부평시장</td>\n",
       "    </tr>\n",
       "  </tbody>\n",
       "</table>\n",
       "<p>365 rows × 3 columns</p>\n",
       "</div>"
      ],
      "text/plain": [
       "             ds      y location\n",
       "0    2022-07-01  13707     부평시장\n",
       "1    2022-07-02   9286     부평시장\n",
       "2    2022-07-03   6850     부평시장\n",
       "3    2022-07-04  13226     부평시장\n",
       "4    2022-07-05  13257     부평시장\n",
       "..          ...    ...      ...\n",
       "360  2023-06-26  12632     부평시장\n",
       "361  2023-06-27  13885     부평시장\n",
       "362  2023-06-28  13885     부평시장\n",
       "363  2023-06-29  11831     부평시장\n",
       "364  2023-06-30  13956     부평시장\n",
       "\n",
       "[365 rows x 3 columns]"
      ]
     },
     "execution_count": 9,
     "metadata": {},
     "output_type": "execute_result"
    }
   ],
   "source": [
    "data_list[0]"
   ]
  },
  {
   "cell_type": "code",
   "execution_count": 16,
   "id": "5bd761f5",
   "metadata": {
    "ExecuteTime": {
     "end_time": "2023-08-18T10:06:15.867384Z",
     "start_time": "2023-08-18T10:05:38.899536Z"
    }
   },
   "outputs": [
    {
     "data": {
      "application/vnd.jupyter.widget-view+json": {
       "model_id": "0444e298a6a04ad6afbf55fdb4eddd63",
       "version_major": 2,
       "version_minor": 0
      },
      "text/plain": [
       "Finding best initial lr:   0%|          | 0/216 [00:00<?, ?it/s]"
      ]
     },
     "metadata": {},
     "output_type": "display_data"
    },
    {
     "data": {
      "application/vnd.jupyter.widget-view+json": {
       "model_id": "02973e68f778454f9c25dafc85bbbfc6",
       "version_major": 2,
       "version_minor": 0
      },
      "text/plain": [
       "Training: 0it [00:00, ?it/s]"
      ]
     },
     "metadata": {},
     "output_type": "display_data"
    }
   ],
   "source": [
    "# NeuralProphet 클래스 불러오기\n",
    "from neuralprophet import NeuralProphet, set_log_level\n",
    "\n",
    "\n",
    "# 오류가 아닌 경우 로깅 메시지 비활성화\n",
    "set_log_level(\"ERROR\")\n",
    "\n",
    "\n",
    "\n",
    "# 기본 매개변수로 NeuralProphet 모델 생성\n",
    "m = NeuralProphet(\n",
    "    # 변화점 변경 비활성화\n",
    "    n_changepoints=3,\n",
    "    # 계절성 구성요소 비활성화\n",
    "    yearly_seasonality=False,\n",
    "    weekly_seasonality=False,\n",
    "    daily_seasonality=False,\n",
    ")\n",
    "\n",
    "# 데이터셋에 모델 피팅하기 (이 과정은 시간이 걸릴 수 있습니다)\n",
    "metrics = m.fit(data_list[0].iloc[:,:2])"
   ]
  },
  {
   "cell_type": "code",
   "execution_count": 12,
   "id": "447b46ff",
   "metadata": {
    "ExecuteTime": {
     "end_time": "2023-08-18T09:48:27.205979Z",
     "start_time": "2023-08-18T09:48:27.190995Z"
    }
   },
   "outputs": [
    {
     "data": {
      "text/html": [
       "<div>\n",
       "<style scoped>\n",
       "    .dataframe tbody tr th:only-of-type {\n",
       "        vertical-align: middle;\n",
       "    }\n",
       "\n",
       "    .dataframe tbody tr th {\n",
       "        vertical-align: top;\n",
       "    }\n",
       "\n",
       "    .dataframe thead th {\n",
       "        text-align: right;\n",
       "    }\n",
       "</style>\n",
       "<table border=\"1\" class=\"dataframe\">\n",
       "  <thead>\n",
       "    <tr style=\"text-align: right;\">\n",
       "      <th></th>\n",
       "      <th>ds</th>\n",
       "      <th>y</th>\n",
       "    </tr>\n",
       "  </thead>\n",
       "  <tbody>\n",
       "    <tr>\n",
       "      <th>0</th>\n",
       "      <td>2022-07-01</td>\n",
       "      <td>13707</td>\n",
       "    </tr>\n",
       "    <tr>\n",
       "      <th>1</th>\n",
       "      <td>2022-07-02</td>\n",
       "      <td>9286</td>\n",
       "    </tr>\n",
       "    <tr>\n",
       "      <th>2</th>\n",
       "      <td>2022-07-03</td>\n",
       "      <td>6850</td>\n",
       "    </tr>\n",
       "    <tr>\n",
       "      <th>3</th>\n",
       "      <td>2022-07-04</td>\n",
       "      <td>13226</td>\n",
       "    </tr>\n",
       "    <tr>\n",
       "      <th>4</th>\n",
       "      <td>2022-07-05</td>\n",
       "      <td>13257</td>\n",
       "    </tr>\n",
       "    <tr>\n",
       "      <th>...</th>\n",
       "      <td>...</td>\n",
       "      <td>...</td>\n",
       "    </tr>\n",
       "    <tr>\n",
       "      <th>360</th>\n",
       "      <td>2023-06-26</td>\n",
       "      <td>12632</td>\n",
       "    </tr>\n",
       "    <tr>\n",
       "      <th>361</th>\n",
       "      <td>2023-06-27</td>\n",
       "      <td>13885</td>\n",
       "    </tr>\n",
       "    <tr>\n",
       "      <th>362</th>\n",
       "      <td>2023-06-28</td>\n",
       "      <td>13885</td>\n",
       "    </tr>\n",
       "    <tr>\n",
       "      <th>363</th>\n",
       "      <td>2023-06-29</td>\n",
       "      <td>11831</td>\n",
       "    </tr>\n",
       "    <tr>\n",
       "      <th>364</th>\n",
       "      <td>2023-06-30</td>\n",
       "      <td>13956</td>\n",
       "    </tr>\n",
       "  </tbody>\n",
       "</table>\n",
       "<p>365 rows × 2 columns</p>\n",
       "</div>"
      ],
      "text/plain": [
       "             ds      y\n",
       "0    2022-07-01  13707\n",
       "1    2022-07-02   9286\n",
       "2    2022-07-03   6850\n",
       "3    2022-07-04  13226\n",
       "4    2022-07-05  13257\n",
       "..          ...    ...\n",
       "360  2023-06-26  12632\n",
       "361  2023-06-27  13885\n",
       "362  2023-06-28  13885\n",
       "363  2023-06-29  11831\n",
       "364  2023-06-30  13956\n",
       "\n",
       "[365 rows x 2 columns]"
      ]
     },
     "execution_count": 12,
     "metadata": {},
     "output_type": "execute_result"
    }
   ],
   "source": [
    "data_list[0].iloc[:,:2]"
   ]
  },
  {
   "cell_type": "code",
   "execution_count": 17,
   "id": "ecb4418e",
   "metadata": {
    "ExecuteTime": {
     "end_time": "2023-08-18T10:06:18.997891Z",
     "start_time": "2023-08-18T10:06:18.491874Z"
    }
   },
   "outputs": [
    {
     "data": {
      "application/vnd.jupyter.widget-view+json": {
       "model_id": "320d0a6cf673433899b9637bd26a3fb1",
       "version_major": 2,
       "version_minor": 0
      },
      "text/plain": [
       "Predicting: 23it [00:00, ?it/s]"
      ]
     },
     "metadata": {},
     "output_type": "display_data"
    },
    {
     "data": {
      "application/vnd.jupyter.widget-view+json": {
       "model_id": "4a2063536746465baac5f000fc9d2d4f",
       "version_major": 2,
       "version_minor": 0
      },
      "text/plain": [
       "FigureWidgetResampler({\n",
       "    'data': [{'fill': 'none',\n",
       "              'line': {'color': 'rgba(45, 146, 255, 1.0)', 'width': 2},\n",
       "              'mode': 'lines',\n",
       "              'name': 'yhat1',\n",
       "              'type': 'scatter',\n",
       "              'uid': '84ad4dd0-691f-4161-9f0e-6cf1eb39a24b',\n",
       "              'x': array([datetime.datetime(2022, 7, 1, 0, 0),\n",
       "                          datetime.datetime(2022, 7, 2, 0, 0),\n",
       "                          datetime.datetime(2022, 7, 3, 0, 0), ...,\n",
       "                          datetime.datetime(2024, 6, 27, 0, 0),\n",
       "                          datetime.datetime(2024, 6, 28, 0, 0),\n",
       "                          datetime.datetime(2024, 6, 29, 0, 0)], dtype=object),\n",
       "              'y': array([10898.10644531, 10904.77050781, 10911.43554688, ..., 14434.00292969,\n",
       "                          14439.60839844, 14445.21484375])},\n",
       "             {'marker': {'color': 'black', 'size': 4},\n",
       "              'mode': 'markers',\n",
       "              'name': 'Actual',\n",
       "              'type': 'scatter',\n",
       "              'uid': '5e9cec57-1af3-4e72-97fa-bff20f6f3d95',\n",
       "              'x': array([datetime.datetime(2022, 7, 1, 0, 0),\n",
       "                          datetime.datetime(2022, 7, 2, 0, 0),\n",
       "                          datetime.datetime(2022, 7, 3, 0, 0), ...,\n",
       "                          datetime.datetime(2024, 6, 27, 0, 0),\n",
       "                          datetime.datetime(2024, 6, 28, 0, 0),\n",
       "                          datetime.datetime(2024, 6, 29, 0, 0)], dtype=object),\n",
       "              'y': array([13707.,  9286.,  6850., ...,    nan,    nan,    nan])}],\n",
       "    'layout': {'autosize': True,\n",
       "               'font': {'size': 10},\n",
       "               'height': 420,\n",
       "               'hovermode': 'x unified',\n",
       "               'margin': {'b': 0, 'l': 0, 'pad': 0, 'r': 10, 't': 10},\n",
       "               'showlegend': True,\n",
       "               'template': '...',\n",
       "               'title': {'font': {'size': 12}},\n",
       "               'width': 700,\n",
       "               'xaxis': {'linewidth': 1.5,\n",
       "                         'mirror': True,\n",
       "                         'rangeselector': {'buttons': [{'count': 7, 'label': '1w', 'step': 'day', 'stepmode': 'backward'},\n",
       "                                                       {'count': 1,\n",
       "                                                        'label': '1m',\n",
       "                                                        'step': 'month',\n",
       "                                                        'stepmode': 'backward'},\n",
       "                                                       {'count': 6,\n",
       "                                                        'label': '6m',\n",
       "                                                        'step': 'month',\n",
       "                                                        'stepmode': 'backward'},\n",
       "                                                       {'count': 1, 'label': '1y', 'step': 'year', 'stepmode': 'backward'},\n",
       "                                                       {'step': 'all'}]},\n",
       "                         'rangeslider': {'visible': True},\n",
       "                         'showline': True,\n",
       "                         'title': {'text': 'ds'},\n",
       "                         'type': 'date'},\n",
       "               'yaxis': {'linewidth': 1.5, 'mirror': True, 'showline': True, 'title': {'text': 'y'}}}\n",
       "})"
      ]
     },
     "execution_count": 17,
     "metadata": {},
     "output_type": "execute_result"
    }
   ],
   "source": [
    "# 예측용으로 미래로부터 365일까지의 새로운 데이터프레임 생성, \n",
    "# n_historic_predictions는 과거 데이터도 포함됨\n",
    "df_future = m.make_future_dataframe(data_list[0].iloc[:,:2], n_historic_predictions=True, periods=365)\n",
    "\n",
    "# 미래 예측\n",
    "forecast = m.predict(df_future)\n",
    "\n",
    "# 예측 시각화\n",
    "m.plot(forecast)"
   ]
  },
  {
   "cell_type": "code",
   "execution_count": null,
   "id": "f79fc92e",
   "metadata": {},
   "outputs": [],
   "source": []
  }
 ],
 "metadata": {
  "kernelspec": {
   "display_name": "Python 3 (ipykernel)",
   "language": "python",
   "name": "python3"
  },
  "language_info": {
   "codemirror_mode": {
    "name": "ipython",
    "version": 3
   },
   "file_extension": ".py",
   "mimetype": "text/x-python",
   "name": "python",
   "nbconvert_exporter": "python",
   "pygments_lexer": "ipython3",
   "version": "3.10.11"
  }
 },
 "nbformat": 4,
 "nbformat_minor": 5
}
