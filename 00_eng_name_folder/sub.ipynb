{
 "cells": [
  {
   "cell_type": "code",
   "execution_count": 1,
   "id": "6a623b86",
   "metadata": {
    "ExecuteTime": {
     "end_time": "2023-08-18T04:09:28.937001Z",
     "start_time": "2023-08-18T04:09:28.346567Z"
    }
   },
   "outputs": [],
   "source": [
    "import pandas as pd"
   ]
  },
  {
   "cell_type": "code",
   "execution_count": 2,
   "id": "f1646720",
   "metadata": {
    "ExecuteTime": {
     "end_time": "2023-08-18T04:09:29.586313Z",
     "start_time": "2023-08-18T04:09:29.522434Z"
    }
   },
   "outputs": [],
   "source": [
    "data = pd.read_csv('인천교통공사_역별일별 이용인원현황_20230630.csv', encoding='cp949')"
   ]
  },
  {
   "cell_type": "code",
   "execution_count": 3,
   "id": "60250bab",
   "metadata": {
    "ExecuteTime": {
     "end_time": "2023-08-18T04:09:31.286948Z",
     "start_time": "2023-08-18T04:09:31.266179Z"
    }
   },
   "outputs": [
    {
     "name": "stderr",
     "output_type": "stream",
     "text": [
      "C:\\Users\\tj-bu\\AppData\\Local\\Temp\\ipykernel_11612\\3427451468.py:2: SettingWithCopyWarning: \n",
      "A value is trying to be set on a copy of a slice from a DataFrame\n",
      "\n",
      "See the caveats in the documentation: https://pandas.pydata.org/pandas-docs/stable/user_guide/indexing.html#returning-a-view-versus-a-copy\n",
      "  data3=data2.drop(['호선','구분'], axis=1,inplace=True)\n"
     ]
    }
   ],
   "source": [
    "data2=data[data['구분']=='하차']\n",
    "data3=data2.drop(['호선','구분'], axis=1,inplace=True)"
   ]
  },
  {
   "cell_type": "code",
   "execution_count": 5,
   "id": "6f236244",
   "metadata": {
    "ExecuteTime": {
     "end_time": "2023-08-18T04:10:03.566052Z",
     "start_time": "2023-08-18T04:10:03.556107Z"
    }
   },
   "outputs": [
    {
     "name": "stderr",
     "output_type": "stream",
     "text": [
      "C:\\Users\\tj-bu\\AppData\\Local\\Temp\\ipykernel_11612\\844010428.py:2: SettingWithCopyWarning: \n",
      "A value is trying to be set on a copy of a slice from a DataFrame\n",
      "\n",
      "See the caveats in the documentation: https://pandas.pydata.org/pandas-docs/stable/user_guide/indexing.html#returning-a-view-versus-a-copy\n",
      "  df.drop('역명',axis=1,inplace=True)\n"
     ]
    }
   ],
   "source": [
    "df=data2[data2['역명']=='계양']\n",
    "df.drop('역명',axis=1,inplace=True)"
   ]
  },
  {
   "cell_type": "code",
   "execution_count": null,
   "id": "03460d78",
   "metadata": {
    "ExecuteTime": {
     "end_time": "2023-08-18T04:05:09.826366Z",
     "start_time": "2023-08-18T04:05:09.810409Z"
    }
   },
   "outputs": [],
   "source": [
    "plt = data_rPdid.plot(x=\"통행일자\", y=\"이용인원\", figsize=(15, 5))"
   ]
  },
  {
   "cell_type": "code",
   "execution_count": 6,
   "id": "06c8f185",
   "metadata": {
    "ExecuteTime": {
     "end_time": "2023-08-18T04:10:29.178237Z",
     "start_time": "2023-08-18T04:10:29.162961Z"
    }
   },
   "outputs": [
    {
     "name": "stderr",
     "output_type": "stream",
     "text": [
      "C:\\Users\\tj-bu\\AppData\\Local\\Temp\\ipykernel_11612\\985552592.py:2: SettingWithCopyWarning: \n",
      "A value is trying to be set on a copy of a slice from a DataFrame.\n",
      "Try using .loc[row_indexer,col_indexer] = value instead\n",
      "\n",
      "See the caveats in the documentation: https://pandas.pydata.org/pandas-docs/stable/user_guide/indexing.html#returning-a-view-versus-a-copy\n",
      "  df['ds']=pd.to_datetime(df['통행일자'])\n",
      "C:\\Users\\tj-bu\\AppData\\Local\\Temp\\ipykernel_11612\\985552592.py:3: SettingWithCopyWarning: \n",
      "A value is trying to be set on a copy of a slice from a DataFrame.\n",
      "Try using .loc[row_indexer,col_indexer] = value instead\n",
      "\n",
      "See the caveats in the documentation: https://pandas.pydata.org/pandas-docs/stable/user_guide/indexing.html#returning-a-view-versus-a-copy\n",
      "  df['y']=df['이용인원']\n",
      "C:\\Users\\tj-bu\\AppData\\Local\\Temp\\ipykernel_11612\\985552592.py:4: SettingWithCopyWarning: \n",
      "A value is trying to be set on a copy of a slice from a DataFrame\n",
      "\n",
      "See the caveats in the documentation: https://pandas.pydata.org/pandas-docs/stable/user_guide/indexing.html#returning-a-view-versus-a-copy\n",
      "  df.drop(['통행일자','이용인원'],axis=1,inplace=True)\n"
     ]
    }
   ],
   "source": [
    "#ds\n",
    "df['ds']=pd.to_datetime(df['통행일자'])\n",
    "df['y']=df['이용인원']\n",
    "df.drop(['통행일자','이용인원'],axis=1,inplace=True)"
   ]
  },
  {
   "cell_type": "code",
   "execution_count": 7,
   "id": "606b8d27",
   "metadata": {
    "ExecuteTime": {
     "end_time": "2023-08-18T04:10:37.430333Z",
     "start_time": "2023-08-18T04:10:37.410603Z"
    }
   },
   "outputs": [
    {
     "data": {
      "text/html": [
       "<div>\n",
       "<style scoped>\n",
       "    .dataframe tbody tr th:only-of-type {\n",
       "        vertical-align: middle;\n",
       "    }\n",
       "\n",
       "    .dataframe tbody tr th {\n",
       "        vertical-align: top;\n",
       "    }\n",
       "\n",
       "    .dataframe thead th {\n",
       "        text-align: right;\n",
       "    }\n",
       "</style>\n",
       "<table border=\"1\" class=\"dataframe\">\n",
       "  <thead>\n",
       "    <tr style=\"text-align: right;\">\n",
       "      <th></th>\n",
       "      <th>ds</th>\n",
       "      <th>y</th>\n",
       "    </tr>\n",
       "  </thead>\n",
       "  <tbody>\n",
       "    <tr>\n",
       "      <th>1</th>\n",
       "      <td>2022-07-01</td>\n",
       "      <td>3307</td>\n",
       "    </tr>\n",
       "    <tr>\n",
       "      <th>3</th>\n",
       "      <td>2022-07-02</td>\n",
       "      <td>2862</td>\n",
       "    </tr>\n",
       "    <tr>\n",
       "      <th>5</th>\n",
       "      <td>2022-07-03</td>\n",
       "      <td>2325</td>\n",
       "    </tr>\n",
       "    <tr>\n",
       "      <th>7</th>\n",
       "      <td>2022-07-04</td>\n",
       "      <td>3309</td>\n",
       "    </tr>\n",
       "    <tr>\n",
       "      <th>9</th>\n",
       "      <td>2022-07-05</td>\n",
       "      <td>3368</td>\n",
       "    </tr>\n",
       "    <tr>\n",
       "      <th>...</th>\n",
       "      <td>...</td>\n",
       "      <td>...</td>\n",
       "    </tr>\n",
       "    <tr>\n",
       "      <th>721</th>\n",
       "      <td>2023-06-26</td>\n",
       "      <td>3534</td>\n",
       "    </tr>\n",
       "    <tr>\n",
       "      <th>723</th>\n",
       "      <td>2023-06-27</td>\n",
       "      <td>3928</td>\n",
       "    </tr>\n",
       "    <tr>\n",
       "      <th>725</th>\n",
       "      <td>2023-06-28</td>\n",
       "      <td>3970</td>\n",
       "    </tr>\n",
       "    <tr>\n",
       "      <th>727</th>\n",
       "      <td>2023-06-29</td>\n",
       "      <td>3532</td>\n",
       "    </tr>\n",
       "    <tr>\n",
       "      <th>729</th>\n",
       "      <td>2023-06-30</td>\n",
       "      <td>4048</td>\n",
       "    </tr>\n",
       "  </tbody>\n",
       "</table>\n",
       "<p>365 rows × 2 columns</p>\n",
       "</div>"
      ],
      "text/plain": [
       "            ds     y\n",
       "1   2022-07-01  3307\n",
       "3   2022-07-02  2862\n",
       "5   2022-07-03  2325\n",
       "7   2022-07-04  3309\n",
       "9   2022-07-05  3368\n",
       "..         ...   ...\n",
       "721 2023-06-26  3534\n",
       "723 2023-06-27  3928\n",
       "725 2023-06-28  3970\n",
       "727 2023-06-29  3532\n",
       "729 2023-06-30  4048\n",
       "\n",
       "[365 rows x 2 columns]"
      ]
     },
     "execution_count": 7,
     "metadata": {},
     "output_type": "execute_result"
    }
   ],
   "source": [
    "df"
   ]
  },
  {
   "cell_type": "code",
   "execution_count": 8,
   "id": "8f13c7bc",
   "metadata": {
    "ExecuteTime": {
     "end_time": "2023-08-18T04:11:39.610836Z",
     "start_time": "2023-08-18T04:10:53.538394Z"
    }
   },
   "outputs": [
    {
     "name": "stderr",
     "output_type": "stream",
     "text": [
      "Missing logger folder: D:\\sbshim\\Study_Project\\project\\Play_City_Noliter\\00_eng_name_folder\\lightning_logs\n"
     ]
    },
    {
     "data": {
      "application/vnd.jupyter.widget-view+json": {
       "model_id": "ed3c13b239c746e18adfcdc7016b9cdb",
       "version_major": 2,
       "version_minor": 0
      },
      "text/plain": [
       "Finding best initial lr:   0%|          | 0/216 [00:00<?, ?it/s]"
      ]
     },
     "metadata": {},
     "output_type": "display_data"
    },
    {
     "data": {
      "application/vnd.jupyter.widget-view+json": {
       "model_id": "ecb7b339cc7b477986f5693336023dcc",
       "version_major": 2,
       "version_minor": 0
      },
      "text/plain": [
       "Training: 0it [00:00, ?it/s]"
      ]
     },
     "metadata": {},
     "output_type": "display_data"
    }
   ],
   "source": [
    "# NeuralProphet 클래스 불러오기\n",
    "from neuralprophet import NeuralProphet, set_log_level\n",
    "\n",
    "\n",
    "# 오류가 아닌 경우 로깅 메시지 비활성화\n",
    "set_log_level(\"ERROR\")\n",
    "\n",
    "\n",
    "\n",
    "# 기본 매개변수로 NeuralProphet 모델 생성\n",
    "m = NeuralProphet()\n",
    "\n",
    "# 데이터셋에 모델 피팅하기 (이 과정은 시간이 걸릴 수 있습니다)\n",
    "metrics = m.fit(df[:400])"
   ]
  },
  {
   "cell_type": "code",
   "execution_count": 9,
   "id": "a1c6b0dc",
   "metadata": {
    "ExecuteTime": {
     "end_time": "2023-08-18T04:12:54.052523Z",
     "start_time": "2023-08-18T04:12:52.418485Z"
    }
   },
   "outputs": [
    {
     "data": {
      "application/vnd.jupyter.widget-view+json": {
       "model_id": "6d52260ec64946b5b24117699eb3b765",
       "version_major": 2,
       "version_minor": 0
      },
      "text/plain": [
       "Predicting: 23it [00:00, ?it/s]"
      ]
     },
     "metadata": {},
     "output_type": "display_data"
    },
    {
     "data": {
      "application/vnd.jupyter.widget-view+json": {
       "model_id": "3aaf52cb1ec746ccb0e9862a4229ddca",
       "version_major": 2,
       "version_minor": 0
      },
      "text/plain": [
       "FigureWidgetResampler({\n",
       "    'data': [{'fill': 'none',\n",
       "              'line': {'color': 'rgba(45, 146, 255, 1.0)', 'width': 2},\n",
       "              'mode': 'lines',\n",
       "              'name': 'yhat1',\n",
       "              'type': 'scatter',\n",
       "              'uid': 'e0caf5f3-5b2f-403f-a497-e2b62f947b5c',\n",
       "              'x': array([datetime.datetime(2022, 7, 1, 0, 0),\n",
       "                          datetime.datetime(2022, 7, 2, 0, 0),\n",
       "                          datetime.datetime(2022, 7, 3, 0, 0), ...,\n",
       "                          datetime.datetime(2024, 6, 27, 0, 0),\n",
       "                          datetime.datetime(2024, 6, 28, 0, 0),\n",
       "                          datetime.datetime(2024, 6, 29, 0, 0)], dtype=object),\n",
       "              'y': array([3445.18823242, 2735.83178711, 1993.86938477, ..., 3320.79785156,\n",
       "                          3329.56445312, 2626.14160156])},\n",
       "             {'marker': {'color': 'black', 'size': 4},\n",
       "              'mode': 'markers',\n",
       "              'name': 'Actual',\n",
       "              'type': 'scatter',\n",
       "              'uid': 'ba90def5-a20e-49a3-840e-f0e7982d6df0',\n",
       "              'x': array([datetime.datetime(2022, 7, 1, 0, 0),\n",
       "                          datetime.datetime(2022, 7, 2, 0, 0),\n",
       "                          datetime.datetime(2022, 7, 3, 0, 0), ...,\n",
       "                          datetime.datetime(2024, 6, 27, 0, 0),\n",
       "                          datetime.datetime(2024, 6, 28, 0, 0),\n",
       "                          datetime.datetime(2024, 6, 29, 0, 0)], dtype=object),\n",
       "              'y': array([3307., 2862., 2325., ...,   nan,   nan,   nan])}],\n",
       "    'layout': {'autosize': True,\n",
       "               'font': {'size': 10},\n",
       "               'height': 420,\n",
       "               'hovermode': 'x unified',\n",
       "               'margin': {'b': 0, 'l': 0, 'pad': 0, 'r': 10, 't': 10},\n",
       "               'showlegend': True,\n",
       "               'template': '...',\n",
       "               'title': {'font': {'size': 12}},\n",
       "               'width': 700,\n",
       "               'xaxis': {'linewidth': 1.5,\n",
       "                         'mirror': True,\n",
       "                         'rangeselector': {'buttons': [{'count': 7, 'label': '1w', 'step': 'day', 'stepmode': 'backward'},\n",
       "                                                       {'count': 1,\n",
       "                                                        'label': '1m',\n",
       "                                                        'step': 'month',\n",
       "                                                        'stepmode': 'backward'},\n",
       "                                                       {'count': 6,\n",
       "                                                        'label': '6m',\n",
       "                                                        'step': 'month',\n",
       "                                                        'stepmode': 'backward'},\n",
       "                                                       {'count': 1, 'label': '1y', 'step': 'year', 'stepmode': 'backward'},\n",
       "                                                       {'step': 'all'}]},\n",
       "                         'rangeslider': {'visible': True},\n",
       "                         'showline': True,\n",
       "                         'title': {'text': 'ds'},\n",
       "                         'type': 'date'},\n",
       "               'yaxis': {'linewidth': 1.5, 'mirror': True, 'showline': True, 'title': {'text': 'y'}}}\n",
       "})"
      ]
     },
     "execution_count": 9,
     "metadata": {},
     "output_type": "execute_result"
    }
   ],
   "source": [
    "# 예측용으로 미래로부터 365일까지의 새로운 데이터프레임 생성, \n",
    "# n_historic_predictions는 과거 데이터도 포함됨\n",
    "df_future = m.make_future_dataframe(df, n_historic_predictions=True, periods=365)\n",
    "\n",
    "# 미래 예측\n",
    "forecast = m.predict(df_future)\n",
    "\n",
    "# 예측 시각화\n",
    "m.plot(forecast)"
   ]
  },
  {
   "cell_type": "code",
   "execution_count": null,
   "id": "0ea08f6e",
   "metadata": {},
   "outputs": [],
   "source": []
  }
 ],
 "metadata": {
  "kernelspec": {
   "display_name": "Python 3 (ipykernel)",
   "language": "python",
   "name": "python3"
  },
  "language_info": {
   "codemirror_mode": {
    "name": "ipython",
    "version": 3
   },
   "file_extension": ".py",
   "mimetype": "text/x-python",
   "name": "python",
   "nbconvert_exporter": "python",
   "pygments_lexer": "ipython3",
   "version": "3.10.11"
  }
 },
 "nbformat": 4,
 "nbformat_minor": 5
}
