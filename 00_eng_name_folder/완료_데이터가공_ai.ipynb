{
 "cells": [
  {
   "cell_type": "code",
   "execution_count": 1,
   "id": "b7bb83db",
   "metadata": {
    "ExecuteTime": {
     "end_time": "2023-08-18T09:08:41.833642Z",
     "start_time": "2023-08-18T09:08:41.212254Z"
    }
   },
   "outputs": [],
   "source": [
    "import pandas as pd"
   ]
  },
  {
   "cell_type": "code",
   "execution_count": 2,
   "id": "9382a574",
   "metadata": {
    "ExecuteTime": {
     "end_time": "2023-08-18T09:08:52.102138Z",
     "start_time": "2023-08-18T09:08:52.039307Z"
    }
   },
   "outputs": [],
   "source": [
    "data = pd.read_csv('인천교통공사_역별일별 이용인원현황_20230630.csv', encoding='cp949')"
   ]
  },
  {
   "cell_type": "code",
   "execution_count": 3,
   "id": "43b3275e",
   "metadata": {
    "ExecuteTime": {
     "end_time": "2023-08-18T09:09:15.087309Z",
     "start_time": "2023-08-18T09:09:15.063397Z"
    }
   },
   "outputs": [
    {
     "name": "stderr",
     "output_type": "stream",
     "text": [
      "C:\\Users\\tj-bu\\AppData\\Local\\Temp\\ipykernel_2912\\3427451468.py:2: SettingWithCopyWarning: \n",
      "A value is trying to be set on a copy of a slice from a DataFrame\n",
      "\n",
      "See the caveats in the documentation: https://pandas.pydata.org/pandas-docs/stable/user_guide/indexing.html#returning-a-view-versus-a-copy\n",
      "  data3=data2.drop(['호선','구분'], axis=1,inplace=True)\n"
     ]
    }
   ],
   "source": [
    "data2=data[data['구분']=='하차']\n",
    "data2.drop(['호선','구분'], axis=1,inplace=True)"
   ]
  },
  {
   "cell_type": "code",
   "execution_count": 11,
   "id": "f80d02cd",
   "metadata": {
    "ExecuteTime": {
     "end_time": "2023-08-18T09:13:10.201271Z",
     "start_time": "2023-08-18T09:13:10.168173Z"
    }
   },
   "outputs": [],
   "source": [
    "df=pd.DataFrame()\n",
    "df['ds']=pd.to_datetime(data2['통행일자'])\n",
    "df['y']=data2['이용인원']\n",
    "df['location']=data2['역명']\n",
    "# df.drop(['통행일자','이용인원'],axis=1,inplace=True)"
   ]
  },
  {
   "cell_type": "code",
   "execution_count": 12,
   "id": "b4475858",
   "metadata": {
    "ExecuteTime": {
     "end_time": "2023-08-18T09:13:10.903855Z",
     "start_time": "2023-08-18T09:13:10.878765Z"
    }
   },
   "outputs": [
    {
     "data": {
      "text/html": [
       "<div>\n",
       "<style scoped>\n",
       "    .dataframe tbody tr th:only-of-type {\n",
       "        vertical-align: middle;\n",
       "    }\n",
       "\n",
       "    .dataframe tbody tr th {\n",
       "        vertical-align: top;\n",
       "    }\n",
       "\n",
       "    .dataframe thead th {\n",
       "        text-align: right;\n",
       "    }\n",
       "</style>\n",
       "<table border=\"1\" class=\"dataframe\">\n",
       "  <thead>\n",
       "    <tr style=\"text-align: right;\">\n",
       "      <th></th>\n",
       "      <th>ds</th>\n",
       "      <th>y</th>\n",
       "      <th>location</th>\n",
       "    </tr>\n",
       "  </thead>\n",
       "  <tbody>\n",
       "    <tr>\n",
       "      <th>1</th>\n",
       "      <td>2022-07-01</td>\n",
       "      <td>3307</td>\n",
       "      <td>계양</td>\n",
       "    </tr>\n",
       "    <tr>\n",
       "      <th>3</th>\n",
       "      <td>2022-07-02</td>\n",
       "      <td>2862</td>\n",
       "      <td>계양</td>\n",
       "    </tr>\n",
       "    <tr>\n",
       "      <th>5</th>\n",
       "      <td>2022-07-03</td>\n",
       "      <td>2325</td>\n",
       "      <td>계양</td>\n",
       "    </tr>\n",
       "    <tr>\n",
       "      <th>7</th>\n",
       "      <td>2022-07-04</td>\n",
       "      <td>3309</td>\n",
       "      <td>계양</td>\n",
       "    </tr>\n",
       "    <tr>\n",
       "      <th>9</th>\n",
       "      <td>2022-07-05</td>\n",
       "      <td>3368</td>\n",
       "      <td>계양</td>\n",
       "    </tr>\n",
       "    <tr>\n",
       "      <th>...</th>\n",
       "      <td>...</td>\n",
       "      <td>...</td>\n",
       "      <td>...</td>\n",
       "    </tr>\n",
       "    <tr>\n",
       "      <th>49631</th>\n",
       "      <td>2023-06-26</td>\n",
       "      <td>6230</td>\n",
       "      <td>석남</td>\n",
       "    </tr>\n",
       "    <tr>\n",
       "      <th>49633</th>\n",
       "      <td>2023-06-27</td>\n",
       "      <td>6717</td>\n",
       "      <td>석남</td>\n",
       "    </tr>\n",
       "    <tr>\n",
       "      <th>49635</th>\n",
       "      <td>2023-06-28</td>\n",
       "      <td>6791</td>\n",
       "      <td>석남</td>\n",
       "    </tr>\n",
       "    <tr>\n",
       "      <th>49637</th>\n",
       "      <td>2023-06-29</td>\n",
       "      <td>6193</td>\n",
       "      <td>석남</td>\n",
       "    </tr>\n",
       "    <tr>\n",
       "      <th>49639</th>\n",
       "      <td>2023-06-30</td>\n",
       "      <td>7216</td>\n",
       "      <td>석남</td>\n",
       "    </tr>\n",
       "  </tbody>\n",
       "</table>\n",
       "<p>24820 rows × 3 columns</p>\n",
       "</div>"
      ],
      "text/plain": [
       "              ds     y location\n",
       "1     2022-07-01  3307       계양\n",
       "3     2022-07-02  2862       계양\n",
       "5     2022-07-03  2325       계양\n",
       "7     2022-07-04  3309       계양\n",
       "9     2022-07-05  3368       계양\n",
       "...          ...   ...      ...\n",
       "49631 2023-06-26  6230       석남\n",
       "49633 2023-06-27  6717       석남\n",
       "49635 2023-06-28  6791       석남\n",
       "49637 2023-06-29  6193       석남\n",
       "49639 2023-06-30  7216       석남\n",
       "\n",
       "[24820 rows x 3 columns]"
      ]
     },
     "execution_count": 12,
     "metadata": {},
     "output_type": "execute_result"
    }
   ],
   "source": [
    "df"
   ]
  },
  {
   "cell_type": "code",
   "execution_count": 13,
   "id": "f5fdbf1f",
   "metadata": {
    "ExecuteTime": {
     "end_time": "2023-08-18T09:14:45.278785Z",
     "start_time": "2023-08-18T09:14:45.263801Z"
    }
   },
   "outputs": [],
   "source": [
    "tt_list=['중구' ,\n",
    "'동구',\n",
    "'미추홀구',\n",
    "'연수구',\n",
    "'남동구',\n",
    "'부평구',\n",
    "'계양구',\n",
    "'서구',\n",
    "'강화군',\n",
    "'옹진군']"
   ]
  },
  {
   "cell_type": "code",
   "execution_count": 20,
   "id": "89db715c",
   "metadata": {
    "ExecuteTime": {
     "end_time": "2023-08-18T09:44:44.026375Z",
     "start_time": "2023-08-18T09:44:44.015401Z"
    }
   },
   "outputs": [
    {
     "data": {
      "text/plain": [
       "7"
      ]
     },
     "execution_count": 20,
     "metadata": {},
     "output_type": "execute_result"
    }
   ],
   "source": [
    "ty_list=['부평시장',\n",
    "'가정',\n",
    "'계산',\n",
    "'테크노파크',\n",
    "'인천터미널',\n",
    "'주안국가산단',\n",
    "'작전']\n",
    "len(ty_list)"
   ]
  },
  {
   "cell_type": "code",
   "execution_count": 5,
   "id": "7ff39277",
   "metadata": {
    "ExecuteTime": {
     "end_time": "2023-08-18T09:10:02.024463Z",
     "start_time": "2023-08-18T09:10:02.006482Z"
    }
   },
   "outputs": [],
   "source": [
    "subway_list=[]"
   ]
  },
  {
   "cell_type": "code",
   "execution_count": 14,
   "id": "45139627",
   "metadata": {
    "ExecuteTime": {
     "end_time": "2023-08-18T09:36:12.551687Z",
     "start_time": "2023-08-18T09:36:12.519773Z"
    }
   },
   "outputs": [],
   "source": [
    "for x in ty_list:\n",
    "    subway_list.append(df[df['location']==x])"
   ]
  },
  {
   "cell_type": "code",
   "execution_count": 18,
   "id": "37d6b873",
   "metadata": {
    "ExecuteTime": {
     "end_time": "2023-08-18T09:43:38.868256Z",
     "start_time": "2023-08-18T09:43:38.839332Z"
    }
   },
   "outputs": [
    {
     "data": {
      "text/plain": [
       "[             ds      y location\n",
       " 6571 2022-07-01  13707     부평시장\n",
       " 6573 2022-07-02   9286     부평시장\n",
       " 6575 2022-07-03   6850     부평시장\n",
       " 6577 2022-07-04  13226     부평시장\n",
       " 6579 2022-07-05  13257     부평시장\n",
       " ...         ...    ...      ...\n",
       " 7291 2023-06-26  12632     부평시장\n",
       " 7293 2023-06-27  13885     부평시장\n",
       " 7295 2023-06-28  13885     부평시장\n",
       " 7297 2023-06-29  11831     부평시장\n",
       " 7299 2023-06-30  13956     부평시장\n",
       " \n",
       " [365 rows x 3 columns],\n",
       "               ds      y location\n",
       " 29201 2022-07-01  10113       가정\n",
       " 29203 2022-07-02   6066       가정\n",
       " 29205 2022-07-03   4273       가정\n",
       " 29207 2022-07-04   9675       가정\n",
       " 29209 2022-07-05   9874       가정\n",
       " ...          ...    ...      ...\n",
       " 29921 2023-06-26  10618       가정\n",
       " 29923 2023-06-27  11600       가정\n",
       " 29925 2023-06-28  11805       가정\n",
       " 29927 2023-06-29  10462       가정\n",
       " 29929 2023-06-30  11737       가정\n",
       " \n",
       " [365 rows x 3 columns],\n",
       "              ds      y location\n",
       " 2921 2022-07-01  10090       계산\n",
       " 2923 2022-07-02   8878       계산\n",
       " 2925 2022-07-03   6545       계산\n",
       " 2927 2022-07-04   9920       계산\n",
       " 2929 2022-07-05   9747       계산\n",
       " ...         ...    ...      ...\n",
       " 3641 2023-06-26   9149       계산\n",
       " 3643 2023-06-27   9921       계산\n",
       " 3645 2023-06-28  10053       계산\n",
       " 3647 2023-06-29   8873       계산\n",
       " 3649 2023-06-30  10273       계산\n",
       " \n",
       " [365 rows x 3 columns],\n",
       "               ds      y location\n",
       " 17521 2022-07-01  11485    테크노파크\n",
       " 17523 2022-07-02   9804    테크노파크\n",
       " 17525 2022-07-03   7155    테크노파크\n",
       " 17527 2022-07-04  10117    테크노파크\n",
       " 17529 2022-07-05  10823    테크노파크\n",
       " ...          ...    ...      ...\n",
       " 18241 2023-06-26   9762    테크노파크\n",
       " 18243 2023-06-27  10821    테크노파크\n",
       " 18245 2023-06-28  10690    테크노파크\n",
       " 18247 2023-06-29   9755    테크노파크\n",
       " 18249 2023-06-30  11521    테크노파크\n",
       " \n",
       " [365 rows x 3 columns],\n",
       "               ds      y location\n",
       " 11681 2022-07-01  16485    인천터미널\n",
       " 11683 2022-07-02  15363    인천터미널\n",
       " 11685 2022-07-03  11677    인천터미널\n",
       " 11687 2022-07-04  13502    인천터미널\n",
       " 11689 2022-07-05  13853    인천터미널\n",
       " ...          ...    ...      ...\n",
       " 12401 2023-06-26  12270    인천터미널\n",
       " 12403 2023-06-27  13527    인천터미널\n",
       " 12405 2023-06-28  13611    인천터미널\n",
       " 12407 2023-06-29  11486    인천터미널\n",
       " 12409 2023-06-30  15370    인천터미널\n",
       " \n",
       " [365 rows x 3 columns],\n",
       "               ds     y location\n",
       " 33581 2022-07-01  2927   주안국가산단\n",
       " 33583 2022-07-02   673   주안국가산단\n",
       " 33585 2022-07-03   363   주안국가산단\n",
       " 33587 2022-07-04  3002   주안국가산단\n",
       " 33589 2022-07-05  3014   주안국가산단\n",
       " ...          ...   ...      ...\n",
       " 34301 2023-06-26  2835   주안국가산단\n",
       " 34303 2023-06-27  2936   주안국가산단\n",
       " 34305 2023-06-28  2930   주안국가산단\n",
       " 34307 2023-06-29  2854   주안국가산단\n",
       " 34309 2023-06-30  2924   주안국가산단\n",
       " \n",
       " [365 rows x 3 columns],\n",
       "              ds      y location\n",
       " 4381 2022-07-01  14122       작전\n",
       " 4383 2022-07-02  10126       작전\n",
       " 4385 2022-07-03   6778       작전\n",
       " 4387 2022-07-04  13563       작전\n",
       " 4389 2022-07-05  13620       작전\n",
       " ...         ...    ...      ...\n",
       " 5101 2023-06-26  12840       작전\n",
       " 5103 2023-06-27  13656       작전\n",
       " 5105 2023-06-28  13949       작전\n",
       " 5107 2023-06-29  12431       작전\n",
       " 5109 2023-06-30  14243       작전\n",
       " \n",
       " [365 rows x 3 columns]]"
      ]
     },
     "execution_count": 18,
     "metadata": {},
     "output_type": "execute_result"
    }
   ],
   "source": [
    "subway_list"
   ]
  },
  {
   "cell_type": "code",
   "execution_count": 19,
   "id": "68e58674",
   "metadata": {
    "ExecuteTime": {
     "end_time": "2023-08-18T09:43:47.109600Z",
     "start_time": "2023-08-18T09:43:47.078345Z"
    }
   },
   "outputs": [],
   "source": [
    "count=0\n",
    "for x in subway_list:\n",
    "    x.to_csv(f'{count}.csv')\n",
    "    count+=1"
   ]
  },
  {
   "cell_type": "code",
   "execution_count": null,
   "id": "e6a603f7",
   "metadata": {},
   "outputs": [],
   "source": []
  }
 ],
 "metadata": {
  "kernelspec": {
   "display_name": "Python 3 (ipykernel)",
   "language": "python",
   "name": "python3"
  },
  "language_info": {
   "codemirror_mode": {
    "name": "ipython",
    "version": 3
   },
   "file_extension": ".py",
   "mimetype": "text/x-python",
   "name": "python",
   "nbconvert_exporter": "python",
   "pygments_lexer": "ipython3",
   "version": "3.10.11"
  }
 },
 "nbformat": 4,
 "nbformat_minor": 5
}
